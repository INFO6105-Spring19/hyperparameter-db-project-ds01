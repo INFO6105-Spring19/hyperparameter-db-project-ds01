{
 "cells": [
  {
   "cell_type": "markdown",
   "metadata": {},
   "source": [
    "# Abstract\n",
    "\n",
    "Kaggle dataset: https://www.kaggle.com/brandao/diabetes\n",
    "\n",
    "\n",
    "We picked a publicly available dataset from UCI repository containing de-identified diabetes patient encounter data for 130 US hospitals (1999–2008) containing 101,766 observations over 10 years. The dataset has over 50 features including patient characteristics, conditions, tests and 23 medications. Only diabetic encounters are included (i.e. at least one of three primary diagnosis was diabetes).\n",
    "\n",
    "Applied methods are:\n",
    "* Cleaning tasks such as dropping bad data, dealing with missing values.\n",
    "* Modification of existing features e.g. standardization, log transforms etc.\n",
    "* Creation or derivation of new features, usually from existing ones.\n",
    "* Graphs such as plots, heatmap have been used.\n",
    "\n"
   ]
  },
  {
   "cell_type": "markdown",
   "metadata": {},
   "source": [
    "## Overview of Dataset"
   ]
  },
  {
   "cell_type": "markdown",
   "metadata": {},
   "source": [
    "### Starting H2O server¶"
   ]
  },
  {
   "cell_type": "code",
   "execution_count": 1,
   "metadata": {},
   "outputs": [],
   "source": [
    "# import h2o package and specific estimator \n",
    "\n",
    "import h2o\n",
    "from h2o.automl import H2OAutoML\n",
    "import random, os, sys\n",
    "from datetime import datetime\n",
    "import pandas as pd\n",
    "import logging\n",
    "import csv\n",
    "import optparse\n",
    "import time\n",
    "import json\n",
    "from distutils.util import strtobool\n",
    "import psutil\n",
    "import numpy as np\n",
    "import seaborn\n",
    "import itertools\n",
    "import seaborn as sns\n",
    "import matplotlib.pyplot as plt\n",
    "from h2o.estimators.glm import H2OGeneralizedLinearEstimator\n",
    "from h2o.estimators.gbm import H2OGradientBoostingEstimator\n",
    "from h2o.estimators.random_forest import H2ORandomForestEstimator\n",
    "from sklearn.model_selection import train_test_split, cross_val_score, cross_val_predict"
   ]
  },
  {
   "cell_type": "markdown",
   "metadata": {},
   "source": [
    "### Required Data Parameters\n",
    "\n",
    "* y: This argument is the name (or index) of the response column.\n",
    "* training_frame: Specifies the training set.\n",
    "\n",
    "### Required Stopping Parameters\n",
    "\n",
    "* max_runtime_secs: This argument controls how long the AutoML run will execute for. This defaults to 3600 seconds (1 hour).\n",
    "* max_models: Specify the maximum number of models to build in an AutoML run, excluding the Stacked Ensemble models. Defaults to NULL/None.\n"
   ]
  },
  {
   "cell_type": "code",
   "execution_count": 2,
   "metadata": {},
   "outputs": [
    {
     "name": "stdout",
     "output_type": "stream",
     "text": [
      "5\n"
     ]
    }
   ],
   "source": [
    "pct_memory=0.5\n",
    "virtual_memory=psutil.virtual_memory()\n",
    "min_mem_size=int(round(int(pct_memory*virtual_memory.available)/1073741824,0))\n",
    "print(min_mem_size)"
   ]
  },
  {
   "cell_type": "code",
   "execution_count": 3,
   "metadata": {},
   "outputs": [
    {
     "name": "stdout",
     "output_type": "stream",
     "text": [
      "Checking whether there is an H2O instance running at http://localhost:7599..... not found.\n",
      "Attempting to start a local H2O server...\n",
      "; OpenJDK 64-Bit Server VM (build 25.152-b12, mixed mode)56-b12)\n",
      "  Starting server from C:\\Anaconda3\\lib\\site-packages\\h2o\\backend\\bin\\h2o.jar\n",
      "  Ice root: C:\\Users\\joiss\\AppData\\Local\\Temp\\tmpueab2mg3\n",
      "  JVM stdout: C:\\Users\\joiss\\AppData\\Local\\Temp\\tmpueab2mg3\\h2o_joiss_started_from_python.out\n",
      "  JVM stderr: C:\\Users\\joiss\\AppData\\Local\\Temp\\tmpueab2mg3\\h2o_joiss_started_from_python.err\n",
      "  Server is running at http://127.0.0.1:7599\n",
      "Connecting to H2O server at http://127.0.0.1:7599... successful.\n"
     ]
    },
    {
     "data": {
      "text/html": [
       "<div style=\"overflow:auto\"><table style=\"width:50%\"><tr><td>H2O cluster uptime:</td>\n",
       "<td>01 secs</td></tr>\n",
       "<tr><td>H2O cluster timezone:</td>\n",
       "<td>America/New_York</td></tr>\n",
       "<tr><td>H2O data parsing timezone:</td>\n",
       "<td>UTC</td></tr>\n",
       "<tr><td>H2O cluster version:</td>\n",
       "<td>3.22.1.3</td></tr>\n",
       "<tr><td>H2O cluster version age:</td>\n",
       "<td>2 months and 27 days </td></tr>\n",
       "<tr><td>H2O cluster name:</td>\n",
       "<td>H2O_from_python_joiss_tmazgh</td></tr>\n",
       "<tr><td>H2O cluster total nodes:</td>\n",
       "<td>1</td></tr>\n",
       "<tr><td>H2O cluster free memory:</td>\n",
       "<td>4.792 Gb</td></tr>\n",
       "<tr><td>H2O cluster total cores:</td>\n",
       "<td>8</td></tr>\n",
       "<tr><td>H2O cluster allowed cores:</td>\n",
       "<td>8</td></tr>\n",
       "<tr><td>H2O cluster status:</td>\n",
       "<td>accepting new members, healthy</td></tr>\n",
       "<tr><td>H2O connection url:</td>\n",
       "<td>http://127.0.0.1:7599</td></tr>\n",
       "<tr><td>H2O connection proxy:</td>\n",
       "<td>None</td></tr>\n",
       "<tr><td>H2O internal security:</td>\n",
       "<td>False</td></tr>\n",
       "<tr><td>H2O API Extensions:</td>\n",
       "<td>Algos, AutoML, Core V3, Core V4</td></tr>\n",
       "<tr><td>Python version:</td>\n",
       "<td>3.7.1 final</td></tr></table></div>"
      ],
      "text/plain": [
       "--------------------------  -------------------------------\n",
       "H2O cluster uptime:         01 secs\n",
       "H2O cluster timezone:       America/New_York\n",
       "H2O data parsing timezone:  UTC\n",
       "H2O cluster version:        3.22.1.3\n",
       "H2O cluster version age:    2 months and 27 days\n",
       "H2O cluster name:           H2O_from_python_joiss_tmazgh\n",
       "H2O cluster total nodes:    1\n",
       "H2O cluster free memory:    4.792 Gb\n",
       "H2O cluster total cores:    8\n",
       "H2O cluster allowed cores:  8\n",
       "H2O cluster status:         accepting new members, healthy\n",
       "H2O connection url:         http://127.0.0.1:7599\n",
       "H2O connection proxy:\n",
       "H2O internal security:      False\n",
       "H2O API Extensions:         Algos, AutoML, Core V3, Core V4\n",
       "Python version:             3.7.1 final\n",
       "--------------------------  -------------------------------"
      ]
     },
     "metadata": {},
     "output_type": "display_data"
    }
   ],
   "source": [
    "# 65535 Highest port no\n",
    "port_no=random.randint(5555,55555)\n",
    "\n",
    " # start h2o\n",
    "h2o.init(strict_version_check=False,min_mem_size_GB=min_mem_size,port=port_no) # start h2o\n"
   ]
  },
  {
   "cell_type": "markdown",
   "metadata": {},
   "source": [
    "## Data overview"
   ]
  },
  {
   "cell_type": "code",
   "execution_count": 4,
   "metadata": {},
   "outputs": [
    {
     "name": "stdout",
     "output_type": "stream",
     "text": [
      "Parse progress: |█████████████████████████████████████████████████████████| 100%\n"
     ]
    }
   ],
   "source": [
    "# Import data and manage data types\n",
    "train_path = \"Dataset/diabetes_train.csv\"\n",
    "df = h2o.import_file(train_path)"
   ]
  },
  {
   "cell_type": "code",
   "execution_count": 5,
   "metadata": {},
   "outputs": [
    {
     "data": {
      "text/html": [
       "<table>\n",
       "<thead>\n",
       "<tr><th style=\"text-align: right;\">              id</th><th style=\"text-align: right;\">  patient_nbr</th><th>race           </th><th>gender  </th><th>age    </th><th>weight  </th><th style=\"text-align: right;\">  admission_type_id</th><th style=\"text-align: right;\">  discharge_disposition_id</th><th style=\"text-align: right;\">  admission_source_id</th><th style=\"text-align: right;\">  time_in_hospital</th><th>payer_code  </th><th>medical_specialty       </th><th style=\"text-align: right;\">  num_lab_procedures</th><th style=\"text-align: right;\">  num_procedures</th><th style=\"text-align: right;\">  num_medications</th><th style=\"text-align: right;\">  number_outpatient</th><th style=\"text-align: right;\">  number_emergency</th><th style=\"text-align: right;\">  number_inpatient</th><th style=\"text-align: right;\">  diag_1</th><th style=\"text-align: right;\">  diag_2</th><th style=\"text-align: right;\">  diag_3</th><th style=\"text-align: right;\">  number_diagnoses</th><th>max_glu_serum  </th><th>A1Cresult  </th><th>metformin  </th><th>repaglinide  </th><th>nateglinide  </th><th>chlorpropamide  </th><th>glimepiride  </th><th>acetohexamide  </th><th>glipizide  </th><th>glyburide  </th><th>tolbutamide  </th><th>pioglitazone  </th><th>rosiglitazone  </th><th>acarbose  </th><th>miglitol  </th><th>troglitazone  </th><th>tolazamide  </th><th>examide  </th><th>citoglipton  </th><th>insulin  </th><th>glyburide-metformin  </th><th>glipizide-metformin  </th><th>glimepiride-pioglitazone  </th><th>metformin-rosiglitazone  </th><th>metformin-pioglitazone  </th><th>change  </th><th>diabetesMed  </th><th>readmitted  </th></tr>\n",
       "</thead>\n",
       "<tbody>\n",
       "<tr><td style=\"text-align: right;\">     2.27839e+06</td><td style=\"text-align: right;\">  8.22216e+06</td><td>Caucasian      </td><td>Female  </td><td>[0-10) </td><td>?       </td><td style=\"text-align: right;\">                  6</td><td style=\"text-align: right;\">                        25</td><td style=\"text-align: right;\">                    1</td><td style=\"text-align: right;\">                 1</td><td>?           </td><td>Pediatrics-Endocrinology</td><td style=\"text-align: right;\">                  41</td><td style=\"text-align: right;\">               0</td><td style=\"text-align: right;\">                1</td><td style=\"text-align: right;\">                  0</td><td style=\"text-align: right;\">                 0</td><td style=\"text-align: right;\">                 0</td><td style=\"text-align: right;\">  250.83</td><td style=\"text-align: right;\">  nan   </td><td style=\"text-align: right;\">     nan</td><td style=\"text-align: right;\">                 1</td><td>None           </td><td>None       </td><td>No         </td><td>No           </td><td>No           </td><td>No              </td><td>No           </td><td>No             </td><td>No         </td><td>No         </td><td>No           </td><td>No            </td><td>No             </td><td>No        </td><td>No        </td><td>No            </td><td>No          </td><td>No       </td><td>No           </td><td>No       </td><td>No                   </td><td>No                   </td><td>No                        </td><td>No                       </td><td>No                      </td><td>No      </td><td>No           </td><td>NO          </td></tr>\n",
       "<tr><td style=\"text-align: right;\"> 64410          </td><td style=\"text-align: right;\">  8.60479e+07</td><td>AfricanAmerican</td><td>Female  </td><td>[20-30)</td><td>?       </td><td style=\"text-align: right;\">                  1</td><td style=\"text-align: right;\">                         1</td><td style=\"text-align: right;\">                    7</td><td style=\"text-align: right;\">                 2</td><td>?           </td><td>?                       </td><td style=\"text-align: right;\">                  11</td><td style=\"text-align: right;\">               5</td><td style=\"text-align: right;\">               13</td><td style=\"text-align: right;\">                  2</td><td style=\"text-align: right;\">                 0</td><td style=\"text-align: right;\">                 1</td><td style=\"text-align: right;\">  648   </td><td style=\"text-align: right;\">  250   </td><td style=\"text-align: right;\">     nan</td><td style=\"text-align: right;\">                 6</td><td>None           </td><td>None       </td><td>No         </td><td>No           </td><td>No           </td><td>No              </td><td>No           </td><td>No             </td><td>Steady     </td><td>No         </td><td>No           </td><td>No            </td><td>No             </td><td>No        </td><td>No        </td><td>No            </td><td>No          </td><td>No       </td><td>No           </td><td>No       </td><td>No                   </td><td>No                   </td><td>No                        </td><td>No                       </td><td>No                      </td><td>No      </td><td>Yes          </td><td>NO          </td></tr>\n",
       "<tr><td style=\"text-align: right;\">500364          </td><td style=\"text-align: right;\">  8.24424e+07</td><td>Caucasian      </td><td>Male    </td><td>[30-40)</td><td>?       </td><td style=\"text-align: right;\">                  1</td><td style=\"text-align: right;\">                         1</td><td style=\"text-align: right;\">                    7</td><td style=\"text-align: right;\">                 2</td><td>?           </td><td>?                       </td><td style=\"text-align: right;\">                  44</td><td style=\"text-align: right;\">               1</td><td style=\"text-align: right;\">               16</td><td style=\"text-align: right;\">                  0</td><td style=\"text-align: right;\">                 0</td><td style=\"text-align: right;\">                 0</td><td style=\"text-align: right;\">    8   </td><td style=\"text-align: right;\">  250.43</td><td style=\"text-align: right;\">     403</td><td style=\"text-align: right;\">                 7</td><td>None           </td><td>None       </td><td>No         </td><td>No           </td><td>No           </td><td>No              </td><td>No           </td><td>No             </td><td>No         </td><td>No         </td><td>No           </td><td>No            </td><td>No             </td><td>No        </td><td>No        </td><td>No            </td><td>No          </td><td>No       </td><td>No           </td><td>Up       </td><td>No                   </td><td>No                   </td><td>No                        </td><td>No                       </td><td>No                      </td><td>Ch      </td><td>Yes          </td><td>NO          </td></tr>\n",
       "<tr><td style=\"text-align: right;\"> 16680          </td><td style=\"text-align: right;\">  4.25193e+07</td><td>Caucasian      </td><td>Male    </td><td>[40-50)</td><td>?       </td><td style=\"text-align: right;\">                  1</td><td style=\"text-align: right;\">                         1</td><td style=\"text-align: right;\">                    7</td><td style=\"text-align: right;\">                 1</td><td>?           </td><td>?                       </td><td style=\"text-align: right;\">                  51</td><td style=\"text-align: right;\">               0</td><td style=\"text-align: right;\">                8</td><td style=\"text-align: right;\">                  0</td><td style=\"text-align: right;\">                 0</td><td style=\"text-align: right;\">                 0</td><td style=\"text-align: right;\">  197   </td><td style=\"text-align: right;\">  157   </td><td style=\"text-align: right;\">     250</td><td style=\"text-align: right;\">                 5</td><td>None           </td><td>None       </td><td>No         </td><td>No           </td><td>No           </td><td>No              </td><td>No           </td><td>No             </td><td>Steady     </td><td>No         </td><td>No           </td><td>No            </td><td>No             </td><td>No        </td><td>No        </td><td>No            </td><td>No          </td><td>No       </td><td>No           </td><td>Steady   </td><td>No                   </td><td>No                   </td><td>No                        </td><td>No                       </td><td>No                      </td><td>Ch      </td><td>Yes          </td><td>NO          </td></tr>\n",
       "<tr><td style=\"text-align: right;\"> 55842          </td><td style=\"text-align: right;\">  8.42598e+07</td><td>Caucasian      </td><td>Male    </td><td>[60-70)</td><td>?       </td><td style=\"text-align: right;\">                  3</td><td style=\"text-align: right;\">                         1</td><td style=\"text-align: right;\">                    2</td><td style=\"text-align: right;\">                 4</td><td>?           </td><td>?                       </td><td style=\"text-align: right;\">                  70</td><td style=\"text-align: right;\">               1</td><td style=\"text-align: right;\">               21</td><td style=\"text-align: right;\">                  0</td><td style=\"text-align: right;\">                 0</td><td style=\"text-align: right;\">                 0</td><td style=\"text-align: right;\">  414   </td><td style=\"text-align: right;\">  411   </td><td style=\"text-align: right;\">     nan</td><td style=\"text-align: right;\">                 7</td><td>None           </td><td>None       </td><td>Steady     </td><td>No           </td><td>No           </td><td>No              </td><td>Steady       </td><td>No             </td><td>No         </td><td>No         </td><td>No           </td><td>No            </td><td>No             </td><td>No        </td><td>No        </td><td>No            </td><td>No          </td><td>No       </td><td>No           </td><td>Steady   </td><td>No                   </td><td>No                   </td><td>No                        </td><td>No                       </td><td>No                      </td><td>Ch      </td><td>Yes          </td><td>NO          </td></tr>\n",
       "</tbody>\n",
       "</table>"
      ]
     },
     "metadata": {},
     "output_type": "display_data"
    },
    {
     "data": {
      "text/plain": []
     },
     "execution_count": 5,
     "metadata": {},
     "output_type": "execute_result"
    }
   ],
   "source": [
    "df.head(5)"
   ]
  },
  {
   "cell_type": "code",
   "execution_count": 6,
   "metadata": {},
   "outputs": [
    {
     "data": {
      "text/html": [
       "<table>\n",
       "<thead>\n",
       "<tr><th style=\"text-align: right;\">         id</th><th style=\"text-align: right;\">  patient_nbr</th><th>race           </th><th>gender  </th><th>age    </th><th>weight  </th><th style=\"text-align: right;\">  admission_type_id</th><th style=\"text-align: right;\">  discharge_disposition_id</th><th style=\"text-align: right;\">  admission_source_id</th><th style=\"text-align: right;\">  time_in_hospital</th><th>payer_code  </th><th>medical_specialty  </th><th style=\"text-align: right;\">  num_lab_procedures</th><th style=\"text-align: right;\">  num_procedures</th><th style=\"text-align: right;\">  num_medications</th><th style=\"text-align: right;\">  number_outpatient</th><th style=\"text-align: right;\">  number_emergency</th><th style=\"text-align: right;\">  number_inpatient</th><th style=\"text-align: right;\">  diag_1</th><th style=\"text-align: right;\">  diag_2</th><th style=\"text-align: right;\">  diag_3</th><th style=\"text-align: right;\">  number_diagnoses</th><th>max_glu_serum  </th><th>A1Cresult  </th><th>metformin  </th><th>repaglinide  </th><th>nateglinide  </th><th>chlorpropamide  </th><th>glimepiride  </th><th>acetohexamide  </th><th>glipizide  </th><th>glyburide  </th><th>tolbutamide  </th><th>pioglitazone  </th><th>rosiglitazone  </th><th>acarbose  </th><th>miglitol  </th><th>troglitazone  </th><th>tolazamide  </th><th>examide  </th><th>citoglipton  </th><th>insulin  </th><th>glyburide-metformin  </th><th>glipizide-metformin  </th><th>glimepiride-pioglitazone  </th><th>metformin-rosiglitazone  </th><th>metformin-pioglitazone  </th><th>change  </th><th>diabetesMed  </th><th>readmitted  </th></tr>\n",
       "</thead>\n",
       "<tbody>\n",
       "<tr><td style=\"text-align: right;\">2.40242e+08</td><td style=\"text-align: right;\">  4.57489e+07</td><td>Caucasian      </td><td>Male    </td><td>[60-70)</td><td>?       </td><td style=\"text-align: right;\">                  3</td><td style=\"text-align: right;\">                         1</td><td style=\"text-align: right;\">                    1</td><td style=\"text-align: right;\">                 6</td><td>?           </td><td>?                  </td><td style=\"text-align: right;\">                  62</td><td style=\"text-align: right;\">               6</td><td style=\"text-align: right;\">               50</td><td style=\"text-align: right;\">                  0</td><td style=\"text-align: right;\">                 0</td><td style=\"text-align: right;\">                 0</td><td style=\"text-align: right;\">  414   </td><td style=\"text-align: right;\">     411</td><td style=\"text-align: right;\">     427</td><td style=\"text-align: right;\">                 8</td><td>None           </td><td>None       </td><td>No         </td><td>No           </td><td>No           </td><td>No              </td><td>No           </td><td>No             </td><td>No         </td><td>Steady     </td><td>No           </td><td>Steady        </td><td>No             </td><td>No        </td><td>No        </td><td>No            </td><td>No          </td><td>No       </td><td>No           </td><td>Down     </td><td>No                   </td><td>No                   </td><td>No                        </td><td>No                       </td><td>No                      </td><td>Ch      </td><td>Yes          </td><td>NO          </td></tr>\n",
       "<tr><td style=\"text-align: right;\">2.40251e+08</td><td style=\"text-align: right;\">  6.05036e+07</td><td>AfricanAmerican</td><td>Male    </td><td>[20-30)</td><td>?       </td><td style=\"text-align: right;\">                  1</td><td style=\"text-align: right;\">                         1</td><td style=\"text-align: right;\">                    7</td><td style=\"text-align: right;\">                 3</td><td>OG          </td><td>?                  </td><td style=\"text-align: right;\">                  60</td><td style=\"text-align: right;\">               0</td><td style=\"text-align: right;\">                9</td><td style=\"text-align: right;\">                  0</td><td style=\"text-align: right;\">                 0</td><td style=\"text-align: right;\">                 1</td><td style=\"text-align: right;\">  250.12</td><td style=\"text-align: right;\">     276</td><td style=\"text-align: right;\">     276</td><td style=\"text-align: right;\">                 7</td><td>None           </td><td>Norm       </td><td>No         </td><td>No           </td><td>No           </td><td>No              </td><td>No           </td><td>No             </td><td>No         </td><td>No         </td><td>No           </td><td>No            </td><td>No             </td><td>No        </td><td>No        </td><td>No            </td><td>No          </td><td>No       </td><td>No           </td><td>Up       </td><td>No                   </td><td>No                   </td><td>No                        </td><td>No                       </td><td>No                      </td><td>Ch      </td><td>Yes          </td><td><30         </td></tr>\n",
       "<tr><td style=\"text-align: right;\">2.40257e+08</td><td style=\"text-align: right;\">  2.18105e+06</td><td>Caucasian      </td><td>Female  </td><td>[70-80)</td><td>?       </td><td style=\"text-align: right;\">                  3</td><td style=\"text-align: right;\">                         6</td><td style=\"text-align: right;\">                    1</td><td style=\"text-align: right;\">                 3</td><td>?           </td><td>?                  </td><td style=\"text-align: right;\">                  26</td><td style=\"text-align: right;\">               2</td><td style=\"text-align: right;\">               32</td><td style=\"text-align: right;\">                  0</td><td style=\"text-align: right;\">                 0</td><td style=\"text-align: right;\">                 0</td><td style=\"text-align: right;\">  715   </td><td style=\"text-align: right;\">     285</td><td style=\"text-align: right;\">     278</td><td style=\"text-align: right;\">                 9</td><td>None           </td><td>None       </td><td>No         </td><td>No           </td><td>No           </td><td>No              </td><td>No           </td><td>No             </td><td>No         </td><td>No         </td><td>No           </td><td>Steady        </td><td>No             </td><td>No        </td><td>No        </td><td>No            </td><td>No          </td><td>No       </td><td>No           </td><td>Steady   </td><td>No                   </td><td>No                   </td><td>No                        </td><td>No                       </td><td>No                      </td><td>Ch      </td><td>Yes          </td><td>NO          </td></tr>\n",
       "<tr><td style=\"text-align: right;\">2.40257e+08</td><td style=\"text-align: right;\">  4.61461e+07</td><td>Caucasian      </td><td>Male    </td><td>[60-70)</td><td>?       </td><td style=\"text-align: right;\">                  3</td><td style=\"text-align: right;\">                         1</td><td style=\"text-align: right;\">                    1</td><td style=\"text-align: right;\">                 1</td><td>MC          </td><td>?                  </td><td style=\"text-align: right;\">                  34</td><td style=\"text-align: right;\">               1</td><td style=\"text-align: right;\">               21</td><td style=\"text-align: right;\">                  0</td><td style=\"text-align: right;\">                 0</td><td style=\"text-align: right;\">                 0</td><td style=\"text-align: right;\">  414   </td><td style=\"text-align: right;\">     428</td><td style=\"text-align: right;\">     276</td><td style=\"text-align: right;\">                 9</td><td>None           </td><td>None       </td><td>No         </td><td>No           </td><td>No           </td><td>No              </td><td>No           </td><td>No             </td><td>Steady     </td><td>No         </td><td>No           </td><td>No            </td><td>No             </td><td>No        </td><td>No        </td><td>No            </td><td>No          </td><td>No       </td><td>No           </td><td>Steady   </td><td>No                   </td><td>No                   </td><td>No                        </td><td>No                       </td><td>No                      </td><td>Ch      </td><td>Yes          </td><td>NO          </td></tr>\n",
       "<tr><td style=\"text-align: right;\">2.40277e+08</td><td style=\"text-align: right;\">  3.42898e+07</td><td>Caucasian      </td><td>Female  </td><td>[60-70)</td><td>?       </td><td style=\"text-align: right;\">                  1</td><td style=\"text-align: right;\">                         1</td><td style=\"text-align: right;\">                    7</td><td style=\"text-align: right;\">                 1</td><td>BC          </td><td>?                  </td><td style=\"text-align: right;\">                  50</td><td style=\"text-align: right;\">               6</td><td style=\"text-align: right;\">               25</td><td style=\"text-align: right;\">                  0</td><td style=\"text-align: right;\">                 0</td><td style=\"text-align: right;\">                 0</td><td style=\"text-align: right;\">  414   </td><td style=\"text-align: right;\">     428</td><td style=\"text-align: right;\">     411</td><td style=\"text-align: right;\">                 9</td><td>None           </td><td>None       </td><td>No         </td><td>No           </td><td>No           </td><td>No              </td><td>No           </td><td>No             </td><td>No         </td><td>No         </td><td>No           </td><td>No            </td><td>Steady         </td><td>No        </td><td>No        </td><td>No            </td><td>No          </td><td>No       </td><td>No           </td><td>Steady   </td><td>No                   </td><td>No                   </td><td>No                        </td><td>No                       </td><td>No                      </td><td>Ch      </td><td>Yes          </td><td>NO          </td></tr>\n",
       "</tbody>\n",
       "</table>"
      ]
     },
     "metadata": {},
     "output_type": "display_data"
    },
    {
     "data": {
      "text/plain": []
     },
     "execution_count": 6,
     "metadata": {},
     "output_type": "execute_result"
    }
   ],
   "source": [
    "df.tail(5)"
   ]
  },
  {
   "cell_type": "code",
   "execution_count": 7,
   "metadata": {},
   "outputs": [
    {
     "name": "stdout",
     "output_type": "stream",
     "text": [
      "Rows:50001\n",
      "Cols:50\n",
      "\n",
      "\n"
     ]
    },
    {
     "data": {
      "text/html": [
       "<table>\n",
       "<thead>\n",
       "<tr><th>       </th><th>id               </th><th>patient_nbr       </th><th>race           </th><th>gender  </th><th>age     </th><th>weight  </th><th>admission_type_id  </th><th>discharge_disposition_id  </th><th>admission_source_id  </th><th>time_in_hospital  </th><th>payer_code  </th><th>medical_specialty       </th><th>num_lab_procedures  </th><th>num_procedures    </th><th>num_medications   </th><th>number_outpatient  </th><th>number_emergency   </th><th>number_inpatient  </th><th>diag_1            </th><th>diag_2            </th><th>diag_3            </th><th>number_diagnoses  </th><th>max_glu_serum  </th><th>A1Cresult  </th><th>metformin  </th><th>repaglinide  </th><th>nateglinide  </th><th>chlorpropamide  </th><th>glimepiride  </th><th>acetohexamide  </th><th>glipizide  </th><th>glyburide  </th><th>tolbutamide  </th><th>pioglitazone  </th><th>rosiglitazone  </th><th>acarbose  </th><th>miglitol  </th><th>troglitazone  </th><th>tolazamide  </th><th>examide  </th><th>citoglipton  </th><th>insulin  </th><th>glyburide-metformin  </th><th>glipizide-metformin  </th><th>glimepiride-pioglitazone  </th><th>metformin-rosiglitazone  </th><th>metformin-pioglitazone  </th><th>change  </th><th>diabetesMed  </th><th>readmitted  </th></tr>\n",
       "</thead>\n",
       "<tbody>\n",
       "<tr><td>type   </td><td>int              </td><td>int               </td><td>enum           </td><td>enum    </td><td>enum    </td><td>enum    </td><td>int                </td><td>int                       </td><td>int                  </td><td>int               </td><td>enum        </td><td>enum                    </td><td>int                 </td><td>int               </td><td>int               </td><td>int                </td><td>int                </td><td>int               </td><td>real              </td><td>real              </td><td>real              </td><td>int               </td><td>enum           </td><td>enum       </td><td>enum       </td><td>enum         </td><td>enum         </td><td>enum            </td><td>enum         </td><td>enum           </td><td>enum       </td><td>enum       </td><td>enum         </td><td>enum          </td><td>enum           </td><td>enum      </td><td>enum      </td><td>enum          </td><td>enum        </td><td>enum     </td><td>enum         </td><td>enum     </td><td>enum                 </td><td>enum                 </td><td>enum                      </td><td>enum                     </td><td>enum                    </td><td>enum    </td><td>enum         </td><td>enum        </td></tr>\n",
       "<tr><td>mins   </td><td>12522.0          </td><td>135.0             </td><td>               </td><td>        </td><td>        </td><td>        </td><td>1.0                </td><td>1.0                       </td><td>1.0                  </td><td>1.0               </td><td>            </td><td>                        </td><td>1.0                 </td><td>0.0               </td><td>1.0               </td><td>0.0                </td><td>0.0                </td><td>0.0               </td><td>3.0               </td><td>8.0               </td><td>5.0               </td><td>1.0               </td><td>               </td><td>           </td><td>           </td><td>             </td><td>             </td><td>                </td><td>             </td><td>               </td><td>           </td><td>           </td><td>             </td><td>              </td><td>               </td><td>          </td><td>          </td><td>              </td><td>            </td><td>         </td><td>             </td><td>         </td><td>                     </td><td>                     </td><td>                          </td><td>                         </td><td>                        </td><td>        </td><td>             </td><td>            </td></tr>\n",
       "<tr><td>mean   </td><td>118350344.8944621</td><td>43491484.558948815</td><td>               </td><td>        </td><td>        </td><td>        </td><td>2.102177956440871  </td><td>4.167336653266933         </td><td>5.74982500349993     </td><td>4.4368312633747315</td><td>            </td><td>                        </td><td>42.90460190796182   </td><td>1.385032299354013 </td><td>15.681846363072736</td><td>0.25887482250355004</td><td>0.13165736685266294</td><td>0.523189536209276 </td><td>493.62482470614606</td><td>432.29717529593415</td><td>412.4333165829146 </td><td>7.069218615627688 </td><td>               </td><td>           </td><td>           </td><td>             </td><td>             </td><td>                </td><td>             </td><td>               </td><td>           </td><td>           </td><td>             </td><td>              </td><td>               </td><td>          </td><td>          </td><td>              </td><td>            </td><td>         </td><td>             </td><td>         </td><td>                     </td><td>                     </td><td>                          </td><td>                         </td><td>                        </td><td>        </td><td>             </td><td>            </td></tr>\n",
       "<tr><td>maxs   </td><td>240277404.0      </td><td>115218477.0       </td><td>               </td><td>        </td><td>        </td><td>        </td><td>8.0                </td><td>28.0                      </td><td>22.0                 </td><td>14.0              </td><td>            </td><td>                        </td><td>132.0               </td><td>6.0               </td><td>81.0              </td><td>36.0               </td><td>28.0               </td><td>21.0              </td><td>999.0             </td><td>999.0             </td><td>999.0             </td><td>9.0               </td><td>               </td><td>           </td><td>           </td><td>             </td><td>             </td><td>                </td><td>             </td><td>               </td><td>           </td><td>           </td><td>             </td><td>              </td><td>               </td><td>          </td><td>          </td><td>              </td><td>            </td><td>         </td><td>             </td><td>         </td><td>                     </td><td>                     </td><td>                          </td><td>                         </td><td>                        </td><td>        </td><td>             </td><td>            </td></tr>\n",
       "<tr><td>sigma  </td><td>60444491.42445576</td><td>35065949.89381691 </td><td>               </td><td>        </td><td>        </td><td>        </td><td>1.4867613986147448 </td><td>5.808736341446589         </td><td>4.316877484869778    </td><td>3.0317477848441454</td><td>            </td><td>                        </td><td>19.066150608395485  </td><td>1.6987840249592443</td><td>8.459927673383218 </td><td>0.9949384332461385 </td><td>0.636463660455315  </td><td>1.156783140720553 </td><td>208.26118899894746</td><td>180.2259649013558 </td><td>177.02506045996856</td><td>2.02268848007454  </td><td>               </td><td>           </td><td>           </td><td>             </td><td>             </td><td>                </td><td>             </td><td>               </td><td>           </td><td>           </td><td>             </td><td>              </td><td>               </td><td>          </td><td>          </td><td>              </td><td>            </td><td>         </td><td>             </td><td>         </td><td>                     </td><td>                     </td><td>                          </td><td>                         </td><td>                        </td><td>        </td><td>             </td><td>            </td></tr>\n",
       "<tr><td>zeros  </td><td>0                </td><td>0                 </td><td>               </td><td>        </td><td>        </td><td>        </td><td>0                  </td><td>0                         </td><td>0                    </td><td>0                 </td><td>            </td><td>                        </td><td>0                   </td><td>21844             </td><td>0                 </td><td>43811              </td><td>45948              </td><td>35748             </td><td>0                 </td><td>0                 </td><td>0                 </td><td>0                 </td><td>               </td><td>           </td><td>           </td><td>             </td><td>             </td><td>                </td><td>             </td><td>               </td><td>           </td><td>           </td><td>             </td><td>              </td><td>               </td><td>          </td><td>          </td><td>              </td><td>            </td><td>         </td><td>             </td><td>         </td><td>                     </td><td>                     </td><td>                          </td><td>                         </td><td>                        </td><td>        </td><td>             </td><td>            </td></tr>\n",
       "<tr><td>missing</td><td>0                </td><td>0                 </td><td>0              </td><td>0       </td><td>0       </td><td>0       </td><td>0                  </td><td>0                         </td><td>0                    </td><td>0                 </td><td>0           </td><td>0                       </td><td>0                   </td><td>0                 </td><td>0                 </td><td>0                  </td><td>0                  </td><td>0                 </td><td>912               </td><td>1426              </td><td>3435              </td><td>0                 </td><td>0              </td><td>0          </td><td>0          </td><td>0            </td><td>0            </td><td>0               </td><td>0            </td><td>0              </td><td>0          </td><td>0          </td><td>0            </td><td>0             </td><td>0              </td><td>0         </td><td>0         </td><td>0             </td><td>0           </td><td>0        </td><td>0            </td><td>0        </td><td>0                    </td><td>0                    </td><td>0                         </td><td>0                        </td><td>0                       </td><td>0       </td><td>0            </td><td>0           </td></tr>\n",
       "<tr><td>0      </td><td>2278392.0        </td><td>8222157.0         </td><td>Caucasian      </td><td>Female  </td><td>[0-10)  </td><td>?       </td><td>6.0                </td><td>25.0                      </td><td>1.0                  </td><td>1.0               </td><td>?           </td><td>Pediatrics-Endocrinology</td><td>41.0                </td><td>0.0               </td><td>1.0               </td><td>0.0                </td><td>0.0                </td><td>0.0               </td><td>250.83            </td><td>nan               </td><td>nan               </td><td>1.0               </td><td>None           </td><td>None       </td><td>No         </td><td>No           </td><td>No           </td><td>No              </td><td>No           </td><td>No             </td><td>No         </td><td>No         </td><td>No           </td><td>No            </td><td>No             </td><td>No        </td><td>No        </td><td>No            </td><td>No          </td><td>No       </td><td>No           </td><td>No       </td><td>No                   </td><td>No                   </td><td>No                        </td><td>No                       </td><td>No                      </td><td>No      </td><td>No           </td><td>NO          </td></tr>\n",
       "<tr><td>1      </td><td>64410.0          </td><td>86047875.0        </td><td>AfricanAmerican</td><td>Female  </td><td>[20-30) </td><td>?       </td><td>1.0                </td><td>1.0                       </td><td>7.0                  </td><td>2.0               </td><td>?           </td><td>?                       </td><td>11.0                </td><td>5.0               </td><td>13.0              </td><td>2.0                </td><td>0.0                </td><td>1.0               </td><td>648.0             </td><td>250.0             </td><td>nan               </td><td>6.0               </td><td>None           </td><td>None       </td><td>No         </td><td>No           </td><td>No           </td><td>No              </td><td>No           </td><td>No             </td><td>Steady     </td><td>No         </td><td>No           </td><td>No            </td><td>No             </td><td>No        </td><td>No        </td><td>No            </td><td>No          </td><td>No       </td><td>No           </td><td>No       </td><td>No                   </td><td>No                   </td><td>No                        </td><td>No                       </td><td>No                      </td><td>No      </td><td>Yes          </td><td>NO          </td></tr>\n",
       "<tr><td>2      </td><td>500364.0         </td><td>82442376.0        </td><td>Caucasian      </td><td>Male    </td><td>[30-40) </td><td>?       </td><td>1.0                </td><td>1.0                       </td><td>7.0                  </td><td>2.0               </td><td>?           </td><td>?                       </td><td>44.0                </td><td>1.0               </td><td>16.0              </td><td>0.0                </td><td>0.0                </td><td>0.0               </td><td>8.0               </td><td>250.43            </td><td>403.0             </td><td>7.0               </td><td>None           </td><td>None       </td><td>No         </td><td>No           </td><td>No           </td><td>No              </td><td>No           </td><td>No             </td><td>No         </td><td>No         </td><td>No           </td><td>No            </td><td>No             </td><td>No        </td><td>No        </td><td>No            </td><td>No          </td><td>No       </td><td>No           </td><td>Up       </td><td>No                   </td><td>No                   </td><td>No                        </td><td>No                       </td><td>No                      </td><td>Ch      </td><td>Yes          </td><td>NO          </td></tr>\n",
       "<tr><td>3      </td><td>16680.0          </td><td>42519267.0        </td><td>Caucasian      </td><td>Male    </td><td>[40-50) </td><td>?       </td><td>1.0                </td><td>1.0                       </td><td>7.0                  </td><td>1.0               </td><td>?           </td><td>?                       </td><td>51.0                </td><td>0.0               </td><td>8.0               </td><td>0.0                </td><td>0.0                </td><td>0.0               </td><td>197.0             </td><td>157.0             </td><td>250.0             </td><td>5.0               </td><td>None           </td><td>None       </td><td>No         </td><td>No           </td><td>No           </td><td>No              </td><td>No           </td><td>No             </td><td>Steady     </td><td>No         </td><td>No           </td><td>No            </td><td>No             </td><td>No        </td><td>No        </td><td>No            </td><td>No          </td><td>No       </td><td>No           </td><td>Steady   </td><td>No                   </td><td>No                   </td><td>No                        </td><td>No                       </td><td>No                      </td><td>Ch      </td><td>Yes          </td><td>NO          </td></tr>\n",
       "<tr><td>4      </td><td>55842.0          </td><td>84259809.0        </td><td>Caucasian      </td><td>Male    </td><td>[60-70) </td><td>?       </td><td>3.0                </td><td>1.0                       </td><td>2.0                  </td><td>4.0               </td><td>?           </td><td>?                       </td><td>70.0                </td><td>1.0               </td><td>21.0              </td><td>0.0                </td><td>0.0                </td><td>0.0               </td><td>414.0             </td><td>411.0             </td><td>nan               </td><td>7.0               </td><td>None           </td><td>None       </td><td>Steady     </td><td>No           </td><td>No           </td><td>No              </td><td>Steady       </td><td>No             </td><td>No         </td><td>No         </td><td>No           </td><td>No            </td><td>No             </td><td>No        </td><td>No        </td><td>No            </td><td>No          </td><td>No       </td><td>No           </td><td>Steady   </td><td>No                   </td><td>No                   </td><td>No                        </td><td>No                       </td><td>No                      </td><td>Ch      </td><td>Yes          </td><td>NO          </td></tr>\n",
       "<tr><td>5      </td><td>12522.0          </td><td>48330783.0        </td><td>Caucasian      </td><td>Female  </td><td>[80-90) </td><td>?       </td><td>2.0                </td><td>1.0                       </td><td>4.0                  </td><td>13.0              </td><td>?           </td><td>?                       </td><td>68.0                </td><td>2.0               </td><td>28.0              </td><td>0.0                </td><td>0.0                </td><td>0.0               </td><td>398.0             </td><td>427.0             </td><td>38.0              </td><td>8.0               </td><td>None           </td><td>None       </td><td>No         </td><td>No           </td><td>No           </td><td>No              </td><td>No           </td><td>No             </td><td>Steady     </td><td>No         </td><td>No           </td><td>No            </td><td>No             </td><td>No        </td><td>No        </td><td>No            </td><td>No          </td><td>No       </td><td>No           </td><td>Steady   </td><td>No                   </td><td>No                   </td><td>No                        </td><td>No                       </td><td>No                      </td><td>Ch      </td><td>Yes          </td><td>NO          </td></tr>\n",
       "<tr><td>6      </td><td>15738.0          </td><td>63555939.0        </td><td>Caucasian      </td><td>Female  </td><td>[90-100)</td><td>?       </td><td>3.0                </td><td>3.0                       </td><td>4.0                  </td><td>12.0              </td><td>?           </td><td>InternalMedicine        </td><td>33.0                </td><td>3.0               </td><td>18.0              </td><td>0.0                </td><td>0.0                </td><td>0.0               </td><td>434.0             </td><td>198.0             </td><td>486.0             </td><td>8.0               </td><td>None           </td><td>None       </td><td>No         </td><td>No           </td><td>No           </td><td>No              </td><td>No           </td><td>No             </td><td>No         </td><td>No         </td><td>No           </td><td>No            </td><td>Steady         </td><td>No        </td><td>No        </td><td>No            </td><td>No          </td><td>No       </td><td>No           </td><td>Steady   </td><td>No                   </td><td>No                   </td><td>No                        </td><td>No                       </td><td>No                      </td><td>Ch      </td><td>Yes          </td><td>NO          </td></tr>\n",
       "<tr><td>7      </td><td>36900.0          </td><td>77391171.0        </td><td>AfricanAmerican</td><td>Male    </td><td>[60-70) </td><td>?       </td><td>2.0                </td><td>1.0                       </td><td>4.0                  </td><td>7.0               </td><td>?           </td><td>?                       </td><td>62.0                </td><td>0.0               </td><td>11.0              </td><td>0.0                </td><td>0.0                </td><td>0.0               </td><td>157.0             </td><td>288.0             </td><td>197.0             </td><td>7.0               </td><td>None           </td><td>None       </td><td>No         </td><td>No           </td><td>No           </td><td>No              </td><td>No           </td><td>No             </td><td>No         </td><td>Up         </td><td>No           </td><td>No            </td><td>No             </td><td>No        </td><td>No        </td><td>No            </td><td>No          </td><td>No       </td><td>No           </td><td>Steady   </td><td>No                   </td><td>No                   </td><td>No                        </td><td>No                       </td><td>No                      </td><td>Ch      </td><td>Yes          </td><td><30         </td></tr>\n",
       "<tr><td>8      </td><td>40926.0          </td><td>85504905.0        </td><td>Caucasian      </td><td>Female  </td><td>[40-50) </td><td>?       </td><td>1.0                </td><td>3.0                       </td><td>7.0                  </td><td>7.0               </td><td>?           </td><td>Family/GeneralPractice  </td><td>60.0                </td><td>0.0               </td><td>15.0              </td><td>0.0                </td><td>1.0                </td><td>0.0               </td><td>428.0             </td><td>250.43            </td><td>250.6             </td><td>8.0               </td><td>None           </td><td>None       </td><td>Steady     </td><td>Up           </td><td>No           </td><td>No              </td><td>No           </td><td>No             </td><td>No         </td><td>No         </td><td>No           </td><td>No            </td><td>No             </td><td>No        </td><td>No        </td><td>No            </td><td>No          </td><td>No       </td><td>No           </td><td>Down     </td><td>No                   </td><td>No                   </td><td>No                        </td><td>No                       </td><td>No                      </td><td>Ch      </td><td>Yes          </td><td><30         </td></tr>\n",
       "<tr><td>9      </td><td>42570.0          </td><td>77586282.0        </td><td>Caucasian      </td><td>Male    </td><td>[80-90) </td><td>?       </td><td>1.0                </td><td>6.0                       </td><td>7.0                  </td><td>10.0              </td><td>?           </td><td>Family/GeneralPractice  </td><td>55.0                </td><td>1.0               </td><td>31.0              </td><td>0.0                </td><td>0.0                </td><td>0.0               </td><td>428.0             </td><td>411.0             </td><td>427.0             </td><td>8.0               </td><td>None           </td><td>None       </td><td>No         </td><td>No           </td><td>No           </td><td>No              </td><td>No           </td><td>No             </td><td>No         </td><td>No         </td><td>No           </td><td>No            </td><td>No             </td><td>No        </td><td>No        </td><td>No            </td><td>No          </td><td>No       </td><td>No           </td><td>Steady   </td><td>No                   </td><td>No                   </td><td>No                        </td><td>No                       </td><td>No                      </td><td>No      </td><td>Yes          </td><td>NO          </td></tr>\n",
       "</tbody>\n",
       "</table>"
      ]
     },
     "metadata": {},
     "output_type": "display_data"
    }
   ],
   "source": [
    "df.describe()"
   ]
  },
  {
   "cell_type": "code",
   "execution_count": 8,
   "metadata": {},
   "outputs": [
    {
     "name": "stdout",
     "output_type": "stream",
     "text": [
      "y:  readmitted\n",
      "X:  ['id', 'patient_nbr', 'race', 'gender', 'age', 'weight', 'admission_type_id', 'discharge_disposition_id', 'admission_source_id', 'time_in_hospital', 'payer_code', 'medical_specialty', 'num_lab_procedures', 'num_procedures', 'num_medications', 'number_outpatient', 'number_emergency', 'number_inpatient', 'diag_1', 'diag_2', 'diag_3', 'number_diagnoses', 'max_glu_serum', 'A1Cresult', 'metformin', 'repaglinide', 'nateglinide', 'chlorpropamide', 'glimepiride', 'acetohexamide', 'glipizide', 'glyburide', 'tolbutamide', 'pioglitazone', 'rosiglitazone', 'acarbose', 'miglitol', 'troglitazone', 'tolazamide', 'examide', 'citoglipton', 'insulin', 'glyburide-metformin', 'glipizide-metformin', 'glimepiride-pioglitazone', 'metformin-rosiglitazone', 'metformin-pioglitazone', 'change', 'diabetesMed']\n"
     ]
    }
   ],
   "source": [
    "# Assign target and inputs\n",
    "y = \"readmitted\"\n",
    "X = [name for name in df.columns if name != y]\n",
    "print(\"y: \",y)\n",
    "print(\"X: \", X)"
   ]
  },
  {
   "cell_type": "code",
   "execution_count": 9,
   "metadata": {},
   "outputs": [
    {
     "name": "stdout",
     "output_type": "stream",
     "text": [
      "Integer columns: ['id', 'patient_nbr', 'admission_type_id', 'discharge_disposition_id', 'admission_source_id', 'time_in_hospital', 'num_lab_procedures', 'num_procedures', 'num_medications', 'number_outpatient', 'number_emergency', 'number_inpatient', 'number_diagnoses'] \n",
      "\n",
      "Enum columns: ['race', 'gender', 'age', 'weight', 'payer_code', 'medical_specialty', 'max_glu_serum', 'A1Cresult', 'metformin', 'repaglinide', 'nateglinide', 'chlorpropamide', 'glimepiride', 'acetohexamide', 'glipizide', 'glyburide', 'tolbutamide', 'pioglitazone', 'rosiglitazone', 'acarbose', 'miglitol', 'troglitazone', 'tolazamide', 'examide', 'citoglipton', 'insulin', 'glyburide-metformin', 'glipizide-metformin', 'glimepiride-pioglitazone', 'metformin-rosiglitazone', 'metformin-pioglitazone', 'change', 'diabetesMed'] \n",
      "\n",
      "Real numbers:  ['diag_1', 'diag_2', 'diag_3'] \n",
      "\n"
     ]
    }
   ],
   "source": [
    "# determine column types\n",
    "ints, reals, enums = [], [], []\n",
    "for key, val in df.types.items():\n",
    "    if key in X:\n",
    "        if val == 'enum':\n",
    "            enums.append(key)\n",
    "        elif val == 'int':\n",
    "            ints.append(key)            \n",
    "        else: \n",
    "            reals.append(key)\n",
    "\n",
    "print(\"Integer columns:\",ints,\"\\n\")\n",
    "print(\"Enum columns:\", enums, \"\\n\")\n",
    "print(\"Real numbers: \",reals, \"\\n\")"
   ]
  },
  {
   "cell_type": "markdown",
   "metadata": {},
   "source": [
    "# Feature Engineering\n"
   ]
  },
  {
   "cell_type": "code",
   "execution_count": 10,
   "metadata": {},
   "outputs": [
    {
     "name": "stdout",
     "output_type": "stream",
     "text": [
      "Number of samples: (50001, 50)\n"
     ]
    }
   ],
   "source": [
    "print('Number of samples:', df.shape)"
   ]
  },
  {
   "cell_type": "markdown",
   "metadata": {},
   "source": [
    "* Since, admission_type_id', 'discharge_disposition_id', 'admission_source_id' are multi-class columns and are more of Ids ie, enum than integres, we are converting them into \"enums\". \n",
    "\n",
    "* Also, diag_1, diag_2, diag_3 are enum and not suited to be real numbers "
   ]
  },
  {
   "cell_type": "code",
   "execution_count": 11,
   "metadata": {},
   "outputs": [],
   "source": [
    "#Convert to enums\n",
    "\n",
    "for j in [\"admission_type_id\", \"discharge_disposition_id\", \"admission_source_id\",\n",
    "          \"diag_1\", \"diag_2\", \"diag_3\"]:\n",
    "    df[j] = (df[j].ascharacter()).asfactor()\n",
    "df = h2o.assign(df, \"diabetes_train\")"
   ]
  },
  {
   "cell_type": "code",
   "execution_count": 12,
   "metadata": {},
   "outputs": [
    {
     "name": "stdout",
     "output_type": "stream",
     "text": [
      "Integer columns: ['id', 'patient_nbr', 'time_in_hospital', 'num_lab_procedures', 'num_procedures', 'num_medications', 'number_outpatient', 'number_emergency', 'number_inpatient', 'number_diagnoses'] \n",
      "\n",
      "Enum columns: ['race', 'gender', 'age', 'weight', 'admission_type_id', 'discharge_disposition_id', 'admission_source_id', 'payer_code', 'medical_specialty', 'diag_1', 'diag_2', 'diag_3', 'max_glu_serum', 'A1Cresult', 'metformin', 'repaglinide', 'nateglinide', 'chlorpropamide', 'glimepiride', 'acetohexamide', 'glipizide', 'glyburide', 'tolbutamide', 'pioglitazone', 'rosiglitazone', 'acarbose', 'miglitol', 'troglitazone', 'tolazamide', 'examide', 'citoglipton', 'insulin', 'glyburide-metformin', 'glipizide-metformin', 'glimepiride-pioglitazone', 'metformin-rosiglitazone', 'metformin-pioglitazone', 'change', 'diabetesMed'] \n",
      "\n",
      "Real numbers:  [] \n",
      "\n"
     ]
    }
   ],
   "source": [
    "# determine column types\n",
    "ints, reals, enums = [], [], []\n",
    "for key, val in df.types.items():\n",
    "    if key in X:\n",
    "        if val == 'enum':\n",
    "            enums.append(key)\n",
    "        elif val == 'int':\n",
    "            ints.append(key)            \n",
    "        else: \n",
    "            reals.append(key)\n",
    "\n",
    "print(\"Integer columns:\",ints,\"\\n\")\n",
    "print(\"Enum columns:\", enums, \"\\n\")\n",
    "print(\"Real numbers: \",reals, \"\\n\")"
   ]
  },
  {
   "cell_type": "code",
   "execution_count": 13,
   "metadata": {},
   "outputs": [
    {
     "data": {
      "text/html": [
       "<table>\n",
       "<thead>\n",
       "<tr><th>readmitted  </th></tr>\n",
       "</thead>\n",
       "<tbody>\n",
       "<tr><td>NO          </td></tr>\n",
       "<tr><td>NO          </td></tr>\n",
       "<tr><td>NO          </td></tr>\n",
       "</tbody>\n",
       "</table>"
      ]
     },
     "metadata": {},
     "output_type": "display_data"
    },
    {
     "data": {
      "text/plain": []
     },
     "execution_count": 13,
     "metadata": {},
     "output_type": "execute_result"
    }
   ],
   "source": [
    "df[\"readmitted\"].head(3)"
   ]
  },
  {
   "cell_type": "code",
   "execution_count": 14,
   "metadata": {},
   "outputs": [
    {
     "data": {
      "text/plain": [
       "[2]"
      ]
     },
     "execution_count": 14,
     "metadata": {},
     "output_type": "execute_result"
    }
   ],
   "source": [
    "df[\"readmitted\"].nlevels()"
   ]
  },
  {
   "cell_type": "code",
   "execution_count": 15,
   "metadata": {},
   "outputs": [
    {
     "data": {
      "text/plain": [
       "['<30', 'NO']"
      ]
     },
     "execution_count": 15,
     "metadata": {},
     "output_type": "execute_result"
    }
   ],
   "source": [
    "df[\"readmitted\"].categories()"
   ]
  },
  {
   "cell_type": "code",
   "execution_count": 16,
   "metadata": {},
   "outputs": [],
   "source": [
    "#one-hot encoding: 0 if No, 1 is <30 days \n",
    "df[\"readmitted\"]=df[\"readmitted\"].set_levels([\"1\",\"0\"])"
   ]
  },
  {
   "cell_type": "code",
   "execution_count": 17,
   "metadata": {},
   "outputs": [
    {
     "data": {
      "text/plain": [
       "['1', '0']"
      ]
     },
     "execution_count": 17,
     "metadata": {},
     "output_type": "execute_result"
    }
   ],
   "source": [
    "df[\"readmitted\"].categories()"
   ]
  },
  {
   "cell_type": "code",
   "execution_count": 18,
   "metadata": {},
   "outputs": [
    {
     "name": "stdout",
     "output_type": "stream",
     "text": [
      "Df colnames:  ['race', 'gender', 'age', 'weight', 'admission_type_id', 'time_in_hospital', 'medical_specialty', 'num_lab_procedures', 'num_procedures', 'num_medications', 'number_outpatient', 'number_emergency', 'number_inpatient', 'diag_1', 'diag_2', 'diag_3', 'number_diagnoses', 'max_glu_serum', 'A1Cresult', 'metformin', 'repaglinide', 'nateglinide', 'chlorpropamide', 'glimepiride', 'acetohexamide', 'glipizide', 'glyburide', 'tolbutamide', 'pioglitazone', 'rosiglitazone', 'acarbose', 'miglitol', 'troglitazone', 'tolazamide', 'examide', 'citoglipton', 'insulin', 'glyburide-metformin', 'glipizide-metformin', 'glimepiride-pioglitazone', 'metformin-rosiglitazone', 'metformin-pioglitazone', 'change', 'diabetesMed']\n"
     ]
    }
   ],
   "source": [
    "# Set target and predictor variables\n",
    "y = \"readmitted\"\n",
    "x = df.col_names\n",
    "x.remove(y)\n",
    "x.remove(\"id\")\n",
    "x.remove(\"patient_nbr\")\n",
    "x.remove(\"discharge_disposition_id\")\n",
    "x.remove(\"admission_source_id\")\n",
    "x.remove(\"payer_code\")\n",
    "print(\"Df colnames: \", x)"
   ]
  },
  {
   "cell_type": "code",
   "execution_count": 19,
   "metadata": {},
   "outputs": [
    {
     "data": {
      "text/html": [
       "<table>\n",
       "<thead>\n",
       "<tr><th style=\"text-align: right;\">  isNA(id)</th><th style=\"text-align: right;\">  isNA(patient_nbr)</th><th style=\"text-align: right;\">  isNA(race)</th><th style=\"text-align: right;\">  isNA(gender)</th><th style=\"text-align: right;\">  isNA(age)</th><th style=\"text-align: right;\">  isNA(weight)</th><th style=\"text-align: right;\">  isNA(admission_type_id)</th><th style=\"text-align: right;\">  isNA(discharge_disposition_id)</th><th style=\"text-align: right;\">  isNA(admission_source_id)</th><th style=\"text-align: right;\">  isNA(time_in_hospital)</th><th style=\"text-align: right;\">  isNA(payer_code)</th><th style=\"text-align: right;\">  isNA(medical_specialty)</th><th style=\"text-align: right;\">  isNA(num_lab_procedures)</th><th style=\"text-align: right;\">  isNA(num_procedures)</th><th style=\"text-align: right;\">  isNA(num_medications)</th><th style=\"text-align: right;\">  isNA(number_outpatient)</th><th style=\"text-align: right;\">  isNA(number_emergency)</th><th style=\"text-align: right;\">  isNA(number_inpatient)</th><th style=\"text-align: right;\">  isNA(diag_1)</th><th style=\"text-align: right;\">  isNA(diag_2)</th><th style=\"text-align: right;\">  isNA(diag_3)</th><th style=\"text-align: right;\">  isNA(number_diagnoses)</th><th style=\"text-align: right;\">  isNA(max_glu_serum)</th><th style=\"text-align: right;\">  isNA(A1Cresult)</th><th style=\"text-align: right;\">  isNA(metformin)</th><th style=\"text-align: right;\">  isNA(repaglinide)</th><th style=\"text-align: right;\">  isNA(nateglinide)</th><th style=\"text-align: right;\">  isNA(chlorpropamide)</th><th style=\"text-align: right;\">  isNA(glimepiride)</th><th style=\"text-align: right;\">  isNA(acetohexamide)</th><th style=\"text-align: right;\">  isNA(glipizide)</th><th style=\"text-align: right;\">  isNA(glyburide)</th><th style=\"text-align: right;\">  isNA(tolbutamide)</th><th style=\"text-align: right;\">  isNA(pioglitazone)</th><th style=\"text-align: right;\">  isNA(rosiglitazone)</th><th style=\"text-align: right;\">  isNA(acarbose)</th><th style=\"text-align: right;\">  isNA(miglitol)</th><th style=\"text-align: right;\">  isNA(troglitazone)</th><th style=\"text-align: right;\">  isNA(tolazamide)</th><th style=\"text-align: right;\">  isNA(examide)</th><th style=\"text-align: right;\">  isNA(citoglipton)</th><th style=\"text-align: right;\">  isNA(insulin)</th><th style=\"text-align: right;\">  isNA(glyburide-metformin)</th><th style=\"text-align: right;\">  isNA(glipizide-metformin)</th><th style=\"text-align: right;\">  isNA(glimepiride-pioglitazone)</th><th style=\"text-align: right;\">  isNA(metformin-rosiglitazone)</th><th style=\"text-align: right;\">  isNA(metformin-pioglitazone)</th><th style=\"text-align: right;\">  isNA(change)</th><th style=\"text-align: right;\">  isNA(diabetesMed)</th><th style=\"text-align: right;\">  isNA(readmitted)</th></tr>\n",
       "</thead>\n",
       "<tbody>\n",
       "<tr><td style=\"text-align: right;\">         0</td><td style=\"text-align: right;\">                  0</td><td style=\"text-align: right;\">           0</td><td style=\"text-align: right;\">             0</td><td style=\"text-align: right;\">          0</td><td style=\"text-align: right;\">             0</td><td style=\"text-align: right;\">                        0</td><td style=\"text-align: right;\">                               0</td><td style=\"text-align: right;\">                          0</td><td style=\"text-align: right;\">                       0</td><td style=\"text-align: right;\">                 0</td><td style=\"text-align: right;\">                        0</td><td style=\"text-align: right;\">                         0</td><td style=\"text-align: right;\">                     0</td><td style=\"text-align: right;\">                      0</td><td style=\"text-align: right;\">                        0</td><td style=\"text-align: right;\">                       0</td><td style=\"text-align: right;\">                       0</td><td style=\"text-align: right;\">             0</td><td style=\"text-align: right;\">             1</td><td style=\"text-align: right;\">             1</td><td style=\"text-align: right;\">                       0</td><td style=\"text-align: right;\">                    0</td><td style=\"text-align: right;\">                0</td><td style=\"text-align: right;\">                0</td><td style=\"text-align: right;\">                  0</td><td style=\"text-align: right;\">                  0</td><td style=\"text-align: right;\">                     0</td><td style=\"text-align: right;\">                  0</td><td style=\"text-align: right;\">                    0</td><td style=\"text-align: right;\">                0</td><td style=\"text-align: right;\">                0</td><td style=\"text-align: right;\">                  0</td><td style=\"text-align: right;\">                   0</td><td style=\"text-align: right;\">                    0</td><td style=\"text-align: right;\">               0</td><td style=\"text-align: right;\">               0</td><td style=\"text-align: right;\">                   0</td><td style=\"text-align: right;\">                 0</td><td style=\"text-align: right;\">              0</td><td style=\"text-align: right;\">                  0</td><td style=\"text-align: right;\">              0</td><td style=\"text-align: right;\">                          0</td><td style=\"text-align: right;\">                          0</td><td style=\"text-align: right;\">                               0</td><td style=\"text-align: right;\">                              0</td><td style=\"text-align: right;\">                             0</td><td style=\"text-align: right;\">             0</td><td style=\"text-align: right;\">                  0</td><td style=\"text-align: right;\">                 0</td></tr>\n",
       "<tr><td style=\"text-align: right;\">         0</td><td style=\"text-align: right;\">                  0</td><td style=\"text-align: right;\">           0</td><td style=\"text-align: right;\">             0</td><td style=\"text-align: right;\">          0</td><td style=\"text-align: right;\">             0</td><td style=\"text-align: right;\">                        0</td><td style=\"text-align: right;\">                               0</td><td style=\"text-align: right;\">                          0</td><td style=\"text-align: right;\">                       0</td><td style=\"text-align: right;\">                 0</td><td style=\"text-align: right;\">                        0</td><td style=\"text-align: right;\">                         0</td><td style=\"text-align: right;\">                     0</td><td style=\"text-align: right;\">                      0</td><td style=\"text-align: right;\">                        0</td><td style=\"text-align: right;\">                       0</td><td style=\"text-align: right;\">                       0</td><td style=\"text-align: right;\">             0</td><td style=\"text-align: right;\">             0</td><td style=\"text-align: right;\">             1</td><td style=\"text-align: right;\">                       0</td><td style=\"text-align: right;\">                    0</td><td style=\"text-align: right;\">                0</td><td style=\"text-align: right;\">                0</td><td style=\"text-align: right;\">                  0</td><td style=\"text-align: right;\">                  0</td><td style=\"text-align: right;\">                     0</td><td style=\"text-align: right;\">                  0</td><td style=\"text-align: right;\">                    0</td><td style=\"text-align: right;\">                0</td><td style=\"text-align: right;\">                0</td><td style=\"text-align: right;\">                  0</td><td style=\"text-align: right;\">                   0</td><td style=\"text-align: right;\">                    0</td><td style=\"text-align: right;\">               0</td><td style=\"text-align: right;\">               0</td><td style=\"text-align: right;\">                   0</td><td style=\"text-align: right;\">                 0</td><td style=\"text-align: right;\">              0</td><td style=\"text-align: right;\">                  0</td><td style=\"text-align: right;\">              0</td><td style=\"text-align: right;\">                          0</td><td style=\"text-align: right;\">                          0</td><td style=\"text-align: right;\">                               0</td><td style=\"text-align: right;\">                              0</td><td style=\"text-align: right;\">                             0</td><td style=\"text-align: right;\">             0</td><td style=\"text-align: right;\">                  0</td><td style=\"text-align: right;\">                 0</td></tr>\n",
       "<tr><td style=\"text-align: right;\">         0</td><td style=\"text-align: right;\">                  0</td><td style=\"text-align: right;\">           0</td><td style=\"text-align: right;\">             0</td><td style=\"text-align: right;\">          0</td><td style=\"text-align: right;\">             0</td><td style=\"text-align: right;\">                        0</td><td style=\"text-align: right;\">                               0</td><td style=\"text-align: right;\">                          0</td><td style=\"text-align: right;\">                       0</td><td style=\"text-align: right;\">                 0</td><td style=\"text-align: right;\">                        0</td><td style=\"text-align: right;\">                         0</td><td style=\"text-align: right;\">                     0</td><td style=\"text-align: right;\">                      0</td><td style=\"text-align: right;\">                        0</td><td style=\"text-align: right;\">                       0</td><td style=\"text-align: right;\">                       0</td><td style=\"text-align: right;\">             0</td><td style=\"text-align: right;\">             0</td><td style=\"text-align: right;\">             0</td><td style=\"text-align: right;\">                       0</td><td style=\"text-align: right;\">                    0</td><td style=\"text-align: right;\">                0</td><td style=\"text-align: right;\">                0</td><td style=\"text-align: right;\">                  0</td><td style=\"text-align: right;\">                  0</td><td style=\"text-align: right;\">                     0</td><td style=\"text-align: right;\">                  0</td><td style=\"text-align: right;\">                    0</td><td style=\"text-align: right;\">                0</td><td style=\"text-align: right;\">                0</td><td style=\"text-align: right;\">                  0</td><td style=\"text-align: right;\">                   0</td><td style=\"text-align: right;\">                    0</td><td style=\"text-align: right;\">               0</td><td style=\"text-align: right;\">               0</td><td style=\"text-align: right;\">                   0</td><td style=\"text-align: right;\">                 0</td><td style=\"text-align: right;\">              0</td><td style=\"text-align: right;\">                  0</td><td style=\"text-align: right;\">              0</td><td style=\"text-align: right;\">                          0</td><td style=\"text-align: right;\">                          0</td><td style=\"text-align: right;\">                               0</td><td style=\"text-align: right;\">                              0</td><td style=\"text-align: right;\">                             0</td><td style=\"text-align: right;\">             0</td><td style=\"text-align: right;\">                  0</td><td style=\"text-align: right;\">                 0</td></tr>\n",
       "<tr><td style=\"text-align: right;\">         0</td><td style=\"text-align: right;\">                  0</td><td style=\"text-align: right;\">           0</td><td style=\"text-align: right;\">             0</td><td style=\"text-align: right;\">          0</td><td style=\"text-align: right;\">             0</td><td style=\"text-align: right;\">                        0</td><td style=\"text-align: right;\">                               0</td><td style=\"text-align: right;\">                          0</td><td style=\"text-align: right;\">                       0</td><td style=\"text-align: right;\">                 0</td><td style=\"text-align: right;\">                        0</td><td style=\"text-align: right;\">                         0</td><td style=\"text-align: right;\">                     0</td><td style=\"text-align: right;\">                      0</td><td style=\"text-align: right;\">                        0</td><td style=\"text-align: right;\">                       0</td><td style=\"text-align: right;\">                       0</td><td style=\"text-align: right;\">             0</td><td style=\"text-align: right;\">             0</td><td style=\"text-align: right;\">             0</td><td style=\"text-align: right;\">                       0</td><td style=\"text-align: right;\">                    0</td><td style=\"text-align: right;\">                0</td><td style=\"text-align: right;\">                0</td><td style=\"text-align: right;\">                  0</td><td style=\"text-align: right;\">                  0</td><td style=\"text-align: right;\">                     0</td><td style=\"text-align: right;\">                  0</td><td style=\"text-align: right;\">                    0</td><td style=\"text-align: right;\">                0</td><td style=\"text-align: right;\">                0</td><td style=\"text-align: right;\">                  0</td><td style=\"text-align: right;\">                   0</td><td style=\"text-align: right;\">                    0</td><td style=\"text-align: right;\">               0</td><td style=\"text-align: right;\">               0</td><td style=\"text-align: right;\">                   0</td><td style=\"text-align: right;\">                 0</td><td style=\"text-align: right;\">              0</td><td style=\"text-align: right;\">                  0</td><td style=\"text-align: right;\">              0</td><td style=\"text-align: right;\">                          0</td><td style=\"text-align: right;\">                          0</td><td style=\"text-align: right;\">                               0</td><td style=\"text-align: right;\">                              0</td><td style=\"text-align: right;\">                             0</td><td style=\"text-align: right;\">             0</td><td style=\"text-align: right;\">                  0</td><td style=\"text-align: right;\">                 0</td></tr>\n",
       "<tr><td style=\"text-align: right;\">         0</td><td style=\"text-align: right;\">                  0</td><td style=\"text-align: right;\">           0</td><td style=\"text-align: right;\">             0</td><td style=\"text-align: right;\">          0</td><td style=\"text-align: right;\">             0</td><td style=\"text-align: right;\">                        0</td><td style=\"text-align: right;\">                               0</td><td style=\"text-align: right;\">                          0</td><td style=\"text-align: right;\">                       0</td><td style=\"text-align: right;\">                 0</td><td style=\"text-align: right;\">                        0</td><td style=\"text-align: right;\">                         0</td><td style=\"text-align: right;\">                     0</td><td style=\"text-align: right;\">                      0</td><td style=\"text-align: right;\">                        0</td><td style=\"text-align: right;\">                       0</td><td style=\"text-align: right;\">                       0</td><td style=\"text-align: right;\">             0</td><td style=\"text-align: right;\">             0</td><td style=\"text-align: right;\">             1</td><td style=\"text-align: right;\">                       0</td><td style=\"text-align: right;\">                    0</td><td style=\"text-align: right;\">                0</td><td style=\"text-align: right;\">                0</td><td style=\"text-align: right;\">                  0</td><td style=\"text-align: right;\">                  0</td><td style=\"text-align: right;\">                     0</td><td style=\"text-align: right;\">                  0</td><td style=\"text-align: right;\">                    0</td><td style=\"text-align: right;\">                0</td><td style=\"text-align: right;\">                0</td><td style=\"text-align: right;\">                  0</td><td style=\"text-align: right;\">                   0</td><td style=\"text-align: right;\">                    0</td><td style=\"text-align: right;\">               0</td><td style=\"text-align: right;\">               0</td><td style=\"text-align: right;\">                   0</td><td style=\"text-align: right;\">                 0</td><td style=\"text-align: right;\">              0</td><td style=\"text-align: right;\">                  0</td><td style=\"text-align: right;\">              0</td><td style=\"text-align: right;\">                          0</td><td style=\"text-align: right;\">                          0</td><td style=\"text-align: right;\">                               0</td><td style=\"text-align: right;\">                              0</td><td style=\"text-align: right;\">                             0</td><td style=\"text-align: right;\">             0</td><td style=\"text-align: right;\">                  0</td><td style=\"text-align: right;\">                 0</td></tr>\n",
       "<tr><td style=\"text-align: right;\">         0</td><td style=\"text-align: right;\">                  0</td><td style=\"text-align: right;\">           0</td><td style=\"text-align: right;\">             0</td><td style=\"text-align: right;\">          0</td><td style=\"text-align: right;\">             0</td><td style=\"text-align: right;\">                        0</td><td style=\"text-align: right;\">                               0</td><td style=\"text-align: right;\">                          0</td><td style=\"text-align: right;\">                       0</td><td style=\"text-align: right;\">                 0</td><td style=\"text-align: right;\">                        0</td><td style=\"text-align: right;\">                         0</td><td style=\"text-align: right;\">                     0</td><td style=\"text-align: right;\">                      0</td><td style=\"text-align: right;\">                        0</td><td style=\"text-align: right;\">                       0</td><td style=\"text-align: right;\">                       0</td><td style=\"text-align: right;\">             0</td><td style=\"text-align: right;\">             0</td><td style=\"text-align: right;\">             0</td><td style=\"text-align: right;\">                       0</td><td style=\"text-align: right;\">                    0</td><td style=\"text-align: right;\">                0</td><td style=\"text-align: right;\">                0</td><td style=\"text-align: right;\">                  0</td><td style=\"text-align: right;\">                  0</td><td style=\"text-align: right;\">                     0</td><td style=\"text-align: right;\">                  0</td><td style=\"text-align: right;\">                    0</td><td style=\"text-align: right;\">                0</td><td style=\"text-align: right;\">                0</td><td style=\"text-align: right;\">                  0</td><td style=\"text-align: right;\">                   0</td><td style=\"text-align: right;\">                    0</td><td style=\"text-align: right;\">               0</td><td style=\"text-align: right;\">               0</td><td style=\"text-align: right;\">                   0</td><td style=\"text-align: right;\">                 0</td><td style=\"text-align: right;\">              0</td><td style=\"text-align: right;\">                  0</td><td style=\"text-align: right;\">              0</td><td style=\"text-align: right;\">                          0</td><td style=\"text-align: right;\">                          0</td><td style=\"text-align: right;\">                               0</td><td style=\"text-align: right;\">                              0</td><td style=\"text-align: right;\">                             0</td><td style=\"text-align: right;\">             0</td><td style=\"text-align: right;\">                  0</td><td style=\"text-align: right;\">                 0</td></tr>\n",
       "<tr><td style=\"text-align: right;\">         0</td><td style=\"text-align: right;\">                  0</td><td style=\"text-align: right;\">           0</td><td style=\"text-align: right;\">             0</td><td style=\"text-align: right;\">          0</td><td style=\"text-align: right;\">             0</td><td style=\"text-align: right;\">                        0</td><td style=\"text-align: right;\">                               0</td><td style=\"text-align: right;\">                          0</td><td style=\"text-align: right;\">                       0</td><td style=\"text-align: right;\">                 0</td><td style=\"text-align: right;\">                        0</td><td style=\"text-align: right;\">                         0</td><td style=\"text-align: right;\">                     0</td><td style=\"text-align: right;\">                      0</td><td style=\"text-align: right;\">                        0</td><td style=\"text-align: right;\">                       0</td><td style=\"text-align: right;\">                       0</td><td style=\"text-align: right;\">             0</td><td style=\"text-align: right;\">             0</td><td style=\"text-align: right;\">             0</td><td style=\"text-align: right;\">                       0</td><td style=\"text-align: right;\">                    0</td><td style=\"text-align: right;\">                0</td><td style=\"text-align: right;\">                0</td><td style=\"text-align: right;\">                  0</td><td style=\"text-align: right;\">                  0</td><td style=\"text-align: right;\">                     0</td><td style=\"text-align: right;\">                  0</td><td style=\"text-align: right;\">                    0</td><td style=\"text-align: right;\">                0</td><td style=\"text-align: right;\">                0</td><td style=\"text-align: right;\">                  0</td><td style=\"text-align: right;\">                   0</td><td style=\"text-align: right;\">                    0</td><td style=\"text-align: right;\">               0</td><td style=\"text-align: right;\">               0</td><td style=\"text-align: right;\">                   0</td><td style=\"text-align: right;\">                 0</td><td style=\"text-align: right;\">              0</td><td style=\"text-align: right;\">                  0</td><td style=\"text-align: right;\">              0</td><td style=\"text-align: right;\">                          0</td><td style=\"text-align: right;\">                          0</td><td style=\"text-align: right;\">                               0</td><td style=\"text-align: right;\">                              0</td><td style=\"text-align: right;\">                             0</td><td style=\"text-align: right;\">             0</td><td style=\"text-align: right;\">                  0</td><td style=\"text-align: right;\">                 0</td></tr>\n",
       "<tr><td style=\"text-align: right;\">         0</td><td style=\"text-align: right;\">                  0</td><td style=\"text-align: right;\">           0</td><td style=\"text-align: right;\">             0</td><td style=\"text-align: right;\">          0</td><td style=\"text-align: right;\">             0</td><td style=\"text-align: right;\">                        0</td><td style=\"text-align: right;\">                               0</td><td style=\"text-align: right;\">                          0</td><td style=\"text-align: right;\">                       0</td><td style=\"text-align: right;\">                 0</td><td style=\"text-align: right;\">                        0</td><td style=\"text-align: right;\">                         0</td><td style=\"text-align: right;\">                     0</td><td style=\"text-align: right;\">                      0</td><td style=\"text-align: right;\">                        0</td><td style=\"text-align: right;\">                       0</td><td style=\"text-align: right;\">                       0</td><td style=\"text-align: right;\">             0</td><td style=\"text-align: right;\">             0</td><td style=\"text-align: right;\">             0</td><td style=\"text-align: right;\">                       0</td><td style=\"text-align: right;\">                    0</td><td style=\"text-align: right;\">                0</td><td style=\"text-align: right;\">                0</td><td style=\"text-align: right;\">                  0</td><td style=\"text-align: right;\">                  0</td><td style=\"text-align: right;\">                     0</td><td style=\"text-align: right;\">                  0</td><td style=\"text-align: right;\">                    0</td><td style=\"text-align: right;\">                0</td><td style=\"text-align: right;\">                0</td><td style=\"text-align: right;\">                  0</td><td style=\"text-align: right;\">                   0</td><td style=\"text-align: right;\">                    0</td><td style=\"text-align: right;\">               0</td><td style=\"text-align: right;\">               0</td><td style=\"text-align: right;\">                   0</td><td style=\"text-align: right;\">                 0</td><td style=\"text-align: right;\">              0</td><td style=\"text-align: right;\">                  0</td><td style=\"text-align: right;\">              0</td><td style=\"text-align: right;\">                          0</td><td style=\"text-align: right;\">                          0</td><td style=\"text-align: right;\">                               0</td><td style=\"text-align: right;\">                              0</td><td style=\"text-align: right;\">                             0</td><td style=\"text-align: right;\">             0</td><td style=\"text-align: right;\">                  0</td><td style=\"text-align: right;\">                 0</td></tr>\n",
       "<tr><td style=\"text-align: right;\">         0</td><td style=\"text-align: right;\">                  0</td><td style=\"text-align: right;\">           0</td><td style=\"text-align: right;\">             0</td><td style=\"text-align: right;\">          0</td><td style=\"text-align: right;\">             0</td><td style=\"text-align: right;\">                        0</td><td style=\"text-align: right;\">                               0</td><td style=\"text-align: right;\">                          0</td><td style=\"text-align: right;\">                       0</td><td style=\"text-align: right;\">                 0</td><td style=\"text-align: right;\">                        0</td><td style=\"text-align: right;\">                         0</td><td style=\"text-align: right;\">                     0</td><td style=\"text-align: right;\">                      0</td><td style=\"text-align: right;\">                        0</td><td style=\"text-align: right;\">                       0</td><td style=\"text-align: right;\">                       0</td><td style=\"text-align: right;\">             0</td><td style=\"text-align: right;\">             0</td><td style=\"text-align: right;\">             0</td><td style=\"text-align: right;\">                       0</td><td style=\"text-align: right;\">                    0</td><td style=\"text-align: right;\">                0</td><td style=\"text-align: right;\">                0</td><td style=\"text-align: right;\">                  0</td><td style=\"text-align: right;\">                  0</td><td style=\"text-align: right;\">                     0</td><td style=\"text-align: right;\">                  0</td><td style=\"text-align: right;\">                    0</td><td style=\"text-align: right;\">                0</td><td style=\"text-align: right;\">                0</td><td style=\"text-align: right;\">                  0</td><td style=\"text-align: right;\">                   0</td><td style=\"text-align: right;\">                    0</td><td style=\"text-align: right;\">               0</td><td style=\"text-align: right;\">               0</td><td style=\"text-align: right;\">                   0</td><td style=\"text-align: right;\">                 0</td><td style=\"text-align: right;\">              0</td><td style=\"text-align: right;\">                  0</td><td style=\"text-align: right;\">              0</td><td style=\"text-align: right;\">                          0</td><td style=\"text-align: right;\">                          0</td><td style=\"text-align: right;\">                               0</td><td style=\"text-align: right;\">                              0</td><td style=\"text-align: right;\">                             0</td><td style=\"text-align: right;\">             0</td><td style=\"text-align: right;\">                  0</td><td style=\"text-align: right;\">                 0</td></tr>\n",
       "<tr><td style=\"text-align: right;\">         0</td><td style=\"text-align: right;\">                  0</td><td style=\"text-align: right;\">           0</td><td style=\"text-align: right;\">             0</td><td style=\"text-align: right;\">          0</td><td style=\"text-align: right;\">             0</td><td style=\"text-align: right;\">                        0</td><td style=\"text-align: right;\">                               0</td><td style=\"text-align: right;\">                          0</td><td style=\"text-align: right;\">                       0</td><td style=\"text-align: right;\">                 0</td><td style=\"text-align: right;\">                        0</td><td style=\"text-align: right;\">                         0</td><td style=\"text-align: right;\">                     0</td><td style=\"text-align: right;\">                      0</td><td style=\"text-align: right;\">                        0</td><td style=\"text-align: right;\">                       0</td><td style=\"text-align: right;\">                       0</td><td style=\"text-align: right;\">             0</td><td style=\"text-align: right;\">             0</td><td style=\"text-align: right;\">             0</td><td style=\"text-align: right;\">                       0</td><td style=\"text-align: right;\">                    0</td><td style=\"text-align: right;\">                0</td><td style=\"text-align: right;\">                0</td><td style=\"text-align: right;\">                  0</td><td style=\"text-align: right;\">                  0</td><td style=\"text-align: right;\">                     0</td><td style=\"text-align: right;\">                  0</td><td style=\"text-align: right;\">                    0</td><td style=\"text-align: right;\">                0</td><td style=\"text-align: right;\">                0</td><td style=\"text-align: right;\">                  0</td><td style=\"text-align: right;\">                   0</td><td style=\"text-align: right;\">                    0</td><td style=\"text-align: right;\">               0</td><td style=\"text-align: right;\">               0</td><td style=\"text-align: right;\">                   0</td><td style=\"text-align: right;\">                 0</td><td style=\"text-align: right;\">              0</td><td style=\"text-align: right;\">                  0</td><td style=\"text-align: right;\">              0</td><td style=\"text-align: right;\">                          0</td><td style=\"text-align: right;\">                          0</td><td style=\"text-align: right;\">                               0</td><td style=\"text-align: right;\">                              0</td><td style=\"text-align: right;\">                             0</td><td style=\"text-align: right;\">             0</td><td style=\"text-align: right;\">                  0</td><td style=\"text-align: right;\">                 0</td></tr>\n",
       "</tbody>\n",
       "</table>"
      ]
     },
     "metadata": {},
     "output_type": "display_data"
    },
    {
     "data": {
      "text/plain": []
     },
     "execution_count": 19,
     "metadata": {},
     "output_type": "execute_result"
    }
   ],
   "source": [
    "df.isna()"
   ]
  },
  {
   "cell_type": "code",
   "execution_count": 20,
   "metadata": {},
   "outputs": [
    {
     "data": {
      "text/plain": [
       "h2o.frame.H2OFrame"
      ]
     },
     "execution_count": 20,
     "metadata": {},
     "output_type": "execute_result"
    }
   ],
   "source": [
    "predictors=df[x]\n",
    "type(predictors)"
   ]
  },
  {
   "cell_type": "code",
   "execution_count": 21,
   "metadata": {},
   "outputs": [
    {
     "data": {
      "text/plain": [
       "(50001, 44)"
      ]
     },
     "execution_count": 21,
     "metadata": {},
     "output_type": "execute_result"
    }
   ],
   "source": [
    "predictors.shape"
   ]
  },
  {
   "cell_type": "code",
   "execution_count": 64,
   "metadata": {},
   "outputs": [],
   "source": [
    "response=y"
   ]
  },
  {
   "cell_type": "code",
   "execution_count": null,
   "metadata": {},
   "outputs": [],
   "source": []
  },
  {
   "cell_type": "markdown",
   "metadata": {},
   "source": [
    "### Finding Co-realtion among columns"
   ]
  },
  {
   "cell_type": "code",
   "execution_count": 23,
   "metadata": {},
   "outputs": [],
   "source": [
    "df_cor_cols=df[ints]"
   ]
  },
  {
   "cell_type": "code",
   "execution_count": 24,
   "metadata": {},
   "outputs": [
    {
     "data": {
      "text/plain": [
       "['id',\n",
       " 'patient_nbr',\n",
       " 'time_in_hospital',\n",
       " 'num_lab_procedures',\n",
       " 'num_procedures',\n",
       " 'num_medications',\n",
       " 'number_outpatient',\n",
       " 'number_emergency',\n",
       " 'number_inpatient',\n",
       " 'number_diagnoses']"
      ]
     },
     "execution_count": 24,
     "metadata": {},
     "output_type": "execute_result"
    }
   ],
   "source": [
    "df_cor_cols.columns"
   ]
  },
  {
   "cell_type": "code",
   "execution_count": 25,
   "metadata": {},
   "outputs": [],
   "source": [
    "df_cor_cols=df_cor_cols.drop(\"id\")\n",
    "df_cor_cols=df_cor_cols.drop(\"patient_nbr\")"
   ]
  },
  {
   "cell_type": "code",
   "execution_count": 26,
   "metadata": {},
   "outputs": [
    {
     "data": {
      "text/plain": [
       "['time_in_hospital',\n",
       " 'num_lab_procedures',\n",
       " 'num_procedures',\n",
       " 'num_medications',\n",
       " 'number_outpatient',\n",
       " 'number_emergency',\n",
       " 'number_inpatient',\n",
       " 'number_diagnoses']"
      ]
     },
     "execution_count": 26,
     "metadata": {},
     "output_type": "execute_result"
    }
   ],
   "source": [
    "df_cor_cols.columns"
   ]
  },
  {
   "cell_type": "code",
   "execution_count": 27,
   "metadata": {},
   "outputs": [
    {
     "data": {
      "image/png": "[encoded data removed]",
      "text/plain": [
       "<Figure size 720x720 with 2 Axes>"
      ]
     },
     "metadata": {
      "needs_background": "light"
     },
     "output_type": "display_data"
    }
   ],
   "source": [
    "plt.figure(figsize=(10,10))\n",
    "corr = df_cor_cols.cor().as_data_frame()\n",
    "corr.index = df_cor_cols.columns\n",
    "sns.heatmap(corr, annot = True, cmap='RdYlGn', vmin=-1, vmax=1)\n",
    "plt.title(\"Correlation Heatmap\", fontsize=16)\n",
    "plt.show()"
   ]
  },
  {
   "cell_type": "markdown",
   "metadata": {},
   "source": [
    "## Meta data"
   ]
  },
  {
   "cell_type": "code",
   "execution_count": 28,
   "metadata": {},
   "outputs": [],
   "source": [
    "data_path=None\n",
    "all_variables=None\n",
    "test_path=None\n",
    "# target='search_term'\n",
    "target=y\n",
    "nthreads=1 \n",
    "min_mem_size=6 \n",
    "run_time=500\n",
    "classification=True\n",
    "scale=False\n",
    "max_models=9    \n",
    "model_path=None\n",
    "balance_y=False \n",
    "balance_threshold=0.2\n",
    "name=None \n",
    "server_path=None  \n",
    "analysis=0"
   ]
  },
  {
   "cell_type": "code",
   "execution_count": 29,
   "metadata": {},
   "outputs": [],
   "source": [
    "def set_meta_data(analysis,run_id,server,data,test,model_path,target,run_time,classification,scale,model,balance,balance_threshold,name,path,nthreads,min_mem_size):\n",
    "    m_data={}\n",
    "    m_data['start_time'] = time.time()\n",
    "    m_data['target']=target\n",
    "    m_data['server_path']=server\n",
    "    m_data['data_path']=data \n",
    "    m_data['test_path']=test\n",
    "    m_data['max_models']=model\n",
    "    m_data['run_time']=run_time\n",
    "    m_data['run_id'] =run_id\n",
    "    m_data['scale']=scale\n",
    "    m_data['classification']=classification\n",
    "    m_data['scale']=False\n",
    "    m_data['model_path']=model_path\n",
    "    m_data['balance']=balance\n",
    "    m_data['balance_threshold']=balance_threshold\n",
    "    m_data['project'] =name\n",
    "    m_data['end_time'] = time.time()\n",
    "    m_data['execution_time'] = 0.0\n",
    "    m_data['run_path'] =path\n",
    "    m_data['nthreads'] = nthreads\n",
    "    m_data['min_mem_size'] = min_mem_size\n",
    "    m_data['analysis'] = analysis\n",
    "    return m_data\n"
   ]
  },
  {
   "cell_type": "code",
   "execution_count": 30,
   "metadata": {},
   "outputs": [],
   "source": [
    "def dict_to_json(dct,n):\n",
    "    j = json.dumps(dct, indent=4)\n",
    "    f = open(n, 'w')\n",
    "    print(j, file=f)\n",
    "    f.close()"
   ]
  },
  {
   "cell_type": "code",
   "execution_count": 31,
   "metadata": {},
   "outputs": [],
   "source": [
    "# Functions\n",
    "\n",
    "def alphabet(n):\n",
    "  alpha='0123456789abcdefghijklmnopqrstuvwxyzABCDEFGHIJKLMNOPQRSTUVWXYZ'    \n",
    "  str=''\n",
    "  r=len(alpha)-1   \n",
    "  while len(str)<n:\n",
    "    i=random.randint(0,r)\n",
    "    str+=alpha[i]   \n",
    "  return str"
   ]
  },
  {
   "cell_type": "code",
   "execution_count": 32,
   "metadata": {},
   "outputs": [
    {
     "name": "stdout",
     "output_type": "stream",
     "text": [
      "RZ6eBS7mp\n"
     ]
    }
   ],
   "source": [
    "run_id=alphabet(9)\n",
    "if server_path==None:\n",
    "  server_path=os.path.abspath(os.curdir)\n",
    "os.chdir(server_path) \n",
    "run_dir = os.path.join(server_path,run_id)\n",
    "os.mkdir(run_dir)\n",
    "os.chdir(run_dir)    \n",
    "\n",
    "# run_id to std out\n",
    "print (run_id)\n",
    "\n",
    "\n",
    "\n"
   ]
  },
  {
   "cell_type": "code",
   "execution_count": 33,
   "metadata": {},
   "outputs": [
    {
     "name": "stdout",
     "output_type": "stream",
     "text": [
      "{'start_time': 1555902585.2259562, 'target': 'readmitted', 'server_path': 'C:\\\\Users\\\\joiss\\\\Desktop\\\\NEU-MSIS\\\\2_Sem2\\\\INFO6105_Data_Science_Engineering_Methods\\\\0_HyperParameter\\\\0_DS01_HyperParameter', 'data_path': None, 'test_path': None, 'max_models': 9, 'run_time': 500, 'run_id': 'RZ6eBS7mp', 'scale': False, 'classification': True, 'model_path': None, 'balance': False, 'balance_threshold': 0.2, 'project': None, 'end_time': 1555902585.2259562, 'execution_time': 0.0, 'run_path': 'C:\\\\Users\\\\joiss\\\\Desktop\\\\NEU-MSIS\\\\2_Sem2\\\\INFO6105_Data_Science_Engineering_Methods\\\\0_HyperParameter\\\\0_DS01_HyperParameter\\\\RZ6eBS7mp', 'nthreads': 1, 'min_mem_size': 6, 'analysis': 0}\n"
     ]
    }
   ],
   "source": [
    "# meta data\n",
    "meta_data = set_meta_data(analysis, run_id,server_path,data_path,test_path,model_path,target,run_time,classification,scale,max_models,balance_y,balance_threshold,name,run_dir,nthreads,min_mem_size)\n",
    "print(meta_data)"
   ]
  },
  {
   "cell_type": "code",
   "execution_count": 34,
   "metadata": {},
   "outputs": [
    {
     "name": "stdout",
     "output_type": "stream",
     "text": [
      "meta_data_startTime_beforeModelEval:  Sun Apr 21 23:09:45 2019\n"
     ]
    }
   ],
   "source": [
    "meta_data_startTime_beforeModelEval= time.asctime(time.localtime(meta_data[\"start_time\"])) \n",
    "print(\"meta_data_startTime_beforeModelEval: \",meta_data_startTime_beforeModelEval)"
   ]
  },
  {
   "cell_type": "code",
   "execution_count": 35,
   "metadata": {},
   "outputs": [
    {
     "name": "stdout",
     "output_type": "stream",
     "text": [
      "meta_data_endTime_beforeModelEval=  Sun Apr 21 23:09:45 2019\n"
     ]
    }
   ],
   "source": [
    "meta_data_endTime_beforeModelEval= time.asctime( time.localtime(meta_data[\"end_time\"]) )\n",
    "print( \"meta_data_endTime_beforeModelEval= \", meta_data_endTime_beforeModelEval)"
   ]
  },
  {
   "cell_type": "code",
   "execution_count": 36,
   "metadata": {},
   "outputs": [],
   "source": [
    "# Add independent variables\n",
    "\n",
    "meta_data['X']=predictors.columns "
   ]
  },
  {
   "cell_type": "code",
   "execution_count": 37,
   "metadata": {},
   "outputs": [],
   "source": [
    "meta_data['variables']=df.columns"
   ]
  },
  {
   "cell_type": "code",
   "execution_count": 38,
   "metadata": {},
   "outputs": [],
   "source": [
    "type(predictors)\n",
    "independentVars_df=predictors.as_data_frame()"
   ]
  },
  {
   "cell_type": "code",
   "execution_count": 39,
   "metadata": {},
   "outputs": [],
   "source": [
    "# save the changed dataset\n",
    "dataset_stats=run_id+'_independentVariables.csv'\n",
    "independentVars_df.to_csv(dataset_stats, index=False)"
   ]
  },
  {
   "cell_type": "markdown",
   "metadata": {},
   "source": [
    "## Train model using h2o"
   ]
  },
  {
   "cell_type": "code",
   "execution_count": 40,
   "metadata": {},
   "outputs": [],
   "source": [
    "# Split the data into Train/Test/Validation with Train having 70% and test and validation 15% each\n",
    "#train, valid, test = df.split_frame(ratios=[0.7, 0.15], seed=42)"
   ]
  },
  {
   "cell_type": "code",
   "execution_count": 41,
   "metadata": {},
   "outputs": [],
   "source": [
    "# Use Auto ML to train models\n",
    "from h2o.automl import H2OAutoML\n",
    "aml = H2OAutoML(max_runtime_secs = run_time,project_name = name)"
   ]
  },
  {
   "cell_type": "code",
   "execution_count": 42,
   "metadata": {},
   "outputs": [],
   "source": [
    "model_start_time = time.time()"
   ]
  },
  {
   "cell_type": "code",
   "execution_count": 43,
   "metadata": {},
   "outputs": [
    {
     "name": "stdout",
     "output_type": "stream",
     "text": [
      "AutoML progress: |████████████████████████████████████████████████████████| 100%\n"
     ]
    }
   ],
   "source": [
    "aml.train(x = predictors.columns, y = y, training_frame = df)"
   ]
  },
  {
   "cell_type": "code",
   "execution_count": 44,
   "metadata": {},
   "outputs": [],
   "source": [
    "meta_data['model_execution_time'] = time.time() - model_start_time"
   ]
  },
  {
   "cell_type": "markdown",
   "metadata": {},
   "source": [
    "## Print Leaderboard"
   ]
  },
  {
   "cell_type": "code",
   "execution_count": 45,
   "metadata": {},
   "outputs": [
    {
     "data": {
      "text/html": [
       "<table>\n",
       "<thead>\n",
       "<tr><th>model_id                                           </th><th style=\"text-align: right;\">     auc</th><th style=\"text-align: right;\">  logloss</th><th style=\"text-align: right;\">  mean_per_class_error</th><th style=\"text-align: right;\">    rmse</th><th style=\"text-align: right;\">     mse</th></tr>\n",
       "</thead>\n",
       "<tbody>\n",
       "<tr><td>StackedEnsemble_AllModels_AutoML_20190421_230946   </td><td style=\"text-align: right;\">0.709219</td><td style=\"text-align: right;\"> 0.423215</td><td style=\"text-align: right;\">              0.460722</td><td style=\"text-align: right;\">0.36232 </td><td style=\"text-align: right;\">0.131275</td></tr>\n",
       "<tr><td>StackedEnsemble_BestOfFamily_AutoML_20190421_230946</td><td style=\"text-align: right;\">0.708877</td><td style=\"text-align: right;\"> 0.423798</td><td style=\"text-align: right;\">              0.465452</td><td style=\"text-align: right;\">0.362477</td><td style=\"text-align: right;\">0.131389</td></tr>\n",
       "<tr><td>GLM_grid_1_AutoML_20190421_230946_model_1          </td><td style=\"text-align: right;\">0.704824</td><td style=\"text-align: right;\"> 0.425356</td><td style=\"text-align: right;\">              0.465952</td><td style=\"text-align: right;\">0.363453</td><td style=\"text-align: right;\">0.132098</td></tr>\n",
       "<tr><td>GBM_grid_1_AutoML_20190421_230946_model_4          </td><td style=\"text-align: right;\">0.700568</td><td style=\"text-align: right;\"> 0.436165</td><td style=\"text-align: right;\">              0.474008</td><td style=\"text-align: right;\">0.368526</td><td style=\"text-align: right;\">0.135812</td></tr>\n",
       "<tr><td>GBM_grid_1_AutoML_20190421_230946_model_3          </td><td style=\"text-align: right;\">0.699463</td><td style=\"text-align: right;\"> 0.447776</td><td style=\"text-align: right;\">              0.47683 </td><td style=\"text-align: right;\">0.373958</td><td style=\"text-align: right;\">0.139845</td></tr>\n",
       "<tr><td>DeepLearning_1_AutoML_20190421_230946              </td><td style=\"text-align: right;\">0.699055</td><td style=\"text-align: right;\"> 0.427244</td><td style=\"text-align: right;\">              0.460595</td><td style=\"text-align: right;\">0.363604</td><td style=\"text-align: right;\">0.132208</td></tr>\n",
       "<tr><td>GBM_grid_1_AutoML_20190421_230946_model_5          </td><td style=\"text-align: right;\">0.696071</td><td style=\"text-align: right;\"> 0.437804</td><td style=\"text-align: right;\">              0.473283</td><td style=\"text-align: right;\">0.369191</td><td style=\"text-align: right;\">0.136302</td></tr>\n",
       "<tr><td>GBM_grid_1_AutoML_20190421_230946_model_2          </td><td style=\"text-align: right;\">0.696011</td><td style=\"text-align: right;\"> 0.437853</td><td style=\"text-align: right;\">              0.46835 </td><td style=\"text-align: right;\">0.369297</td><td style=\"text-align: right;\">0.13638 </td></tr>\n",
       "<tr><td>DRF_1_AutoML_20190421_230946                       </td><td style=\"text-align: right;\">0.682035</td><td style=\"text-align: right;\"> 0.443376</td><td style=\"text-align: right;\">              0.477724</td><td style=\"text-align: right;\">0.367459</td><td style=\"text-align: right;\">0.135026</td></tr>\n",
       "<tr><td>DeepLearning_grid_1_AutoML_20190421_230946_model_1 </td><td style=\"text-align: right;\">0.676344</td><td style=\"text-align: right;\"> 0.440589</td><td style=\"text-align: right;\">              0.474237</td><td style=\"text-align: right;\">0.367737</td><td style=\"text-align: right;\">0.135231</td></tr>\n",
       "</tbody>\n",
       "</table>"
      ]
     },
     "metadata": {},
     "output_type": "display_data"
    },
    {
     "data": {
      "text/plain": []
     },
     "execution_count": 45,
     "metadata": {},
     "output_type": "execute_result"
    }
   ],
   "source": [
    "aml.leaderboard"
   ]
  },
  {
   "cell_type": "code",
   "execution_count": 46,
   "metadata": {},
   "outputs": [
    {
     "name": "stdout",
     "output_type": "stream",
     "text": [
      "Model Details\n",
      "=============\n",
      "H2OStackedEnsembleEstimator :  Stacked Ensemble\n",
      "Model Key:  StackedEnsemble_AllModels_AutoML_20190421_230946\n",
      "No model summary for this model\n",
      "\n",
      "\n",
      "ModelMetricsBinomialGLM: stackedensemble\n",
      "** Reported on train data. **\n",
      "\n",
      "MSE: 0.10841482462978803\n",
      "RMSE: 0.32926406519659573\n",
      "LogLoss: 0.36149126623486777\n",
      "Null degrees of freedom: 50000\n",
      "Residual degrees of freedom: 49994\n",
      "Null deviance: 46755.46076076399\n",
      "Residual deviance: 36149.84960601925\n",
      "AIC: 36163.84960601925\n",
      "AUC: 0.8628894203100573\n",
      "pr_auc: 0.9633836892153087\n",
      "Gini: 0.7257788406201147\n",
      "Confusion Matrix (Act/Pred) for max f1 @ threshold = 0.591627868620706: \n"
     ]
    },
    {
     "data": {
      "text/html": [
       "<div style=\"overflow:auto\"><table style=\"width:50%\"><tr><td><b></b></td>\n",
       "<td><b>1</b></td>\n",
       "<td><b>0</b></td>\n",
       "<td><b>Error</b></td>\n",
       "<td><b>Rate</b></td></tr>\n",
       "<tr><td>1</td>\n",
       "<td>2930.0</td>\n",
       "<td>5944.0</td>\n",
       "<td>0.6698</td>\n",
       "<td> (5944.0/8874.0)</td></tr>\n",
       "<tr><td>0</td>\n",
       "<td>1308.0</td>\n",
       "<td>39819.0</td>\n",
       "<td>0.0318</td>\n",
       "<td> (1308.0/41127.0)</td></tr>\n",
       "<tr><td>Total</td>\n",
       "<td>4238.0</td>\n",
       "<td>45763.0</td>\n",
       "<td>0.145</td>\n",
       "<td> (7252.0/50001.0)</td></tr></table></div>"
      ],
      "text/plain": [
       "       1     0      Error    Rate\n",
       "-----  ----  -----  -------  ----------------\n",
       "1      2930  5944   0.6698   (5944.0/8874.0)\n",
       "0      1308  39819  0.0318   (1308.0/41127.0)\n",
       "Total  4238  45763  0.145    (7252.0/50001.0)"
      ]
     },
     "metadata": {},
     "output_type": "display_data"
    },
    {
     "name": "stdout",
     "output_type": "stream",
     "text": [
      "Maximum Metrics: Maximum metrics at their respective thresholds\n",
      "\n"
     ]
    },
    {
     "data": {
      "text/html": [
       "<div style=\"overflow:auto\"><table style=\"width:50%\"><tr><td><b>metric</b></td>\n",
       "<td><b>threshold</b></td>\n",
       "<td><b>value</b></td>\n",
       "<td><b>idx</b></td></tr>\n",
       "<tr><td>max f1</td>\n",
       "<td>0.5916279</td>\n",
       "<td>0.9165382</td>\n",
       "<td>254.0</td></tr>\n",
       "<tr><td>max f2</td>\n",
       "<td>0.2260959</td>\n",
       "<td>0.9604639</td>\n",
       "<td>360.0</td></tr>\n",
       "<tr><td>max f0point5</td>\n",
       "<td>0.7387083</td>\n",
       "<td>0.9142795</td>\n",
       "<td>178.0</td></tr>\n",
       "<tr><td>max accuracy</td>\n",
       "<td>0.6541446</td>\n",
       "<td>0.8565429</td>\n",
       "<td>226.0</td></tr>\n",
       "<tr><td>max precision</td>\n",
       "<td>0.9407888</td>\n",
       "<td>1.0</td>\n",
       "<td>0.0</td></tr>\n",
       "<tr><td>max recall</td>\n",
       "<td>0.0850338</td>\n",
       "<td>1.0</td>\n",
       "<td>391.0</td></tr>\n",
       "<tr><td>max specificity</td>\n",
       "<td>0.9407888</td>\n",
       "<td>1.0</td>\n",
       "<td>0.0</td></tr>\n",
       "<tr><td>max absolute_mcc</td>\n",
       "<td>0.7387083</td>\n",
       "<td>0.5032438</td>\n",
       "<td>178.0</td></tr>\n",
       "<tr><td>max min_per_class_accuracy</td>\n",
       "<td>0.7825118</td>\n",
       "<td>0.7861016</td>\n",
       "<td>145.0</td></tr>\n",
       "<tr><td>max mean_per_class_accuracy</td>\n",
       "<td>0.7790480</td>\n",
       "<td>0.7869832</td>\n",
       "<td>148.0</td></tr></table></div>"
      ],
      "text/plain": [
       "metric                       threshold    value     idx\n",
       "---------------------------  -----------  --------  -----\n",
       "max f1                       0.591628     0.916538  254\n",
       "max f2                       0.226096     0.960464  360\n",
       "max f0point5                 0.738708     0.91428   178\n",
       "max accuracy                 0.654145     0.856543  226\n",
       "max precision                0.940789     1         0\n",
       "max recall                   0.0850338    1         391\n",
       "max specificity              0.940789     1         0\n",
       "max absolute_mcc             0.738708     0.503244  178\n",
       "max min_per_class_accuracy   0.782512     0.786102  145\n",
       "max mean_per_class_accuracy  0.779048     0.786983  148"
      ]
     },
     "metadata": {},
     "output_type": "display_data"
    },
    {
     "name": "stdout",
     "output_type": "stream",
     "text": [
      "Gains/Lift Table: Avg response rate: 82.25 %, avg score: 78.95 %\n",
      "\n"
     ]
    },
    {
     "data": {
      "text/html": [
       "<div style=\"overflow:auto\"><table style=\"width:50%\"><tr><td><b></b></td>\n",
       "<td><b>group</b></td>\n",
       "<td><b>cumulative_data_fraction</b></td>\n",
       "<td><b>lower_threshold</b></td>\n",
       "<td><b>lift</b></td>\n",
       "<td><b>cumulative_lift</b></td>\n",
       "<td><b>response_rate</b></td>\n",
       "<td><b>score</b></td>\n",
       "<td><b>cumulative_response_rate</b></td>\n",
       "<td><b>cumulative_score</b></td>\n",
       "<td><b>capture_rate</b></td>\n",
       "<td><b>cumulative_capture_rate</b></td>\n",
       "<td><b>gain</b></td>\n",
       "<td><b>cumulative_gain</b></td></tr>\n",
       "<tr><td></td>\n",
       "<td>1</td>\n",
       "<td>0.0100198</td>\n",
       "<td>0.9296588</td>\n",
       "<td>1.2157707</td>\n",
       "<td>1.2157707</td>\n",
       "<td>1.0</td>\n",
       "<td>0.9333763</td>\n",
       "<td>1.0</td>\n",
       "<td>0.9333763</td>\n",
       "<td>0.0121818</td>\n",
       "<td>0.0121818</td>\n",
       "<td>21.5770662</td>\n",
       "<td>21.5770662</td></tr>\n",
       "<tr><td></td>\n",
       "<td>2</td>\n",
       "<td>0.0200196</td>\n",
       "<td>0.9255121</td>\n",
       "<td>1.2157707</td>\n",
       "<td>1.2157707</td>\n",
       "<td>1.0</td>\n",
       "<td>0.9273769</td>\n",
       "<td>1.0</td>\n",
       "<td>0.9303796</td>\n",
       "<td>0.0121575</td>\n",
       "<td>0.0243392</td>\n",
       "<td>21.5770662</td>\n",
       "<td>21.5770662</td></tr>\n",
       "<tr><td></td>\n",
       "<td>3</td>\n",
       "<td>0.0300194</td>\n",
       "<td>0.9226721</td>\n",
       "<td>1.2157707</td>\n",
       "<td>1.2157707</td>\n",
       "<td>1.0</td>\n",
       "<td>0.9240285</td>\n",
       "<td>1.0</td>\n",
       "<td>0.9282640</td>\n",
       "<td>0.0121575</td>\n",
       "<td>0.0364967</td>\n",
       "<td>21.5770662</td>\n",
       "<td>21.5770662</td></tr>\n",
       "<tr><td></td>\n",
       "<td>4</td>\n",
       "<td>0.0400192</td>\n",
       "<td>0.9202543</td>\n",
       "<td>1.2157707</td>\n",
       "<td>1.2157707</td>\n",
       "<td>1.0</td>\n",
       "<td>0.9213599</td>\n",
       "<td>1.0</td>\n",
       "<td>0.9265388</td>\n",
       "<td>0.0121575</td>\n",
       "<td>0.0486542</td>\n",
       "<td>21.5770662</td>\n",
       "<td>21.5770662</td></tr>\n",
       "<tr><td></td>\n",
       "<td>5</td>\n",
       "<td>0.0500190</td>\n",
       "<td>0.9178805</td>\n",
       "<td>1.2133391</td>\n",
       "<td>1.2152845</td>\n",
       "<td>0.998</td>\n",
       "<td>0.9190412</td>\n",
       "<td>0.9996002</td>\n",
       "<td>0.9250399</td>\n",
       "<td>0.0121331</td>\n",
       "<td>0.0607873</td>\n",
       "<td>21.3339120</td>\n",
       "<td>21.5284548</td></tr>\n",
       "<tr><td></td>\n",
       "<td>6</td>\n",
       "<td>0.1000180</td>\n",
       "<td>0.9075125</td>\n",
       "<td>1.2084760</td>\n",
       "<td>1.2118810</td>\n",
       "<td>0.994</td>\n",
       "<td>0.9124495</td>\n",
       "<td>0.9968006</td>\n",
       "<td>0.9187460</td>\n",
       "<td>0.0604226</td>\n",
       "<td>0.1212099</td>\n",
       "<td>20.8476038</td>\n",
       "<td>21.1880973</td></tr>\n",
       "<tr><td></td>\n",
       "<td>7</td>\n",
       "<td>0.1500170</td>\n",
       "<td>0.8986329</td>\n",
       "<td>1.1987499</td>\n",
       "<td>1.2075045</td>\n",
       "<td>0.986</td>\n",
       "<td>0.9030284</td>\n",
       "<td>0.9932009</td>\n",
       "<td>0.9135075</td>\n",
       "<td>0.0599363</td>\n",
       "<td>0.1811462</td>\n",
       "<td>19.8749872</td>\n",
       "<td>20.7504523</td></tr>\n",
       "<tr><td></td>\n",
       "<td>8</td>\n",
       "<td>0.2000160</td>\n",
       "<td>0.8901473</td>\n",
       "<td>1.1953457</td>\n",
       "<td>1.2044651</td>\n",
       "<td>0.9832</td>\n",
       "<td>0.8944464</td>\n",
       "<td>0.9907009</td>\n",
       "<td>0.9087427</td>\n",
       "<td>0.0597661</td>\n",
       "<td>0.2409123</td>\n",
       "<td>19.5345714</td>\n",
       "<td>20.4465125</td></tr>\n",
       "<tr><td></td>\n",
       "<td>9</td>\n",
       "<td>0.3000140</td>\n",
       "<td>0.8724342</td>\n",
       "<td>1.1797839</td>\n",
       "<td>1.1962386</td>\n",
       "<td>0.9704</td>\n",
       "<td>0.8813685</td>\n",
       "<td>0.9839344</td>\n",
       "<td>0.8996186</td>\n",
       "<td>0.1179760</td>\n",
       "<td>0.3588883</td>\n",
       "<td>17.9783850</td>\n",
       "<td>19.6238582</td></tr>\n",
       "<tr><td></td>\n",
       "<td>10</td>\n",
       "<td>0.4000120</td>\n",
       "<td>0.8529825</td>\n",
       "<td>1.1544958</td>\n",
       "<td>1.1858034</td>\n",
       "<td>0.9496</td>\n",
       "<td>0.8628914</td>\n",
       "<td>0.9753512</td>\n",
       "<td>0.8904372</td>\n",
       "<td>0.1154473</td>\n",
       "<td>0.4743356</td>\n",
       "<td>15.4495820</td>\n",
       "<td>18.5803413</td></tr>\n",
       "<tr><td></td>\n",
       "<td>11</td>\n",
       "<td>0.5000100</td>\n",
       "<td>0.8314846</td>\n",
       "<td>1.1306667</td>\n",
       "<td>1.1747765</td>\n",
       "<td>0.93</td>\n",
       "<td>0.8423912</td>\n",
       "<td>0.9662813</td>\n",
       "<td>0.8808284</td>\n",
       "<td>0.1130644</td>\n",
       "<td>0.5874000</td>\n",
       "<td>13.0666715</td>\n",
       "<td>17.4776515</td></tr>\n",
       "<tr><td></td>\n",
       "<td>12</td>\n",
       "<td>0.6000080</td>\n",
       "<td>0.8064031</td>\n",
       "<td>1.1044061</td>\n",
       "<td>1.1630485</td>\n",
       "<td>0.9084</td>\n",
       "<td>0.8194217</td>\n",
       "<td>0.9566348</td>\n",
       "<td>0.8705943</td>\n",
       "<td>0.1104384</td>\n",
       "<td>0.6978384</td>\n",
       "<td>10.4406069</td>\n",
       "<td>16.3048498</td></tr>\n",
       "<tr><td></td>\n",
       "<td>13</td>\n",
       "<td>0.7000060</td>\n",
       "<td>0.7770549</td>\n",
       "<td>1.0392408</td>\n",
       "<td>1.1453622</td>\n",
       "<td>0.8548</td>\n",
       "<td>0.7923875</td>\n",
       "<td>0.9420874</td>\n",
       "<td>0.8594222</td>\n",
       "<td>0.1039220</td>\n",
       "<td>0.8017604</td>\n",
       "<td>3.9240762</td>\n",
       "<td>14.5362184</td></tr>\n",
       "<tr><td></td>\n",
       "<td>14</td>\n",
       "<td>0.8000040</td>\n",
       "<td>0.7307190</td>\n",
       "<td>0.9128006</td>\n",
       "<td>1.1162927</td>\n",
       "<td>0.7508</td>\n",
       "<td>0.7559076</td>\n",
       "<td>0.9181770</td>\n",
       "<td>0.8464832</td>\n",
       "<td>0.0912782</td>\n",
       "<td>0.8930386</td>\n",
       "<td>-8.7199387</td>\n",
       "<td>11.6292714</td></tr>\n",
       "<tr><td></td>\n",
       "<td>15</td>\n",
       "<td>0.9000020</td>\n",
       "<td>0.6247711</td>\n",
       "<td>0.6628382</td>\n",
       "<td>1.0659100</td>\n",
       "<td>0.5452</td>\n",
       "<td>0.6864269</td>\n",
       "<td>0.8767361</td>\n",
       "<td>0.8286996</td>\n",
       "<td>0.0662825</td>\n",
       "<td>0.9593211</td>\n",
       "<td>-33.7161835</td>\n",
       "<td>6.5909995</td></tr>\n",
       "<tr><td></td>\n",
       "<td>16</td>\n",
       "<td>1.0</td>\n",
       "<td>0.0320613</td>\n",
       "<td>0.4067969</td>\n",
       "<td>1.0</td>\n",
       "<td>0.3346</td>\n",
       "<td>0.4367528</td>\n",
       "<td>0.8225235</td>\n",
       "<td>0.7895057</td>\n",
       "<td>0.0406789</td>\n",
       "<td>1.0</td>\n",
       "<td>-59.3203137</td>\n",
       "<td>0.0</td></tr></table></div>"
      ],
      "text/plain": [
       "    group    cumulative_data_fraction    lower_threshold    lift      cumulative_lift    response_rate    score     cumulative_response_rate    cumulative_score    capture_rate    cumulative_capture_rate    gain      cumulative_gain\n",
       "--  -------  --------------------------  -----------------  --------  -----------------  ---------------  --------  --------------------------  ------------------  --------------  -------------------------  --------  -----------------\n",
       "    1        0.0100198                   0.929659           1.21577   1.21577            1                0.933376  1                           0.933376            0.0121818       0.0121818                  21.5771   21.5771\n",
       "    2        0.0200196                   0.925512           1.21577   1.21577            1                0.927377  1                           0.93038             0.0121575       0.0243392                  21.5771   21.5771\n",
       "    3        0.0300194                   0.922672           1.21577   1.21577            1                0.924029  1                           0.928264            0.0121575       0.0364967                  21.5771   21.5771\n",
       "    4        0.0400192                   0.920254           1.21577   1.21577            1                0.92136   1                           0.926539            0.0121575       0.0486542                  21.5771   21.5771\n",
       "    5        0.050019                    0.91788            1.21334   1.21528            0.998            0.919041  0.9996                      0.92504             0.0121331       0.0607873                  21.3339   21.5285\n",
       "    6        0.100018                    0.907512           1.20848   1.21188            0.994            0.91245   0.996801                    0.918746            0.0604226       0.12121                    20.8476   21.1881\n",
       "    7        0.150017                    0.898633           1.19875   1.2075             0.986            0.903028  0.993201                    0.913507            0.0599363       0.181146                   19.875    20.7505\n",
       "    8        0.200016                    0.890147           1.19535   1.20447            0.9832           0.894446  0.990701                    0.908743            0.0597661       0.240912                   19.5346   20.4465\n",
       "    9        0.300014                    0.872434           1.17978   1.19624            0.9704           0.881369  0.983934                    0.899619            0.117976        0.358888                   17.9784   19.6239\n",
       "    10       0.400012                    0.852983           1.1545    1.1858             0.9496           0.862891  0.975351                    0.890437            0.115447        0.474336                   15.4496   18.5803\n",
       "    11       0.50001                     0.831485           1.13067   1.17478            0.93             0.842391  0.966281                    0.880828            0.113064        0.5874                     13.0667   17.4777\n",
       "    12       0.600008                    0.806403           1.10441   1.16305            0.9084           0.819422  0.956635                    0.870594            0.110438        0.697838                   10.4406   16.3048\n",
       "    13       0.700006                    0.777055           1.03924   1.14536            0.8548           0.792388  0.942087                    0.859422            0.103922        0.80176                    3.92408   14.5362\n",
       "    14       0.800004                    0.730719           0.912801  1.11629            0.7508           0.755908  0.918177                    0.846483            0.0912782       0.893039                   -8.71994  11.6293\n",
       "    15       0.900002                    0.624771           0.662838  1.06591            0.5452           0.686427  0.876736                    0.8287              0.0662825       0.959321                   -33.7162  6.591\n",
       "    16       1                           0.0320613          0.406797  1                  0.3346           0.436753  0.822524                    0.789506            0.0406789       1                          -59.3203  0"
      ]
     },
     "metadata": {},
     "output_type": "display_data"
    },
    {
     "name": "stdout",
     "output_type": "stream",
     "text": [
      "\n",
      "\n",
      "ModelMetricsBinomialGLM: stackedensemble\n",
      "** Reported on cross-validation data. **\n",
      "\n",
      "MSE: 0.13127546111475105\n",
      "RMSE: 0.362319556627504\n",
      "LogLoss: 0.42321474090078165\n",
      "Null degrees of freedom: 50000\n",
      "Residual degrees of freedom: 49994\n",
      "Null deviance: 46759.387902365175\n",
      "Residual deviance: 42322.320519559966\n",
      "AIC: 42336.320519559966\n",
      "AUC: 0.7092192533405994\n",
      "pr_auc: 0.9094856854672794\n",
      "Gini: 0.41843850668119886\n",
      "Confusion Matrix (Act/Pred) for max f1 @ threshold = 0.4103760333347033: \n"
     ]
    },
    {
     "data": {
      "text/html": [
       "<div style=\"overflow:auto\"><table style=\"width:50%\"><tr><td><b></b></td>\n",
       "<td><b>1</b></td>\n",
       "<td><b>0</b></td>\n",
       "<td><b>Error</b></td>\n",
       "<td><b>Rate</b></td></tr>\n",
       "<tr><td>1</td>\n",
       "<td>775.0</td>\n",
       "<td>8099.0</td>\n",
       "<td>0.9127</td>\n",
       "<td> (8099.0/8874.0)</td></tr>\n",
       "<tr><td>0</td>\n",
       "<td>361.0</td>\n",
       "<td>40766.0</td>\n",
       "<td>0.0088</td>\n",
       "<td> (361.0/41127.0)</td></tr>\n",
       "<tr><td>Total</td>\n",
       "<td>1136.0</td>\n",
       "<td>48865.0</td>\n",
       "<td>0.1692</td>\n",
       "<td> (8460.0/50001.0)</td></tr></table></div>"
      ],
      "text/plain": [
       "       1     0      Error    Rate\n",
       "-----  ----  -----  -------  ----------------\n",
       "1      775   8099   0.9127   (8099.0/8874.0)\n",
       "0      361   40766  0.0088   (361.0/41127.0)\n",
       "Total  1136  48865  0.1692   (8460.0/50001.0)"
      ]
     },
     "metadata": {},
     "output_type": "display_data"
    },
    {
     "name": "stdout",
     "output_type": "stream",
     "text": [
      "Maximum Metrics: Maximum metrics at their respective thresholds\n",
      "\n"
     ]
    },
    {
     "data": {
      "text/html": [
       "<div style=\"overflow:auto\"><table style=\"width:50%\"><tr><td><b>metric</b></td>\n",
       "<td><b>threshold</b></td>\n",
       "<td><b>value</b></td>\n",
       "<td><b>idx</b></td></tr>\n",
       "<tr><td>max f1</td>\n",
       "<td>0.4103760</td>\n",
       "<td>0.9059916</td>\n",
       "<td>326.0</td></tr>\n",
       "<tr><td>max f2</td>\n",
       "<td>0.1459498</td>\n",
       "<td>0.9588587</td>\n",
       "<td>385.0</td></tr>\n",
       "<tr><td>max f0point5</td>\n",
       "<td>0.7155690</td>\n",
       "<td>0.8698942</td>\n",
       "<td>212.0</td></tr>\n",
       "<tr><td>max accuracy</td>\n",
       "<td>0.4744618</td>\n",
       "<td>0.8311434</td>\n",
       "<td>308.0</td></tr>\n",
       "<tr><td>max precision</td>\n",
       "<td>0.9454963</td>\n",
       "<td>1.0</td>\n",
       "<td>0.0</td></tr>\n",
       "<tr><td>max recall</td>\n",
       "<td>0.0591257</td>\n",
       "<td>1.0</td>\n",
       "<td>397.0</td></tr>\n",
       "<tr><td>max specificity</td>\n",
       "<td>0.9454963</td>\n",
       "<td>1.0</td>\n",
       "<td>0.0</td></tr>\n",
       "<tr><td>max absolute_mcc</td>\n",
       "<td>0.7155690</td>\n",
       "<td>0.2550669</td>\n",
       "<td>212.0</td></tr>\n",
       "<tr><td>max min_per_class_accuracy</td>\n",
       "<td>0.8432848</td>\n",
       "<td>0.6477010</td>\n",
       "<td>111.0</td></tr>\n",
       "<tr><td>max mean_per_class_accuracy</td>\n",
       "<td>0.8401833</td>\n",
       "<td>0.6494622</td>\n",
       "<td>114.0</td></tr></table></div>"
      ],
      "text/plain": [
       "metric                       threshold    value     idx\n",
       "---------------------------  -----------  --------  -----\n",
       "max f1                       0.410376     0.905992  326\n",
       "max f2                       0.14595      0.958859  385\n",
       "max f0point5                 0.715569     0.869894  212\n",
       "max accuracy                 0.474462     0.831143  308\n",
       "max precision                0.945496     1         0\n",
       "max recall                   0.0591257    1         397\n",
       "max specificity              0.945496     1         0\n",
       "max absolute_mcc             0.715569     0.255067  212\n",
       "max min_per_class_accuracy   0.843285     0.647701  111\n",
       "max mean_per_class_accuracy  0.840183     0.649462  114"
      ]
     },
     "metadata": {},
     "output_type": "display_data"
    },
    {
     "name": "stdout",
     "output_type": "stream",
     "text": [
      "Gains/Lift Table: Avg response rate: 82.25 %, avg score: 82.25 %\n",
      "\n"
     ]
    },
    {
     "data": {
      "text/html": [
       "<div style=\"overflow:auto\"><table style=\"width:50%\"><tr><td><b></b></td>\n",
       "<td><b>group</b></td>\n",
       "<td><b>cumulative_data_fraction</b></td>\n",
       "<td><b>lower_threshold</b></td>\n",
       "<td><b>lift</b></td>\n",
       "<td><b>cumulative_lift</b></td>\n",
       "<td><b>response_rate</b></td>\n",
       "<td><b>score</b></td>\n",
       "<td><b>cumulative_response_rate</b></td>\n",
       "<td><b>cumulative_score</b></td>\n",
       "<td><b>capture_rate</b></td>\n",
       "<td><b>cumulative_capture_rate</b></td>\n",
       "<td><b>gain</b></td>\n",
       "<td><b>cumulative_gain</b></td></tr>\n",
       "<tr><td></td>\n",
       "<td>1</td>\n",
       "<td>0.0100198</td>\n",
       "<td>0.9343887</td>\n",
       "<td>1.1842237</td>\n",
       "<td>1.1842237</td>\n",
       "<td>0.9740519</td>\n",
       "<td>0.9378218</td>\n",
       "<td>0.9740519</td>\n",
       "<td>0.9378218</td>\n",
       "<td>0.0118657</td>\n",
       "<td>0.0118657</td>\n",
       "<td>18.4223718</td>\n",
       "<td>18.4223718</td></tr>\n",
       "<tr><td></td>\n",
       "<td>2</td>\n",
       "<td>0.0200196</td>\n",
       "<td>0.9307854</td>\n",
       "<td>1.1817291</td>\n",
       "<td>1.1829776</td>\n",
       "<td>0.972</td>\n",
       "<td>0.9324226</td>\n",
       "<td>0.9730270</td>\n",
       "<td>0.9351249</td>\n",
       "<td>0.0118171</td>\n",
       "<td>0.0236827</td>\n",
       "<td>18.1729083</td>\n",
       "<td>18.2977647</td></tr>\n",
       "<tr><td></td>\n",
       "<td>3</td>\n",
       "<td>0.0300194</td>\n",
       "<td>0.9282860</td>\n",
       "<td>1.1695714</td>\n",
       "<td>1.1785119</td>\n",
       "<td>0.962</td>\n",
       "<td>0.9294552</td>\n",
       "<td>0.9693538</td>\n",
       "<td>0.9332363</td>\n",
       "<td>0.0116955</td>\n",
       "<td>0.0353782</td>\n",
       "<td>16.9571376</td>\n",
       "<td>17.8511867</td></tr>\n",
       "<tr><td></td>\n",
       "<td>4</td>\n",
       "<td>0.0400192</td>\n",
       "<td>0.9260779</td>\n",
       "<td>1.1622768</td>\n",
       "<td>1.1744551</td>\n",
       "<td>0.956</td>\n",
       "<td>0.9271180</td>\n",
       "<td>0.9660170</td>\n",
       "<td>0.9317074</td>\n",
       "<td>0.0116225</td>\n",
       "<td>0.0470008</td>\n",
       "<td>16.2276752</td>\n",
       "<td>17.4455117</td></tr>\n",
       "<tr><td></td>\n",
       "<td>5</td>\n",
       "<td>0.0500190</td>\n",
       "<td>0.9241634</td>\n",
       "<td>1.1476875</td>\n",
       "<td>1.1691037</td>\n",
       "<td>0.944</td>\n",
       "<td>0.9250839</td>\n",
       "<td>0.9616154</td>\n",
       "<td>0.9303833</td>\n",
       "<td>0.0114766</td>\n",
       "<td>0.0584774</td>\n",
       "<td>14.7687505</td>\n",
       "<td>16.9103735</td></tr>\n",
       "<tr><td></td>\n",
       "<td>6</td>\n",
       "<td>0.1000180</td>\n",
       "<td>0.9166285</td>\n",
       "<td>1.1520643</td>\n",
       "<td>1.1605857</td>\n",
       "<td>0.9476</td>\n",
       "<td>0.9202805</td>\n",
       "<td>0.9546091</td>\n",
       "<td>0.9253329</td>\n",
       "<td>0.0576021</td>\n",
       "<td>0.1160795</td>\n",
       "<td>15.2064279</td>\n",
       "<td>16.0585711</td></tr>\n",
       "<tr><td></td>\n",
       "<td>7</td>\n",
       "<td>0.1500170</td>\n",
       "<td>0.9101498</td>\n",
       "<td>1.1345572</td>\n",
       "<td>1.1519107</td>\n",
       "<td>0.9332</td>\n",
       "<td>0.9133578</td>\n",
       "<td>0.9474737</td>\n",
       "<td>0.9213417</td>\n",
       "<td>0.0567267</td>\n",
       "<td>0.1728062</td>\n",
       "<td>13.4557181</td>\n",
       "<td>15.1910691</td></tr>\n",
       "<tr><td></td>\n",
       "<td>8</td>\n",
       "<td>0.2000160</td>\n",
       "<td>0.9038277</td>\n",
       "<td>1.1185090</td>\n",
       "<td>1.1435611</td>\n",
       "<td>0.92</td>\n",
       "<td>0.9070269</td>\n",
       "<td>0.9406059</td>\n",
       "<td>0.9177634</td>\n",
       "<td>0.0559243</td>\n",
       "<td>0.2287305</td>\n",
       "<td>11.8509009</td>\n",
       "<td>14.3561105</td></tr>\n",
       "<tr><td></td>\n",
       "<td>9</td>\n",
       "<td>0.3000140</td>\n",
       "<td>0.8909168</td>\n",
       "<td>1.0992998</td>\n",
       "<td>1.1288083</td>\n",
       "<td>0.9042</td>\n",
       "<td>0.8974666</td>\n",
       "<td>0.9284714</td>\n",
       "<td>0.9109982</td>\n",
       "<td>0.1099278</td>\n",
       "<td>0.3386583</td>\n",
       "<td>9.9299832</td>\n",
       "<td>12.8808331</td></tr>\n",
       "<tr><td></td>\n",
       "<td>10</td>\n",
       "<td>0.4000120</td>\n",
       "<td>0.8765264</td>\n",
       "<td>1.0720666</td>\n",
       "<td>1.1146236</td>\n",
       "<td>0.8818</td>\n",
       "<td>0.8839023</td>\n",
       "<td>0.9168042</td>\n",
       "<td>0.9042246</td>\n",
       "<td>0.1072045</td>\n",
       "<td>0.4458628</td>\n",
       "<td>7.2066569</td>\n",
       "<td>11.4623600</td></tr>\n",
       "<tr><td></td>\n",
       "<td>11</td>\n",
       "<td>0.5000100</td>\n",
       "<td>0.8605858</td>\n",
       "<td>1.0441038</td>\n",
       "<td>1.1005202</td>\n",
       "<td>0.8588</td>\n",
       "<td>0.8688002</td>\n",
       "<td>0.9052038</td>\n",
       "<td>0.8971400</td>\n",
       "<td>0.1044083</td>\n",
       "<td>0.5502711</td>\n",
       "<td>4.4103844</td>\n",
       "<td>10.0520213</td></tr>\n",
       "<tr><td></td>\n",
       "<td>12</td>\n",
       "<td>0.6000080</td>\n",
       "<td>0.8417656</td>\n",
       "<td>1.0241652</td>\n",
       "<td>1.0877948</td>\n",
       "<td>0.8424</td>\n",
       "<td>0.8514775</td>\n",
       "<td>0.8947368</td>\n",
       "<td>0.8895298</td>\n",
       "<td>0.1024145</td>\n",
       "<td>0.6526856</td>\n",
       "<td>2.4165205</td>\n",
       "<td>8.7794802</td></tr>\n",
       "<tr><td></td>\n",
       "<td>13</td>\n",
       "<td>0.7000060</td>\n",
       "<td>0.8170979</td>\n",
       "<td>0.9835585</td>\n",
       "<td>1.0729043</td>\n",
       "<td>0.809</td>\n",
       "<td>0.8300377</td>\n",
       "<td>0.8824891</td>\n",
       "<td>0.8810312</td>\n",
       "<td>0.0983539</td>\n",
       "<td>0.7510395</td>\n",
       "<td>-1.6441535</td>\n",
       "<td>7.2904323</td></tr>\n",
       "<tr><td></td>\n",
       "<td>14</td>\n",
       "<td>0.8000040</td>\n",
       "<td>0.7788661</td>\n",
       "<td>0.9517053</td>\n",
       "<td>1.0577548</td>\n",
       "<td>0.7828</td>\n",
       "<td>0.7998442</td>\n",
       "<td>0.8700282</td>\n",
       "<td>0.8708831</td>\n",
       "<td>0.0951686</td>\n",
       "<td>0.8462081</td>\n",
       "<td>-4.8294726</td>\n",
       "<td>5.7754820</td></tr>\n",
       "<tr><td></td>\n",
       "<td>15</td>\n",
       "<td>0.9000020</td>\n",
       "<td>0.6887183</td>\n",
       "<td>0.8875126</td>\n",
       "<td>1.0388394</td>\n",
       "<td>0.73</td>\n",
       "<td>0.7421859</td>\n",
       "<td>0.8544699</td>\n",
       "<td>0.8565837</td>\n",
       "<td>0.0887495</td>\n",
       "<td>0.9349576</td>\n",
       "<td>-11.2487417</td>\n",
       "<td>3.8839436</td></tr>\n",
       "<tr><td></td>\n",
       "<td>16</td>\n",
       "<td>1.0</td>\n",
       "<td>0.0376923</td>\n",
       "<td>0.6504373</td>\n",
       "<td>1.0</td>\n",
       "<td>0.535</td>\n",
       "<td>0.5160796</td>\n",
       "<td>0.8225235</td>\n",
       "<td>0.8225340</td>\n",
       "<td>0.0650424</td>\n",
       "<td>1.0</td>\n",
       "<td>-34.9562696</td>\n",
       "<td>0.0</td></tr></table></div>"
      ],
      "text/plain": [
       "    group    cumulative_data_fraction    lower_threshold    lift      cumulative_lift    response_rate    score     cumulative_response_rate    cumulative_score    capture_rate    cumulative_capture_rate    gain      cumulative_gain\n",
       "--  -------  --------------------------  -----------------  --------  -----------------  ---------------  --------  --------------------------  ------------------  --------------  -------------------------  --------  -----------------\n",
       "    1        0.0100198                   0.934389           1.18422   1.18422            0.974052         0.937822  0.974052                    0.937822            0.0118657       0.0118657                  18.4224   18.4224\n",
       "    2        0.0200196                   0.930785           1.18173   1.18298            0.972            0.932423  0.973027                    0.935125            0.0118171       0.0236827                  18.1729   18.2978\n",
       "    3        0.0300194                   0.928286           1.16957   1.17851            0.962            0.929455  0.969354                    0.933236            0.0116955       0.0353782                  16.9571   17.8512\n",
       "    4        0.0400192                   0.926078           1.16228   1.17446            0.956            0.927118  0.966017                    0.931707            0.0116225       0.0470008                  16.2277   17.4455\n",
       "    5        0.050019                    0.924163           1.14769   1.1691             0.944            0.925084  0.961615                    0.930383            0.0114766       0.0584774                  14.7688   16.9104\n",
       "    6        0.100018                    0.916629           1.15206   1.16059            0.9476           0.920281  0.954609                    0.925333            0.0576021       0.116079                   15.2064   16.0586\n",
       "    7        0.150017                    0.91015            1.13456   1.15191            0.9332           0.913358  0.947474                    0.921342            0.0567267       0.172806                   13.4557   15.1911\n",
       "    8        0.200016                    0.903828           1.11851   1.14356            0.92             0.907027  0.940606                    0.917763            0.0559243       0.228731                   11.8509   14.3561\n",
       "    9        0.300014                    0.890917           1.0993    1.12881            0.9042           0.897467  0.928471                    0.910998            0.109928        0.338658                   9.92998   12.8808\n",
       "    10       0.400012                    0.876526           1.07207   1.11462            0.8818           0.883902  0.916804                    0.904225            0.107205        0.445863                   7.20666   11.4624\n",
       "    11       0.50001                     0.860586           1.0441    1.10052            0.8588           0.8688    0.905204                    0.89714             0.104408        0.550271                   4.41038   10.052\n",
       "    12       0.600008                    0.841766           1.02417   1.08779            0.8424           0.851477  0.894737                    0.88953             0.102414        0.652686                   2.41652   8.77948\n",
       "    13       0.700006                    0.817098           0.983558  1.0729             0.809            0.830038  0.882489                    0.881031            0.0983539       0.751039                   -1.64415  7.29043\n",
       "    14       0.800004                    0.778866           0.951705  1.05775            0.7828           0.799844  0.870028                    0.870883            0.0951686       0.846208                   -4.82947  5.77548\n",
       "    15       0.900002                    0.688718           0.887513  1.03884            0.73             0.742186  0.85447                     0.856584            0.0887495       0.934958                   -11.2487  3.88394\n",
       "    16       1                           0.0376923          0.650437  1                  0.535            0.51608   0.822524                    0.822534            0.0650424       1                          -34.9563  0"
      ]
     },
     "metadata": {},
     "output_type": "display_data"
    },
    {
     "name": "stdout",
     "output_type": "stream",
     "text": [
      "\n"
     ]
    },
    {
     "data": {
      "text/plain": []
     },
     "execution_count": 46,
     "metadata": {},
     "output_type": "execute_result"
    }
   ],
   "source": [
    "aml.leader"
   ]
  },
  {
   "cell_type": "code",
   "execution_count": 47,
   "metadata": {},
   "outputs": [],
   "source": [
    "\n",
    "# get leaderboard in data frame\n",
    "aml_leaderboard_df=aml.leaderboard.as_data_frame()"
   ]
  },
  {
   "cell_type": "code",
   "execution_count": 48,
   "metadata": {},
   "outputs": [
    {
     "data": {
      "text/html": [
       "<div>\n",
       "<style scoped>\n",
       "    .dataframe tbody tr th:only-of-type {\n",
       "        vertical-align: middle;\n",
       "    }\n",
       "\n",
       "    .dataframe tbody tr th {\n",
       "        vertical-align: top;\n",
       "    }\n",
       "\n",
       "    .dataframe thead th {\n",
       "        text-align: right;\n",
       "    }\n",
       "</style>\n",
       "<table border=\"1\" class=\"dataframe\">\n",
       "  <thead>\n",
       "    <tr style=\"text-align: right;\">\n",
       "      <th></th>\n",
       "      <th>model_id</th>\n",
       "      <th>auc</th>\n",
       "      <th>logloss</th>\n",
       "      <th>mean_per_class_error</th>\n",
       "      <th>rmse</th>\n",
       "      <th>mse</th>\n",
       "    </tr>\n",
       "  </thead>\n",
       "  <tbody>\n",
       "    <tr>\n",
       "      <th>0</th>\n",
       "      <td>StackedEnsemble_AllModels_AutoML_20190421_230946</td>\n",
       "      <td>0.709219</td>\n",
       "      <td>0.423215</td>\n",
       "      <td>0.460722</td>\n",
       "      <td>0.362320</td>\n",
       "      <td>0.131275</td>\n",
       "    </tr>\n",
       "    <tr>\n",
       "      <th>1</th>\n",
       "      <td>StackedEnsemble_BestOfFamily_AutoML_20190421_2...</td>\n",
       "      <td>0.708877</td>\n",
       "      <td>0.423798</td>\n",
       "      <td>0.465452</td>\n",
       "      <td>0.362477</td>\n",
       "      <td>0.131389</td>\n",
       "    </tr>\n",
       "    <tr>\n",
       "      <th>2</th>\n",
       "      <td>GLM_grid_1_AutoML_20190421_230946_model_1</td>\n",
       "      <td>0.704824</td>\n",
       "      <td>0.425356</td>\n",
       "      <td>0.465952</td>\n",
       "      <td>0.363453</td>\n",
       "      <td>0.132098</td>\n",
       "    </tr>\n",
       "    <tr>\n",
       "      <th>3</th>\n",
       "      <td>GBM_grid_1_AutoML_20190421_230946_model_4</td>\n",
       "      <td>0.700568</td>\n",
       "      <td>0.436165</td>\n",
       "      <td>0.474008</td>\n",
       "      <td>0.368526</td>\n",
       "      <td>0.135812</td>\n",
       "    </tr>\n",
       "    <tr>\n",
       "      <th>4</th>\n",
       "      <td>GBM_grid_1_AutoML_20190421_230946_model_3</td>\n",
       "      <td>0.699463</td>\n",
       "      <td>0.447776</td>\n",
       "      <td>0.476830</td>\n",
       "      <td>0.373958</td>\n",
       "      <td>0.139845</td>\n",
       "    </tr>\n",
       "    <tr>\n",
       "      <th>5</th>\n",
       "      <td>DeepLearning_1_AutoML_20190421_230946</td>\n",
       "      <td>0.699055</td>\n",
       "      <td>0.427244</td>\n",
       "      <td>0.460595</td>\n",
       "      <td>0.363604</td>\n",
       "      <td>0.132208</td>\n",
       "    </tr>\n",
       "    <tr>\n",
       "      <th>6</th>\n",
       "      <td>GBM_grid_1_AutoML_20190421_230946_model_5</td>\n",
       "      <td>0.696071</td>\n",
       "      <td>0.437804</td>\n",
       "      <td>0.473283</td>\n",
       "      <td>0.369191</td>\n",
       "      <td>0.136302</td>\n",
       "    </tr>\n",
       "    <tr>\n",
       "      <th>7</th>\n",
       "      <td>GBM_grid_1_AutoML_20190421_230946_model_2</td>\n",
       "      <td>0.696011</td>\n",
       "      <td>0.437853</td>\n",
       "      <td>0.468350</td>\n",
       "      <td>0.369297</td>\n",
       "      <td>0.136380</td>\n",
       "    </tr>\n",
       "    <tr>\n",
       "      <th>8</th>\n",
       "      <td>DRF_1_AutoML_20190421_230946</td>\n",
       "      <td>0.682035</td>\n",
       "      <td>0.443376</td>\n",
       "      <td>0.477724</td>\n",
       "      <td>0.367459</td>\n",
       "      <td>0.135026</td>\n",
       "    </tr>\n",
       "    <tr>\n",
       "      <th>9</th>\n",
       "      <td>DeepLearning_grid_1_AutoML_20190421_230946_mod...</td>\n",
       "      <td>0.676344</td>\n",
       "      <td>0.440589</td>\n",
       "      <td>0.474237</td>\n",
       "      <td>0.367737</td>\n",
       "      <td>0.135231</td>\n",
       "    </tr>\n",
       "    <tr>\n",
       "      <th>10</th>\n",
       "      <td>GBM_grid_1_AutoML_20190421_230946_model_1</td>\n",
       "      <td>0.675877</td>\n",
       "      <td>0.465844</td>\n",
       "      <td>0.479876</td>\n",
       "      <td>0.381417</td>\n",
       "      <td>0.145479</td>\n",
       "    </tr>\n",
       "    <tr>\n",
       "      <th>11</th>\n",
       "      <td>XRT_1_AutoML_20190421_230946</td>\n",
       "      <td>0.675485</td>\n",
       "      <td>0.437930</td>\n",
       "      <td>0.468503</td>\n",
       "      <td>0.368607</td>\n",
       "      <td>0.135871</td>\n",
       "    </tr>\n",
       "    <tr>\n",
       "      <th>12</th>\n",
       "      <td>GBM_5_AutoML_20190421_230946</td>\n",
       "      <td>0.666732</td>\n",
       "      <td>0.449236</td>\n",
       "      <td>0.488077</td>\n",
       "      <td>0.372224</td>\n",
       "      <td>0.138551</td>\n",
       "    </tr>\n",
       "    <tr>\n",
       "      <th>13</th>\n",
       "      <td>GBM_1_AutoML_20190421_230946</td>\n",
       "      <td>0.665718</td>\n",
       "      <td>0.443761</td>\n",
       "      <td>0.483866</td>\n",
       "      <td>0.370702</td>\n",
       "      <td>0.137420</td>\n",
       "    </tr>\n",
       "    <tr>\n",
       "      <th>14</th>\n",
       "      <td>GBM_2_AutoML_20190421_230946</td>\n",
       "      <td>0.661030</td>\n",
       "      <td>0.448547</td>\n",
       "      <td>0.485538</td>\n",
       "      <td>0.372221</td>\n",
       "      <td>0.138548</td>\n",
       "    </tr>\n",
       "    <tr>\n",
       "      <th>15</th>\n",
       "      <td>GBM_3_AutoML_20190421_230946</td>\n",
       "      <td>0.661025</td>\n",
       "      <td>0.449024</td>\n",
       "      <td>0.478675</td>\n",
       "      <td>0.372170</td>\n",
       "      <td>0.138511</td>\n",
       "    </tr>\n",
       "    <tr>\n",
       "      <th>16</th>\n",
       "      <td>GBM_4_AutoML_20190421_230946</td>\n",
       "      <td>0.659498</td>\n",
       "      <td>0.454088</td>\n",
       "      <td>0.489318</td>\n",
       "      <td>0.373422</td>\n",
       "      <td>0.139444</td>\n",
       "    </tr>\n",
       "  </tbody>\n",
       "</table>\n",
       "</div>"
      ],
      "text/plain": [
       "                                             model_id       auc   logloss  \\\n",
       "0    StackedEnsemble_AllModels_AutoML_20190421_230946  0.709219  0.423215   \n",
       "1   StackedEnsemble_BestOfFamily_AutoML_20190421_2...  0.708877  0.423798   \n",
       "2           GLM_grid_1_AutoML_20190421_230946_model_1  0.704824  0.425356   \n",
       "3           GBM_grid_1_AutoML_20190421_230946_model_4  0.700568  0.436165   \n",
       "4           GBM_grid_1_AutoML_20190421_230946_model_3  0.699463  0.447776   \n",
       "5               DeepLearning_1_AutoML_20190421_230946  0.699055  0.427244   \n",
       "6           GBM_grid_1_AutoML_20190421_230946_model_5  0.696071  0.437804   \n",
       "7           GBM_grid_1_AutoML_20190421_230946_model_2  0.696011  0.437853   \n",
       "8                        DRF_1_AutoML_20190421_230946  0.682035  0.443376   \n",
       "9   DeepLearning_grid_1_AutoML_20190421_230946_mod...  0.676344  0.440589   \n",
       "10          GBM_grid_1_AutoML_20190421_230946_model_1  0.675877  0.465844   \n",
       "11                       XRT_1_AutoML_20190421_230946  0.675485  0.437930   \n",
       "12                       GBM_5_AutoML_20190421_230946  0.666732  0.449236   \n",
       "13                       GBM_1_AutoML_20190421_230946  0.665718  0.443761   \n",
       "14                       GBM_2_AutoML_20190421_230946  0.661030  0.448547   \n",
       "15                       GBM_3_AutoML_20190421_230946  0.661025  0.449024   \n",
       "16                       GBM_4_AutoML_20190421_230946  0.659498  0.454088   \n",
       "\n",
       "    mean_per_class_error      rmse       mse  \n",
       "0               0.460722  0.362320  0.131275  \n",
       "1               0.465452  0.362477  0.131389  \n",
       "2               0.465952  0.363453  0.132098  \n",
       "3               0.474008  0.368526  0.135812  \n",
       "4               0.476830  0.373958  0.139845  \n",
       "5               0.460595  0.363604  0.132208  \n",
       "6               0.473283  0.369191  0.136302  \n",
       "7               0.468350  0.369297  0.136380  \n",
       "8               0.477724  0.367459  0.135026  \n",
       "9               0.474237  0.367737  0.135231  \n",
       "10              0.479876  0.381417  0.145479  \n",
       "11              0.468503  0.368607  0.135871  \n",
       "12              0.488077  0.372224  0.138551  \n",
       "13              0.483866  0.370702  0.137420  \n",
       "14              0.485538  0.372221  0.138548  \n",
       "15              0.478675  0.372170  0.138511  \n",
       "16              0.489318  0.373422  0.139444  "
      ]
     },
     "execution_count": 48,
     "metadata": {},
     "output_type": "execute_result"
    }
   ],
   "source": [
    "aml_leaderboard_df"
   ]
  },
  {
   "cell_type": "code",
   "execution_count": 49,
   "metadata": {},
   "outputs": [],
   "source": [
    "# save all models names of the leaderboard in a csv\n",
    "leaderboard_stats=run_id+'_leaderboard.csv'\n",
    "aml_leaderboard_df.to_csv(leaderboard_stats, index=False)"
   ]
  },
  {
   "cell_type": "code",
   "execution_count": 50,
   "metadata": {},
   "outputs": [],
   "source": [
    "# All models. We are no longer using the best model\n",
    "meta_data['models']=aml_leaderboard_df['model_id']"
   ]
  },
  {
   "cell_type": "code",
   "execution_count": 51,
   "metadata": {},
   "outputs": [],
   "source": [
    "meta_data['end_time'] = time.time()"
   ]
  },
  {
   "cell_type": "code",
   "execution_count": 52,
   "metadata": {},
   "outputs": [],
   "source": [
    "meta_data['execution_time'] = meta_data['end_time'] - meta_data['start_time']"
   ]
  },
  {
   "cell_type": "code",
   "execution_count": null,
   "metadata": {},
   "outputs": [],
   "source": []
  },
  {
   "cell_type": "code",
   "execution_count": 53,
   "metadata": {},
   "outputs": [
    {
     "data": {
      "image/png": "[encoded data removed]",
      "text/plain": [
       "<Figure size 1008x720 with 1 Axes>"
      ]
     },
     "metadata": {
      "needs_background": "light"
     },
     "output_type": "display_data"
    }
   ],
   "source": [
    "### Variable importance based on models\n",
    "\n",
    "import matplotlib.pyplot as plt\n",
    "%matplotlib inline\n",
    "\n",
    "import warnings\n",
    "import matplotlib.cbook\n",
    "warnings.filterwarnings(\"ignore\", category = matplotlib.cbook.mplDeprecation)\n",
    "\n",
    "sample_model1=h2o.get_model(aml_leaderboard_df['model_id'][4]) \n",
    "sample_model1.varimp_plot()"
   ]
  },
  {
   "cell_type": "code",
   "execution_count": null,
   "metadata": {},
   "outputs": [],
   "source": []
  },
  {
   "cell_type": "markdown",
   "metadata": {},
   "source": [
    "### Convert Meta-data into JSON/ Csv Files"
   ]
  },
  {
   "cell_type": "code",
   "execution_count": 54,
   "metadata": {},
   "outputs": [
    {
     "data": {
      "text/plain": [
       "{'start_time': 1555902585.2259562,\n",
       " 'target': 'readmitted',\n",
       " 'server_path': 'C:\\\\Users\\\\joiss\\\\Desktop\\\\NEU-MSIS\\\\2_Sem2\\\\INFO6105_Data_Science_Engineering_Methods\\\\0_HyperParameter\\\\0_DS01_HyperParameter',\n",
       " 'data_path': None,\n",
       " 'test_path': None,\n",
       " 'max_models': 9,\n",
       " 'run_time': 500,\n",
       " 'run_id': 'RZ6eBS7mp',\n",
       " 'scale': False,\n",
       " 'classification': True,\n",
       " 'model_path': None,\n",
       " 'balance': False,\n",
       " 'balance_threshold': 0.2,\n",
       " 'project': None,\n",
       " 'end_time': 1555903100.6097195,\n",
       " 'execution_time': 515.3837633132935,\n",
       " 'run_path': 'C:\\\\Users\\\\joiss\\\\Desktop\\\\NEU-MSIS\\\\2_Sem2\\\\INFO6105_Data_Science_Engineering_Methods\\\\0_HyperParameter\\\\0_DS01_HyperParameter\\\\RZ6eBS7mp',\n",
       " 'nthreads': 1,\n",
       " 'min_mem_size': 6,\n",
       " 'analysis': 0,\n",
       " 'X': ['race',\n",
       "  'gender',\n",
       "  'age',\n",
       "  'weight',\n",
       "  'admission_type_id',\n",
       "  'time_in_hospital',\n",
       "  'medical_specialty',\n",
       "  'num_lab_procedures',\n",
       "  'num_procedures',\n",
       "  'num_medications',\n",
       "  'number_outpatient',\n",
       "  'number_emergency',\n",
       "  'number_inpatient',\n",
       "  'diag_1',\n",
       "  'diag_2',\n",
       "  'diag_3',\n",
       "  'number_diagnoses',\n",
       "  'max_glu_serum',\n",
       "  'A1Cresult',\n",
       "  'metformin',\n",
       "  'repaglinide',\n",
       "  'nateglinide',\n",
       "  'chlorpropamide',\n",
       "  'glimepiride',\n",
       "  'acetohexamide',\n",
       "  'glipizide',\n",
       "  'glyburide',\n",
       "  'tolbutamide',\n",
       "  'pioglitazone',\n",
       "  'rosiglitazone',\n",
       "  'acarbose',\n",
       "  'miglitol',\n",
       "  'troglitazone',\n",
       "  'tolazamide',\n",
       "  'examide',\n",
       "  'citoglipton',\n",
       "  'insulin',\n",
       "  'glyburide-metformin',\n",
       "  'glipizide-metformin',\n",
       "  'glimepiride-pioglitazone',\n",
       "  'metformin-rosiglitazone',\n",
       "  'metformin-pioglitazone',\n",
       "  'change',\n",
       "  'diabetesMed'],\n",
       " 'variables': ['id',\n",
       "  'patient_nbr',\n",
       "  'race',\n",
       "  'gender',\n",
       "  'age',\n",
       "  'weight',\n",
       "  'admission_type_id',\n",
       "  'discharge_disposition_id',\n",
       "  'admission_source_id',\n",
       "  'time_in_hospital',\n",
       "  'payer_code',\n",
       "  'medical_specialty',\n",
       "  'num_lab_procedures',\n",
       "  'num_procedures',\n",
       "  'num_medications',\n",
       "  'number_outpatient',\n",
       "  'number_emergency',\n",
       "  'number_inpatient',\n",
       "  'diag_1',\n",
       "  'diag_2',\n",
       "  'diag_3',\n",
       "  'number_diagnoses',\n",
       "  'max_glu_serum',\n",
       "  'A1Cresult',\n",
       "  'metformin',\n",
       "  'repaglinide',\n",
       "  'nateglinide',\n",
       "  'chlorpropamide',\n",
       "  'glimepiride',\n",
       "  'acetohexamide',\n",
       "  'glipizide',\n",
       "  'glyburide',\n",
       "  'tolbutamide',\n",
       "  'pioglitazone',\n",
       "  'rosiglitazone',\n",
       "  'acarbose',\n",
       "  'miglitol',\n",
       "  'troglitazone',\n",
       "  'tolazamide',\n",
       "  'examide',\n",
       "  'citoglipton',\n",
       "  'insulin',\n",
       "  'glyburide-metformin',\n",
       "  'glipizide-metformin',\n",
       "  'glimepiride-pioglitazone',\n",
       "  'metformin-rosiglitazone',\n",
       "  'metformin-pioglitazone',\n",
       "  'change',\n",
       "  'diabetesMed',\n",
       "  'readmitted'],\n",
       " 'model_execution_time': 513.6117830276489,\n",
       " 'models': 0      StackedEnsemble_AllModels_AutoML_20190421_230946\n",
       " 1     StackedEnsemble_BestOfFamily_AutoML_20190421_2...\n",
       " 2             GLM_grid_1_AutoML_20190421_230946_model_1\n",
       " 3             GBM_grid_1_AutoML_20190421_230946_model_4\n",
       " 4             GBM_grid_1_AutoML_20190421_230946_model_3\n",
       " 5                 DeepLearning_1_AutoML_20190421_230946\n",
       " 6             GBM_grid_1_AutoML_20190421_230946_model_5\n",
       " 7             GBM_grid_1_AutoML_20190421_230946_model_2\n",
       " 8                          DRF_1_AutoML_20190421_230946\n",
       " 9     DeepLearning_grid_1_AutoML_20190421_230946_mod...\n",
       " 10            GBM_grid_1_AutoML_20190421_230946_model_1\n",
       " 11                         XRT_1_AutoML_20190421_230946\n",
       " 12                         GBM_5_AutoML_20190421_230946\n",
       " 13                         GBM_1_AutoML_20190421_230946\n",
       " 14                         GBM_2_AutoML_20190421_230946\n",
       " 15                         GBM_3_AutoML_20190421_230946\n",
       " 16                         GBM_4_AutoML_20190421_230946\n",
       " Name: model_id, dtype: object}"
      ]
     },
     "execution_count": 54,
     "metadata": {},
     "output_type": "execute_result"
    }
   ],
   "source": [
    "meta_data"
   ]
  },
  {
   "cell_type": "code",
   "execution_count": 55,
   "metadata": {
    "scrolled": true
   },
   "outputs": [
    {
     "data": {
      "text/plain": [
       "dict"
      ]
     },
     "execution_count": 55,
     "metadata": {},
     "output_type": "execute_result"
    }
   ],
   "source": [
    "type(meta_data)"
   ]
  },
  {
   "cell_type": "code",
   "execution_count": 56,
   "metadata": {},
   "outputs": [],
   "source": [
    "##converting meta data into csv files\n",
    "\n",
    "## A list of the keys of dictionary. Convert dictionary to list and then into panda Dataframe. Save the dataframe in a csv file.\n",
    "\n",
    "#list_keys = [ k for k in meta_data ]\n",
    " \n",
    "## or a list of the values\n",
    "#list_values = [ v for v in meta_data.values() ]\n",
    " \n",
    "## or just a list of the list of key value pairs\n",
    "#list_key_value = [ [k,v] for k, v in meta_data.items() ]\n",
    "\n",
    "#metaData_stats=run_id+'_metadata.csv'\n",
    "#df1 = pd.DataFrame(list_key_value)\n",
    "#df1.to_csv(metaData_stats)"
   ]
  },
  {
   "cell_type": "markdown",
   "metadata": {},
   "source": [
    "## Find all parameters for all the models in the aml leaderboard"
   ]
  },
  {
   "cell_type": "code",
   "execution_count": 57,
   "metadata": {},
   "outputs": [
    {
     "data": {
      "text/html": [
       "<div>\n",
       "<style scoped>\n",
       "    .dataframe tbody tr th:only-of-type {\n",
       "        vertical-align: middle;\n",
       "    }\n",
       "\n",
       "    .dataframe tbody tr th {\n",
       "        vertical-align: top;\n",
       "    }\n",
       "\n",
       "    .dataframe thead th {\n",
       "        text-align: right;\n",
       "    }\n",
       "</style>\n",
       "<table border=\"1\" class=\"dataframe\">\n",
       "  <thead>\n",
       "    <tr style=\"text-align: right;\">\n",
       "      <th></th>\n",
       "      <th>model_id</th>\n",
       "      <th>auc</th>\n",
       "      <th>logloss</th>\n",
       "      <th>mean_per_class_error</th>\n",
       "      <th>rmse</th>\n",
       "      <th>mse</th>\n",
       "    </tr>\n",
       "  </thead>\n",
       "  <tbody>\n",
       "    <tr>\n",
       "      <th>0</th>\n",
       "      <td>StackedEnsemble_AllModels_AutoML_20190421_230946</td>\n",
       "      <td>0.709219</td>\n",
       "      <td>0.423215</td>\n",
       "      <td>0.460722</td>\n",
       "      <td>0.362320</td>\n",
       "      <td>0.131275</td>\n",
       "    </tr>\n",
       "    <tr>\n",
       "      <th>1</th>\n",
       "      <td>StackedEnsemble_BestOfFamily_AutoML_20190421_2...</td>\n",
       "      <td>0.708877</td>\n",
       "      <td>0.423798</td>\n",
       "      <td>0.465452</td>\n",
       "      <td>0.362477</td>\n",
       "      <td>0.131389</td>\n",
       "    </tr>\n",
       "    <tr>\n",
       "      <th>2</th>\n",
       "      <td>GLM_grid_1_AutoML_20190421_230946_model_1</td>\n",
       "      <td>0.704824</td>\n",
       "      <td>0.425356</td>\n",
       "      <td>0.465952</td>\n",
       "      <td>0.363453</td>\n",
       "      <td>0.132098</td>\n",
       "    </tr>\n",
       "    <tr>\n",
       "      <th>3</th>\n",
       "      <td>GBM_grid_1_AutoML_20190421_230946_model_4</td>\n",
       "      <td>0.700568</td>\n",
       "      <td>0.436165</td>\n",
       "      <td>0.474008</td>\n",
       "      <td>0.368526</td>\n",
       "      <td>0.135812</td>\n",
       "    </tr>\n",
       "    <tr>\n",
       "      <th>4</th>\n",
       "      <td>GBM_grid_1_AutoML_20190421_230946_model_3</td>\n",
       "      <td>0.699463</td>\n",
       "      <td>0.447776</td>\n",
       "      <td>0.476830</td>\n",
       "      <td>0.373958</td>\n",
       "      <td>0.139845</td>\n",
       "    </tr>\n",
       "    <tr>\n",
       "      <th>5</th>\n",
       "      <td>DeepLearning_1_AutoML_20190421_230946</td>\n",
       "      <td>0.699055</td>\n",
       "      <td>0.427244</td>\n",
       "      <td>0.460595</td>\n",
       "      <td>0.363604</td>\n",
       "      <td>0.132208</td>\n",
       "    </tr>\n",
       "    <tr>\n",
       "      <th>6</th>\n",
       "      <td>GBM_grid_1_AutoML_20190421_230946_model_5</td>\n",
       "      <td>0.696071</td>\n",
       "      <td>0.437804</td>\n",
       "      <td>0.473283</td>\n",
       "      <td>0.369191</td>\n",
       "      <td>0.136302</td>\n",
       "    </tr>\n",
       "    <tr>\n",
       "      <th>7</th>\n",
       "      <td>GBM_grid_1_AutoML_20190421_230946_model_2</td>\n",
       "      <td>0.696011</td>\n",
       "      <td>0.437853</td>\n",
       "      <td>0.468350</td>\n",
       "      <td>0.369297</td>\n",
       "      <td>0.136380</td>\n",
       "    </tr>\n",
       "    <tr>\n",
       "      <th>8</th>\n",
       "      <td>DRF_1_AutoML_20190421_230946</td>\n",
       "      <td>0.682035</td>\n",
       "      <td>0.443376</td>\n",
       "      <td>0.477724</td>\n",
       "      <td>0.367459</td>\n",
       "      <td>0.135026</td>\n",
       "    </tr>\n",
       "    <tr>\n",
       "      <th>9</th>\n",
       "      <td>DeepLearning_grid_1_AutoML_20190421_230946_mod...</td>\n",
       "      <td>0.676344</td>\n",
       "      <td>0.440589</td>\n",
       "      <td>0.474237</td>\n",
       "      <td>0.367737</td>\n",
       "      <td>0.135231</td>\n",
       "    </tr>\n",
       "    <tr>\n",
       "      <th>10</th>\n",
       "      <td>GBM_grid_1_AutoML_20190421_230946_model_1</td>\n",
       "      <td>0.675877</td>\n",
       "      <td>0.465844</td>\n",
       "      <td>0.479876</td>\n",
       "      <td>0.381417</td>\n",
       "      <td>0.145479</td>\n",
       "    </tr>\n",
       "    <tr>\n",
       "      <th>11</th>\n",
       "      <td>XRT_1_AutoML_20190421_230946</td>\n",
       "      <td>0.675485</td>\n",
       "      <td>0.437930</td>\n",
       "      <td>0.468503</td>\n",
       "      <td>0.368607</td>\n",
       "      <td>0.135871</td>\n",
       "    </tr>\n",
       "    <tr>\n",
       "      <th>12</th>\n",
       "      <td>GBM_5_AutoML_20190421_230946</td>\n",
       "      <td>0.666732</td>\n",
       "      <td>0.449236</td>\n",
       "      <td>0.488077</td>\n",
       "      <td>0.372224</td>\n",
       "      <td>0.138551</td>\n",
       "    </tr>\n",
       "    <tr>\n",
       "      <th>13</th>\n",
       "      <td>GBM_1_AutoML_20190421_230946</td>\n",
       "      <td>0.665718</td>\n",
       "      <td>0.443761</td>\n",
       "      <td>0.483866</td>\n",
       "      <td>0.370702</td>\n",
       "      <td>0.137420</td>\n",
       "    </tr>\n",
       "    <tr>\n",
       "      <th>14</th>\n",
       "      <td>GBM_2_AutoML_20190421_230946</td>\n",
       "      <td>0.661030</td>\n",
       "      <td>0.448547</td>\n",
       "      <td>0.485538</td>\n",
       "      <td>0.372221</td>\n",
       "      <td>0.138548</td>\n",
       "    </tr>\n",
       "    <tr>\n",
       "      <th>15</th>\n",
       "      <td>GBM_3_AutoML_20190421_230946</td>\n",
       "      <td>0.661025</td>\n",
       "      <td>0.449024</td>\n",
       "      <td>0.478675</td>\n",
       "      <td>0.372170</td>\n",
       "      <td>0.138511</td>\n",
       "    </tr>\n",
       "    <tr>\n",
       "      <th>16</th>\n",
       "      <td>GBM_4_AutoML_20190421_230946</td>\n",
       "      <td>0.659498</td>\n",
       "      <td>0.454088</td>\n",
       "      <td>0.489318</td>\n",
       "      <td>0.373422</td>\n",
       "      <td>0.139444</td>\n",
       "    </tr>\n",
       "  </tbody>\n",
       "</table>\n",
       "</div>"
      ],
      "text/plain": [
       "                                             model_id       auc   logloss  \\\n",
       "0    StackedEnsemble_AllModels_AutoML_20190421_230946  0.709219  0.423215   \n",
       "1   StackedEnsemble_BestOfFamily_AutoML_20190421_2...  0.708877  0.423798   \n",
       "2           GLM_grid_1_AutoML_20190421_230946_model_1  0.704824  0.425356   \n",
       "3           GBM_grid_1_AutoML_20190421_230946_model_4  0.700568  0.436165   \n",
       "4           GBM_grid_1_AutoML_20190421_230946_model_3  0.699463  0.447776   \n",
       "5               DeepLearning_1_AutoML_20190421_230946  0.699055  0.427244   \n",
       "6           GBM_grid_1_AutoML_20190421_230946_model_5  0.696071  0.437804   \n",
       "7           GBM_grid_1_AutoML_20190421_230946_model_2  0.696011  0.437853   \n",
       "8                        DRF_1_AutoML_20190421_230946  0.682035  0.443376   \n",
       "9   DeepLearning_grid_1_AutoML_20190421_230946_mod...  0.676344  0.440589   \n",
       "10          GBM_grid_1_AutoML_20190421_230946_model_1  0.675877  0.465844   \n",
       "11                       XRT_1_AutoML_20190421_230946  0.675485  0.437930   \n",
       "12                       GBM_5_AutoML_20190421_230946  0.666732  0.449236   \n",
       "13                       GBM_1_AutoML_20190421_230946  0.665718  0.443761   \n",
       "14                       GBM_2_AutoML_20190421_230946  0.661030  0.448547   \n",
       "15                       GBM_3_AutoML_20190421_230946  0.661025  0.449024   \n",
       "16                       GBM_4_AutoML_20190421_230946  0.659498  0.454088   \n",
       "\n",
       "    mean_per_class_error      rmse       mse  \n",
       "0               0.460722  0.362320  0.131275  \n",
       "1               0.465452  0.362477  0.131389  \n",
       "2               0.465952  0.363453  0.132098  \n",
       "3               0.474008  0.368526  0.135812  \n",
       "4               0.476830  0.373958  0.139845  \n",
       "5               0.460595  0.363604  0.132208  \n",
       "6               0.473283  0.369191  0.136302  \n",
       "7               0.468350  0.369297  0.136380  \n",
       "8               0.477724  0.367459  0.135026  \n",
       "9               0.474237  0.367737  0.135231  \n",
       "10              0.479876  0.381417  0.145479  \n",
       "11              0.468503  0.368607  0.135871  \n",
       "12              0.488077  0.372224  0.138551  \n",
       "13              0.483866  0.370702  0.137420  \n",
       "14              0.485538  0.372221  0.138548  \n",
       "15              0.478675  0.372170  0.138511  \n",
       "16              0.489318  0.373422  0.139444  "
      ]
     },
     "execution_count": 57,
     "metadata": {},
     "output_type": "execute_result"
    }
   ],
   "source": [
    "aml_leaderboard_df"
   ]
  },
  {
   "cell_type": "code",
   "execution_count": 58,
   "metadata": {},
   "outputs": [
    {
     "name": "stdout",
     "output_type": "stream",
     "text": [
      "First Model:  StackedEnsemble_AllModels_AutoML_20190421_230946\n"
     ]
    }
   ],
   "source": [
    "# How to access the first model name in the data frame w/o index\n",
    "\n",
    "print(\"First Model: \", aml_leaderboard_df['model_id'][0])  "
   ]
  },
  {
   "cell_type": "code",
   "execution_count": 59,
   "metadata": {},
   "outputs": [
    {
     "data": {
      "text/plain": [
       "dict"
      ]
     },
     "execution_count": 59,
     "metadata": {},
     "output_type": "execute_result"
    }
   ],
   "source": [
    "#declaring a dictionary to hold all the parameters for all the models predicted by the aml leaderboard\n",
    "leaderboard_params={}\n",
    "type(leaderboard_params)"
   ]
  },
  {
   "cell_type": "code",
   "execution_count": 61,
   "metadata": {},
   "outputs": [],
   "source": [
    "## for loop is used to store the model_id and it's corresponding parameters in a dictionary.\n",
    "    ## Stores on the parameters. Not the hyper parameters. For all models in the leaderboard. \n",
    "\n",
    "\n",
    "for i in range(0, len(aml_leaderboard_df)):\n",
    "    modelName= aml_leaderboard_df['model_id'][i]\n",
    "    testModel=h2o.get_model(modelName)\n",
    "    v_file=testModel.params\n",
    "    n=run_id+'_'+testModel.model_id+'_nonhy_parameter.json'\n",
    "    dict_to_json(v_file,n)"
   ]
  },
  {
   "cell_type": "code",
   "execution_count": 73,
   "metadata": {},
   "outputs": [],
   "source": [
    "## Plot Learning curve for parameters\n",
    "gbm1= h2o.get_model(aml_leaderboard_df['model_id'][4])"
   ]
  },
  {
   "cell_type": "code",
   "execution_count": 75,
   "metadata": {},
   "outputs": [
    {
     "data": {
      "text/plain": [
       "h2o.estimators.gbm.H2OGradientBoostingEstimator"
      ]
     },
     "execution_count": 75,
     "metadata": {},
     "output_type": "execute_result"
    }
   ],
   "source": [
    "type(gbm1)"
   ]
  },
  {
   "cell_type": "code",
   "execution_count": 81,
   "metadata": {},
   "outputs": [
    {
     "data": {
      "text/plain": [
       "0.4366113576133691"
      ]
     },
     "execution_count": 81,
     "metadata": {},
     "output_type": "execute_result"
    }
   ],
   "source": [
    "gbmLogloss=gbm1.logloss()\n",
    "gbmLogloss"
   ]
  },
  {
   "cell_type": "code",
   "execution_count": 82,
   "metadata": {},
   "outputs": [
    {
     "data": {
      "image/png": "[encoded data removed]",
      "text/plain": [
       "<Figure size 432x288 with 1 Axes>"
      ]
     },
     "metadata": {
      "needs_background": "light"
     },
     "output_type": "display_data"
    }
   ],
   "source": [
    "gbm1.plot()"
   ]
  },
  {
   "cell_type": "code",
   "execution_count": 86,
   "metadata": {},
   "outputs": [
    {
     "data": {
      "image/png": "[encoded data removed]",
      "text/plain": [
       "<Figure size 432x288 with 1 Axes>"
      ]
     },
     "metadata": {
      "needs_background": "light"
     },
     "output_type": "display_data"
    }
   ],
   "source": [
    "gbm1.plot(metric='auc')"
   ]
  },
  {
   "cell_type": "code",
   "execution_count": null,
   "metadata": {},
   "outputs": [],
   "source": []
  },
  {
   "cell_type": "code",
   "execution_count": null,
   "metadata": {},
   "outputs": [],
   "source": []
  },
  {
   "cell_type": "code",
   "execution_count": null,
   "metadata": {},
   "outputs": [],
   "source": []
  },
  {
   "cell_type": "markdown",
   "metadata": {},
   "source": [
    "## Find the best Hyperparameters"
   ]
  },
  {
   "cell_type": "markdown",
   "metadata": {},
   "source": [
    "Hyperparameters for GBM are as follows:\n",
    "\n",
    "* n-trees : Build more trees so as to increase the validation set error\n",
    "* learn_rate: Ideally, should be less. Make learn_rate= 0.02. \n",
    "* learn_rate_annealing: Reduce learning rate with addition of each tree. Make learn_rate_annealing=0.995.\n",
    "    * To make it faster, make learn rate=0.05 and learn_rate_annealing=0.99\n",
    "* max_depth: Deeper  trees takes longer to train. Keep this less than 10.\n",
    "* sample_rate: Row sampling. Ideally, sample (70-80 percent of the data), ie, 0.7-0.8\n",
    "* col_sample_rate: Column sampling."
   ]
  },
  {
   "cell_type": "markdown",
   "metadata": {},
   "source": [
    "Hyperparameters for Random Forest is as follows:\n",
    "* n_estimators = number of trees in the foreset\n",
    "* max_features = max number of features considered for splitting a node\n",
    "* max_depth = max number of levels in each decision tree\n",
    "* min_samples_split = min number of data points placed in a node before the node is split\n",
    "* min_samples_leaf = min number of data points allowed in a leaf node\n",
    "* bootstrap = method for sampling data points (with or without replacement)"
   ]
  },
  {
   "cell_type": "code",
   "execution_count": null,
   "metadata": {},
   "outputs": [],
   "source": []
  },
  {
   "cell_type": "code",
   "execution_count": null,
   "metadata": {},
   "outputs": [],
   "source": []
  },
  {
   "cell_type": "markdown",
   "metadata": {},
   "source": [
    "### Use grid search to find the best hyperparameters"
   ]
  },
  {
   "cell_type": "code",
   "execution_count": null,
   "metadata": {},
   "outputs": [],
   "source": []
  },
  {
   "cell_type": "code",
   "execution_count": null,
   "metadata": {},
   "outputs": [],
   "source": []
  },
  {
   "cell_type": "code",
   "execution_count": null,
   "metadata": {},
   "outputs": [],
   "source": []
  },
  {
   "cell_type": "markdown",
   "metadata": {},
   "source": [
    "## Create JSON files for Hyperparameter"
   ]
  },
  {
   "cell_type": "code",
   "execution_count": null,
   "metadata": {},
   "outputs": [],
   "source": [
    "## for loop is used to store the model_id and it's corresponding parameters in a dictionary\n",
    "\n",
    "### Use this while finding hyperparameter cause \"n\" will have hy_parameter.json extension.\n",
    "\n",
    "#for i in range(0, len(aml_leaderboard_df)):\n",
    "  #  modelName= aml_leaderboard_df['model_id'][i]\n",
    "   # testModel=h2o.get_model(modelName)\n",
    "   # v_file=testModel.params\n",
    "    #n=run_id+'_'+testModel.model_id+'_hy_parameter.json'\n",
    "    #dict_to_json(v_file,n)"
   ]
  },
  {
   "cell_type": "code",
   "execution_count": null,
   "metadata": {},
   "outputs": [],
   "source": []
  },
  {
   "cell_type": "markdown",
   "metadata": {},
   "source": [
    "## We try to check the plot between hyperparameter against its values to know the best value range."
   ]
  },
  {
   "cell_type": "code",
   "execution_count": null,
   "metadata": {},
   "outputs": [],
   "source": []
  },
  {
   "cell_type": "code",
   "execution_count": null,
   "metadata": {},
   "outputs": [],
   "source": []
  },
  {
   "cell_type": "markdown",
   "metadata": {},
   "source": [
    "## Hyperparameters importance plot"
   ]
  },
  {
   "cell_type": "markdown",
   "metadata": {},
   "source": [
    "#### Plot Learning Curve"
   ]
  },
  {
   "cell_type": "code",
   "execution_count": null,
   "metadata": {},
   "outputs": [],
   "source": []
  },
  {
   "cell_type": "code",
   "execution_count": null,
   "metadata": {},
   "outputs": [],
   "source": []
  },
  {
   "cell_type": "code",
   "execution_count": null,
   "metadata": {},
   "outputs": [],
   "source": []
  },
  {
   "cell_type": "code",
   "execution_count": null,
   "metadata": {},
   "outputs": [],
   "source": []
  },
  {
   "cell_type": "code",
   "execution_count": null,
   "metadata": {},
   "outputs": [],
   "source": []
  },
  {
   "cell_type": "markdown",
   "metadata": {},
   "source": [
    "## Last step"
   ]
  },
  {
   "cell_type": "code",
   "execution_count": null,
   "metadata": {},
   "outputs": [],
   "source": [
    "# in case of server error, run this.\n",
    "h2o.cluster().shutdown()"
   ]
  },
  {
   "cell_type": "markdown",
   "metadata": {},
   "source": [
    "# Citations\n",
    "* https://www.hindawi.com/journals/bmri/2014/781670/\n",
    "* https://www.kaggle.com/sudalairajkumar/getting-started-with-h2o\n",
    "* https://www.pythonforbeginners.com/dictionary/how-to-use-dictionaries-in-python/\n",
    "* https://github.com/h2oai/h2o-3/blob/master/h2o-docs/src/product/tutorials/gbm/gbmTuning.ipynb\n",
    "* http://h2o-release.s3.amazonaws.com/h2o/master/3233/docs-website/h2o-py/docs/h2o.model.html"
   ]
  },
  {
   "cell_type": "markdown",
   "metadata": {},
   "source": [
    "# Team Members:\n",
    "Team Name: DS01\n",
    " * Michelle Pradeep\n",
    "     * NUID: 001422140\n",
    "     * E-mail ID: pradeep.m@husky.neu.edu\n",
    " * Seemanthini Jois\n",
    "      * NUID: 001439942\n",
    "      * E-mail ID: jois.s@husky.neu.edu\n",
    " * Suraksha Jadhav\n",
    "      * NUID: 001430368\n",
    "      * E-mail ID: jadhav.su@husky.neu.edu"
   ]
  },
  {
   "cell_type": "markdown",
   "metadata": {},
   "source": [
    "# The MIT License\n",
    "\n",
    "\n",
    "Copyright (c)  2019 DS01\n",
    "\n",
    "Permission is hereby granted, free of charge, to any person obtaining a copy of this software and associated documentation files (the \"Software\"), to deal in the Software without restriction, including without limitation the rights to use, copy, modify, merge, publish, distribute, sublicense, and/or sell copies of the Software, and to permit persons to whom the Software is furnished to do so, subject to the following conditions:\n",
    "\n",
    "The above copyright notice and this permission notice shall be included in all copies or substantial portions of the Software.\n",
    "\n",
    "THE SOFTWARE IS PROVIDED \"AS IS\", WITHOUT WARRANTY OF ANY KIND, EXPRESS OR IMPLIED, INCLUDING BUT NOT LIMITED TO THE WARRANTIES OF MERCHANTABILITY, FITNESS FOR A PARTICULAR PURPOSE AND NONINFRINGEMENT. IN NO EVENT SHALL THE AUTHORS OR COPYRIGHT HOLDERS BE LIABLE FOR ANY CLAIM, DAMAGES OR OTHER LIABILITY, WHETHER IN AN ACTION OF CONTRACT, TORT OR OTHERWISE, ARISING FROM, OUT OF OR IN CONNECTION WITH THE SOFTWARE OR THE USE OR OTHER DEALINGS IN THE SOFTWARE."
   ]
  }
 ],
 "metadata": {
  "kernelspec": {
   "display_name": "Python 3",
   "language": "python",
   "name": "python3"
  },
  "language_info": {
   "codemirror_mode": {
    "name": "ipython",
    "version": 3
   },
   "file_extension": ".py",
   "mimetype": "text/x-python",
   "name": "python",
   "nbconvert_exporter": "python",
   "pygments_lexer": "ipython3",
   "version": "3.7.1"
  }
 },
 "nbformat": 4,
 "nbformat_minor": 2
}
