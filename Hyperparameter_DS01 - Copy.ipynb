{
 "cells": [
  {
   "cell_type": "markdown",
   "metadata": {},
   "source": [
    "# Abstract\n",
    "\n",
    "Kaggle dataset: https://www.kaggle.com/brandao/diabetes\n",
    "\n",
    "\n",
    "We picked a publicly available dataset from UCI repository containing de-identified diabetes patient encounter data for 130 US hospitals (1999–2008) containing 101,766 observations over 10 years. The dataset has over 50 features including patient characteristics, conditions, tests and 23 medications. Only diabetic encounters are included (i.e. at least one of three primary diagnosis was diabetes).\n",
    "\n",
    "Applied methods are:\n",
    "* Cleaning tasks such as dropping bad data, dealing with missing values.\n",
    "* Modification of existing features e.g. standardization, log transforms etc.\n",
    "* Creation or derivation of new features, usually from existing ones.\n",
    "* Graphs such as plots, heatmap have been used.\n",
    "\n"
   ]
  },
  {
   "cell_type": "markdown",
   "metadata": {},
   "source": [
    "## Overview of Dataset"
   ]
  },
  {
   "cell_type": "markdown",
   "metadata": {},
   "source": [
    "### Starting H2O server¶"
   ]
  },
  {
   "cell_type": "code",
   "execution_count": 1,
   "metadata": {},
   "outputs": [],
   "source": [
    "# import h2o package and specific estimator \n",
    "\n",
    "import h2o\n",
    "from h2o.automl import H2OAutoML\n",
    "import random, os, sys\n",
    "from datetime import datetime\n",
    "import pandas as pd\n",
    "import logging\n",
    "import csv\n",
    "import optparse\n",
    "import time\n",
    "import json\n",
    "from distutils.util import strtobool\n",
    "import psutil\n",
    "import numpy as np\n",
    "import seaborn\n",
    "import itertools\n",
    "import seaborn as sns\n",
    "import matplotlib.pyplot as plt\n",
    "from h2o.estimators.glm import H2OGeneralizedLinearEstimator\n",
    "from h2o.estimators.gbm import H2OGradientBoostingEstimator\n",
    "from h2o.estimators.random_forest import H2ORandomForestEstimator\n",
    "from sklearn.model_selection import train_test_split, cross_val_score, cross_val_predict"
   ]
  },
  {
   "cell_type": "markdown",
   "metadata": {},
   "source": [
    "### Required Data Parameters\n",
    "\n",
    "* y: This argument is the name (or index) of the response column.\n",
    "* training_frame: Specifies the training set.\n",
    "\n",
    "### Required Stopping Parameters\n",
    "\n",
    "* max_runtime_secs: This argument controls how long the AutoML run will execute for. This defaults to 3600 seconds (1 hour).\n",
    "* max_models: Specify the maximum number of models to build in an AutoML run, excluding the Stacked Ensemble models. Defaults to NULL/None.\n"
   ]
  },
  {
   "cell_type": "code",
   "execution_count": 2,
   "metadata": {},
   "outputs": [
    {
     "name": "stdout",
     "output_type": "stream",
     "text": [
      "5\n"
     ]
    }
   ],
   "source": [
    "pct_memory=0.5\n",
    "virtual_memory=psutil.virtual_memory()\n",
    "min_mem_size=int(round(int(pct_memory*virtual_memory.available)/1073741824,0))\n",
    "print(min_mem_size)"
   ]
  },
  {
   "cell_type": "code",
   "execution_count": 3,
   "metadata": {},
   "outputs": [
    {
     "name": "stdout",
     "output_type": "stream",
     "text": [
      "Checking whether there is an H2O instance running at http://localhost:24433..... not found.\n",
      "Attempting to start a local H2O server...\n",
      "; OpenJDK 64-Bit Server VM (build 25.152-b12, mixed mode)56-b12)\n",
      "  Starting server from C:\\Anaconda3\\lib\\site-packages\\h2o\\backend\\bin\\h2o.jar\n",
      "  Ice root: C:\\Users\\joiss\\AppData\\Local\\Temp\\tmpjt5umsln\n",
      "  JVM stdout: C:\\Users\\joiss\\AppData\\Local\\Temp\\tmpjt5umsln\\h2o_joiss_started_from_python.out\n",
      "  JVM stderr: C:\\Users\\joiss\\AppData\\Local\\Temp\\tmpjt5umsln\\h2o_joiss_started_from_python.err\n",
      "  Server is running at http://127.0.0.1:24433\n",
      "Connecting to H2O server at http://127.0.0.1:24433... successful.\n"
     ]
    },
    {
     "data": {
      "text/html": [
       "<div style=\"overflow:auto\"><table style=\"width:50%\"><tr><td>H2O cluster uptime:</td>\n",
       "<td>04 secs</td></tr>\n",
       "<tr><td>H2O cluster timezone:</td>\n",
       "<td>America/New_York</td></tr>\n",
       "<tr><td>H2O data parsing timezone:</td>\n",
       "<td>UTC</td></tr>\n",
       "<tr><td>H2O cluster version:</td>\n",
       "<td>3.22.1.3</td></tr>\n",
       "<tr><td>H2O cluster version age:</td>\n",
       "<td>2 months and 21 days </td></tr>\n",
       "<tr><td>H2O cluster name:</td>\n",
       "<td>H2O_from_python_joiss_x0l8rr</td></tr>\n",
       "<tr><td>H2O cluster total nodes:</td>\n",
       "<td>1</td></tr>\n",
       "<tr><td>H2O cluster free memory:</td>\n",
       "<td>4.792 Gb</td></tr>\n",
       "<tr><td>H2O cluster total cores:</td>\n",
       "<td>8</td></tr>\n",
       "<tr><td>H2O cluster allowed cores:</td>\n",
       "<td>8</td></tr>\n",
       "<tr><td>H2O cluster status:</td>\n",
       "<td>accepting new members, healthy</td></tr>\n",
       "<tr><td>H2O connection url:</td>\n",
       "<td>http://127.0.0.1:24433</td></tr>\n",
       "<tr><td>H2O connection proxy:</td>\n",
       "<td>None</td></tr>\n",
       "<tr><td>H2O internal security:</td>\n",
       "<td>False</td></tr>\n",
       "<tr><td>H2O API Extensions:</td>\n",
       "<td>Algos, AutoML, Core V3, Core V4</td></tr>\n",
       "<tr><td>Python version:</td>\n",
       "<td>3.7.1 final</td></tr></table></div>"
      ],
      "text/plain": [
       "--------------------------  -------------------------------\n",
       "H2O cluster uptime:         04 secs\n",
       "H2O cluster timezone:       America/New_York\n",
       "H2O data parsing timezone:  UTC\n",
       "H2O cluster version:        3.22.1.3\n",
       "H2O cluster version age:    2 months and 21 days\n",
       "H2O cluster name:           H2O_from_python_joiss_x0l8rr\n",
       "H2O cluster total nodes:    1\n",
       "H2O cluster free memory:    4.792 Gb\n",
       "H2O cluster total cores:    8\n",
       "H2O cluster allowed cores:  8\n",
       "H2O cluster status:         accepting new members, healthy\n",
       "H2O connection url:         http://127.0.0.1:24433\n",
       "H2O connection proxy:\n",
       "H2O internal security:      False\n",
       "H2O API Extensions:         Algos, AutoML, Core V3, Core V4\n",
       "Python version:             3.7.1 final\n",
       "--------------------------  -------------------------------"
      ]
     },
     "metadata": {},
     "output_type": "display_data"
    }
   ],
   "source": [
    "# 65535 Highest port no\n",
    "port_no=random.randint(5555,55555)\n",
    "\n",
    " # start h2o\n",
    "h2o.init(strict_version_check=False,min_mem_size_GB=min_mem_size,port=port_no) # start h2o\n"
   ]
  },
  {
   "cell_type": "markdown",
   "metadata": {},
   "source": [
    "## Data overview"
   ]
  },
  {
   "cell_type": "code",
   "execution_count": 4,
   "metadata": {},
   "outputs": [
    {
     "name": "stdout",
     "output_type": "stream",
     "text": [
      "Parse progress: |█████████████████████████████████████████████████████████| 100%\n"
     ]
    }
   ],
   "source": [
    "# Import data and manage data types\n",
    "train_path = \"Dataset/diabetes_train.csv\"\n",
    "df = h2o.import_file(train_path)"
   ]
  },
  {
   "cell_type": "code",
   "execution_count": 5,
   "metadata": {},
   "outputs": [
    {
     "data": {
      "text/html": [
       "<table>\n",
       "<thead>\n",
       "<tr><th style=\"text-align: right;\">              id</th><th style=\"text-align: right;\">  patient_nbr</th><th>race           </th><th>gender  </th><th>age    </th><th>weight  </th><th style=\"text-align: right;\">  admission_type_id</th><th style=\"text-align: right;\">  discharge_disposition_id</th><th style=\"text-align: right;\">  admission_source_id</th><th style=\"text-align: right;\">  time_in_hospital</th><th>payer_code  </th><th>medical_specialty       </th><th style=\"text-align: right;\">  num_lab_procedures</th><th style=\"text-align: right;\">  num_procedures</th><th style=\"text-align: right;\">  num_medications</th><th style=\"text-align: right;\">  number_outpatient</th><th style=\"text-align: right;\">  number_emergency</th><th style=\"text-align: right;\">  number_inpatient</th><th style=\"text-align: right;\">  diag_1</th><th style=\"text-align: right;\">  diag_2</th><th style=\"text-align: right;\">  diag_3</th><th style=\"text-align: right;\">  number_diagnoses</th><th>max_glu_serum  </th><th>A1Cresult  </th><th>metformin  </th><th>repaglinide  </th><th>nateglinide  </th><th>chlorpropamide  </th><th>glimepiride  </th><th>acetohexamide  </th><th>glipizide  </th><th>glyburide  </th><th>tolbutamide  </th><th>pioglitazone  </th><th>rosiglitazone  </th><th>acarbose  </th><th>miglitol  </th><th>troglitazone  </th><th>tolazamide  </th><th>examide  </th><th>citoglipton  </th><th>insulin  </th><th>glyburide-metformin  </th><th>glipizide-metformin  </th><th>glimepiride-pioglitazone  </th><th>metformin-rosiglitazone  </th><th>metformin-pioglitazone  </th><th>change  </th><th>diabetesMed  </th><th>readmitted  </th></tr>\n",
       "</thead>\n",
       "<tbody>\n",
       "<tr><td style=\"text-align: right;\">     2.27839e+06</td><td style=\"text-align: right;\">  8.22216e+06</td><td>Caucasian      </td><td>Female  </td><td>[0-10) </td><td>?       </td><td style=\"text-align: right;\">                  6</td><td style=\"text-align: right;\">                        25</td><td style=\"text-align: right;\">                    1</td><td style=\"text-align: right;\">                 1</td><td>?           </td><td>Pediatrics-Endocrinology</td><td style=\"text-align: right;\">                  41</td><td style=\"text-align: right;\">               0</td><td style=\"text-align: right;\">                1</td><td style=\"text-align: right;\">                  0</td><td style=\"text-align: right;\">                 0</td><td style=\"text-align: right;\">                 0</td><td style=\"text-align: right;\">  250.83</td><td style=\"text-align: right;\">  nan   </td><td style=\"text-align: right;\">     nan</td><td style=\"text-align: right;\">                 1</td><td>None           </td><td>None       </td><td>No         </td><td>No           </td><td>No           </td><td>No              </td><td>No           </td><td>No             </td><td>No         </td><td>No         </td><td>No           </td><td>No            </td><td>No             </td><td>No        </td><td>No        </td><td>No            </td><td>No          </td><td>No       </td><td>No           </td><td>No       </td><td>No                   </td><td>No                   </td><td>No                        </td><td>No                       </td><td>No                      </td><td>No      </td><td>No           </td><td>NO          </td></tr>\n",
       "<tr><td style=\"text-align: right;\"> 64410          </td><td style=\"text-align: right;\">  8.60479e+07</td><td>AfricanAmerican</td><td>Female  </td><td>[20-30)</td><td>?       </td><td style=\"text-align: right;\">                  1</td><td style=\"text-align: right;\">                         1</td><td style=\"text-align: right;\">                    7</td><td style=\"text-align: right;\">                 2</td><td>?           </td><td>?                       </td><td style=\"text-align: right;\">                  11</td><td style=\"text-align: right;\">               5</td><td style=\"text-align: right;\">               13</td><td style=\"text-align: right;\">                  2</td><td style=\"text-align: right;\">                 0</td><td style=\"text-align: right;\">                 1</td><td style=\"text-align: right;\">  648   </td><td style=\"text-align: right;\">  250   </td><td style=\"text-align: right;\">     nan</td><td style=\"text-align: right;\">                 6</td><td>None           </td><td>None       </td><td>No         </td><td>No           </td><td>No           </td><td>No              </td><td>No           </td><td>No             </td><td>Steady     </td><td>No         </td><td>No           </td><td>No            </td><td>No             </td><td>No        </td><td>No        </td><td>No            </td><td>No          </td><td>No       </td><td>No           </td><td>No       </td><td>No                   </td><td>No                   </td><td>No                        </td><td>No                       </td><td>No                      </td><td>No      </td><td>Yes          </td><td>NO          </td></tr>\n",
       "<tr><td style=\"text-align: right;\">500364          </td><td style=\"text-align: right;\">  8.24424e+07</td><td>Caucasian      </td><td>Male    </td><td>[30-40)</td><td>?       </td><td style=\"text-align: right;\">                  1</td><td style=\"text-align: right;\">                         1</td><td style=\"text-align: right;\">                    7</td><td style=\"text-align: right;\">                 2</td><td>?           </td><td>?                       </td><td style=\"text-align: right;\">                  44</td><td style=\"text-align: right;\">               1</td><td style=\"text-align: right;\">               16</td><td style=\"text-align: right;\">                  0</td><td style=\"text-align: right;\">                 0</td><td style=\"text-align: right;\">                 0</td><td style=\"text-align: right;\">    8   </td><td style=\"text-align: right;\">  250.43</td><td style=\"text-align: right;\">     403</td><td style=\"text-align: right;\">                 7</td><td>None           </td><td>None       </td><td>No         </td><td>No           </td><td>No           </td><td>No              </td><td>No           </td><td>No             </td><td>No         </td><td>No         </td><td>No           </td><td>No            </td><td>No             </td><td>No        </td><td>No        </td><td>No            </td><td>No          </td><td>No       </td><td>No           </td><td>Up       </td><td>No                   </td><td>No                   </td><td>No                        </td><td>No                       </td><td>No                      </td><td>Ch      </td><td>Yes          </td><td>NO          </td></tr>\n",
       "<tr><td style=\"text-align: right;\"> 16680          </td><td style=\"text-align: right;\">  4.25193e+07</td><td>Caucasian      </td><td>Male    </td><td>[40-50)</td><td>?       </td><td style=\"text-align: right;\">                  1</td><td style=\"text-align: right;\">                         1</td><td style=\"text-align: right;\">                    7</td><td style=\"text-align: right;\">                 1</td><td>?           </td><td>?                       </td><td style=\"text-align: right;\">                  51</td><td style=\"text-align: right;\">               0</td><td style=\"text-align: right;\">                8</td><td style=\"text-align: right;\">                  0</td><td style=\"text-align: right;\">                 0</td><td style=\"text-align: right;\">                 0</td><td style=\"text-align: right;\">  197   </td><td style=\"text-align: right;\">  157   </td><td style=\"text-align: right;\">     250</td><td style=\"text-align: right;\">                 5</td><td>None           </td><td>None       </td><td>No         </td><td>No           </td><td>No           </td><td>No              </td><td>No           </td><td>No             </td><td>Steady     </td><td>No         </td><td>No           </td><td>No            </td><td>No             </td><td>No        </td><td>No        </td><td>No            </td><td>No          </td><td>No       </td><td>No           </td><td>Steady   </td><td>No                   </td><td>No                   </td><td>No                        </td><td>No                       </td><td>No                      </td><td>Ch      </td><td>Yes          </td><td>NO          </td></tr>\n",
       "<tr><td style=\"text-align: right;\"> 55842          </td><td style=\"text-align: right;\">  8.42598e+07</td><td>Caucasian      </td><td>Male    </td><td>[60-70)</td><td>?       </td><td style=\"text-align: right;\">                  3</td><td style=\"text-align: right;\">                         1</td><td style=\"text-align: right;\">                    2</td><td style=\"text-align: right;\">                 4</td><td>?           </td><td>?                       </td><td style=\"text-align: right;\">                  70</td><td style=\"text-align: right;\">               1</td><td style=\"text-align: right;\">               21</td><td style=\"text-align: right;\">                  0</td><td style=\"text-align: right;\">                 0</td><td style=\"text-align: right;\">                 0</td><td style=\"text-align: right;\">  414   </td><td style=\"text-align: right;\">  411   </td><td style=\"text-align: right;\">     nan</td><td style=\"text-align: right;\">                 7</td><td>None           </td><td>None       </td><td>Steady     </td><td>No           </td><td>No           </td><td>No              </td><td>Steady       </td><td>No             </td><td>No         </td><td>No         </td><td>No           </td><td>No            </td><td>No             </td><td>No        </td><td>No        </td><td>No            </td><td>No          </td><td>No       </td><td>No           </td><td>Steady   </td><td>No                   </td><td>No                   </td><td>No                        </td><td>No                       </td><td>No                      </td><td>Ch      </td><td>Yes          </td><td>NO          </td></tr>\n",
       "</tbody>\n",
       "</table>"
      ]
     },
     "metadata": {},
     "output_type": "display_data"
    },
    {
     "data": {
      "text/plain": []
     },
     "execution_count": 5,
     "metadata": {},
     "output_type": "execute_result"
    }
   ],
   "source": [
    "df.head(5)"
   ]
  },
  {
   "cell_type": "code",
   "execution_count": 6,
   "metadata": {},
   "outputs": [
    {
     "data": {
      "text/html": [
       "<table>\n",
       "<thead>\n",
       "<tr><th style=\"text-align: right;\">         id</th><th style=\"text-align: right;\">  patient_nbr</th><th>race           </th><th>gender  </th><th>age    </th><th>weight  </th><th style=\"text-align: right;\">  admission_type_id</th><th style=\"text-align: right;\">  discharge_disposition_id</th><th style=\"text-align: right;\">  admission_source_id</th><th style=\"text-align: right;\">  time_in_hospital</th><th>payer_code  </th><th>medical_specialty  </th><th style=\"text-align: right;\">  num_lab_procedures</th><th style=\"text-align: right;\">  num_procedures</th><th style=\"text-align: right;\">  num_medications</th><th style=\"text-align: right;\">  number_outpatient</th><th style=\"text-align: right;\">  number_emergency</th><th style=\"text-align: right;\">  number_inpatient</th><th style=\"text-align: right;\">  diag_1</th><th style=\"text-align: right;\">  diag_2</th><th style=\"text-align: right;\">  diag_3</th><th style=\"text-align: right;\">  number_diagnoses</th><th>max_glu_serum  </th><th>A1Cresult  </th><th>metformin  </th><th>repaglinide  </th><th>nateglinide  </th><th>chlorpropamide  </th><th>glimepiride  </th><th>acetohexamide  </th><th>glipizide  </th><th>glyburide  </th><th>tolbutamide  </th><th>pioglitazone  </th><th>rosiglitazone  </th><th>acarbose  </th><th>miglitol  </th><th>troglitazone  </th><th>tolazamide  </th><th>examide  </th><th>citoglipton  </th><th>insulin  </th><th>glyburide-metformin  </th><th>glipizide-metformin  </th><th>glimepiride-pioglitazone  </th><th>metformin-rosiglitazone  </th><th>metformin-pioglitazone  </th><th>change  </th><th>diabetesMed  </th><th>readmitted  </th></tr>\n",
       "</thead>\n",
       "<tbody>\n",
       "<tr><td style=\"text-align: right;\">2.40242e+08</td><td style=\"text-align: right;\">  4.57489e+07</td><td>Caucasian      </td><td>Male    </td><td>[60-70)</td><td>?       </td><td style=\"text-align: right;\">                  3</td><td style=\"text-align: right;\">                         1</td><td style=\"text-align: right;\">                    1</td><td style=\"text-align: right;\">                 6</td><td>?           </td><td>?                  </td><td style=\"text-align: right;\">                  62</td><td style=\"text-align: right;\">               6</td><td style=\"text-align: right;\">               50</td><td style=\"text-align: right;\">                  0</td><td style=\"text-align: right;\">                 0</td><td style=\"text-align: right;\">                 0</td><td style=\"text-align: right;\">  414   </td><td style=\"text-align: right;\">     411</td><td style=\"text-align: right;\">     427</td><td style=\"text-align: right;\">                 8</td><td>None           </td><td>None       </td><td>No         </td><td>No           </td><td>No           </td><td>No              </td><td>No           </td><td>No             </td><td>No         </td><td>Steady     </td><td>No           </td><td>Steady        </td><td>No             </td><td>No        </td><td>No        </td><td>No            </td><td>No          </td><td>No       </td><td>No           </td><td>Down     </td><td>No                   </td><td>No                   </td><td>No                        </td><td>No                       </td><td>No                      </td><td>Ch      </td><td>Yes          </td><td>NO          </td></tr>\n",
       "<tr><td style=\"text-align: right;\">2.40251e+08</td><td style=\"text-align: right;\">  6.05036e+07</td><td>AfricanAmerican</td><td>Male    </td><td>[20-30)</td><td>?       </td><td style=\"text-align: right;\">                  1</td><td style=\"text-align: right;\">                         1</td><td style=\"text-align: right;\">                    7</td><td style=\"text-align: right;\">                 3</td><td>OG          </td><td>?                  </td><td style=\"text-align: right;\">                  60</td><td style=\"text-align: right;\">               0</td><td style=\"text-align: right;\">                9</td><td style=\"text-align: right;\">                  0</td><td style=\"text-align: right;\">                 0</td><td style=\"text-align: right;\">                 1</td><td style=\"text-align: right;\">  250.12</td><td style=\"text-align: right;\">     276</td><td style=\"text-align: right;\">     276</td><td style=\"text-align: right;\">                 7</td><td>None           </td><td>Norm       </td><td>No         </td><td>No           </td><td>No           </td><td>No              </td><td>No           </td><td>No             </td><td>No         </td><td>No         </td><td>No           </td><td>No            </td><td>No             </td><td>No        </td><td>No        </td><td>No            </td><td>No          </td><td>No       </td><td>No           </td><td>Up       </td><td>No                   </td><td>No                   </td><td>No                        </td><td>No                       </td><td>No                      </td><td>Ch      </td><td>Yes          </td><td><30         </td></tr>\n",
       "<tr><td style=\"text-align: right;\">2.40257e+08</td><td style=\"text-align: right;\">  2.18105e+06</td><td>Caucasian      </td><td>Female  </td><td>[70-80)</td><td>?       </td><td style=\"text-align: right;\">                  3</td><td style=\"text-align: right;\">                         6</td><td style=\"text-align: right;\">                    1</td><td style=\"text-align: right;\">                 3</td><td>?           </td><td>?                  </td><td style=\"text-align: right;\">                  26</td><td style=\"text-align: right;\">               2</td><td style=\"text-align: right;\">               32</td><td style=\"text-align: right;\">                  0</td><td style=\"text-align: right;\">                 0</td><td style=\"text-align: right;\">                 0</td><td style=\"text-align: right;\">  715   </td><td style=\"text-align: right;\">     285</td><td style=\"text-align: right;\">     278</td><td style=\"text-align: right;\">                 9</td><td>None           </td><td>None       </td><td>No         </td><td>No           </td><td>No           </td><td>No              </td><td>No           </td><td>No             </td><td>No         </td><td>No         </td><td>No           </td><td>Steady        </td><td>No             </td><td>No        </td><td>No        </td><td>No            </td><td>No          </td><td>No       </td><td>No           </td><td>Steady   </td><td>No                   </td><td>No                   </td><td>No                        </td><td>No                       </td><td>No                      </td><td>Ch      </td><td>Yes          </td><td>NO          </td></tr>\n",
       "<tr><td style=\"text-align: right;\">2.40257e+08</td><td style=\"text-align: right;\">  4.61461e+07</td><td>Caucasian      </td><td>Male    </td><td>[60-70)</td><td>?       </td><td style=\"text-align: right;\">                  3</td><td style=\"text-align: right;\">                         1</td><td style=\"text-align: right;\">                    1</td><td style=\"text-align: right;\">                 1</td><td>MC          </td><td>?                  </td><td style=\"text-align: right;\">                  34</td><td style=\"text-align: right;\">               1</td><td style=\"text-align: right;\">               21</td><td style=\"text-align: right;\">                  0</td><td style=\"text-align: right;\">                 0</td><td style=\"text-align: right;\">                 0</td><td style=\"text-align: right;\">  414   </td><td style=\"text-align: right;\">     428</td><td style=\"text-align: right;\">     276</td><td style=\"text-align: right;\">                 9</td><td>None           </td><td>None       </td><td>No         </td><td>No           </td><td>No           </td><td>No              </td><td>No           </td><td>No             </td><td>Steady     </td><td>No         </td><td>No           </td><td>No            </td><td>No             </td><td>No        </td><td>No        </td><td>No            </td><td>No          </td><td>No       </td><td>No           </td><td>Steady   </td><td>No                   </td><td>No                   </td><td>No                        </td><td>No                       </td><td>No                      </td><td>Ch      </td><td>Yes          </td><td>NO          </td></tr>\n",
       "<tr><td style=\"text-align: right;\">2.40277e+08</td><td style=\"text-align: right;\">  3.42898e+07</td><td>Caucasian      </td><td>Female  </td><td>[60-70)</td><td>?       </td><td style=\"text-align: right;\">                  1</td><td style=\"text-align: right;\">                         1</td><td style=\"text-align: right;\">                    7</td><td style=\"text-align: right;\">                 1</td><td>BC          </td><td>?                  </td><td style=\"text-align: right;\">                  50</td><td style=\"text-align: right;\">               6</td><td style=\"text-align: right;\">               25</td><td style=\"text-align: right;\">                  0</td><td style=\"text-align: right;\">                 0</td><td style=\"text-align: right;\">                 0</td><td style=\"text-align: right;\">  414   </td><td style=\"text-align: right;\">     428</td><td style=\"text-align: right;\">     411</td><td style=\"text-align: right;\">                 9</td><td>None           </td><td>None       </td><td>No         </td><td>No           </td><td>No           </td><td>No              </td><td>No           </td><td>No             </td><td>No         </td><td>No         </td><td>No           </td><td>No            </td><td>Steady         </td><td>No        </td><td>No        </td><td>No            </td><td>No          </td><td>No       </td><td>No           </td><td>Steady   </td><td>No                   </td><td>No                   </td><td>No                        </td><td>No                       </td><td>No                      </td><td>Ch      </td><td>Yes          </td><td>NO          </td></tr>\n",
       "</tbody>\n",
       "</table>"
      ]
     },
     "metadata": {},
     "output_type": "display_data"
    },
    {
     "data": {
      "text/plain": []
     },
     "execution_count": 6,
     "metadata": {},
     "output_type": "execute_result"
    }
   ],
   "source": [
    "df.tail(5)"
   ]
  },
  {
   "cell_type": "code",
   "execution_count": 7,
   "metadata": {},
   "outputs": [
    {
     "name": "stdout",
     "output_type": "stream",
     "text": [
      "Rows:50001\n",
      "Cols:50\n",
      "\n",
      "\n"
     ]
    },
    {
     "data": {
      "text/html": [
       "<table>\n",
       "<thead>\n",
       "<tr><th>       </th><th>id               </th><th>patient_nbr       </th><th>race           </th><th>gender  </th><th>age     </th><th>weight  </th><th>admission_type_id  </th><th>discharge_disposition_id  </th><th>admission_source_id  </th><th>time_in_hospital  </th><th>payer_code  </th><th>medical_specialty       </th><th>num_lab_procedures  </th><th>num_procedures    </th><th>num_medications   </th><th>number_outpatient  </th><th>number_emergency   </th><th>number_inpatient  </th><th>diag_1            </th><th>diag_2            </th><th>diag_3            </th><th>number_diagnoses  </th><th>max_glu_serum  </th><th>A1Cresult  </th><th>metformin  </th><th>repaglinide  </th><th>nateglinide  </th><th>chlorpropamide  </th><th>glimepiride  </th><th>acetohexamide  </th><th>glipizide  </th><th>glyburide  </th><th>tolbutamide  </th><th>pioglitazone  </th><th>rosiglitazone  </th><th>acarbose  </th><th>miglitol  </th><th>troglitazone  </th><th>tolazamide  </th><th>examide  </th><th>citoglipton  </th><th>insulin  </th><th>glyburide-metformin  </th><th>glipizide-metformin  </th><th>glimepiride-pioglitazone  </th><th>metformin-rosiglitazone  </th><th>metformin-pioglitazone  </th><th>change  </th><th>diabetesMed  </th><th>readmitted  </th></tr>\n",
       "</thead>\n",
       "<tbody>\n",
       "<tr><td>type   </td><td>int              </td><td>int               </td><td>enum           </td><td>enum    </td><td>enum    </td><td>enum    </td><td>int                </td><td>int                       </td><td>int                  </td><td>int               </td><td>enum        </td><td>enum                    </td><td>int                 </td><td>int               </td><td>int               </td><td>int                </td><td>int                </td><td>int               </td><td>real              </td><td>real              </td><td>real              </td><td>int               </td><td>enum           </td><td>enum       </td><td>enum       </td><td>enum         </td><td>enum         </td><td>enum            </td><td>enum         </td><td>enum           </td><td>enum       </td><td>enum       </td><td>enum         </td><td>enum          </td><td>enum           </td><td>enum      </td><td>enum      </td><td>enum          </td><td>enum        </td><td>enum     </td><td>enum         </td><td>enum     </td><td>enum                 </td><td>enum                 </td><td>enum                      </td><td>enum                     </td><td>enum                    </td><td>enum    </td><td>enum         </td><td>enum        </td></tr>\n",
       "<tr><td>mins   </td><td>12522.0          </td><td>135.0             </td><td>               </td><td>        </td><td>        </td><td>        </td><td>1.0                </td><td>1.0                       </td><td>1.0                  </td><td>1.0               </td><td>            </td><td>                        </td><td>1.0                 </td><td>0.0               </td><td>1.0               </td><td>0.0                </td><td>0.0                </td><td>0.0               </td><td>3.0               </td><td>8.0               </td><td>5.0               </td><td>1.0               </td><td>               </td><td>           </td><td>           </td><td>             </td><td>             </td><td>                </td><td>             </td><td>               </td><td>           </td><td>           </td><td>             </td><td>              </td><td>               </td><td>          </td><td>          </td><td>              </td><td>            </td><td>         </td><td>             </td><td>         </td><td>                     </td><td>                     </td><td>                          </td><td>                         </td><td>                        </td><td>        </td><td>             </td><td>            </td></tr>\n",
       "<tr><td>mean   </td><td>118350344.8944621</td><td>43491484.558948815</td><td>               </td><td>        </td><td>        </td><td>        </td><td>2.102177956440871  </td><td>4.167336653266933         </td><td>5.74982500349993     </td><td>4.4368312633747315</td><td>            </td><td>                        </td><td>42.90460190796182   </td><td>1.385032299354013 </td><td>15.681846363072736</td><td>0.25887482250355004</td><td>0.13165736685266294</td><td>0.523189536209276 </td><td>493.62482470614606</td><td>432.29717529593415</td><td>412.4333165829146 </td><td>7.069218615627688 </td><td>               </td><td>           </td><td>           </td><td>             </td><td>             </td><td>                </td><td>             </td><td>               </td><td>           </td><td>           </td><td>             </td><td>              </td><td>               </td><td>          </td><td>          </td><td>              </td><td>            </td><td>         </td><td>             </td><td>         </td><td>                     </td><td>                     </td><td>                          </td><td>                         </td><td>                        </td><td>        </td><td>             </td><td>            </td></tr>\n",
       "<tr><td>maxs   </td><td>240277404.0      </td><td>115218477.0       </td><td>               </td><td>        </td><td>        </td><td>        </td><td>8.0                </td><td>28.0                      </td><td>22.0                 </td><td>14.0              </td><td>            </td><td>                        </td><td>132.0               </td><td>6.0               </td><td>81.0              </td><td>36.0               </td><td>28.0               </td><td>21.0              </td><td>999.0             </td><td>999.0             </td><td>999.0             </td><td>9.0               </td><td>               </td><td>           </td><td>           </td><td>             </td><td>             </td><td>                </td><td>             </td><td>               </td><td>           </td><td>           </td><td>             </td><td>              </td><td>               </td><td>          </td><td>          </td><td>              </td><td>            </td><td>         </td><td>             </td><td>         </td><td>                     </td><td>                     </td><td>                          </td><td>                         </td><td>                        </td><td>        </td><td>             </td><td>            </td></tr>\n",
       "<tr><td>sigma  </td><td>60444491.42445576</td><td>35065949.89381691 </td><td>               </td><td>        </td><td>        </td><td>        </td><td>1.4867613986147448 </td><td>5.808736341446589         </td><td>4.316877484869778    </td><td>3.0317477848441454</td><td>            </td><td>                        </td><td>19.066150608395485  </td><td>1.6987840249592443</td><td>8.459927673383218 </td><td>0.9949384332461385 </td><td>0.636463660455315  </td><td>1.156783140720553 </td><td>208.26118899894746</td><td>180.2259649013558 </td><td>177.02506045996856</td><td>2.02268848007454  </td><td>               </td><td>           </td><td>           </td><td>             </td><td>             </td><td>                </td><td>             </td><td>               </td><td>           </td><td>           </td><td>             </td><td>              </td><td>               </td><td>          </td><td>          </td><td>              </td><td>            </td><td>         </td><td>             </td><td>         </td><td>                     </td><td>                     </td><td>                          </td><td>                         </td><td>                        </td><td>        </td><td>             </td><td>            </td></tr>\n",
       "<tr><td>zeros  </td><td>0                </td><td>0                 </td><td>               </td><td>        </td><td>        </td><td>        </td><td>0                  </td><td>0                         </td><td>0                    </td><td>0                 </td><td>            </td><td>                        </td><td>0                   </td><td>21844             </td><td>0                 </td><td>43811              </td><td>45948              </td><td>35748             </td><td>0                 </td><td>0                 </td><td>0                 </td><td>0                 </td><td>               </td><td>           </td><td>           </td><td>             </td><td>             </td><td>                </td><td>             </td><td>               </td><td>           </td><td>           </td><td>             </td><td>              </td><td>               </td><td>          </td><td>          </td><td>              </td><td>            </td><td>         </td><td>             </td><td>         </td><td>                     </td><td>                     </td><td>                          </td><td>                         </td><td>                        </td><td>        </td><td>             </td><td>            </td></tr>\n",
       "<tr><td>missing</td><td>0                </td><td>0                 </td><td>0              </td><td>0       </td><td>0       </td><td>0       </td><td>0                  </td><td>0                         </td><td>0                    </td><td>0                 </td><td>0           </td><td>0                       </td><td>0                   </td><td>0                 </td><td>0                 </td><td>0                  </td><td>0                  </td><td>0                 </td><td>912               </td><td>1426              </td><td>3435              </td><td>0                 </td><td>0              </td><td>0          </td><td>0          </td><td>0            </td><td>0            </td><td>0               </td><td>0            </td><td>0              </td><td>0          </td><td>0          </td><td>0            </td><td>0             </td><td>0              </td><td>0         </td><td>0         </td><td>0             </td><td>0           </td><td>0        </td><td>0            </td><td>0        </td><td>0                    </td><td>0                    </td><td>0                         </td><td>0                        </td><td>0                       </td><td>0       </td><td>0            </td><td>0           </td></tr>\n",
       "<tr><td>0      </td><td>2278392.0        </td><td>8222157.0         </td><td>Caucasian      </td><td>Female  </td><td>[0-10)  </td><td>?       </td><td>6.0                </td><td>25.0                      </td><td>1.0                  </td><td>1.0               </td><td>?           </td><td>Pediatrics-Endocrinology</td><td>41.0                </td><td>0.0               </td><td>1.0               </td><td>0.0                </td><td>0.0                </td><td>0.0               </td><td>250.83            </td><td>nan               </td><td>nan               </td><td>1.0               </td><td>None           </td><td>None       </td><td>No         </td><td>No           </td><td>No           </td><td>No              </td><td>No           </td><td>No             </td><td>No         </td><td>No         </td><td>No           </td><td>No            </td><td>No             </td><td>No        </td><td>No        </td><td>No            </td><td>No          </td><td>No       </td><td>No           </td><td>No       </td><td>No                   </td><td>No                   </td><td>No                        </td><td>No                       </td><td>No                      </td><td>No      </td><td>No           </td><td>NO          </td></tr>\n",
       "<tr><td>1      </td><td>64410.0          </td><td>86047875.0        </td><td>AfricanAmerican</td><td>Female  </td><td>[20-30) </td><td>?       </td><td>1.0                </td><td>1.0                       </td><td>7.0                  </td><td>2.0               </td><td>?           </td><td>?                       </td><td>11.0                </td><td>5.0               </td><td>13.0              </td><td>2.0                </td><td>0.0                </td><td>1.0               </td><td>648.0             </td><td>250.0             </td><td>nan               </td><td>6.0               </td><td>None           </td><td>None       </td><td>No         </td><td>No           </td><td>No           </td><td>No              </td><td>No           </td><td>No             </td><td>Steady     </td><td>No         </td><td>No           </td><td>No            </td><td>No             </td><td>No        </td><td>No        </td><td>No            </td><td>No          </td><td>No       </td><td>No           </td><td>No       </td><td>No                   </td><td>No                   </td><td>No                        </td><td>No                       </td><td>No                      </td><td>No      </td><td>Yes          </td><td>NO          </td></tr>\n",
       "<tr><td>2      </td><td>500364.0         </td><td>82442376.0        </td><td>Caucasian      </td><td>Male    </td><td>[30-40) </td><td>?       </td><td>1.0                </td><td>1.0                       </td><td>7.0                  </td><td>2.0               </td><td>?           </td><td>?                       </td><td>44.0                </td><td>1.0               </td><td>16.0              </td><td>0.0                </td><td>0.0                </td><td>0.0               </td><td>8.0               </td><td>250.43            </td><td>403.0             </td><td>7.0               </td><td>None           </td><td>None       </td><td>No         </td><td>No           </td><td>No           </td><td>No              </td><td>No           </td><td>No             </td><td>No         </td><td>No         </td><td>No           </td><td>No            </td><td>No             </td><td>No        </td><td>No        </td><td>No            </td><td>No          </td><td>No       </td><td>No           </td><td>Up       </td><td>No                   </td><td>No                   </td><td>No                        </td><td>No                       </td><td>No                      </td><td>Ch      </td><td>Yes          </td><td>NO          </td></tr>\n",
       "<tr><td>3      </td><td>16680.0          </td><td>42519267.0        </td><td>Caucasian      </td><td>Male    </td><td>[40-50) </td><td>?       </td><td>1.0                </td><td>1.0                       </td><td>7.0                  </td><td>1.0               </td><td>?           </td><td>?                       </td><td>51.0                </td><td>0.0               </td><td>8.0               </td><td>0.0                </td><td>0.0                </td><td>0.0               </td><td>197.0             </td><td>157.0             </td><td>250.0             </td><td>5.0               </td><td>None           </td><td>None       </td><td>No         </td><td>No           </td><td>No           </td><td>No              </td><td>No           </td><td>No             </td><td>Steady     </td><td>No         </td><td>No           </td><td>No            </td><td>No             </td><td>No        </td><td>No        </td><td>No            </td><td>No          </td><td>No       </td><td>No           </td><td>Steady   </td><td>No                   </td><td>No                   </td><td>No                        </td><td>No                       </td><td>No                      </td><td>Ch      </td><td>Yes          </td><td>NO          </td></tr>\n",
       "<tr><td>4      </td><td>55842.0          </td><td>84259809.0        </td><td>Caucasian      </td><td>Male    </td><td>[60-70) </td><td>?       </td><td>3.0                </td><td>1.0                       </td><td>2.0                  </td><td>4.0               </td><td>?           </td><td>?                       </td><td>70.0                </td><td>1.0               </td><td>21.0              </td><td>0.0                </td><td>0.0                </td><td>0.0               </td><td>414.0             </td><td>411.0             </td><td>nan               </td><td>7.0               </td><td>None           </td><td>None       </td><td>Steady     </td><td>No           </td><td>No           </td><td>No              </td><td>Steady       </td><td>No             </td><td>No         </td><td>No         </td><td>No           </td><td>No            </td><td>No             </td><td>No        </td><td>No        </td><td>No            </td><td>No          </td><td>No       </td><td>No           </td><td>Steady   </td><td>No                   </td><td>No                   </td><td>No                        </td><td>No                       </td><td>No                      </td><td>Ch      </td><td>Yes          </td><td>NO          </td></tr>\n",
       "<tr><td>5      </td><td>12522.0          </td><td>48330783.0        </td><td>Caucasian      </td><td>Female  </td><td>[80-90) </td><td>?       </td><td>2.0                </td><td>1.0                       </td><td>4.0                  </td><td>13.0              </td><td>?           </td><td>?                       </td><td>68.0                </td><td>2.0               </td><td>28.0              </td><td>0.0                </td><td>0.0                </td><td>0.0               </td><td>398.0             </td><td>427.0             </td><td>38.0              </td><td>8.0               </td><td>None           </td><td>None       </td><td>No         </td><td>No           </td><td>No           </td><td>No              </td><td>No           </td><td>No             </td><td>Steady     </td><td>No         </td><td>No           </td><td>No            </td><td>No             </td><td>No        </td><td>No        </td><td>No            </td><td>No          </td><td>No       </td><td>No           </td><td>Steady   </td><td>No                   </td><td>No                   </td><td>No                        </td><td>No                       </td><td>No                      </td><td>Ch      </td><td>Yes          </td><td>NO          </td></tr>\n",
       "<tr><td>6      </td><td>15738.0          </td><td>63555939.0        </td><td>Caucasian      </td><td>Female  </td><td>[90-100)</td><td>?       </td><td>3.0                </td><td>3.0                       </td><td>4.0                  </td><td>12.0              </td><td>?           </td><td>InternalMedicine        </td><td>33.0                </td><td>3.0               </td><td>18.0              </td><td>0.0                </td><td>0.0                </td><td>0.0               </td><td>434.0             </td><td>198.0             </td><td>486.0             </td><td>8.0               </td><td>None           </td><td>None       </td><td>No         </td><td>No           </td><td>No           </td><td>No              </td><td>No           </td><td>No             </td><td>No         </td><td>No         </td><td>No           </td><td>No            </td><td>Steady         </td><td>No        </td><td>No        </td><td>No            </td><td>No          </td><td>No       </td><td>No           </td><td>Steady   </td><td>No                   </td><td>No                   </td><td>No                        </td><td>No                       </td><td>No                      </td><td>Ch      </td><td>Yes          </td><td>NO          </td></tr>\n",
       "<tr><td>7      </td><td>36900.0          </td><td>77391171.0        </td><td>AfricanAmerican</td><td>Male    </td><td>[60-70) </td><td>?       </td><td>2.0                </td><td>1.0                       </td><td>4.0                  </td><td>7.0               </td><td>?           </td><td>?                       </td><td>62.0                </td><td>0.0               </td><td>11.0              </td><td>0.0                </td><td>0.0                </td><td>0.0               </td><td>157.0             </td><td>288.0             </td><td>197.0             </td><td>7.0               </td><td>None           </td><td>None       </td><td>No         </td><td>No           </td><td>No           </td><td>No              </td><td>No           </td><td>No             </td><td>No         </td><td>Up         </td><td>No           </td><td>No            </td><td>No             </td><td>No        </td><td>No        </td><td>No            </td><td>No          </td><td>No       </td><td>No           </td><td>Steady   </td><td>No                   </td><td>No                   </td><td>No                        </td><td>No                       </td><td>No                      </td><td>Ch      </td><td>Yes          </td><td><30         </td></tr>\n",
       "<tr><td>8      </td><td>40926.0          </td><td>85504905.0        </td><td>Caucasian      </td><td>Female  </td><td>[40-50) </td><td>?       </td><td>1.0                </td><td>3.0                       </td><td>7.0                  </td><td>7.0               </td><td>?           </td><td>Family/GeneralPractice  </td><td>60.0                </td><td>0.0               </td><td>15.0              </td><td>0.0                </td><td>1.0                </td><td>0.0               </td><td>428.0             </td><td>250.43            </td><td>250.6             </td><td>8.0               </td><td>None           </td><td>None       </td><td>Steady     </td><td>Up           </td><td>No           </td><td>No              </td><td>No           </td><td>No             </td><td>No         </td><td>No         </td><td>No           </td><td>No            </td><td>No             </td><td>No        </td><td>No        </td><td>No            </td><td>No          </td><td>No       </td><td>No           </td><td>Down     </td><td>No                   </td><td>No                   </td><td>No                        </td><td>No                       </td><td>No                      </td><td>Ch      </td><td>Yes          </td><td><30         </td></tr>\n",
       "<tr><td>9      </td><td>42570.0          </td><td>77586282.0        </td><td>Caucasian      </td><td>Male    </td><td>[80-90) </td><td>?       </td><td>1.0                </td><td>6.0                       </td><td>7.0                  </td><td>10.0              </td><td>?           </td><td>Family/GeneralPractice  </td><td>55.0                </td><td>1.0               </td><td>31.0              </td><td>0.0                </td><td>0.0                </td><td>0.0               </td><td>428.0             </td><td>411.0             </td><td>427.0             </td><td>8.0               </td><td>None           </td><td>None       </td><td>No         </td><td>No           </td><td>No           </td><td>No              </td><td>No           </td><td>No             </td><td>No         </td><td>No         </td><td>No           </td><td>No            </td><td>No             </td><td>No        </td><td>No        </td><td>No            </td><td>No          </td><td>No       </td><td>No           </td><td>Steady   </td><td>No                   </td><td>No                   </td><td>No                        </td><td>No                       </td><td>No                      </td><td>No      </td><td>Yes          </td><td>NO          </td></tr>\n",
       "</tbody>\n",
       "</table>"
      ]
     },
     "metadata": {},
     "output_type": "display_data"
    }
   ],
   "source": [
    "df.describe()"
   ]
  },
  {
   "cell_type": "code",
   "execution_count": 8,
   "metadata": {},
   "outputs": [
    {
     "name": "stdout",
     "output_type": "stream",
     "text": [
      "y:  readmitted\n",
      "X:  ['id', 'patient_nbr', 'race', 'gender', 'age', 'weight', 'admission_type_id', 'discharge_disposition_id', 'admission_source_id', 'time_in_hospital', 'payer_code', 'medical_specialty', 'num_lab_procedures', 'num_procedures', 'num_medications', 'number_outpatient', 'number_emergency', 'number_inpatient', 'diag_1', 'diag_2', 'diag_3', 'number_diagnoses', 'max_glu_serum', 'A1Cresult', 'metformin', 'repaglinide', 'nateglinide', 'chlorpropamide', 'glimepiride', 'acetohexamide', 'glipizide', 'glyburide', 'tolbutamide', 'pioglitazone', 'rosiglitazone', 'acarbose', 'miglitol', 'troglitazone', 'tolazamide', 'examide', 'citoglipton', 'insulin', 'glyburide-metformin', 'glipizide-metformin', 'glimepiride-pioglitazone', 'metformin-rosiglitazone', 'metformin-pioglitazone', 'change', 'diabetesMed']\n"
     ]
    }
   ],
   "source": [
    "\n",
    "# assign target and inputs\n",
    "y = \"readmitted\"\n",
    "X = [name for name in df.columns if name != y]\n",
    "print(\"y: \",y)\n",
    "print(\"X: \", X)"
   ]
  },
  {
   "cell_type": "code",
   "execution_count": 9,
   "metadata": {},
   "outputs": [
    {
     "name": "stdout",
     "output_type": "stream",
     "text": [
      "Integer columns: ['id', 'patient_nbr', 'admission_type_id', 'discharge_disposition_id', 'admission_source_id', 'time_in_hospital', 'num_lab_procedures', 'num_procedures', 'num_medications', 'number_outpatient', 'number_emergency', 'number_inpatient', 'number_diagnoses'] \n",
      "\n",
      "Enum columns: ['race', 'gender', 'age', 'weight', 'payer_code', 'medical_specialty', 'max_glu_serum', 'A1Cresult', 'metformin', 'repaglinide', 'nateglinide', 'chlorpropamide', 'glimepiride', 'acetohexamide', 'glipizide', 'glyburide', 'tolbutamide', 'pioglitazone', 'rosiglitazone', 'acarbose', 'miglitol', 'troglitazone', 'tolazamide', 'examide', 'citoglipton', 'insulin', 'glyburide-metformin', 'glipizide-metformin', 'glimepiride-pioglitazone', 'metformin-rosiglitazone', 'metformin-pioglitazone', 'change', 'diabetesMed'] \n",
      "\n",
      "Real numbers:  ['diag_1', 'diag_2', 'diag_3'] \n",
      "\n"
     ]
    }
   ],
   "source": [
    "# determine column types\n",
    "ints, reals, enums = [], [], []\n",
    "for key, val in df.types.items():\n",
    "    if key in X:\n",
    "        if val == 'enum':\n",
    "            enums.append(key)\n",
    "        elif val == 'int':\n",
    "            ints.append(key)            \n",
    "        else: \n",
    "            reals.append(key)\n",
    "\n",
    "print(\"Integer columns:\",ints,\"\\n\")\n",
    "print(\"Enum columns:\", enums, \"\\n\")\n",
    "print(\"Real numbers: \",reals, \"\\n\")"
   ]
  },
  {
   "cell_type": "markdown",
   "metadata": {},
   "source": [
    "# Feature Engineering\n"
   ]
  },
  {
   "cell_type": "code",
   "execution_count": 10,
   "metadata": {},
   "outputs": [
    {
     "name": "stdout",
     "output_type": "stream",
     "text": [
      "Number of samples: (50001, 50)\n"
     ]
    }
   ],
   "source": [
    "print('Number of samples:', df.shape)"
   ]
  },
  {
   "cell_type": "markdown",
   "metadata": {},
   "source": [
    "* Since, admission_type_id', 'discharge_disposition_id', 'admission_source_id' are multi-class columns and are more of Ids ie, enum than integres, we are converting them into \"enums\". \n",
    "\n",
    "* Also, diag_1, diag_2, diag_3 are enum and not suited to be real numbers "
   ]
  },
  {
   "cell_type": "code",
   "execution_count": 11,
   "metadata": {},
   "outputs": [],
   "source": [
    "#Convert to enums\n",
    "\n",
    "for j in [\"admission_type_id\", \"discharge_disposition_id\", \"admission_source_id\",\n",
    "          \"diag_1\", \"diag_2\", \"diag_3\"]:\n",
    "    df[j] = (df[j].ascharacter()).asfactor()\n",
    "df = h2o.assign(df, \"diabetes_train\")"
   ]
  },
  {
   "cell_type": "code",
   "execution_count": 12,
   "metadata": {},
   "outputs": [
    {
     "name": "stdout",
     "output_type": "stream",
     "text": [
      "Integer columns: ['id', 'patient_nbr', 'time_in_hospital', 'num_lab_procedures', 'num_procedures', 'num_medications', 'number_outpatient', 'number_emergency', 'number_inpatient', 'number_diagnoses'] \n",
      "\n",
      "Enum columns: ['race', 'gender', 'age', 'weight', 'admission_type_id', 'discharge_disposition_id', 'admission_source_id', 'payer_code', 'medical_specialty', 'diag_1', 'diag_2', 'diag_3', 'max_glu_serum', 'A1Cresult', 'metformin', 'repaglinide', 'nateglinide', 'chlorpropamide', 'glimepiride', 'acetohexamide', 'glipizide', 'glyburide', 'tolbutamide', 'pioglitazone', 'rosiglitazone', 'acarbose', 'miglitol', 'troglitazone', 'tolazamide', 'examide', 'citoglipton', 'insulin', 'glyburide-metformin', 'glipizide-metformin', 'glimepiride-pioglitazone', 'metformin-rosiglitazone', 'metformin-pioglitazone', 'change', 'diabetesMed'] \n",
      "\n",
      "Real numbers:  [] \n",
      "\n"
     ]
    }
   ],
   "source": [
    "# determine column types\n",
    "ints, reals, enums = [], [], []\n",
    "for key, val in df.types.items():\n",
    "    if key in X:\n",
    "        if val == 'enum':\n",
    "            enums.append(key)\n",
    "        elif val == 'int':\n",
    "            ints.append(key)            \n",
    "        else: \n",
    "            reals.append(key)\n",
    "\n",
    "print(\"Integer columns:\",ints,\"\\n\")\n",
    "print(\"Enum columns:\", enums, \"\\n\")\n",
    "print(\"Real numbers: \",reals, \"\\n\")"
   ]
  },
  {
   "cell_type": "code",
   "execution_count": 13,
   "metadata": {},
   "outputs": [
    {
     "data": {
      "text/html": [
       "<table>\n",
       "<thead>\n",
       "<tr><th>readmitted  </th></tr>\n",
       "</thead>\n",
       "<tbody>\n",
       "<tr><td>NO          </td></tr>\n",
       "<tr><td>NO          </td></tr>\n",
       "<tr><td>NO          </td></tr>\n",
       "<tr><td>NO          </td></tr>\n",
       "<tr><td>NO          </td></tr>\n",
       "<tr><td>NO          </td></tr>\n",
       "<tr><td>NO          </td></tr>\n",
       "<tr><td><30         </td></tr>\n",
       "<tr><td><30         </td></tr>\n",
       "<tr><td>NO          </td></tr>\n",
       "</tbody>\n",
       "</table>"
      ]
     },
     "metadata": {},
     "output_type": "display_data"
    },
    {
     "data": {
      "text/plain": []
     },
     "execution_count": 13,
     "metadata": {},
     "output_type": "execute_result"
    }
   ],
   "source": [
    "df[\"readmitted\"].head()"
   ]
  },
  {
   "cell_type": "code",
   "execution_count": 14,
   "metadata": {},
   "outputs": [
    {
     "data": {
      "text/plain": [
       "[2]"
      ]
     },
     "execution_count": 14,
     "metadata": {},
     "output_type": "execute_result"
    }
   ],
   "source": [
    "df[\"readmitted\"].nlevels()"
   ]
  },
  {
   "cell_type": "code",
   "execution_count": 15,
   "metadata": {},
   "outputs": [
    {
     "data": {
      "text/plain": [
       "['<30', 'NO']"
      ]
     },
     "execution_count": 15,
     "metadata": {},
     "output_type": "execute_result"
    }
   ],
   "source": [
    "df[\"readmitted\"].categories()"
   ]
  },
  {
   "cell_type": "code",
   "execution_count": 16,
   "metadata": {},
   "outputs": [],
   "source": [
    "#one-hot encoding: 0 if No, 1 is <30 days \n",
    "df[\"readmitted\"]=df[\"readmitted\"].set_levels([\"1\",\"0\"])"
   ]
  },
  {
   "cell_type": "code",
   "execution_count": 17,
   "metadata": {},
   "outputs": [
    {
     "data": {
      "text/plain": [
       "['1', '0']"
      ]
     },
     "execution_count": 17,
     "metadata": {},
     "output_type": "execute_result"
    }
   ],
   "source": [
    "df[\"readmitted\"].categories()"
   ]
  },
  {
   "cell_type": "code",
   "execution_count": 18,
   "metadata": {},
   "outputs": [],
   "source": [
    "# Set target and predictor variables\n",
    "y = \"readmitted\"\n",
    "x = df.col_names\n",
    "x.remove(y)\n",
    "x.remove(\"id\")\n",
    "x.remove(\"patient_nbr\")"
   ]
  },
  {
   "cell_type": "code",
   "execution_count": 19,
   "metadata": {},
   "outputs": [
    {
     "data": {
      "text/plain": [
       "h2o.frame.H2OFrame"
      ]
     },
     "execution_count": 19,
     "metadata": {},
     "output_type": "execute_result"
    }
   ],
   "source": [
    "predictors=df[x]\n",
    "type(predictors)"
   ]
  },
  {
   "cell_type": "code",
   "execution_count": 20,
   "metadata": {},
   "outputs": [],
   "source": [
    "response=y"
   ]
  },
  {
   "cell_type": "code",
   "execution_count": 21,
   "metadata": {},
   "outputs": [
    {
     "data": {
      "text/plain": [
       "h2o.frame.H2OFrame"
      ]
     },
     "execution_count": 21,
     "metadata": {},
     "output_type": "execute_result"
    }
   ],
   "source": [
    "type(df[\"readmitted\"])"
   ]
  },
  {
   "cell_type": "code",
   "execution_count": 22,
   "metadata": {},
   "outputs": [
    {
     "data": {
      "text/html": [
       "<table>\n",
       "<thead>\n",
       "<tr><th style=\"text-align: right;\">  readmitted</th></tr>\n",
       "</thead>\n",
       "<tbody>\n",
       "<tr><td style=\"text-align: right;\">           0</td></tr>\n",
       "<tr><td style=\"text-align: right;\">           0</td></tr>\n",
       "<tr><td style=\"text-align: right;\">           0</td></tr>\n",
       "</tbody>\n",
       "</table>"
      ]
     },
     "metadata": {},
     "output_type": "display_data"
    },
    {
     "data": {
      "text/plain": []
     },
     "execution_count": 22,
     "metadata": {},
     "output_type": "execute_result"
    }
   ],
   "source": [
    "df[\"readmitted\"].head(3)"
   ]
  },
  {
   "cell_type": "code",
   "execution_count": 23,
   "metadata": {},
   "outputs": [],
   "source": [
    "x1= df[ints]"
   ]
  },
  {
   "cell_type": "code",
   "execution_count": 24,
   "metadata": {},
   "outputs": [
    {
     "data": {
      "text/plain": [
       "['id',\n",
       " 'patient_nbr',\n",
       " 'time_in_hospital',\n",
       " 'num_lab_procedures',\n",
       " 'num_procedures',\n",
       " 'num_medications',\n",
       " 'number_outpatient',\n",
       " 'number_emergency',\n",
       " 'number_inpatient',\n",
       " 'number_diagnoses']"
      ]
     },
     "execution_count": 24,
     "metadata": {},
     "output_type": "execute_result"
    }
   ],
   "source": [
    "x1.columns"
   ]
  },
  {
   "cell_type": "code",
   "execution_count": 25,
   "metadata": {},
   "outputs": [],
   "source": [
    "x1=x1.drop(\"patient_nbr\")"
   ]
  },
  {
   "cell_type": "code",
   "execution_count": 26,
   "metadata": {},
   "outputs": [],
   "source": [
    "x1=x1.drop(\"id\")\n"
   ]
  },
  {
   "cell_type": "code",
   "execution_count": 27,
   "metadata": {},
   "outputs": [
    {
     "data": {
      "image/png": "[encoded data removed]",
      "text/plain": [
       "<Figure size 720x720 with 2 Axes>"
      ]
     },
     "metadata": {
      "needs_background": "light"
     },
     "output_type": "display_data"
    }
   ],
   "source": [
    "plt.figure(figsize=(10,10))\n",
    "corr = x1.cor().as_data_frame()\n",
    "corr.index = x1.columns\n",
    "sns.heatmap(corr, annot = True, cmap='RdYlGn', vmin=-1, vmax=1)\n",
    "plt.title(\"Correlation Heatmap\", fontsize=16)\n",
    "plt.show()"
   ]
  },
  {
   "cell_type": "code",
   "execution_count": 28,
   "metadata": {},
   "outputs": [],
   "source": [
    "## Variable importance using XGB"
   ]
  },
  {
   "cell_type": "code",
   "execution_count": 29,
   "metadata": {},
   "outputs": [],
   "source": [
    "# train['readmitted'].isnull().sum()"
   ]
  },
  {
   "cell_type": "code",
   "execution_count": 30,
   "metadata": {},
   "outputs": [],
   "source": [
    "#from h2o.estimators import H2OXGBoostEstimator\n",
    "\n",
    "#cv_xgb = H2OXGBoostEstimator(\n",
    "  #  ntrees = 3000,\n",
    "   # learn_rate = 0.05,\n",
    "    #stopping_rounds = 20,\n",
    "    #stopping_metric = \"AUC\",\n",
    "    #nfolds=4, \n",
    "    #seed=2018)\n",
    "#cv_xgb.train(x = predictors, y = response, training_frame = train)\n",
    "#cv_xgb.model_performance(valid).auc()"
   ]
  },
  {
   "cell_type": "markdown",
   "metadata": {},
   "source": [
    "## Meta data"
   ]
  },
  {
   "cell_type": "code",
   "execution_count": 31,
   "metadata": {},
   "outputs": [],
   "source": [
    "data_path=None\n",
    "all_variables=None\n",
    "test_path=None\n",
    "# target='search_term'\n",
    "target=y\n",
    "nthreads=1 \n",
    "min_mem_size=6 \n",
    "run_time=500\n",
    "classification=True\n",
    "scale=False\n",
    "max_models=9    \n",
    "model_path=None\n",
    "balance_y=False \n",
    "balance_threshold=0.2\n",
    "name=None \n",
    "server_path=None  \n",
    "analysis=0"
   ]
  },
  {
   "cell_type": "code",
   "execution_count": 32,
   "metadata": {},
   "outputs": [],
   "source": [
    "def set_meta_data(analysis,run_id,server,data,test,model_path,target,run_time,classification,scale,model,balance,balance_threshold,name,path,nthreads,min_mem_size):\n",
    "    m_data={}\n",
    "    m_data['start_time'] = time.time()\n",
    "    m_data['target']=target\n",
    "    m_data['server_path']=server\n",
    "    m_data['data_path']=data \n",
    "    m_data['test_path']=test\n",
    "    m_data['max_models']=model\n",
    "    m_data['run_time']=run_time\n",
    "    m_data['run_id'] =run_id\n",
    "    m_data['scale']=scale\n",
    "    m_data['classification']=classification\n",
    "    m_data['scale']=False\n",
    "    m_data['model_path']=model_path\n",
    "    m_data['balance']=balance\n",
    "    m_data['balance_threshold']=balance_threshold\n",
    "    m_data['project'] =name\n",
    "    m_data['end_time'] = time.time()\n",
    "    m_data['execution_time'] = 0.0\n",
    "    m_data['run_path'] =path\n",
    "    m_data['nthreads'] = nthreads\n",
    "    m_data['min_mem_size'] = min_mem_size\n",
    "    m_data['analysis'] = analysis\n",
    "    return m_data\n"
   ]
  },
  {
   "cell_type": "code",
   "execution_count": 33,
   "metadata": {},
   "outputs": [],
   "source": [
    "def dict_to_json(dct,n):\n",
    "    j = json.dumps(dct, indent=4)\n",
    "    f = open(n, 'w')\n",
    "    print(j, file=f)\n",
    "    f.close()"
   ]
  },
  {
   "cell_type": "code",
   "execution_count": 34,
   "metadata": {},
   "outputs": [
    {
     "name": "stdout",
     "output_type": "stream",
     "text": [
      "Run id: DS01_HyperParameter\n",
      "Run dir: C:\\Users\\joiss\\Desktop\\NEU-MSIS\\2_Sem2\\INFO6105_Data_Science_Engineering_Methods\\DS01_Hyperparameter\\DS01_HyperParameter\n"
     ]
    }
   ],
   "source": [
    "run_id=\"DS01_HyperParameter\"\n",
    "if server_path==None:\n",
    "    server_path=os.path.abspath(os.curdir)\n",
    "os.chdir(server_path) \n",
    "run_dir = os.path.join(server_path,run_id)\n",
    "#os.mkdir(run_dir)\n",
    "os.chdir(run_dir)    \n",
    "\n",
    "# run_id to std out\n",
    "print (\"Run id:\", run_id)\n",
    "print (\"Run dir:\", run_dir)"
   ]
  },
  {
   "cell_type": "code",
   "execution_count": 35,
   "metadata": {},
   "outputs": [
    {
     "name": "stdout",
     "output_type": "stream",
     "text": [
      "{'start_time': 1555443883.7061415, 'target': 'readmitted', 'server_path': 'C:\\\\Users\\\\joiss\\\\Desktop\\\\NEU-MSIS\\\\2_Sem2\\\\INFO6105_Data_Science_Engineering_Methods\\\\DS01_Hyperparameter', 'data_path': None, 'test_path': None, 'max_models': 9, 'run_time': 500, 'run_id': 'DS01_HyperParameter', 'scale': False, 'classification': True, 'model_path': None, 'balance': False, 'balance_threshold': 0.2, 'project': None, 'end_time': 1555443883.7061415, 'execution_time': 0.0, 'run_path': 'C:\\\\Users\\\\joiss\\\\Desktop\\\\NEU-MSIS\\\\2_Sem2\\\\INFO6105_Data_Science_Engineering_Methods\\\\DS01_Hyperparameter\\\\DS01_HyperParameter', 'nthreads': 1, 'min_mem_size': 6, 'analysis': 0}\n"
     ]
    }
   ],
   "source": [
    "# meta data\n",
    "meta_data = set_meta_data(analysis, run_id,server_path,data_path,test_path,model_path,target,run_time,classification,scale,max_models,balance_y,balance_threshold,name,run_dir,nthreads,min_mem_size)\n",
    "print(meta_data)"
   ]
  },
  {
   "cell_type": "code",
   "execution_count": 36,
   "metadata": {},
   "outputs": [
    {
     "name": "stdout",
     "output_type": "stream",
     "text": [
      "meta_data_startTime_beforeModelEval:  Tue Apr 16 15:44:43 2019\n"
     ]
    }
   ],
   "source": [
    "meta_data_startTime_beforeModelEval= time.asctime(time.localtime(meta_data[\"start_time\"])) \n",
    "print(\"meta_data_startTime_beforeModelEval: \",meta_data_startTime_beforeModelEval)"
   ]
  },
  {
   "cell_type": "code",
   "execution_count": 37,
   "metadata": {},
   "outputs": [
    {
     "name": "stdout",
     "output_type": "stream",
     "text": [
      "meta_data_endTime_beforeModelEval=  Tue Apr 16 15:44:43 2019\n"
     ]
    }
   ],
   "source": [
    "meta_data_endTime_beforeModelEval= time.asctime( time.localtime(meta_data[\"end_time\"]) )\n",
    "print( \"meta_data_endTime_beforeModelEval= \", meta_data_endTime_beforeModelEval)"
   ]
  },
  {
   "cell_type": "code",
   "execution_count": 38,
   "metadata": {},
   "outputs": [],
   "source": [
    "# Add independent variables\n",
    "\n",
    "meta_data['X']=x1.columns "
   ]
  },
  {
   "cell_type": "code",
   "execution_count": 39,
   "metadata": {},
   "outputs": [],
   "source": [
    "meta_data['variables']=df.columns"
   ]
  },
  {
   "cell_type": "code",
   "execution_count": 40,
   "metadata": {},
   "outputs": [],
   "source": [
    "type(x1)\n",
    "independentVars_df=x1.as_data_frame()"
   ]
  },
  {
   "cell_type": "code",
   "execution_count": 41,
   "metadata": {},
   "outputs": [],
   "source": [
    "# save the changed dataset\n",
    "dataset_stats=run_id+'_independentVariables.csv'\n",
    "independentVars_df.to_csv(dataset_stats, index=False)"
   ]
  },
  {
   "cell_type": "markdown",
   "metadata": {},
   "source": [
    "## Train model using h2o"
   ]
  },
  {
   "cell_type": "code",
   "execution_count": 42,
   "metadata": {},
   "outputs": [],
   "source": [
    "# Split the data into Train/Test/Validation with Train having 70% and test and validation 15% each\n",
    "#train, valid, test = df.split_frame(ratios=[0.7, 0.15], seed=42)"
   ]
  },
  {
   "cell_type": "code",
   "execution_count": 43,
   "metadata": {},
   "outputs": [],
   "source": [
    "# Use Auto ML to train models\n",
    "from h2o.automl import H2OAutoML\n",
    "aml = H2OAutoML(max_runtime_secs = run_time,project_name = name)\n"
   ]
  },
  {
   "cell_type": "code",
   "execution_count": 44,
   "metadata": {},
   "outputs": [],
   "source": [
    "model_start_time = time.time()"
   ]
  },
  {
   "cell_type": "code",
   "execution_count": 45,
   "metadata": {},
   "outputs": [],
   "source": [
    "########### Uncomment this if we have to split data in to train, test, and valid #########\n",
    "#aml.train(x = x1.columns, y = y, training_frame = train)"
   ]
  },
  {
   "cell_type": "code",
   "execution_count": 46,
   "metadata": {},
   "outputs": [
    {
     "name": "stdout",
     "output_type": "stream",
     "text": [
      "AutoML progress: |████████████████████████████████████████████████████████| 100%\n"
     ]
    }
   ],
   "source": [
    "aml.train(x = x1.columns, y = y, training_frame = df)"
   ]
  },
  {
   "cell_type": "code",
   "execution_count": 47,
   "metadata": {},
   "outputs": [],
   "source": [
    "meta_data['model_execution_time'] = time.time() - model_start_time"
   ]
  },
  {
   "cell_type": "markdown",
   "metadata": {},
   "source": [
    "## Print Leaderboard"
   ]
  },
  {
   "cell_type": "code",
   "execution_count": 48,
   "metadata": {},
   "outputs": [
    {
     "data": {
      "text/html": [
       "<table>\n",
       "<thead>\n",
       "<tr><th>model_id                                           </th><th style=\"text-align: right;\">     auc</th><th style=\"text-align: right;\">  logloss</th><th style=\"text-align: right;\">  mean_per_class_error</th><th style=\"text-align: right;\">    rmse</th><th style=\"text-align: right;\">     mse</th></tr>\n",
       "</thead>\n",
       "<tbody>\n",
       "<tr><td>GBM_grid_1_AutoML_20190416_154445_model_9          </td><td style=\"text-align: right;\">0.689646</td><td style=\"text-align: right;\"> 0.429881</td><td style=\"text-align: right;\">              0.473879</td><td style=\"text-align: right;\">0.365185</td><td style=\"text-align: right;\">0.13336 </td></tr>\n",
       "<tr><td>StackedEnsemble_AllModels_AutoML_20190416_154445   </td><td style=\"text-align: right;\">0.689616</td><td style=\"text-align: right;\"> 0.430082</td><td style=\"text-align: right;\">              0.469896</td><td style=\"text-align: right;\">0.365186</td><td style=\"text-align: right;\">0.133361</td></tr>\n",
       "<tr><td>StackedEnsemble_BestOfFamily_AutoML_20190416_154445</td><td style=\"text-align: right;\">0.688624</td><td style=\"text-align: right;\"> 0.430669</td><td style=\"text-align: right;\">              0.465692</td><td style=\"text-align: right;\">0.365407</td><td style=\"text-align: right;\">0.133522</td></tr>\n",
       "<tr><td>GBM_grid_1_AutoML_20190416_154445_model_5          </td><td style=\"text-align: right;\">0.687819</td><td style=\"text-align: right;\"> 0.430207</td><td style=\"text-align: right;\">              0.471858</td><td style=\"text-align: right;\">0.365249</td><td style=\"text-align: right;\">0.133407</td></tr>\n",
       "<tr><td>GBM_1_AutoML_20190416_154445                       </td><td style=\"text-align: right;\">0.687817</td><td style=\"text-align: right;\"> 0.430465</td><td style=\"text-align: right;\">              0.474701</td><td style=\"text-align: right;\">0.365519</td><td style=\"text-align: right;\">0.133604</td></tr>\n",
       "<tr><td>GBM_grid_1_AutoML_20190416_154445_model_1          </td><td style=\"text-align: right;\">0.68748 </td><td style=\"text-align: right;\"> 0.430199</td><td style=\"text-align: right;\">              0.469463</td><td style=\"text-align: right;\">0.365236</td><td style=\"text-align: right;\">0.133397</td></tr>\n",
       "<tr><td>GBM_grid_1_AutoML_20190416_154445_model_7          </td><td style=\"text-align: right;\">0.687317</td><td style=\"text-align: right;\"> 0.431156</td><td style=\"text-align: right;\">              0.473674</td><td style=\"text-align: right;\">0.365673</td><td style=\"text-align: right;\">0.133717</td></tr>\n",
       "<tr><td>GBM_2_AutoML_20190416_154445                       </td><td style=\"text-align: right;\">0.686721</td><td style=\"text-align: right;\"> 0.430653</td><td style=\"text-align: right;\">              0.47114 </td><td style=\"text-align: right;\">0.365536</td><td style=\"text-align: right;\">0.133617</td></tr>\n",
       "<tr><td>GBM_grid_1_AutoML_20190416_154445_model_2          </td><td style=\"text-align: right;\">0.686113</td><td style=\"text-align: right;\"> 0.430836</td><td style=\"text-align: right;\">              0.471662</td><td style=\"text-align: right;\">0.365589</td><td style=\"text-align: right;\">0.133655</td></tr>\n",
       "<tr><td>GBM_grid_1_AutoML_20190416_154445_model_10         </td><td style=\"text-align: right;\">0.685963</td><td style=\"text-align: right;\"> 0.454797</td><td style=\"text-align: right;\">              0.470467</td><td style=\"text-align: right;\">0.376829</td><td style=\"text-align: right;\">0.142   </td></tr>\n",
       "</tbody>\n",
       "</table>"
      ]
     },
     "metadata": {},
     "output_type": "display_data"
    },
    {
     "data": {
      "text/plain": []
     },
     "execution_count": 48,
     "metadata": {},
     "output_type": "execute_result"
    }
   ],
   "source": [
    "aml.leaderboard"
   ]
  },
  {
   "cell_type": "code",
   "execution_count": 99,
   "metadata": {},
   "outputs": [
    {
     "name": "stdout",
     "output_type": "stream",
     "text": [
      "Model Details\n",
      "=============\n",
      "H2OGradientBoostingEstimator :  Gradient Boosting Machine\n",
      "Model Key:  GBM_grid_1_AutoML_20190416_154445_model_9\n",
      "\n",
      "\n",
      "ModelMetricsBinomial: gbm\n",
      "** Reported on train data. **\n",
      "\n",
      "MSE: 0.13048581283140012\n",
      "RMSE: 0.36122820049298493\n",
      "LogLoss: 0.422135464445845\n",
      "Mean Per-Class Error: 0.3522530508862758\n",
      "AUC: 0.706637380194801\n",
      "pr_auc: 0.9065442267789979\n",
      "Gini: 0.4132747603896021\n",
      "Confusion Matrix (Act/Pred) for max f1 @ threshold = 0.5399938347858725: \n"
     ]
    },
    {
     "data": {
      "text/html": [
       "<div style=\"overflow:auto\"><table style=\"width:50%\"><tr><td><b></b></td>\n",
       "<td><b>1</b></td>\n",
       "<td><b>0</b></td>\n",
       "<td><b>Error</b></td>\n",
       "<td><b>Rate</b></td></tr>\n",
       "<tr><td>1</td>\n",
       "<td>927.0</td>\n",
       "<td>7947.0</td>\n",
       "<td>0.8955</td>\n",
       "<td> (7947.0/8874.0)</td></tr>\n",
       "<tr><td>0</td>\n",
       "<td>407.0</td>\n",
       "<td>40720.0</td>\n",
       "<td>0.0099</td>\n",
       "<td> (407.0/41127.0)</td></tr>\n",
       "<tr><td>Total</td>\n",
       "<td>1334.0</td>\n",
       "<td>48667.0</td>\n",
       "<td>0.1671</td>\n",
       "<td> (8354.0/50001.0)</td></tr></table></div>"
      ],
      "text/plain": [
       "       1     0      Error    Rate\n",
       "-----  ----  -----  -------  ----------------\n",
       "1      927   7947   0.8955   (7947.0/8874.0)\n",
       "0      407   40720  0.0099   (407.0/41127.0)\n",
       "Total  1334  48667  0.1671   (8354.0/50001.0)"
      ]
     },
     "metadata": {},
     "output_type": "display_data"
    },
    {
     "name": "stdout",
     "output_type": "stream",
     "text": [
      "Maximum Metrics: Maximum metrics at their respective thresholds\n",
      "\n"
     ]
    },
    {
     "data": {
      "text/html": [
       "<div style=\"overflow:auto\"><table style=\"width:50%\"><tr><td><b>metric</b></td>\n",
       "<td><b>threshold</b></td>\n",
       "<td><b>value</b></td>\n",
       "<td><b>idx</b></td></tr>\n",
       "<tr><td>max f1</td>\n",
       "<td>0.5399938</td>\n",
       "<td>0.9069648</td>\n",
       "<td>309.0</td></tr>\n",
       "<tr><td>max f2</td>\n",
       "<td>0.3128464</td>\n",
       "<td>0.9593708</td>\n",
       "<td>368.0</td></tr>\n",
       "<tr><td>max f0point5</td>\n",
       "<td>0.6922283</td>\n",
       "<td>0.8707709</td>\n",
       "<td>234.0</td></tr>\n",
       "<tr><td>max accuracy</td>\n",
       "<td>0.5520656</td>\n",
       "<td>0.8329233</td>\n",
       "<td>305.0</td></tr>\n",
       "<tr><td>max precision</td>\n",
       "<td>0.9419345</td>\n",
       "<td>1.0</td>\n",
       "<td>0.0</td></tr>\n",
       "<tr><td>max recall</td>\n",
       "<td>0.2229908</td>\n",
       "<td>1.0</td>\n",
       "<td>385.0</td></tr>\n",
       "<tr><td>max specificity</td>\n",
       "<td>0.9419345</td>\n",
       "<td>1.0</td>\n",
       "<td>0.0</td></tr>\n",
       "<tr><td>max absolute_mcc</td>\n",
       "<td>0.6922283</td>\n",
       "<td>0.2610469</td>\n",
       "<td>234.0</td></tr>\n",
       "<tr><td>max min_per_class_accuracy</td>\n",
       "<td>0.8375744</td>\n",
       "<td>0.6466081</td>\n",
       "<td>116.0</td></tr>\n",
       "<tr><td>max mean_per_class_accuracy</td>\n",
       "<td>0.8383178</td>\n",
       "<td>0.6477469</td>\n",
       "<td>115.0</td></tr></table></div>"
      ],
      "text/plain": [
       "metric                       threshold    value     idx\n",
       "---------------------------  -----------  --------  -----\n",
       "max f1                       0.539994     0.906965  309\n",
       "max f2                       0.312846     0.959371  368\n",
       "max f0point5                 0.692228     0.870771  234\n",
       "max accuracy                 0.552066     0.832923  305\n",
       "max precision                0.941935     1         0\n",
       "max recall                   0.222991     1         385\n",
       "max specificity              0.941935     1         0\n",
       "max absolute_mcc             0.692228     0.261047  234\n",
       "max min_per_class_accuracy   0.837574     0.646608  116\n",
       "max mean_per_class_accuracy  0.838318     0.647747  115"
      ]
     },
     "metadata": {},
     "output_type": "display_data"
    },
    {
     "name": "stdout",
     "output_type": "stream",
     "text": [
      "Gains/Lift Table: Avg response rate: 82.25 %, avg score: 82.26 %\n",
      "\n"
     ]
    },
    {
     "data": {
      "text/html": [
       "<div style=\"overflow:auto\"><table style=\"width:50%\"><tr><td><b></b></td>\n",
       "<td><b>group</b></td>\n",
       "<td><b>cumulative_data_fraction</b></td>\n",
       "<td><b>lower_threshold</b></td>\n",
       "<td><b>lift</b></td>\n",
       "<td><b>cumulative_lift</b></td>\n",
       "<td><b>response_rate</b></td>\n",
       "<td><b>score</b></td>\n",
       "<td><b>cumulative_response_rate</b></td>\n",
       "<td><b>cumulative_score</b></td>\n",
       "<td><b>capture_rate</b></td>\n",
       "<td><b>cumulative_capture_rate</b></td>\n",
       "<td><b>gain</b></td>\n",
       "<td><b>cumulative_gain</b></td></tr>\n",
       "<tr><td></td>\n",
       "<td>1</td>\n",
       "<td>0.0100198</td>\n",
       "<td>0.9301205</td>\n",
       "<td>1.1842237</td>\n",
       "<td>1.1842237</td>\n",
       "<td>0.9740519</td>\n",
       "<td>0.9342672</td>\n",
       "<td>0.9740519</td>\n",
       "<td>0.9342672</td>\n",
       "<td>0.0118657</td>\n",
       "<td>0.0118657</td>\n",
       "<td>18.4223718</td>\n",
       "<td>18.4223718</td></tr>\n",
       "<tr><td></td>\n",
       "<td>2</td>\n",
       "<td>0.0201996</td>\n",
       "<td>0.9261391</td>\n",
       "<td>1.1679997</td>\n",
       "<td>1.1760475</td>\n",
       "<td>0.9607073</td>\n",
       "<td>0.9277921</td>\n",
       "<td>0.9673267</td>\n",
       "<td>0.9310040</td>\n",
       "<td>0.0118900</td>\n",
       "<td>0.0237557</td>\n",
       "<td>16.7999712</td>\n",
       "<td>17.6047462</td></tr>\n",
       "<tr><td></td>\n",
       "<td>3</td>\n",
       "<td>0.0302994</td>\n",
       "<td>0.9240315</td>\n",
       "<td>1.1603989</td>\n",
       "<td>1.1708313</td>\n",
       "<td>0.9544554</td>\n",
       "<td>0.9249597</td>\n",
       "<td>0.9630363</td>\n",
       "<td>0.9289892</td>\n",
       "<td>0.0117198</td>\n",
       "<td>0.0354755</td>\n",
       "<td>16.0398929</td>\n",
       "<td>17.0831284</td></tr>\n",
       "<tr><td></td>\n",
       "<td>4</td>\n",
       "<td>0.0400192</td>\n",
       "<td>0.9221903</td>\n",
       "<td>1.1432247</td>\n",
       "<td>1.1641262</td>\n",
       "<td>0.9403292</td>\n",
       "<td>0.9230614</td>\n",
       "<td>0.9575212</td>\n",
       "<td>0.9275495</td>\n",
       "<td>0.0111119</td>\n",
       "<td>0.0465874</td>\n",
       "<td>14.3224676</td>\n",
       "<td>16.4126231</td></tr>\n",
       "<tr><td></td>\n",
       "<td>5</td>\n",
       "<td>0.0500590</td>\n",
       "<td>0.9202394</td>\n",
       "<td>1.1406932</td>\n",
       "<td>1.1594265</td>\n",
       "<td>0.9382470</td>\n",
       "<td>0.9211547</td>\n",
       "<td>0.9536556</td>\n",
       "<td>0.9262669</td>\n",
       "<td>0.0114523</td>\n",
       "<td>0.0580397</td>\n",
       "<td>14.0693190</td>\n",
       "<td>15.9426516</td></tr>\n",
       "<tr><td></td>\n",
       "<td>6</td>\n",
       "<td>0.1000180</td>\n",
       "<td>0.9119317</td>\n",
       "<td>1.1374123</td>\n",
       "<td>1.1484304</td>\n",
       "<td>0.9355484</td>\n",
       "<td>0.9160936</td>\n",
       "<td>0.9446111</td>\n",
       "<td>0.9211853</td>\n",
       "<td>0.0568240</td>\n",
       "<td>0.1148637</td>\n",
       "<td>13.7412344</td>\n",
       "<td>14.8430435</td></tr>\n",
       "<tr><td></td>\n",
       "<td>7</td>\n",
       "<td>0.1500170</td>\n",
       "<td>0.9040179</td>\n",
       "<td>1.1243447</td>\n",
       "<td>1.1404029</td>\n",
       "<td>0.9248</td>\n",
       "<td>0.9078988</td>\n",
       "<td>0.9380083</td>\n",
       "<td>0.9167571</td>\n",
       "<td>0.0562161</td>\n",
       "<td>0.1710798</td>\n",
       "<td>12.4344708</td>\n",
       "<td>14.0402930</td></tr>\n",
       "<tr><td></td>\n",
       "<td>8</td>\n",
       "<td>0.2000160</td>\n",
       "<td>0.8956203</td>\n",
       "<td>1.1175364</td>\n",
       "<td>1.1346869</td>\n",
       "<td>0.9192</td>\n",
       "<td>0.9000152</td>\n",
       "<td>0.9333067</td>\n",
       "<td>0.9125720</td>\n",
       "<td>0.0558757</td>\n",
       "<td>0.2269555</td>\n",
       "<td>11.7536392</td>\n",
       "<td>13.4686867</td></tr>\n",
       "<tr><td></td>\n",
       "<td>9</td>\n",
       "<td>0.3000140</td>\n",
       "<td>0.8796925</td>\n",
       "<td>1.0997861</td>\n",
       "<td>1.1230541</td>\n",
       "<td>0.9046</td>\n",
       "<td>0.8879192</td>\n",
       "<td>0.9237384</td>\n",
       "<td>0.9043550</td>\n",
       "<td>0.1099764</td>\n",
       "<td>0.3369319</td>\n",
       "<td>9.9786140</td>\n",
       "<td>12.3054067</td></tr>\n",
       "<tr><td></td>\n",
       "<td>10</td>\n",
       "<td>0.4000320</td>\n",
       "<td>0.8662190</td>\n",
       "<td>1.0686918</td>\n",
       "<td>1.1094621</td>\n",
       "<td>0.8790242</td>\n",
       "<td>0.8724027</td>\n",
       "<td>0.9125587</td>\n",
       "<td>0.8963661</td>\n",
       "<td>0.1068884</td>\n",
       "<td>0.4438204</td>\n",
       "<td>6.8691827</td>\n",
       "<td>10.9462148</td></tr>\n",
       "<tr><td></td>\n",
       "<td>11</td>\n",
       "<td>0.5000100</td>\n",
       "<td>0.8523893</td>\n",
       "<td>1.0589049</td>\n",
       "<td>1.0993531</td>\n",
       "<td>0.8709742</td>\n",
       "<td>0.8594951</td>\n",
       "<td>0.9042438</td>\n",
       "<td>0.8889937</td>\n",
       "<td>0.1058672</td>\n",
       "<td>0.5496876</td>\n",
       "<td>5.8904873</td>\n",
       "<td>9.9353120</td></tr>\n",
       "<tr><td></td>\n",
       "<td>12</td>\n",
       "<td>0.6000080</td>\n",
       "<td>0.8364326</td>\n",
       "<td>1.0261104</td>\n",
       "<td>1.0871464</td>\n",
       "<td>0.844</td>\n",
       "<td>0.8446655</td>\n",
       "<td>0.8942035</td>\n",
       "<td>0.8816059</td>\n",
       "<td>0.1026090</td>\n",
       "<td>0.6522965</td>\n",
       "<td>2.6110438</td>\n",
       "<td>8.7146413</td></tr>\n",
       "<tr><td></td>\n",
       "<td>13</td>\n",
       "<td>0.7000260</td>\n",
       "<td>0.8191077</td>\n",
       "<td>0.9930860</td>\n",
       "<td>1.0737073</td>\n",
       "<td>0.8168366</td>\n",
       "<td>0.8274662</td>\n",
       "<td>0.8831495</td>\n",
       "<td>0.8738705</td>\n",
       "<td>0.0993265</td>\n",
       "<td>0.7516230</td>\n",
       "<td>-0.6913987</td>\n",
       "<td>7.3707294</td></tr>\n",
       "<tr><td></td>\n",
       "<td>14</td>\n",
       "<td>0.8000040</td>\n",
       "<td>0.7718953</td>\n",
       "<td>0.9611374</td>\n",
       "<td>1.0596392</td>\n",
       "<td>0.7905581</td>\n",
       "<td>0.7978845</td>\n",
       "<td>0.8715782</td>\n",
       "<td>0.8643744</td>\n",
       "<td>0.0960926</td>\n",
       "<td>0.8477156</td>\n",
       "<td>-3.8862642</td>\n",
       "<td>5.9639218</td></tr>\n",
       "<tr><td></td>\n",
       "<td>15</td>\n",
       "<td>0.9000020</td>\n",
       "<td>0.6901057</td>\n",
       "<td>0.8853242</td>\n",
       "<td>1.0402713</td>\n",
       "<td>0.7282</td>\n",
       "<td>0.7380856</td>\n",
       "<td>0.8556477</td>\n",
       "<td>0.8503426</td>\n",
       "<td>0.0885306</td>\n",
       "<td>0.9362463</td>\n",
       "<td>-11.4675804</td>\n",
       "<td>4.0271312</td></tr>\n",
       "<tr><td></td>\n",
       "<td>16</td>\n",
       "<td>1.0</td>\n",
       "<td>0.1109979</td>\n",
       "<td>0.6375501</td>\n",
       "<td>1.0</td>\n",
       "<td>0.5244</td>\n",
       "<td>0.5724426</td>\n",
       "<td>0.8225235</td>\n",
       "<td>0.8225532</td>\n",
       "<td>0.0637537</td>\n",
       "<td>1.0</td>\n",
       "<td>-36.2449865</td>\n",
       "<td>0.0</td></tr></table></div>"
      ],
      "text/plain": [
       "    group    cumulative_data_fraction    lower_threshold    lift      cumulative_lift    response_rate    score     cumulative_response_rate    cumulative_score    capture_rate    cumulative_capture_rate    gain       cumulative_gain\n",
       "--  -------  --------------------------  -----------------  --------  -----------------  ---------------  --------  --------------------------  ------------------  --------------  -------------------------  ---------  -----------------\n",
       "    1        0.0100198                   0.930121           1.18422   1.18422            0.974052         0.934267  0.974052                    0.934267            0.0118657       0.0118657                  18.4224    18.4224\n",
       "    2        0.0201996                   0.926139           1.168     1.17605            0.960707         0.927792  0.967327                    0.931004            0.01189         0.0237557                  16.8       17.6047\n",
       "    3        0.0302994                   0.924032           1.1604    1.17083            0.954455         0.92496   0.963036                    0.928989            0.0117198       0.0354755                  16.0399    17.0831\n",
       "    4        0.0400192                   0.92219            1.14322   1.16413            0.940329         0.923061  0.957521                    0.927549            0.0111119       0.0465874                  14.3225    16.4126\n",
       "    5        0.050059                    0.920239           1.14069   1.15943            0.938247         0.921155  0.953656                    0.926267            0.0114523       0.0580397                  14.0693    15.9427\n",
       "    6        0.100018                    0.911932           1.13741   1.14843            0.935548         0.916094  0.944611                    0.921185            0.056824        0.114864                   13.7412    14.843\n",
       "    7        0.150017                    0.904018           1.12434   1.1404             0.9248           0.907899  0.938008                    0.916757            0.0562161       0.17108                    12.4345    14.0403\n",
       "    8        0.200016                    0.89562            1.11754   1.13469            0.9192           0.900015  0.933307                    0.912572            0.0558757       0.226956                   11.7536    13.4687\n",
       "    9        0.300014                    0.879693           1.09979   1.12305            0.9046           0.887919  0.923738                    0.904355            0.109976        0.336932                   9.97861    12.3054\n",
       "    10       0.400032                    0.866219           1.06869   1.10946            0.879024         0.872403  0.912559                    0.896366            0.106888        0.44382                    6.86918    10.9462\n",
       "    11       0.50001                     0.852389           1.0589    1.09935            0.870974         0.859495  0.904244                    0.888994            0.105867        0.549688                   5.89049    9.93531\n",
       "    12       0.600008                    0.836433           1.02611   1.08715            0.844            0.844666  0.894204                    0.881606            0.102609        0.652297                   2.61104    8.71464\n",
       "    13       0.700026                    0.819108           0.993086  1.07371            0.816837         0.827466  0.88315                     0.873871            0.0993265       0.751623                   -0.691399  7.37073\n",
       "    14       0.800004                    0.771895           0.961137  1.05964            0.790558         0.797885  0.871578                    0.864374            0.0960926       0.847716                   -3.88626   5.96392\n",
       "    15       0.900002                    0.690106           0.885324  1.04027            0.7282           0.738086  0.855648                    0.850343            0.0885306       0.936246                   -11.4676   4.02713\n",
       "    16       1                           0.110998           0.63755   1                  0.5244           0.572443  0.822524                    0.822553            0.0637537       1                          -36.245    0"
      ]
     },
     "metadata": {},
     "output_type": "display_data"
    },
    {
     "name": "stdout",
     "output_type": "stream",
     "text": [
      "\n",
      "\n",
      "ModelMetricsBinomial: gbm\n",
      "** Reported on cross-validation data. **\n",
      "\n",
      "MSE: 0.13336001122934005\n",
      "RMSE: 0.3651849000565878\n",
      "LogLoss: 0.42988057085385384\n",
      "Mean Per-Class Error: 0.3639354403014867\n",
      "AUC: 0.6896461618619313\n",
      "pr_auc: 0.8988503280245042\n",
      "Gini: 0.37929232372386257\n",
      "Confusion Matrix (Act/Pred) for max f1 @ threshold = 0.4504743198778146: \n"
     ]
    },
    {
     "data": {
      "text/html": [
       "<div style=\"overflow:auto\"><table style=\"width:50%\"><tr><td><b></b></td>\n",
       "<td><b>1</b></td>\n",
       "<td><b>0</b></td>\n",
       "<td><b>Error</b></td>\n",
       "<td><b>Rate</b></td></tr>\n",
       "<tr><td>1</td>\n",
       "<td>513.0</td>\n",
       "<td>8361.0</td>\n",
       "<td>0.9422</td>\n",
       "<td> (8361.0/8874.0)</td></tr>\n",
       "<tr><td>0</td>\n",
       "<td>229.0</td>\n",
       "<td>40898.0</td>\n",
       "<td>0.0056</td>\n",
       "<td> (229.0/41127.0)</td></tr>\n",
       "<tr><td>Total</td>\n",
       "<td>742.0</td>\n",
       "<td>49259.0</td>\n",
       "<td>0.1718</td>\n",
       "<td> (8590.0/50001.0)</td></tr></table></div>"
      ],
      "text/plain": [
       "       1    0      Error    Rate\n",
       "-----  ---  -----  -------  ----------------\n",
       "1      513  8361   0.9422   (8361.0/8874.0)\n",
       "0      229  40898  0.0056   (229.0/41127.0)\n",
       "Total  742  49259  0.1718   (8590.0/50001.0)"
      ]
     },
     "metadata": {},
     "output_type": "display_data"
    },
    {
     "name": "stdout",
     "output_type": "stream",
     "text": [
      "Maximum Metrics: Maximum metrics at their respective thresholds\n",
      "\n"
     ]
    },
    {
     "data": {
      "text/html": [
       "<div style=\"overflow:auto\"><table style=\"width:50%\"><tr><td><b>metric</b></td>\n",
       "<td><b>threshold</b></td>\n",
       "<td><b>value</b></td>\n",
       "<td><b>idx</b></td></tr>\n",
       "<tr><td>max f1</td>\n",
       "<td>0.4504743</td>\n",
       "<td>0.9049632</td>\n",
       "<td>336.0</td></tr>\n",
       "<tr><td>max f2</td>\n",
       "<td>0.2406280</td>\n",
       "<td>0.9587894</td>\n",
       "<td>383.0</td></tr>\n",
       "<tr><td>max f0point5</td>\n",
       "<td>0.6887853</td>\n",
       "<td>0.8669088</td>\n",
       "<td>233.0</td></tr>\n",
       "<tr><td>max accuracy</td>\n",
       "<td>0.4972369</td>\n",
       "<td>0.8284834</td>\n",
       "<td>323.0</td></tr>\n",
       "<tr><td>max precision</td>\n",
       "<td>0.9436351</td>\n",
       "<td>1.0</td>\n",
       "<td>0.0</td></tr>\n",
       "<tr><td>max recall</td>\n",
       "<td>0.1380355</td>\n",
       "<td>1.0</td>\n",
       "<td>396.0</td></tr>\n",
       "<tr><td>max specificity</td>\n",
       "<td>0.9436351</td>\n",
       "<td>1.0</td>\n",
       "<td>0.0</td></tr>\n",
       "<tr><td>max absolute_mcc</td>\n",
       "<td>0.7527218</td>\n",
       "<td>0.2395214</td>\n",
       "<td>195.0</td></tr>\n",
       "<tr><td>max min_per_class_accuracy</td>\n",
       "<td>0.8379620</td>\n",
       "<td>0.6334235</td>\n",
       "<td>117.0</td></tr>\n",
       "<tr><td>max mean_per_class_accuracy</td>\n",
       "<td>0.8349883</td>\n",
       "<td>0.6360646</td>\n",
       "<td>121.0</td></tr></table></div>"
      ],
      "text/plain": [
       "metric                       threshold    value     idx\n",
       "---------------------------  -----------  --------  -----\n",
       "max f1                       0.450474     0.904963  336\n",
       "max f2                       0.240628     0.958789  383\n",
       "max f0point5                 0.688785     0.866909  233\n",
       "max accuracy                 0.497237     0.828483  323\n",
       "max precision                0.943635     1         0\n",
       "max recall                   0.138036     1         396\n",
       "max specificity              0.943635     1         0\n",
       "max absolute_mcc             0.752722     0.239521  195\n",
       "max min_per_class_accuracy   0.837962     0.633423  117\n",
       "max mean_per_class_accuracy  0.834988     0.636065  121"
      ]
     },
     "metadata": {},
     "output_type": "display_data"
    },
    {
     "name": "stdout",
     "output_type": "stream",
     "text": [
      "Gains/Lift Table: Avg response rate: 82.25 %, avg score: 82.26 %\n",
      "\n"
     ]
    },
    {
     "data": {
      "text/html": [
       "<div style=\"overflow:auto\"><table style=\"width:50%\"><tr><td><b></b></td>\n",
       "<td><b>group</b></td>\n",
       "<td><b>cumulative_data_fraction</b></td>\n",
       "<td><b>lower_threshold</b></td>\n",
       "<td><b>lift</b></td>\n",
       "<td><b>cumulative_lift</b></td>\n",
       "<td><b>response_rate</b></td>\n",
       "<td><b>score</b></td>\n",
       "<td><b>cumulative_response_rate</b></td>\n",
       "<td><b>cumulative_score</b></td>\n",
       "<td><b>capture_rate</b></td>\n",
       "<td><b>cumulative_capture_rate</b></td>\n",
       "<td><b>gain</b></td>\n",
       "<td><b>cumulative_gain</b></td></tr>\n",
       "<tr><td></td>\n",
       "<td>1</td>\n",
       "<td>0.0100198</td>\n",
       "<td>0.9306827</td>\n",
       "<td>1.1672369</td>\n",
       "<td>1.1672369</td>\n",
       "<td>0.9600798</td>\n",
       "<td>0.9347081</td>\n",
       "<td>0.9600798</td>\n",
       "<td>0.9347081</td>\n",
       "<td>0.0116955</td>\n",
       "<td>0.0116955</td>\n",
       "<td>16.7236903</td>\n",
       "<td>16.7236903</td></tr>\n",
       "<tr><td></td>\n",
       "<td>2</td>\n",
       "<td>0.0200196</td>\n",
       "<td>0.9266678</td>\n",
       "<td>1.1501190</td>\n",
       "<td>1.1586865</td>\n",
       "<td>0.946</td>\n",
       "<td>0.9285177</td>\n",
       "<td>0.9530470</td>\n",
       "<td>0.9316160</td>\n",
       "<td>0.0115010</td>\n",
       "<td>0.0231964</td>\n",
       "<td>15.0119046</td>\n",
       "<td>15.8686525</td></tr>\n",
       "<tr><td></td>\n",
       "<td>3</td>\n",
       "<td>0.0300794</td>\n",
       "<td>0.9242798</td>\n",
       "<td>1.1166721</td>\n",
       "<td>1.1446351</td>\n",
       "<td>0.9184891</td>\n",
       "<td>0.9253504</td>\n",
       "<td>0.9414894</td>\n",
       "<td>0.9295205</td>\n",
       "<td>0.0112335</td>\n",
       "<td>0.0344299</td>\n",
       "<td>11.6672059</td>\n",
       "<td>14.4635144</td></tr>\n",
       "<tr><td></td>\n",
       "<td>4</td>\n",
       "<td>0.0400192</td>\n",
       "<td>0.9224346</td>\n",
       "<td>1.1228144</td>\n",
       "<td>1.1392154</td>\n",
       "<td>0.9235412</td>\n",
       "<td>0.9233133</td>\n",
       "<td>0.9370315</td>\n",
       "<td>0.9279788</td>\n",
       "<td>0.0111606</td>\n",
       "<td>0.0455905</td>\n",
       "<td>12.2814353</td>\n",
       "<td>13.9215388</td></tr>\n",
       "<tr><td></td>\n",
       "<td>5</td>\n",
       "<td>0.0500190</td>\n",
       "<td>0.9205488</td>\n",
       "<td>1.1501190</td>\n",
       "<td>1.1413952</td>\n",
       "<td>0.946</td>\n",
       "<td>0.9214636</td>\n",
       "<td>0.9388245</td>\n",
       "<td>0.9266763</td>\n",
       "<td>0.0115010</td>\n",
       "<td>0.0570914</td>\n",
       "<td>15.0119046</td>\n",
       "<td>14.1395247</td></tr>\n",
       "<tr><td></td>\n",
       "<td>6</td>\n",
       "<td>0.1000780</td>\n",
       "<td>0.9124155</td>\n",
       "<td>1.1297973</td>\n",
       "<td>1.1355939</td>\n",
       "<td>0.9292849</td>\n",
       "<td>0.9164356</td>\n",
       "<td>0.9340528</td>\n",
       "<td>0.9215539</td>\n",
       "<td>0.0565565</td>\n",
       "<td>0.1136480</td>\n",
       "<td>12.9797267</td>\n",
       "<td>13.5593939</td></tr>\n",
       "<tr><td></td>\n",
       "<td>7</td>\n",
       "<td>0.1500170</td>\n",
       "<td>0.9045005</td>\n",
       "<td>1.1179053</td>\n",
       "<td>1.1297056</td>\n",
       "<td>0.9195034</td>\n",
       "<td>0.9084233</td>\n",
       "<td>0.9292094</td>\n",
       "<td>0.9171829</td>\n",
       "<td>0.0558271</td>\n",
       "<td>0.1694750</td>\n",
       "<td>11.7905262</td>\n",
       "<td>12.9705574</td></tr>\n",
       "<tr><td></td>\n",
       "<td>8</td>\n",
       "<td>0.2000160</td>\n",
       "<td>0.8962337</td>\n",
       "<td>1.1155912</td>\n",
       "<td>1.1261773</td>\n",
       "<td>0.9176</td>\n",
       "<td>0.9003683</td>\n",
       "<td>0.9263074</td>\n",
       "<td>0.9129797</td>\n",
       "<td>0.0557784</td>\n",
       "<td>0.2252535</td>\n",
       "<td>11.5591159</td>\n",
       "<td>12.6177323</td></tr>\n",
       "<tr><td></td>\n",
       "<td>9</td>\n",
       "<td>0.3000140</td>\n",
       "<td>0.8803805</td>\n",
       "<td>1.0905463</td>\n",
       "<td>1.1143011</td>\n",
       "<td>0.897</td>\n",
       "<td>0.8884289</td>\n",
       "<td>0.9165389</td>\n",
       "<td>0.9047966</td>\n",
       "<td>0.1090524</td>\n",
       "<td>0.3343059</td>\n",
       "<td>9.0546283</td>\n",
       "<td>11.4301102</td></tr>\n",
       "<tr><td></td>\n",
       "<td>10</td>\n",
       "<td>0.4000120</td>\n",
       "<td>0.8660042</td>\n",
       "<td>1.0657446</td>\n",
       "<td>1.1021626</td>\n",
       "<td>0.8766</td>\n",
       "<td>0.8730388</td>\n",
       "<td>0.9065547</td>\n",
       "<td>0.8968575</td>\n",
       "<td>0.1065723</td>\n",
       "<td>0.4408783</td>\n",
       "<td>6.5744562</td>\n",
       "<td>10.2162574</td></tr>\n",
       "<tr><td></td>\n",
       "<td>11</td>\n",
       "<td>0.5000100</td>\n",
       "<td>0.8514607</td>\n",
       "<td>1.0455628</td>\n",
       "<td>1.0908431</td>\n",
       "<td>0.86</td>\n",
       "<td>0.8587560</td>\n",
       "<td>0.8972441</td>\n",
       "<td>0.8892375</td>\n",
       "<td>0.1045542</td>\n",
       "<td>0.5454324</td>\n",
       "<td>4.5562769</td>\n",
       "<td>9.0843066</td></tr>\n",
       "<tr><td></td>\n",
       "<td>12</td>\n",
       "<td>0.6000080</td>\n",
       "<td>0.8353986</td>\n",
       "<td>1.0275694</td>\n",
       "<td>1.0802978</td>\n",
       "<td>0.8452</td>\n",
       "<td>0.8435915</td>\n",
       "<td>0.8885704</td>\n",
       "<td>0.8816301</td>\n",
       "<td>0.1027549</td>\n",
       "<td>0.6481873</td>\n",
       "<td>2.7569363</td>\n",
       "<td>8.0297800</td></tr>\n",
       "<tr><td></td>\n",
       "<td>13</td>\n",
       "<td>0.7000060</td>\n",
       "<td>0.8170709</td>\n",
       "<td>0.9913394</td>\n",
       "<td>1.0675898</td>\n",
       "<td>0.8154</td>\n",
       "<td>0.8266761</td>\n",
       "<td>0.8781178</td>\n",
       "<td>0.8737798</td>\n",
       "<td>0.0991320</td>\n",
       "<td>0.7473193</td>\n",
       "<td>-0.8660603</td>\n",
       "<td>6.7589820</td></tr>\n",
       "<tr><td></td>\n",
       "<td>14</td>\n",
       "<td>0.8000040</td>\n",
       "<td>0.7717791</td>\n",
       "<td>0.9655651</td>\n",
       "<td>1.0548370</td>\n",
       "<td>0.7942</td>\n",
       "<td>0.7970284</td>\n",
       "<td>0.8676283</td>\n",
       "<td>0.8641861</td>\n",
       "<td>0.0965546</td>\n",
       "<td>0.8438739</td>\n",
       "<td>-3.4434941</td>\n",
       "<td>5.4837044</td></tr>\n",
       "<tr><td></td>\n",
       "<td>15</td>\n",
       "<td>0.9000020</td>\n",
       "<td>0.6891270</td>\n",
       "<td>0.8821632</td>\n",
       "<td>1.0356515</td>\n",
       "<td>0.7256</td>\n",
       "<td>0.7390107</td>\n",
       "<td>0.8518477</td>\n",
       "<td>0.8502780</td>\n",
       "<td>0.0882146</td>\n",
       "<td>0.9320884</td>\n",
       "<td>-11.7836808</td>\n",
       "<td>3.5651486</td></tr>\n",
       "<tr><td></td>\n",
       "<td>16</td>\n",
       "<td>1.0</td>\n",
       "<td>0.0974102</td>\n",
       "<td>0.6791295</td>\n",
       "<td>1.0</td>\n",
       "<td>0.5586</td>\n",
       "<td>0.5732630</td>\n",
       "<td>0.8225235</td>\n",
       "<td>0.8225771</td>\n",
       "<td>0.0679116</td>\n",
       "<td>1.0</td>\n",
       "<td>-32.0870508</td>\n",
       "<td>0.0</td></tr></table></div>"
      ],
      "text/plain": [
       "    group    cumulative_data_fraction    lower_threshold    lift      cumulative_lift    response_rate    score     cumulative_response_rate    cumulative_score    capture_rate    cumulative_capture_rate    gain      cumulative_gain\n",
       "--  -------  --------------------------  -----------------  --------  -----------------  ---------------  --------  --------------------------  ------------------  --------------  -------------------------  --------  -----------------\n",
       "    1        0.0100198                   0.930683           1.16724   1.16724            0.96008          0.934708  0.96008                     0.934708            0.0116955       0.0116955                  16.7237   16.7237\n",
       "    2        0.0200196                   0.926668           1.15012   1.15869            0.946            0.928518  0.953047                    0.931616            0.011501        0.0231964                  15.0119   15.8687\n",
       "    3        0.0300794                   0.92428            1.11667   1.14464            0.918489         0.92535   0.941489                    0.929521            0.0112335       0.0344299                  11.6672   14.4635\n",
       "    4        0.0400192                   0.922435           1.12281   1.13922            0.923541         0.923313  0.937031                    0.927979            0.0111606       0.0455905                  12.2814   13.9215\n",
       "    5        0.050019                    0.920549           1.15012   1.1414             0.946            0.921464  0.938824                    0.926676            0.011501        0.0570914                  15.0119   14.1395\n",
       "    6        0.100078                    0.912415           1.1298    1.13559            0.929285         0.916436  0.934053                    0.921554            0.0565565       0.113648                   12.9797   13.5594\n",
       "    7        0.150017                    0.904501           1.11791   1.12971            0.919503         0.908423  0.929209                    0.917183            0.0558271       0.169475                   11.7905   12.9706\n",
       "    8        0.200016                    0.896234           1.11559   1.12618            0.9176           0.900368  0.926307                    0.91298             0.0557784       0.225253                   11.5591   12.6177\n",
       "    9        0.300014                    0.88038            1.09055   1.1143             0.897            0.888429  0.916539                    0.904797            0.109052        0.334306                   9.05463   11.4301\n",
       "    10       0.400012                    0.866004           1.06574   1.10216            0.8766           0.873039  0.906555                    0.896858            0.106572        0.440878                   6.57446   10.2163\n",
       "    11       0.50001                     0.851461           1.04556   1.09084            0.86             0.858756  0.897244                    0.889238            0.104554        0.545432                   4.55628   9.08431\n",
       "    12       0.600008                    0.835399           1.02757   1.0803             0.8452           0.843592  0.88857                     0.88163             0.102755        0.648187                   2.75694   8.02978\n",
       "    13       0.700006                    0.817071           0.991339  1.06759            0.8154           0.826676  0.878118                    0.87378             0.099132        0.747319                   -0.86606  6.75898\n",
       "    14       0.800004                    0.771779           0.965565  1.05484            0.7942           0.797028  0.867628                    0.864186            0.0965546       0.843874                   -3.44349  5.4837\n",
       "    15       0.900002                    0.689127           0.882163  1.03565            0.7256           0.739011  0.851848                    0.850278            0.0882146       0.932088                   -11.7837  3.56515\n",
       "    16       1                           0.0974102          0.679129  1                  0.5586           0.573263  0.822524                    0.822577            0.0679116       1                          -32.0871  0"
      ]
     },
     "metadata": {},
     "output_type": "display_data"
    },
    {
     "name": "stdout",
     "output_type": "stream",
     "text": [
      "\n",
      "Cross-Validation Metrics Summary: \n"
     ]
    },
    {
     "data": {
      "text/html": [
       "<div style=\"overflow:auto\"><table style=\"width:50%\"><tr><td><b></b></td>\n",
       "<td><b>mean</b></td>\n",
       "<td><b>sd</b></td>\n",
       "<td><b>cv_1_valid</b></td>\n",
       "<td><b>cv_2_valid</b></td>\n",
       "<td><b>cv_3_valid</b></td>\n",
       "<td><b>cv_4_valid</b></td>\n",
       "<td><b>cv_5_valid</b></td></tr>\n",
       "<tr><td>accuracy</td>\n",
       "<td>0.8290234</td>\n",
       "<td>0.0026222</td>\n",
       "<td>0.830017</td>\n",
       "<td>0.8234</td>\n",
       "<td>0.8332</td>\n",
       "<td>0.8323</td>\n",
       "<td>0.8262</td></tr>\n",
       "<tr><td>auc</td>\n",
       "<td>0.6898131</td>\n",
       "<td>0.0035920</td>\n",
       "<td>0.6839782</td>\n",
       "<td>0.6930985</td>\n",
       "<td>0.6842226</td>\n",
       "<td>0.6907362</td>\n",
       "<td>0.6970298</td></tr>\n",
       "<tr><td>err</td>\n",
       "<td>0.1709766</td>\n",
       "<td>0.0026222</td>\n",
       "<td>0.169983</td>\n",
       "<td>0.1766</td>\n",
       "<td>0.1668</td>\n",
       "<td>0.1677</td>\n",
       "<td>0.1738</td></tr>\n",
       "<tr><td>err_count</td>\n",
       "<td>1709.8</td>\n",
       "<td>26.216026</td>\n",
       "<td>1700.0</td>\n",
       "<td>1766.0</td>\n",
       "<td>1668.0</td>\n",
       "<td>1677.0</td>\n",
       "<td>1738.0</td></tr>\n",
       "<tr><td>f0point5</td>\n",
       "<td>0.8598012</td>\n",
       "<td>0.0023811</td>\n",
       "<td>0.8595649</td>\n",
       "<td>0.8549861</td>\n",
       "<td>0.8633615</td>\n",
       "<td>0.8636827</td>\n",
       "<td>0.8574108</td></tr>\n",
       "<tr><td>f1</td>\n",
       "<td>0.9052132</td>\n",
       "<td>0.0015395</td>\n",
       "<td>0.9061085</td>\n",
       "<td>0.9019325</td>\n",
       "<td>0.9079166</td>\n",
       "<td>0.9065998</td>\n",
       "<td>0.9035088</td></tr>\n",
       "<tr><td>f2</td>\n",
       "<td>0.9556972</td>\n",
       "<td>0.0011532</td>\n",
       "<td>0.9579811</td>\n",
       "<td>0.9543339</td>\n",
       "<td>0.9573204</td>\n",
       "<td>0.9540052</td>\n",
       "<td>0.9548452</td></tr>\n",
       "<tr><td>lift_top_group</td>\n",
       "<td>1.1700048</td>\n",
       "<td>0.0232541</td>\n",
       "<td>1.154189</td>\n",
       "<td>1.1980441</td>\n",
       "<td>1.1123364</td>\n",
       "<td>1.190187</td>\n",
       "<td>1.1952677</td></tr>\n",
       "<tr><td>logloss</td>\n",
       "<td>0.4298806</td>\n",
       "<td>0.0028166</td>\n",
       "<td>0.4290275</td>\n",
       "<td>0.4368819</td>\n",
       "<td>0.4253190</td>\n",
       "<td>0.4271483</td>\n",
       "<td>0.4310262</td></tr>\n",
       "<tr><td>max_per_class_error</td>\n",
       "<td>0.9290987</td>\n",
       "<td>0.0121751</td>\n",
       "<td>0.9444759</td>\n",
       "<td>0.9379121</td>\n",
       "<td>0.9367015</td>\n",
       "<td>0.8958097</td>\n",
       "<td>0.9305941</td></tr>\n",
       "<tr><td>mcc</td>\n",
       "<td>0.1787951</td>\n",
       "<td>0.0129899</td>\n",
       "<td>0.1727385</td>\n",
       "<td>0.1628515</td>\n",
       "<td>0.1684153</td>\n",
       "<td>0.2145366</td>\n",
       "<td>0.1754337</td></tr>\n",
       "<tr><td>mean_per_class_accuracy</td>\n",
       "<td>0.5317544</td>\n",
       "<td>0.0052855</td>\n",
       "<td>0.5257586</td>\n",
       "<td>0.5274376</td>\n",
       "<td>0.5283272</td>\n",
       "<td>0.5463263</td>\n",
       "<td>0.530922</td></tr>\n",
       "<tr><td>mean_per_class_error</td>\n",
       "<td>0.4682457</td>\n",
       "<td>0.0052855</td>\n",
       "<td>0.4742414</td>\n",
       "<td>0.4725624</td>\n",
       "<td>0.4716728</td>\n",
       "<td>0.4536736</td>\n",
       "<td>0.469078</td></tr>\n",
       "<tr><td>mse</td>\n",
       "<td>0.1333600</td>\n",
       "<td>0.0012466</td>\n",
       "<td>0.1327828</td>\n",
       "<td>0.1364134</td>\n",
       "<td>0.1313355</td>\n",
       "<td>0.1322171</td>\n",
       "<td>0.1340514</td></tr>\n",
       "<tr><td>precision</td>\n",
       "<td>0.8319786</td>\n",
       "<td>0.0029103</td>\n",
       "<td>0.8311043</td>\n",
       "<td>0.8263126</td>\n",
       "<td>0.8360106</td>\n",
       "<td>0.8372595</td>\n",
       "<td>0.8292062</td></tr>\n",
       "<tr><td>r2</td>\n",
       "<td>0.0863341</td>\n",
       "<td>0.0034581</td>\n",
       "<td>0.0863759</td>\n",
       "<td>0.0837115</td>\n",
       "<td>0.0786524</td>\n",
       "<td>0.0907444</td>\n",
       "<td>0.0921862</td></tr>\n",
       "<tr><td>recall</td>\n",
       "<td>0.9926074</td>\n",
       "<td>0.0017107</td>\n",
       "<td>0.9959932</td>\n",
       "<td>0.9927873</td>\n",
       "<td>0.9933559</td>\n",
       "<td>0.9884624</td>\n",
       "<td>0.9924381</td></tr>\n",
       "<tr><td>rmse</td>\n",
       "<td>0.3651770</td>\n",
       "<td>0.0017030</td>\n",
       "<td>0.3643937</td>\n",
       "<td>0.3693418</td>\n",
       "<td>0.3624024</td>\n",
       "<td>0.3636166</td>\n",
       "<td>0.3661303</td></tr>\n",
       "<tr><td>specificity</td>\n",
       "<td>0.0709013</td>\n",
       "<td>0.0121751</td>\n",
       "<td>0.0555241</td>\n",
       "<td>0.0620879</td>\n",
       "<td>0.0632985</td>\n",
       "<td>0.1041903</td>\n",
       "<td>0.0694059</td></tr></table></div>"
      ],
      "text/plain": [
       "                         mean       sd          cv_1_valid    cv_2_valid    cv_3_valid    cv_4_valid    cv_5_valid\n",
       "-----------------------  ---------  ----------  ------------  ------------  ------------  ------------  ------------\n",
       "accuracy                 0.829023   0.00262224  0.830017      0.8234        0.8332        0.8323        0.8262\n",
       "auc                      0.689813   0.00359203  0.683978      0.693099      0.684223      0.690736      0.69703\n",
       "err                      0.170977   0.00262224  0.169983      0.1766        0.1668        0.1677        0.1738\n",
       "err_count                1709.8     26.216      1700          1766          1668          1677          1738\n",
       "f0point5                 0.859801   0.0023811   0.859565      0.854986      0.863362      0.863683      0.857411\n",
       "f1                       0.905213   0.0015395   0.906108      0.901933      0.907917      0.9066        0.903509\n",
       "f2                       0.955697   0.00115318  0.957981      0.954334      0.95732       0.954005      0.954845\n",
       "lift_top_group           1.17       0.0232541   1.15419       1.19804       1.11234       1.19019       1.19527\n",
       "logloss                  0.429881   0.00281661  0.429028      0.436882      0.425319      0.427148      0.431026\n",
       "max_per_class_error      0.929099   0.0121751   0.944476      0.937912      0.936702      0.89581       0.930594\n",
       "mcc                      0.178795   0.0129899   0.172739      0.162851      0.168415      0.214537      0.175434\n",
       "mean_per_class_accuracy  0.531754   0.0052855   0.525759      0.527438      0.528327      0.546326      0.530922\n",
       "mean_per_class_error     0.468246   0.0052855   0.474241      0.472562      0.471673      0.453674      0.469078\n",
       "mse                      0.13336    0.00124657  0.132783      0.136413      0.131335      0.132217      0.134051\n",
       "precision                0.831979   0.00291032  0.831104      0.826313      0.836011      0.83726       0.829206\n",
       "r2                       0.0863341  0.00345811  0.0863759     0.0837115     0.0786524     0.0907444     0.0921862\n",
       "recall                   0.992607   0.00171071  0.995993      0.992787      0.993356      0.988462      0.992438\n",
       "rmse                     0.365177   0.00170297  0.364394      0.369342      0.362402      0.363617      0.36613\n",
       "specificity              0.0709013  0.0121751   0.0555241     0.0620879     0.0632985     0.10419       0.0694059"
      ]
     },
     "metadata": {},
     "output_type": "display_data"
    },
    {
     "name": "stdout",
     "output_type": "stream",
     "text": [
      "Scoring History: \n"
     ]
    },
    {
     "data": {
      "text/html": [
       "<div style=\"overflow:auto\"><table style=\"width:50%\"><tr><td><b></b></td>\n",
       "<td><b>timestamp</b></td>\n",
       "<td><b>duration</b></td>\n",
       "<td><b>number_of_trees</b></td>\n",
       "<td><b>training_rmse</b></td>\n",
       "<td><b>training_logloss</b></td>\n",
       "<td><b>training_auc</b></td>\n",
       "<td><b>training_pr_auc</b></td>\n",
       "<td><b>training_lift</b></td>\n",
       "<td><b>training_classification_error</b></td></tr>\n",
       "<tr><td></td>\n",
       "<td>2019-04-16 15:49:16</td>\n",
       "<td> 1 min 58.360 sec</td>\n",
       "<td>0.0</td>\n",
       "<td>0.3820714</td>\n",
       "<td>0.4675453</td>\n",
       "<td>0.5</td>\n",
       "<td>0.0</td>\n",
       "<td>1.0</td>\n",
       "<td>0.1774765</td></tr>\n",
       "<tr><td></td>\n",
       "<td>2019-04-16 15:49:16</td>\n",
       "<td> 1 min 58.436 sec</td>\n",
       "<td>5.0</td>\n",
       "<td>0.3752218</td>\n",
       "<td>0.4513930</td>\n",
       "<td>0.6913435</td>\n",
       "<td>0.9002463</td>\n",
       "<td>1.1406530</td>\n",
       "<td>0.1696766</td></tr>\n",
       "<tr><td></td>\n",
       "<td>2019-04-16 15:49:16</td>\n",
       "<td> 1 min 58.548 sec</td>\n",
       "<td>10.0</td>\n",
       "<td>0.3708318</td>\n",
       "<td>0.4421788</td>\n",
       "<td>0.6951109</td>\n",
       "<td>0.8894722</td>\n",
       "<td>1.1340970</td>\n",
       "<td>0.1698566</td></tr>\n",
       "<tr><td></td>\n",
       "<td>2019-04-16 15:49:17</td>\n",
       "<td> 1 min 58.673 sec</td>\n",
       "<td>15.0</td>\n",
       "<td>0.3679165</td>\n",
       "<td>0.4362491</td>\n",
       "<td>0.6969453</td>\n",
       "<td>0.8990612</td>\n",
       "<td>1.1486516</td>\n",
       "<td>0.1690366</td></tr>\n",
       "<tr><td></td>\n",
       "<td>2019-04-16 15:49:17</td>\n",
       "<td> 1 min 58.805 sec</td>\n",
       "<td>20.0</td>\n",
       "<td>0.3660381</td>\n",
       "<td>0.4324215</td>\n",
       "<td>0.6983979</td>\n",
       "<td>0.9019050</td>\n",
       "<td>1.1699789</td>\n",
       "<td>0.1685566</td></tr>\n",
       "<tr><td></td>\n",
       "<td>2019-04-16 15:49:17</td>\n",
       "<td> 1 min 58.927 sec</td>\n",
       "<td>25.0</td>\n",
       "<td>0.3646939</td>\n",
       "<td>0.4296131</td>\n",
       "<td>0.7002814</td>\n",
       "<td>0.9027443</td>\n",
       "<td>1.1672369</td>\n",
       "<td>0.1683366</td></tr>\n",
       "<tr><td></td>\n",
       "<td>2019-04-16 15:49:17</td>\n",
       "<td> 1 min 59.052 sec</td>\n",
       "<td>30.0</td>\n",
       "<td>0.3637240</td>\n",
       "<td>0.4275524</td>\n",
       "<td>0.7012926</td>\n",
       "<td>0.9041849</td>\n",
       "<td>1.1771748</td>\n",
       "<td>0.1683166</td></tr>\n",
       "<tr><td></td>\n",
       "<td>2019-04-16 15:49:17</td>\n",
       "<td> 1 min 59.158 sec</td>\n",
       "<td>35.0</td>\n",
       "<td>0.3629538</td>\n",
       "<td>0.4259091</td>\n",
       "<td>0.7022980</td>\n",
       "<td>0.9047682</td>\n",
       "<td>1.1720903</td>\n",
       "<td>0.1677966</td></tr>\n",
       "<tr><td></td>\n",
       "<td>2019-04-16 15:49:17</td>\n",
       "<td> 1 min 59.276 sec</td>\n",
       "<td>40.0</td>\n",
       "<td>0.3624149</td>\n",
       "<td>0.4247401</td>\n",
       "<td>0.7033333</td>\n",
       "<td>0.9052121</td>\n",
       "<td>1.1796587</td>\n",
       "<td>0.1683966</td></tr>\n",
       "<tr><td></td>\n",
       "<td>2019-04-16 15:49:17</td>\n",
       "<td> 1 min 59.399 sec</td>\n",
       "<td>45.0</td>\n",
       "<td>0.3619187</td>\n",
       "<td>0.4236584</td>\n",
       "<td>0.7044929</td>\n",
       "<td>0.9057294</td>\n",
       "<td>1.1866504</td>\n",
       "<td>0.1681566</td></tr>\n",
       "<tr><td></td>\n",
       "<td>2019-04-16 15:49:17</td>\n",
       "<td> 1 min 59.522 sec</td>\n",
       "<td>50.0</td>\n",
       "<td>0.3614862</td>\n",
       "<td>0.4227153</td>\n",
       "<td>0.7057454</td>\n",
       "<td>0.9060075</td>\n",
       "<td>1.1817970</td>\n",
       "<td>0.1673767</td></tr>\n",
       "<tr><td></td>\n",
       "<td>2019-04-16 15:49:17</td>\n",
       "<td> 1 min 59.628 sec</td>\n",
       "<td>54.0</td>\n",
       "<td>0.3612282</td>\n",
       "<td>0.4221355</td>\n",
       "<td>0.7066374</td>\n",
       "<td>0.9065442</td>\n",
       "<td>1.1842237</td>\n",
       "<td>0.1670767</td></tr></table></div>"
      ],
      "text/plain": [
       "    timestamp            duration          number_of_trees    training_rmse    training_logloss    training_auc    training_pr_auc    training_lift    training_classification_error\n",
       "--  -------------------  ----------------  -----------------  ---------------  ------------------  --------------  -----------------  ---------------  -------------------------------\n",
       "    2019-04-16 15:49:16  1 min 58.360 sec  0                  0.382071         0.467545            0.5             0                  1                0.177476\n",
       "    2019-04-16 15:49:16  1 min 58.436 sec  5                  0.375222         0.451393            0.691343        0.900246           1.14065          0.169677\n",
       "    2019-04-16 15:49:16  1 min 58.548 sec  10                 0.370832         0.442179            0.695111        0.889472           1.1341           0.169857\n",
       "    2019-04-16 15:49:17  1 min 58.673 sec  15                 0.367917         0.436249            0.696945        0.899061           1.14865          0.169037\n",
       "    2019-04-16 15:49:17  1 min 58.805 sec  20                 0.366038         0.432422            0.698398        0.901905           1.16998          0.168557\n",
       "    2019-04-16 15:49:17  1 min 58.927 sec  25                 0.364694         0.429613            0.700281        0.902744           1.16724          0.168337\n",
       "    2019-04-16 15:49:17  1 min 59.052 sec  30                 0.363724         0.427552            0.701293        0.904185           1.17717          0.168317\n",
       "    2019-04-16 15:49:17  1 min 59.158 sec  35                 0.362954         0.425909            0.702298        0.904768           1.17209          0.167797\n",
       "    2019-04-16 15:49:17  1 min 59.276 sec  40                 0.362415         0.42474             0.703333        0.905212           1.17966          0.168397\n",
       "    2019-04-16 15:49:17  1 min 59.399 sec  45                 0.361919         0.423658            0.704493        0.905729           1.18665          0.168157\n",
       "    2019-04-16 15:49:17  1 min 59.522 sec  50                 0.361486         0.422715            0.705745        0.906007           1.1818           0.167377\n",
       "    2019-04-16 15:49:17  1 min 59.628 sec  54                 0.361228         0.422135            0.706637        0.906544           1.18422          0.167077"
      ]
     },
     "metadata": {},
     "output_type": "display_data"
    },
    {
     "name": "stdout",
     "output_type": "stream",
     "text": [
      "Variable Importances: \n"
     ]
    },
    {
     "data": {
      "text/html": [
       "<div style=\"overflow:auto\"><table style=\"width:50%\"><tr><td><b>variable</b></td>\n",
       "<td><b>relative_importance</b></td>\n",
       "<td><b>scaled_importance</b></td>\n",
       "<td><b>percentage</b></td></tr>\n",
       "<tr><td>number_inpatient</td>\n",
       "<td>4027.7858887</td>\n",
       "<td>1.0</td>\n",
       "<td>0.6491223</td></tr>\n",
       "<tr><td>num_medications</td>\n",
       "<td>365.4980469</td>\n",
       "<td>0.0907442</td>\n",
       "<td>0.0589041</td></tr>\n",
       "<tr><td>number_emergency</td>\n",
       "<td>364.9023132</td>\n",
       "<td>0.0905963</td>\n",
       "<td>0.0588080</td></tr>\n",
       "<tr><td>number_diagnoses</td>\n",
       "<td>363.5271301</td>\n",
       "<td>0.0902548</td>\n",
       "<td>0.0585864</td></tr>\n",
       "<tr><td>time_in_hospital</td>\n",
       "<td>363.0115662</td>\n",
       "<td>0.0901268</td>\n",
       "<td>0.0585033</td></tr>\n",
       "<tr><td>num_lab_procedures</td>\n",
       "<td>329.0525513</td>\n",
       "<td>0.0816956</td>\n",
       "<td>0.0530305</td></tr>\n",
       "<tr><td>number_outpatient</td>\n",
       "<td>206.6378479</td>\n",
       "<td>0.0513031</td>\n",
       "<td>0.0333020</td></tr>\n",
       "<tr><td>num_procedures</td>\n",
       "<td>184.5573120</td>\n",
       "<td>0.0458210</td>\n",
       "<td>0.0297435</td></tr></table></div>"
      ],
      "text/plain": [
       "variable            relative_importance    scaled_importance    percentage\n",
       "------------------  ---------------------  -------------------  ------------\n",
       "number_inpatient    4027.79                1                    0.649122\n",
       "num_medications     365.498                0.0907442            0.0589041\n",
       "number_emergency    364.902                0.0905963            0.058808\n",
       "number_diagnoses    363.527                0.0902548            0.0585864\n",
       "time_in_hospital    363.012                0.0901268            0.0585033\n",
       "num_lab_procedures  329.053                0.0816956            0.0530305\n",
       "number_outpatient   206.638                0.0513031            0.033302\n",
       "num_procedures      184.557                0.045821             0.0297435"
      ]
     },
     "metadata": {},
     "output_type": "display_data"
    },
    {
     "data": {
      "text/plain": []
     },
     "execution_count": 99,
     "metadata": {},
     "output_type": "execute_result"
    }
   ],
   "source": [
    "aml.leader"
   ]
  },
  {
   "cell_type": "code",
   "execution_count": 106,
   "metadata": {},
   "outputs": [],
   "source": [
    "a=aml.leaderboard"
   ]
  },
  {
   "cell_type": "code",
   "execution_count": 107,
   "metadata": {},
   "outputs": [
    {
     "data": {
      "text/plain": [
       "h2o.frame.H2OFrame"
      ]
     },
     "execution_count": 107,
     "metadata": {},
     "output_type": "execute_result"
    }
   ],
   "source": [
    "type(a)"
   ]
  },
  {
   "cell_type": "code",
   "execution_count": 121,
   "metadata": {},
   "outputs": [
    {
     "data": {
      "text/html": [
       "<table>\n",
       "<thead>\n",
       "<tr><th>model_id                                           </th><th style=\"text-align: right;\">     auc</th><th style=\"text-align: right;\">  logloss</th><th style=\"text-align: right;\">  mean_per_class_error</th><th style=\"text-align: right;\">    rmse</th><th style=\"text-align: right;\">     mse</th></tr>\n",
       "</thead>\n",
       "<tbody>\n",
       "<tr><td>GBM_grid_1_AutoML_20190416_154445_model_9          </td><td style=\"text-align: right;\">0.689646</td><td style=\"text-align: right;\"> 0.429881</td><td style=\"text-align: right;\">              0.473879</td><td style=\"text-align: right;\">0.365185</td><td style=\"text-align: right;\">0.13336 </td></tr>\n",
       "<tr><td>StackedEnsemble_AllModels_AutoML_20190416_154445   </td><td style=\"text-align: right;\">0.689616</td><td style=\"text-align: right;\"> 0.430082</td><td style=\"text-align: right;\">              0.469896</td><td style=\"text-align: right;\">0.365186</td><td style=\"text-align: right;\">0.133361</td></tr>\n",
       "<tr><td>StackedEnsemble_BestOfFamily_AutoML_20190416_154445</td><td style=\"text-align: right;\">0.688624</td><td style=\"text-align: right;\"> 0.430669</td><td style=\"text-align: right;\">              0.465692</td><td style=\"text-align: right;\">0.365407</td><td style=\"text-align: right;\">0.133522</td></tr>\n",
       "<tr><td>GBM_grid_1_AutoML_20190416_154445_model_5          </td><td style=\"text-align: right;\">0.687819</td><td style=\"text-align: right;\"> 0.430207</td><td style=\"text-align: right;\">              0.471858</td><td style=\"text-align: right;\">0.365249</td><td style=\"text-align: right;\">0.133407</td></tr>\n",
       "<tr><td>GBM_1_AutoML_20190416_154445                       </td><td style=\"text-align: right;\">0.687817</td><td style=\"text-align: right;\"> 0.430465</td><td style=\"text-align: right;\">              0.474701</td><td style=\"text-align: right;\">0.365519</td><td style=\"text-align: right;\">0.133604</td></tr>\n",
       "<tr><td>GBM_grid_1_AutoML_20190416_154445_model_1          </td><td style=\"text-align: right;\">0.68748 </td><td style=\"text-align: right;\"> 0.430199</td><td style=\"text-align: right;\">              0.469463</td><td style=\"text-align: right;\">0.365236</td><td style=\"text-align: right;\">0.133397</td></tr>\n",
       "<tr><td>GBM_grid_1_AutoML_20190416_154445_model_7          </td><td style=\"text-align: right;\">0.687317</td><td style=\"text-align: right;\"> 0.431156</td><td style=\"text-align: right;\">              0.473674</td><td style=\"text-align: right;\">0.365673</td><td style=\"text-align: right;\">0.133717</td></tr>\n",
       "<tr><td>GBM_2_AutoML_20190416_154445                       </td><td style=\"text-align: right;\">0.686721</td><td style=\"text-align: right;\"> 0.430653</td><td style=\"text-align: right;\">              0.47114 </td><td style=\"text-align: right;\">0.365536</td><td style=\"text-align: right;\">0.133617</td></tr>\n",
       "<tr><td>GBM_grid_1_AutoML_20190416_154445_model_2          </td><td style=\"text-align: right;\">0.686113</td><td style=\"text-align: right;\"> 0.430836</td><td style=\"text-align: right;\">              0.471662</td><td style=\"text-align: right;\">0.365589</td><td style=\"text-align: right;\">0.133655</td></tr>\n",
       "<tr><td>GBM_grid_1_AutoML_20190416_154445_model_10         </td><td style=\"text-align: right;\">0.685963</td><td style=\"text-align: right;\"> 0.454797</td><td style=\"text-align: right;\">              0.470467</td><td style=\"text-align: right;\">0.376829</td><td style=\"text-align: right;\">0.142   </td></tr>\n",
       "</tbody>\n",
       "</table>"
      ]
     },
     "metadata": {},
     "output_type": "display_data"
    },
    {
     "data": {
      "text/plain": []
     },
     "execution_count": 121,
     "metadata": {},
     "output_type": "execute_result"
    }
   ],
   "source": [
    "a"
   ]
  },
  {
   "cell_type": "code",
   "execution_count": 162,
   "metadata": {},
   "outputs": [],
   "source": [
    "b=a.as_data_frame(use_pandas=False, header=True)"
   ]
  },
  {
   "cell_type": "code",
   "execution_count": 165,
   "metadata": {},
   "outputs": [
    {
     "data": {
      "text/plain": [
       "list"
      ]
     },
     "execution_count": 165,
     "metadata": {},
     "output_type": "execute_result"
    }
   ],
   "source": [
    "type(b)"
   ]
  },
  {
   "cell_type": "code",
   "execution_count": 166,
   "metadata": {},
   "outputs": [
    {
     "data": {
      "text/plain": [
       "[['model_id', 'auc', 'logloss', 'mean_per_class_error', 'rmse', 'mse'],\n",
       " ['GBM_grid_1_AutoML_20190416_154445_model_9',\n",
       "  '0.6896461618619313',\n",
       "  '0.42988057085385384',\n",
       "  '0.4738793938195006',\n",
       "  '0.3651849000565878',\n",
       "  '0.13336001122934005'],\n",
       " ['StackedEnsemble_AllModels_AutoML_20190416_154445',\n",
       "  '0.6896155846220039',\n",
       "  '0.4300815397782149',\n",
       "  '0.4698957859601206',\n",
       "  '0.3651858014059971',\n",
       "  '0.13336066954854037'],\n",
       " ['StackedEnsemble_BestOfFamily_AutoML_20190416_154445',\n",
       "  '0.6886244554274262',\n",
       "  '0.430668719893012',\n",
       "  '0.46569241489196056',\n",
       "  '0.365406920734831',\n",
       "  '0.13352221772091105'],\n",
       " ['GBM_grid_1_AutoML_20190416_154445_model_5',\n",
       "  '0.6878191419785629',\n",
       "  '0.4302066286545963',\n",
       "  '0.4718577819101646',\n",
       "  '0.36524901539804727',\n",
       "  '0.13340684324924296'],\n",
       " ['GBM_1_AutoML_20190416_154445',\n",
       "  '0.6878171006645483',\n",
       "  '0.430465128206495',\n",
       "  '0.4747014159030769',\n",
       "  '0.3655187222691048',\n",
       "  '0.13360393632923892'],\n",
       " ['GBM_grid_1_AutoML_20190416_154445_model_1',\n",
       "  '0.687479581037314',\n",
       "  '0.4301994265905771',\n",
       "  '0.4694628027074827',\n",
       "  '0.3652360213667995',\n",
       "  '0.13339735130384928'],\n",
       " ['GBM_grid_1_AutoML_20190416_154445_model_7',\n",
       "  '0.6873165321079048',\n",
       "  '0.43115632676396515',\n",
       "  '0.4736738882986066',\n",
       "  '0.365672842787651',\n",
       "  '0.1337166279524021'],\n",
       " ['GBM_2_AutoML_20190416_154445',\n",
       "  '0.6867208259880965',\n",
       "  '0.43065253451159247',\n",
       "  '0.47113980519090976',\n",
       "  '0.3655362424865983',\n",
       "  '0.13361674457122116'],\n",
       " ['GBM_grid_1_AutoML_20190416_154445_model_2',\n",
       "  '0.6861129925450281',\n",
       "  '0.43083612329354354',\n",
       "  '0.4716623336283183',\n",
       "  '0.3655886909465098',\n",
       "  '0.13365509094798267'],\n",
       " ['GBM_grid_1_AutoML_20190416_154445_model_10',\n",
       "  '0.6859632190067608',\n",
       "  '0.4547971016475481',\n",
       "  '0.4704669442513964',\n",
       "  '0.37682934652478894',\n",
       "  '0.1420003564022995'],\n",
       " ['GBM_grid_1_AutoML_20190416_154445_model_8',\n",
       "  '0.6856802942543466',\n",
       "  '0.4407405593669055',\n",
       "  '0.4705950620509866',\n",
       "  '0.3703307956566384',\n",
       "  '0.13714489821167888'],\n",
       " ['GBM_3_AutoML_20190416_154445',\n",
       "  '0.6840542163905415',\n",
       "  '0.431849959116821',\n",
       "  '0.4728366796607675',\n",
       "  '0.3661132910817059',\n",
       "  '0.13403894190667792'],\n",
       " ['GLM_grid_1_AutoML_20190416_154445_model_1',\n",
       "  '0.6837824599548031',\n",
       "  '0.43326241947309446',\n",
       "  '0.47777018491164913',\n",
       "  '0.36654506247335744',\n",
       "  '0.13435528282359752'],\n",
       " ['DeepLearning_grid_1_AutoML_20190416_154445_model_2',\n",
       "  '0.6825293027612775',\n",
       "  '0.4346857044095358',\n",
       "  '0.4728962956200597',\n",
       "  '0.3670269632145743',\n",
       "  '0.13470879172651248'],\n",
       " ['GBM_5_AutoML_20190416_154445',\n",
       "  '0.6811897952449154',\n",
       "  '0.4322993555339823',\n",
       "  '0.4716733197337432',\n",
       "  '0.3660967973789476',\n",
       "  '0.13402686505112218'],\n",
       " ['DeepLearning_1_AutoML_20190416_154445',\n",
       "  '0.6803827843543984',\n",
       "  '0.433878640285301',\n",
       "  '0.47316351732466494',\n",
       "  '0.3667968477205126',\n",
       "  '0.13453992749770488'],\n",
       " ['GBM_4_AutoML_20190416_154445',\n",
       "  '0.6798779632885594',\n",
       "  '0.43390648753143835',\n",
       "  '0.47231859416386185',\n",
       "  '0.36705801889698086',\n",
       "  '0.13473158923657635'],\n",
       " ['GBM_grid_1_AutoML_20190416_154445_model_4',\n",
       "  '0.676397828405763',\n",
       "  '0.4350237645639575',\n",
       "  '0.48502176662723834',\n",
       "  '0.3675681613894444',\n",
       "  '0.13510635326721665'],\n",
       " ['DeepLearning_grid_1_AutoML_20190416_154445_model_1',\n",
       "  '0.6725252817288712',\n",
       "  '0.438972011415748',\n",
       "  '0.47158938884751733',\n",
       "  '0.36758915927733943',\n",
       "  '0.13512179001822122'],\n",
       " ['GBM_grid_1_AutoML_20190416_154445_model_6',\n",
       "  '0.6648889150615486',\n",
       "  '0.44675174882591673',\n",
       "  '0.4858063874540369',\n",
       "  '0.3725241647552824',\n",
       "  '0.13877425332662077'],\n",
       " ['XRT_1_AutoML_20190416_154445',\n",
       "  '0.664663470423763',\n",
       "  '0.4455434986497522',\n",
       "  '0.472507741772451',\n",
       "  '0.3708339259209408',\n",
       "  '0.13751780061393784'],\n",
       " ['DRF_1_AutoML_20190416_154445',\n",
       "  '0.6554351336468014',\n",
       "  '0.45998187041806504',\n",
       "  '0.4844452365290825',\n",
       "  '0.3747944104920617',\n",
       "  '0.14047085013609203'],\n",
       " ['GBM_grid_1_AutoML_20190416_154445_model_3',\n",
       "  '0.6535169081272624',\n",
       "  '0.4612405169745286',\n",
       "  '0.4919652113073189',\n",
       "  '0.3779361707257627',\n",
       "  '0.14283574914285285'],\n",
       " ['GBM_grid_1_AutoML_20190416_154445_model_11',\n",
       "  '0.6182298334245568',\n",
       "  '0.4605300481043125',\n",
       "  '0.4958992604464546',\n",
       "  '0.379266168434704',\n",
       "  '0.14384282651914126'],\n",
       " ['DeepLearning_grid_1_AutoML_20190416_154445_model_3',\n",
       "  '0.6092569746315741',\n",
       "  '0.5365798819440444',\n",
       "  '0.48581830242583895',\n",
       "  '0.38772983972096353',\n",
       "  '0.15033442861004406']]"
      ]
     },
     "execution_count": 166,
     "metadata": {},
     "output_type": "execute_result"
    }
   ],
   "source": [
    "b"
   ]
  },
  {
   "cell_type": "code",
   "execution_count": 167,
   "metadata": {},
   "outputs": [
    {
     "data": {
      "text/plain": [
       "'GBM_grid_1_AutoML_20190416_154445_model_9'"
      ]
     },
     "execution_count": 167,
     "metadata": {},
     "output_type": "execute_result"
    }
   ],
   "source": [
    "b[1][0]"
   ]
  },
  {
   "cell_type": "code",
   "execution_count": 168,
   "metadata": {},
   "outputs": [],
   "source": [
    "c=a.as_data_frame()"
   ]
  },
  {
   "cell_type": "code",
   "execution_count": 169,
   "metadata": {},
   "outputs": [
    {
     "data": {
      "text/plain": [
       "pandas.core.frame.DataFrame"
      ]
     },
     "execution_count": 169,
     "metadata": {},
     "output_type": "execute_result"
    }
   ],
   "source": [
    "type(c)"
   ]
  },
  {
   "cell_type": "code",
   "execution_count": 170,
   "metadata": {},
   "outputs": [
    {
     "data": {
      "text/html": [
       "<div>\n",
       "<style scoped>\n",
       "    .dataframe tbody tr th:only-of-type {\n",
       "        vertical-align: middle;\n",
       "    }\n",
       "\n",
       "    .dataframe tbody tr th {\n",
       "        vertical-align: top;\n",
       "    }\n",
       "\n",
       "    .dataframe thead th {\n",
       "        text-align: right;\n",
       "    }\n",
       "</style>\n",
       "<table border=\"1\" class=\"dataframe\">\n",
       "  <thead>\n",
       "    <tr style=\"text-align: right;\">\n",
       "      <th></th>\n",
       "      <th>model_id</th>\n",
       "      <th>auc</th>\n",
       "      <th>logloss</th>\n",
       "      <th>mean_per_class_error</th>\n",
       "      <th>rmse</th>\n",
       "      <th>mse</th>\n",
       "    </tr>\n",
       "  </thead>\n",
       "  <tbody>\n",
       "    <tr>\n",
       "      <th>0</th>\n",
       "      <td>GBM_grid_1_AutoML_20190416_154445_model_9</td>\n",
       "      <td>0.689646</td>\n",
       "      <td>0.429881</td>\n",
       "      <td>0.473879</td>\n",
       "      <td>0.365185</td>\n",
       "      <td>0.133360</td>\n",
       "    </tr>\n",
       "    <tr>\n",
       "      <th>1</th>\n",
       "      <td>StackedEnsemble_AllModels_AutoML_20190416_154445</td>\n",
       "      <td>0.689616</td>\n",
       "      <td>0.430082</td>\n",
       "      <td>0.469896</td>\n",
       "      <td>0.365186</td>\n",
       "      <td>0.133361</td>\n",
       "    </tr>\n",
       "    <tr>\n",
       "      <th>2</th>\n",
       "      <td>StackedEnsemble_BestOfFamily_AutoML_20190416_1...</td>\n",
       "      <td>0.688624</td>\n",
       "      <td>0.430669</td>\n",
       "      <td>0.465692</td>\n",
       "      <td>0.365407</td>\n",
       "      <td>0.133522</td>\n",
       "    </tr>\n",
       "    <tr>\n",
       "      <th>3</th>\n",
       "      <td>GBM_grid_1_AutoML_20190416_154445_model_5</td>\n",
       "      <td>0.687819</td>\n",
       "      <td>0.430207</td>\n",
       "      <td>0.471858</td>\n",
       "      <td>0.365249</td>\n",
       "      <td>0.133407</td>\n",
       "    </tr>\n",
       "    <tr>\n",
       "      <th>4</th>\n",
       "      <td>GBM_1_AutoML_20190416_154445</td>\n",
       "      <td>0.687817</td>\n",
       "      <td>0.430465</td>\n",
       "      <td>0.474701</td>\n",
       "      <td>0.365519</td>\n",
       "      <td>0.133604</td>\n",
       "    </tr>\n",
       "    <tr>\n",
       "      <th>5</th>\n",
       "      <td>GBM_grid_1_AutoML_20190416_154445_model_1</td>\n",
       "      <td>0.687480</td>\n",
       "      <td>0.430199</td>\n",
       "      <td>0.469463</td>\n",
       "      <td>0.365236</td>\n",
       "      <td>0.133397</td>\n",
       "    </tr>\n",
       "    <tr>\n",
       "      <th>6</th>\n",
       "      <td>GBM_grid_1_AutoML_20190416_154445_model_7</td>\n",
       "      <td>0.687317</td>\n",
       "      <td>0.431156</td>\n",
       "      <td>0.473674</td>\n",
       "      <td>0.365673</td>\n",
       "      <td>0.133717</td>\n",
       "    </tr>\n",
       "    <tr>\n",
       "      <th>7</th>\n",
       "      <td>GBM_2_AutoML_20190416_154445</td>\n",
       "      <td>0.686721</td>\n",
       "      <td>0.430653</td>\n",
       "      <td>0.471140</td>\n",
       "      <td>0.365536</td>\n",
       "      <td>0.133617</td>\n",
       "    </tr>\n",
       "    <tr>\n",
       "      <th>8</th>\n",
       "      <td>GBM_grid_1_AutoML_20190416_154445_model_2</td>\n",
       "      <td>0.686113</td>\n",
       "      <td>0.430836</td>\n",
       "      <td>0.471662</td>\n",
       "      <td>0.365589</td>\n",
       "      <td>0.133655</td>\n",
       "    </tr>\n",
       "    <tr>\n",
       "      <th>9</th>\n",
       "      <td>GBM_grid_1_AutoML_20190416_154445_model_10</td>\n",
       "      <td>0.685963</td>\n",
       "      <td>0.454797</td>\n",
       "      <td>0.470467</td>\n",
       "      <td>0.376829</td>\n",
       "      <td>0.142000</td>\n",
       "    </tr>\n",
       "    <tr>\n",
       "      <th>10</th>\n",
       "      <td>GBM_grid_1_AutoML_20190416_154445_model_8</td>\n",
       "      <td>0.685680</td>\n",
       "      <td>0.440741</td>\n",
       "      <td>0.470595</td>\n",
       "      <td>0.370331</td>\n",
       "      <td>0.137145</td>\n",
       "    </tr>\n",
       "    <tr>\n",
       "      <th>11</th>\n",
       "      <td>GBM_3_AutoML_20190416_154445</td>\n",
       "      <td>0.684054</td>\n",
       "      <td>0.431850</td>\n",
       "      <td>0.472837</td>\n",
       "      <td>0.366113</td>\n",
       "      <td>0.134039</td>\n",
       "    </tr>\n",
       "    <tr>\n",
       "      <th>12</th>\n",
       "      <td>GLM_grid_1_AutoML_20190416_154445_model_1</td>\n",
       "      <td>0.683782</td>\n",
       "      <td>0.433262</td>\n",
       "      <td>0.477770</td>\n",
       "      <td>0.366545</td>\n",
       "      <td>0.134355</td>\n",
       "    </tr>\n",
       "    <tr>\n",
       "      <th>13</th>\n",
       "      <td>DeepLearning_grid_1_AutoML_20190416_154445_mod...</td>\n",
       "      <td>0.682529</td>\n",
       "      <td>0.434686</td>\n",
       "      <td>0.472896</td>\n",
       "      <td>0.367027</td>\n",
       "      <td>0.134709</td>\n",
       "    </tr>\n",
       "    <tr>\n",
       "      <th>14</th>\n",
       "      <td>GBM_5_AutoML_20190416_154445</td>\n",
       "      <td>0.681190</td>\n",
       "      <td>0.432299</td>\n",
       "      <td>0.471673</td>\n",
       "      <td>0.366097</td>\n",
       "      <td>0.134027</td>\n",
       "    </tr>\n",
       "    <tr>\n",
       "      <th>15</th>\n",
       "      <td>DeepLearning_1_AutoML_20190416_154445</td>\n",
       "      <td>0.680383</td>\n",
       "      <td>0.433879</td>\n",
       "      <td>0.473164</td>\n",
       "      <td>0.366797</td>\n",
       "      <td>0.134540</td>\n",
       "    </tr>\n",
       "    <tr>\n",
       "      <th>16</th>\n",
       "      <td>GBM_4_AutoML_20190416_154445</td>\n",
       "      <td>0.679878</td>\n",
       "      <td>0.433906</td>\n",
       "      <td>0.472319</td>\n",
       "      <td>0.367058</td>\n",
       "      <td>0.134732</td>\n",
       "    </tr>\n",
       "    <tr>\n",
       "      <th>17</th>\n",
       "      <td>GBM_grid_1_AutoML_20190416_154445_model_4</td>\n",
       "      <td>0.676398</td>\n",
       "      <td>0.435024</td>\n",
       "      <td>0.485022</td>\n",
       "      <td>0.367568</td>\n",
       "      <td>0.135106</td>\n",
       "    </tr>\n",
       "    <tr>\n",
       "      <th>18</th>\n",
       "      <td>DeepLearning_grid_1_AutoML_20190416_154445_mod...</td>\n",
       "      <td>0.672525</td>\n",
       "      <td>0.438972</td>\n",
       "      <td>0.471589</td>\n",
       "      <td>0.367589</td>\n",
       "      <td>0.135122</td>\n",
       "    </tr>\n",
       "    <tr>\n",
       "      <th>19</th>\n",
       "      <td>GBM_grid_1_AutoML_20190416_154445_model_6</td>\n",
       "      <td>0.664889</td>\n",
       "      <td>0.446752</td>\n",
       "      <td>0.485806</td>\n",
       "      <td>0.372524</td>\n",
       "      <td>0.138774</td>\n",
       "    </tr>\n",
       "    <tr>\n",
       "      <th>20</th>\n",
       "      <td>XRT_1_AutoML_20190416_154445</td>\n",
       "      <td>0.664663</td>\n",
       "      <td>0.445543</td>\n",
       "      <td>0.472508</td>\n",
       "      <td>0.370834</td>\n",
       "      <td>0.137518</td>\n",
       "    </tr>\n",
       "    <tr>\n",
       "      <th>21</th>\n",
       "      <td>DRF_1_AutoML_20190416_154445</td>\n",
       "      <td>0.655435</td>\n",
       "      <td>0.459982</td>\n",
       "      <td>0.484445</td>\n",
       "      <td>0.374794</td>\n",
       "      <td>0.140471</td>\n",
       "    </tr>\n",
       "    <tr>\n",
       "      <th>22</th>\n",
       "      <td>GBM_grid_1_AutoML_20190416_154445_model_3</td>\n",
       "      <td>0.653517</td>\n",
       "      <td>0.461241</td>\n",
       "      <td>0.491965</td>\n",
       "      <td>0.377936</td>\n",
       "      <td>0.142836</td>\n",
       "    </tr>\n",
       "    <tr>\n",
       "      <th>23</th>\n",
       "      <td>GBM_grid_1_AutoML_20190416_154445_model_11</td>\n",
       "      <td>0.618230</td>\n",
       "      <td>0.460530</td>\n",
       "      <td>0.495899</td>\n",
       "      <td>0.379266</td>\n",
       "      <td>0.143843</td>\n",
       "    </tr>\n",
       "    <tr>\n",
       "      <th>24</th>\n",
       "      <td>DeepLearning_grid_1_AutoML_20190416_154445_mod...</td>\n",
       "      <td>0.609257</td>\n",
       "      <td>0.536580</td>\n",
       "      <td>0.485818</td>\n",
       "      <td>0.387730</td>\n",
       "      <td>0.150334</td>\n",
       "    </tr>\n",
       "  </tbody>\n",
       "</table>\n",
       "</div>"
      ],
      "text/plain": [
       "                                             model_id       auc   logloss  \\\n",
       "0           GBM_grid_1_AutoML_20190416_154445_model_9  0.689646  0.429881   \n",
       "1    StackedEnsemble_AllModels_AutoML_20190416_154445  0.689616  0.430082   \n",
       "2   StackedEnsemble_BestOfFamily_AutoML_20190416_1...  0.688624  0.430669   \n",
       "3           GBM_grid_1_AutoML_20190416_154445_model_5  0.687819  0.430207   \n",
       "4                        GBM_1_AutoML_20190416_154445  0.687817  0.430465   \n",
       "5           GBM_grid_1_AutoML_20190416_154445_model_1  0.687480  0.430199   \n",
       "6           GBM_grid_1_AutoML_20190416_154445_model_7  0.687317  0.431156   \n",
       "7                        GBM_2_AutoML_20190416_154445  0.686721  0.430653   \n",
       "8           GBM_grid_1_AutoML_20190416_154445_model_2  0.686113  0.430836   \n",
       "9          GBM_grid_1_AutoML_20190416_154445_model_10  0.685963  0.454797   \n",
       "10          GBM_grid_1_AutoML_20190416_154445_model_8  0.685680  0.440741   \n",
       "11                       GBM_3_AutoML_20190416_154445  0.684054  0.431850   \n",
       "12          GLM_grid_1_AutoML_20190416_154445_model_1  0.683782  0.433262   \n",
       "13  DeepLearning_grid_1_AutoML_20190416_154445_mod...  0.682529  0.434686   \n",
       "14                       GBM_5_AutoML_20190416_154445  0.681190  0.432299   \n",
       "15              DeepLearning_1_AutoML_20190416_154445  0.680383  0.433879   \n",
       "16                       GBM_4_AutoML_20190416_154445  0.679878  0.433906   \n",
       "17          GBM_grid_1_AutoML_20190416_154445_model_4  0.676398  0.435024   \n",
       "18  DeepLearning_grid_1_AutoML_20190416_154445_mod...  0.672525  0.438972   \n",
       "19          GBM_grid_1_AutoML_20190416_154445_model_6  0.664889  0.446752   \n",
       "20                       XRT_1_AutoML_20190416_154445  0.664663  0.445543   \n",
       "21                       DRF_1_AutoML_20190416_154445  0.655435  0.459982   \n",
       "22          GBM_grid_1_AutoML_20190416_154445_model_3  0.653517  0.461241   \n",
       "23         GBM_grid_1_AutoML_20190416_154445_model_11  0.618230  0.460530   \n",
       "24  DeepLearning_grid_1_AutoML_20190416_154445_mod...  0.609257  0.536580   \n",
       "\n",
       "    mean_per_class_error      rmse       mse  \n",
       "0               0.473879  0.365185  0.133360  \n",
       "1               0.469896  0.365186  0.133361  \n",
       "2               0.465692  0.365407  0.133522  \n",
       "3               0.471858  0.365249  0.133407  \n",
       "4               0.474701  0.365519  0.133604  \n",
       "5               0.469463  0.365236  0.133397  \n",
       "6               0.473674  0.365673  0.133717  \n",
       "7               0.471140  0.365536  0.133617  \n",
       "8               0.471662  0.365589  0.133655  \n",
       "9               0.470467  0.376829  0.142000  \n",
       "10              0.470595  0.370331  0.137145  \n",
       "11              0.472837  0.366113  0.134039  \n",
       "12              0.477770  0.366545  0.134355  \n",
       "13              0.472896  0.367027  0.134709  \n",
       "14              0.471673  0.366097  0.134027  \n",
       "15              0.473164  0.366797  0.134540  \n",
       "16              0.472319  0.367058  0.134732  \n",
       "17              0.485022  0.367568  0.135106  \n",
       "18              0.471589  0.367589  0.135122  \n",
       "19              0.485806  0.372524  0.138774  \n",
       "20              0.472508  0.370834  0.137518  \n",
       "21              0.484445  0.374794  0.140471  \n",
       "22              0.491965  0.377936  0.142836  \n",
       "23              0.495899  0.379266  0.143843  \n",
       "24              0.485818  0.387730  0.150334  "
      ]
     },
     "execution_count": 170,
     "metadata": {},
     "output_type": "execute_result"
    }
   ],
   "source": [
    "c"
   ]
  },
  {
   "cell_type": "code",
   "execution_count": 188,
   "metadata": {},
   "outputs": [
    {
     "data": {
      "text/plain": [
       "'GBM_grid_1_AutoML_20190416_154445_model_9'"
      ]
     },
     "execution_count": 188,
     "metadata": {},
     "output_type": "execute_result"
    }
   ],
   "source": [
    "c['model_id'][0]"
   ]
  },
  {
   "cell_type": "code",
   "execution_count": 245,
   "metadata": {},
   "outputs": [],
   "source": [
    "model1= c['model_id'][0]"
   ]
  },
  {
   "cell_type": "code",
   "execution_count": 246,
   "metadata": {},
   "outputs": [
    {
     "name": "stdout",
     "output_type": "stream",
     "text": [
      "GBM_grid_1_AutoML_20190416_154445_model_9\n"
     ]
    }
   ],
   "source": [
    "print(model1)"
   ]
  },
  {
   "cell_type": "code",
   "execution_count": 224,
   "metadata": {},
   "outputs": [
    {
     "data": {
      "text/plain": [
       "dict"
      ]
     },
     "execution_count": 224,
     "metadata": {},
     "output_type": "execute_result"
    }
   ],
   "source": [
    "testModel=h2o.get_model(model1)\n",
    "d=testModel.params\n",
    "type(d)"
   ]
  },
  {
   "cell_type": "code",
   "execution_count": 230,
   "metadata": {},
   "outputs": [
    {
     "data": {
      "text/plain": [
       "56"
      ]
     },
     "execution_count": 230,
     "metadata": {},
     "output_type": "execute_result"
    }
   ],
   "source": [
    "len(d)"
   ]
  },
  {
   "cell_type": "code",
   "execution_count": 231,
   "metadata": {},
   "outputs": [],
   "source": [
    "model2= c['model_id'][1]"
   ]
  },
  {
   "cell_type": "code",
   "execution_count": 232,
   "metadata": {},
   "outputs": [
    {
     "data": {
      "text/plain": [
       "'StackedEnsemble_AllModels_AutoML_20190416_154445'"
      ]
     },
     "execution_count": 232,
     "metadata": {},
     "output_type": "execute_result"
    }
   ],
   "source": [
    "model2"
   ]
  },
  {
   "cell_type": "code",
   "execution_count": 270,
   "metadata": {},
   "outputs": [],
   "source": [
    "#declaring a dictionary\n",
    "dict_1={}"
   ]
  },
  {
   "cell_type": "code",
   "execution_count": 271,
   "metadata": {},
   "outputs": [
    {
     "data": {
      "text/plain": [
       "dict"
      ]
     },
     "execution_count": 271,
     "metadata": {},
     "output_type": "execute_result"
    }
   ],
   "source": [
    "type(dict_1)"
   ]
  },
  {
   "cell_type": "code",
   "execution_count": 248,
   "metadata": {},
   "outputs": [
    {
     "name": "stdout",
     "output_type": "stream",
     "text": [
      "GBM_grid_1_AutoML_20190416_154445_model_5\n"
     ]
    }
   ],
   "source": [
    "model3= c['model_id'][3]\n",
    "print(model3)"
   ]
  },
  {
   "cell_type": "code",
   "execution_count": 251,
   "metadata": {},
   "outputs": [
    {
     "name": "stdout",
     "output_type": "stream",
     "text": [
      "GBM_1_AutoML_20190416_154445\n"
     ]
    }
   ],
   "source": [
    "model4= c['model_id'][4]\n",
    "print(model4)"
   ]
  },
  {
   "cell_type": "code",
   "execution_count": 193,
   "metadata": {},
   "outputs": [
    {
     "data": {
      "text/plain": [
       "h2o.estimators.gbm.H2OGradientBoostingEstimator"
      ]
     },
     "execution_count": 193,
     "metadata": {},
     "output_type": "execute_result"
    }
   ],
   "source": [
    "type(testModel)"
   ]
  },
  {
   "cell_type": "code",
   "execution_count": 272,
   "metadata": {},
   "outputs": [
    {
     "name": "stdout",
     "output_type": "stream",
     "text": [
      "Model names:  GBM_grid_1_AutoML_20190416_154445_model_9\n",
      "Model names:  StackedEnsemble_AllModels_AutoML_20190416_154445\n",
      "Model names:  StackedEnsemble_BestOfFamily_AutoML_20190416_154445\n",
      "Model names:  GBM_grid_1_AutoML_20190416_154445_model_5\n",
      "Model names:  GBM_1_AutoML_20190416_154445\n",
      "Model names:  GBM_grid_1_AutoML_20190416_154445_model_1\n",
      "Model names:  GBM_grid_1_AutoML_20190416_154445_model_7\n",
      "Model names:  GBM_2_AutoML_20190416_154445\n",
      "Model names:  GBM_grid_1_AutoML_20190416_154445_model_2\n",
      "Model names:  GBM_grid_1_AutoML_20190416_154445_model_10\n",
      "Model names:  GBM_grid_1_AutoML_20190416_154445_model_8\n",
      "Model names:  GBM_3_AutoML_20190416_154445\n",
      "Model names:  GLM_grid_1_AutoML_20190416_154445_model_1\n",
      "Model names:  DeepLearning_grid_1_AutoML_20190416_154445_model_2\n",
      "Model names:  GBM_5_AutoML_20190416_154445\n",
      "Model names:  DeepLearning_1_AutoML_20190416_154445\n",
      "Model names:  GBM_4_AutoML_20190416_154445\n",
      "Model names:  GBM_grid_1_AutoML_20190416_154445_model_4\n",
      "Model names:  DeepLearning_grid_1_AutoML_20190416_154445_model_1\n",
      "Model names:  GBM_grid_1_AutoML_20190416_154445_model_6\n",
      "Model names:  XRT_1_AutoML_20190416_154445\n",
      "Model names:  DRF_1_AutoML_20190416_154445\n",
      "Model names:  GBM_grid_1_AutoML_20190416_154445_model_3\n",
      "Model names:  GBM_grid_1_AutoML_20190416_154445_model_11\n",
      "Model names:  DeepLearning_grid_1_AutoML_20190416_154445_model_3\n"
     ]
    }
   ],
   "source": [
    "for i in range(0, len(c)):\n",
    "    #print(\"Working:\",i,\"\\n\")\n",
    "    modelName=c['model_id'][i]\n",
    "    print(\"Model names: \", modelName)\n",
    "    testModel=h2o.get_model(modelName)\n",
    "    #print(type(testModel))\n",
    "    dict_1[modelName]=testModel.params\n",
    "    #dict_1=testModel.params"
   ]
  },
  {
   "cell_type": "code",
   "execution_count": 273,
   "metadata": {},
   "outputs": [
    {
     "data": {
      "text/plain": [
       "25"
      ]
     },
     "execution_count": 273,
     "metadata": {},
     "output_type": "execute_result"
    }
   ],
   "source": [
    "len(dict_1)"
   ]
  },
  {
   "cell_type": "code",
   "execution_count": 276,
   "metadata": {},
   "outputs": [
    {
     "name": "stdout",
     "output_type": "stream",
     "text": [
      "This dictionary contains these keys:    dict_keys(['GBM_grid_1_AutoML_20190416_154445_model_9', 'StackedEnsemble_AllModels_AutoML_20190416_154445', 'StackedEnsemble_BestOfFamily_AutoML_20190416_154445', 'GBM_grid_1_AutoML_20190416_154445_model_5', 'GBM_1_AutoML_20190416_154445', 'GBM_grid_1_AutoML_20190416_154445_model_1', 'GBM_grid_1_AutoML_20190416_154445_model_7', 'GBM_2_AutoML_20190416_154445', 'GBM_grid_1_AutoML_20190416_154445_model_2', 'GBM_grid_1_AutoML_20190416_154445_model_10', 'GBM_grid_1_AutoML_20190416_154445_model_8', 'GBM_3_AutoML_20190416_154445', 'GLM_grid_1_AutoML_20190416_154445_model_1', 'DeepLearning_grid_1_AutoML_20190416_154445_model_2', 'GBM_5_AutoML_20190416_154445', 'DeepLearning_1_AutoML_20190416_154445', 'GBM_4_AutoML_20190416_154445', 'GBM_grid_1_AutoML_20190416_154445_model_4', 'DeepLearning_grid_1_AutoML_20190416_154445_model_1', 'GBM_grid_1_AutoML_20190416_154445_model_6', 'XRT_1_AutoML_20190416_154445', 'DRF_1_AutoML_20190416_154445', 'GBM_grid_1_AutoML_20190416_154445_model_3', 'GBM_grid_1_AutoML_20190416_154445_model_11', 'DeepLearning_grid_1_AutoML_20190416_154445_model_3'])\n"
     ]
    }
   ],
   "source": [
    "keyNames = dict_1.keys()\n",
    "print(\"This dictionary contains these keys: \", \" \", keyNames) "
   ]
  },
  {
   "cell_type": "code",
   "execution_count": 278,
   "metadata": {},
   "outputs": [
    {
     "data": {
      "text/plain": [
       "{'model_id': {'default': None,\n",
       "  'actual': {'__meta': {'schema_version': 3,\n",
       "    'schema_name': 'ModelKeyV3',\n",
       "    'schema_type': 'Key<Model>'},\n",
       "   'name': 'GBM_grid_1_AutoML_20190416_154445_model_9',\n",
       "   'type': 'Key<Model>',\n",
       "   'URL': '/3/Models/GBM_grid_1_AutoML_20190416_154445_model_9'}},\n",
       " 'training_frame': {'default': None,\n",
       "  'actual': {'__meta': {'schema_version': 3,\n",
       "    'schema_name': 'FrameKeyV3',\n",
       "    'schema_type': 'Key<Frame>'},\n",
       "   'name': 'automl_training_py_11_sid_b996',\n",
       "   'type': 'Key<Frame>',\n",
       "   'URL': '/3/Frames/automl_training_py_11_sid_b996'}},\n",
       " 'validation_frame': {'default': None, 'actual': None},\n",
       " 'nfolds': {'default': 0, 'actual': 5},\n",
       " 'keep_cross_validation_models': {'default': True, 'actual': False},\n",
       " 'keep_cross_validation_predictions': {'default': False, 'actual': True},\n",
       " 'keep_cross_validation_fold_assignment': {'default': False, 'actual': False},\n",
       " 'score_each_iteration': {'default': False, 'actual': False},\n",
       " 'score_tree_interval': {'default': 0, 'actual': 5},\n",
       " 'fold_assignment': {'default': 'AUTO', 'actual': 'Modulo'},\n",
       " 'fold_column': {'default': None, 'actual': None},\n",
       " 'response_column': {'default': None,\n",
       "  'actual': {'__meta': {'schema_version': 3,\n",
       "    'schema_name': 'ColSpecifierV3',\n",
       "    'schema_type': 'VecSpecifier'},\n",
       "   'column_name': 'readmitted',\n",
       "   'is_member_of_frames': None}},\n",
       " 'ignored_columns': {'default': None,\n",
       "  'actual': ['discharge_disposition_id',\n",
       "   'medical_specialty',\n",
       "   'diabetesMed',\n",
       "   'rosiglitazone',\n",
       "   'acarbose',\n",
       "   'glipizide-metformin',\n",
       "   'admission_source_id',\n",
       "   'troglitazone',\n",
       "   'id',\n",
       "   'nateglinide',\n",
       "   'repaglinide',\n",
       "   'tolazamide',\n",
       "   'diag_1',\n",
       "   'glimepiride',\n",
       "   'acetohexamide',\n",
       "   'insulin',\n",
       "   'max_glu_serum',\n",
       "   'pioglitazone',\n",
       "   'diag_2',\n",
       "   'weight',\n",
       "   'tolbutamide',\n",
       "   'miglitol',\n",
       "   'A1Cresult',\n",
       "   'metformin-rosiglitazone',\n",
       "   'glyburide-metformin',\n",
       "   'admission_type_id',\n",
       "   'race',\n",
       "   'age',\n",
       "   'diag_3',\n",
       "   'metformin',\n",
       "   'gender',\n",
       "   'patient_nbr',\n",
       "   'metformin-pioglitazone',\n",
       "   'examide',\n",
       "   'payer_code',\n",
       "   'chlorpropamide',\n",
       "   'glyburide',\n",
       "   'citoglipton',\n",
       "   'glipizide',\n",
       "   'change',\n",
       "   'glimepiride-pioglitazone']},\n",
       " 'ignore_const_cols': {'default': True, 'actual': True},\n",
       " 'offset_column': {'default': None, 'actual': None},\n",
       " 'weights_column': {'default': None, 'actual': None},\n",
       " 'balance_classes': {'default': False, 'actual': False},\n",
       " 'class_sampling_factors': {'default': None, 'actual': None},\n",
       " 'max_after_balance_size': {'default': 5.0, 'actual': 5.0},\n",
       " 'max_confusion_matrix_size': {'default': 20, 'actual': 20},\n",
       " 'max_hit_ratio_k': {'default': 0, 'actual': 0},\n",
       " 'ntrees': {'default': 50, 'actual': 54},\n",
       " 'max_depth': {'default': 5, 'actual': 6},\n",
       " 'min_rows': {'default': 10.0, 'actual': 5.0},\n",
       " 'nbins': {'default': 20, 'actual': 20},\n",
       " 'nbins_top_level': {'default': 1024, 'actual': 1024},\n",
       " 'nbins_cats': {'default': 1024, 'actual': 1024},\n",
       " 'r2_stopping': {'default': 1.7976931348623157e+308,\n",
       "  'actual': 1.7976931348623157e+308},\n",
       " 'stopping_rounds': {'default': 0, 'actual': 0},\n",
       " 'stopping_metric': {'default': 'AUTO', 'actual': 'logloss'},\n",
       " 'stopping_tolerance': {'default': 0.001, 'actual': 0.004472091234310839},\n",
       " 'max_runtime_secs': {'default': 0.0, 'actual': 0.0},\n",
       " 'seed': {'default': -1, 'actual': -6601694988336355212},\n",
       " 'build_tree_one_node': {'default': False, 'actual': False},\n",
       " 'learn_rate': {'default': 0.1, 'actual': 0.05},\n",
       " 'learn_rate_annealing': {'default': 1.0, 'actual': 1.0},\n",
       " 'distribution': {'default': 'AUTO', 'actual': 'bernoulli'},\n",
       " 'quantile_alpha': {'default': 0.5, 'actual': 0.5},\n",
       " 'tweedie_power': {'default': 1.5, 'actual': 1.5},\n",
       " 'huber_alpha': {'default': 0.9, 'actual': 0.9},\n",
       " 'checkpoint': {'default': None, 'actual': None},\n",
       " 'sample_rate': {'default': 1.0, 'actual': 0.5},\n",
       " 'sample_rate_per_class': {'default': None, 'actual': None},\n",
       " 'col_sample_rate': {'default': 1.0, 'actual': 0.4},\n",
       " 'col_sample_rate_change_per_level': {'default': 1.0, 'actual': 1.0},\n",
       " 'col_sample_rate_per_tree': {'default': 1.0, 'actual': 1.0},\n",
       " 'min_split_improvement': {'default': 1e-05, 'actual': 0.0001},\n",
       " 'histogram_type': {'default': 'AUTO', 'actual': 'AUTO'},\n",
       " 'max_abs_leafnode_pred': {'default': 1.7976931348623157e+308,\n",
       "  'actual': 1.7976931348623157e+308},\n",
       " 'pred_noise_bandwidth': {'default': 0.0, 'actual': 0.0},\n",
       " 'categorical_encoding': {'default': 'AUTO', 'actual': 'AUTO'},\n",
       " 'calibrate_model': {'default': False, 'actual': False},\n",
       " 'calibration_frame': {'default': None, 'actual': None},\n",
       " 'custom_metric_func': {'default': None, 'actual': None},\n",
       " 'export_checkpoints_dir': {'default': None, 'actual': None},\n",
       " 'monotone_constraints': {'default': None, 'actual': None}}"
      ]
     },
     "execution_count": 278,
     "metadata": {},
     "output_type": "execute_result"
    }
   ],
   "source": [
    "dict_1[model1]"
   ]
  },
  {
   "cell_type": "code",
   "execution_count": null,
   "metadata": {},
   "outputs": [],
   "source": []
  },
  {
   "cell_type": "code",
   "execution_count": 50,
   "metadata": {},
   "outputs": [],
   "source": [
    "\n",
    "# get leaderboard in data frame\n",
    "aml_leaderboard_df=aml.leaderboard.as_data_frame()"
   ]
  },
  {
   "cell_type": "code",
   "execution_count": 51,
   "metadata": {},
   "outputs": [
    {
     "data": {
      "text/plain": [
       "'gbm'"
      ]
     },
     "execution_count": 51,
     "metadata": {},
     "output_type": "execute_result"
    }
   ],
   "source": [
    "# Which algorith of aml\n",
    "\n",
    "aml.leader.algo"
   ]
  },
  {
   "cell_type": "code",
   "execution_count": 52,
   "metadata": {},
   "outputs": [
    {
     "data": {
      "text/html": [
       "<div>\n",
       "<style scoped>\n",
       "    .dataframe tbody tr th:only-of-type {\n",
       "        vertical-align: middle;\n",
       "    }\n",
       "\n",
       "    .dataframe tbody tr th {\n",
       "        vertical-align: top;\n",
       "    }\n",
       "\n",
       "    .dataframe thead th {\n",
       "        text-align: right;\n",
       "    }\n",
       "</style>\n",
       "<table border=\"1\" class=\"dataframe\">\n",
       "  <thead>\n",
       "    <tr style=\"text-align: right;\">\n",
       "      <th></th>\n",
       "      <th>model_id</th>\n",
       "      <th>auc</th>\n",
       "      <th>logloss</th>\n",
       "      <th>mean_per_class_error</th>\n",
       "      <th>rmse</th>\n",
       "      <th>mse</th>\n",
       "    </tr>\n",
       "  </thead>\n",
       "  <tbody>\n",
       "    <tr>\n",
       "      <th>0</th>\n",
       "      <td>GBM_grid_1_AutoML_20190416_154445_model_9</td>\n",
       "      <td>0.689646</td>\n",
       "      <td>0.429881</td>\n",
       "      <td>0.473879</td>\n",
       "      <td>0.365185</td>\n",
       "      <td>0.133360</td>\n",
       "    </tr>\n",
       "    <tr>\n",
       "      <th>1</th>\n",
       "      <td>StackedEnsemble_AllModels_AutoML_20190416_154445</td>\n",
       "      <td>0.689616</td>\n",
       "      <td>0.430082</td>\n",
       "      <td>0.469896</td>\n",
       "      <td>0.365186</td>\n",
       "      <td>0.133361</td>\n",
       "    </tr>\n",
       "    <tr>\n",
       "      <th>2</th>\n",
       "      <td>StackedEnsemble_BestOfFamily_AutoML_20190416_1...</td>\n",
       "      <td>0.688624</td>\n",
       "      <td>0.430669</td>\n",
       "      <td>0.465692</td>\n",
       "      <td>0.365407</td>\n",
       "      <td>0.133522</td>\n",
       "    </tr>\n",
       "    <tr>\n",
       "      <th>3</th>\n",
       "      <td>GBM_grid_1_AutoML_20190416_154445_model_5</td>\n",
       "      <td>0.687819</td>\n",
       "      <td>0.430207</td>\n",
       "      <td>0.471858</td>\n",
       "      <td>0.365249</td>\n",
       "      <td>0.133407</td>\n",
       "    </tr>\n",
       "    <tr>\n",
       "      <th>4</th>\n",
       "      <td>GBM_1_AutoML_20190416_154445</td>\n",
       "      <td>0.687817</td>\n",
       "      <td>0.430465</td>\n",
       "      <td>0.474701</td>\n",
       "      <td>0.365519</td>\n",
       "      <td>0.133604</td>\n",
       "    </tr>\n",
       "    <tr>\n",
       "      <th>5</th>\n",
       "      <td>GBM_grid_1_AutoML_20190416_154445_model_1</td>\n",
       "      <td>0.687480</td>\n",
       "      <td>0.430199</td>\n",
       "      <td>0.469463</td>\n",
       "      <td>0.365236</td>\n",
       "      <td>0.133397</td>\n",
       "    </tr>\n",
       "    <tr>\n",
       "      <th>6</th>\n",
       "      <td>GBM_grid_1_AutoML_20190416_154445_model_7</td>\n",
       "      <td>0.687317</td>\n",
       "      <td>0.431156</td>\n",
       "      <td>0.473674</td>\n",
       "      <td>0.365673</td>\n",
       "      <td>0.133717</td>\n",
       "    </tr>\n",
       "    <tr>\n",
       "      <th>7</th>\n",
       "      <td>GBM_2_AutoML_20190416_154445</td>\n",
       "      <td>0.686721</td>\n",
       "      <td>0.430653</td>\n",
       "      <td>0.471140</td>\n",
       "      <td>0.365536</td>\n",
       "      <td>0.133617</td>\n",
       "    </tr>\n",
       "    <tr>\n",
       "      <th>8</th>\n",
       "      <td>GBM_grid_1_AutoML_20190416_154445_model_2</td>\n",
       "      <td>0.686113</td>\n",
       "      <td>0.430836</td>\n",
       "      <td>0.471662</td>\n",
       "      <td>0.365589</td>\n",
       "      <td>0.133655</td>\n",
       "    </tr>\n",
       "    <tr>\n",
       "      <th>9</th>\n",
       "      <td>GBM_grid_1_AutoML_20190416_154445_model_10</td>\n",
       "      <td>0.685963</td>\n",
       "      <td>0.454797</td>\n",
       "      <td>0.470467</td>\n",
       "      <td>0.376829</td>\n",
       "      <td>0.142000</td>\n",
       "    </tr>\n",
       "    <tr>\n",
       "      <th>10</th>\n",
       "      <td>GBM_grid_1_AutoML_20190416_154445_model_8</td>\n",
       "      <td>0.685680</td>\n",
       "      <td>0.440741</td>\n",
       "      <td>0.470595</td>\n",
       "      <td>0.370331</td>\n",
       "      <td>0.137145</td>\n",
       "    </tr>\n",
       "    <tr>\n",
       "      <th>11</th>\n",
       "      <td>GBM_3_AutoML_20190416_154445</td>\n",
       "      <td>0.684054</td>\n",
       "      <td>0.431850</td>\n",
       "      <td>0.472837</td>\n",
       "      <td>0.366113</td>\n",
       "      <td>0.134039</td>\n",
       "    </tr>\n",
       "    <tr>\n",
       "      <th>12</th>\n",
       "      <td>GLM_grid_1_AutoML_20190416_154445_model_1</td>\n",
       "      <td>0.683782</td>\n",
       "      <td>0.433262</td>\n",
       "      <td>0.477770</td>\n",
       "      <td>0.366545</td>\n",
       "      <td>0.134355</td>\n",
       "    </tr>\n",
       "    <tr>\n",
       "      <th>13</th>\n",
       "      <td>DeepLearning_grid_1_AutoML_20190416_154445_mod...</td>\n",
       "      <td>0.682529</td>\n",
       "      <td>0.434686</td>\n",
       "      <td>0.472896</td>\n",
       "      <td>0.367027</td>\n",
       "      <td>0.134709</td>\n",
       "    </tr>\n",
       "    <tr>\n",
       "      <th>14</th>\n",
       "      <td>GBM_5_AutoML_20190416_154445</td>\n",
       "      <td>0.681190</td>\n",
       "      <td>0.432299</td>\n",
       "      <td>0.471673</td>\n",
       "      <td>0.366097</td>\n",
       "      <td>0.134027</td>\n",
       "    </tr>\n",
       "    <tr>\n",
       "      <th>15</th>\n",
       "      <td>DeepLearning_1_AutoML_20190416_154445</td>\n",
       "      <td>0.680383</td>\n",
       "      <td>0.433879</td>\n",
       "      <td>0.473164</td>\n",
       "      <td>0.366797</td>\n",
       "      <td>0.134540</td>\n",
       "    </tr>\n",
       "    <tr>\n",
       "      <th>16</th>\n",
       "      <td>GBM_4_AutoML_20190416_154445</td>\n",
       "      <td>0.679878</td>\n",
       "      <td>0.433906</td>\n",
       "      <td>0.472319</td>\n",
       "      <td>0.367058</td>\n",
       "      <td>0.134732</td>\n",
       "    </tr>\n",
       "    <tr>\n",
       "      <th>17</th>\n",
       "      <td>GBM_grid_1_AutoML_20190416_154445_model_4</td>\n",
       "      <td>0.676398</td>\n",
       "      <td>0.435024</td>\n",
       "      <td>0.485022</td>\n",
       "      <td>0.367568</td>\n",
       "      <td>0.135106</td>\n",
       "    </tr>\n",
       "    <tr>\n",
       "      <th>18</th>\n",
       "      <td>DeepLearning_grid_1_AutoML_20190416_154445_mod...</td>\n",
       "      <td>0.672525</td>\n",
       "      <td>0.438972</td>\n",
       "      <td>0.471589</td>\n",
       "      <td>0.367589</td>\n",
       "      <td>0.135122</td>\n",
       "    </tr>\n",
       "    <tr>\n",
       "      <th>19</th>\n",
       "      <td>GBM_grid_1_AutoML_20190416_154445_model_6</td>\n",
       "      <td>0.664889</td>\n",
       "      <td>0.446752</td>\n",
       "      <td>0.485806</td>\n",
       "      <td>0.372524</td>\n",
       "      <td>0.138774</td>\n",
       "    </tr>\n",
       "    <tr>\n",
       "      <th>20</th>\n",
       "      <td>XRT_1_AutoML_20190416_154445</td>\n",
       "      <td>0.664663</td>\n",
       "      <td>0.445543</td>\n",
       "      <td>0.472508</td>\n",
       "      <td>0.370834</td>\n",
       "      <td>0.137518</td>\n",
       "    </tr>\n",
       "    <tr>\n",
       "      <th>21</th>\n",
       "      <td>DRF_1_AutoML_20190416_154445</td>\n",
       "      <td>0.655435</td>\n",
       "      <td>0.459982</td>\n",
       "      <td>0.484445</td>\n",
       "      <td>0.374794</td>\n",
       "      <td>0.140471</td>\n",
       "    </tr>\n",
       "    <tr>\n",
       "      <th>22</th>\n",
       "      <td>GBM_grid_1_AutoML_20190416_154445_model_3</td>\n",
       "      <td>0.653517</td>\n",
       "      <td>0.461241</td>\n",
       "      <td>0.491965</td>\n",
       "      <td>0.377936</td>\n",
       "      <td>0.142836</td>\n",
       "    </tr>\n",
       "    <tr>\n",
       "      <th>23</th>\n",
       "      <td>GBM_grid_1_AutoML_20190416_154445_model_11</td>\n",
       "      <td>0.618230</td>\n",
       "      <td>0.460530</td>\n",
       "      <td>0.495899</td>\n",
       "      <td>0.379266</td>\n",
       "      <td>0.143843</td>\n",
       "    </tr>\n",
       "    <tr>\n",
       "      <th>24</th>\n",
       "      <td>DeepLearning_grid_1_AutoML_20190416_154445_mod...</td>\n",
       "      <td>0.609257</td>\n",
       "      <td>0.536580</td>\n",
       "      <td>0.485818</td>\n",
       "      <td>0.387730</td>\n",
       "      <td>0.150334</td>\n",
       "    </tr>\n",
       "  </tbody>\n",
       "</table>\n",
       "</div>"
      ],
      "text/plain": [
       "                                             model_id       auc   logloss  \\\n",
       "0           GBM_grid_1_AutoML_20190416_154445_model_9  0.689646  0.429881   \n",
       "1    StackedEnsemble_AllModels_AutoML_20190416_154445  0.689616  0.430082   \n",
       "2   StackedEnsemble_BestOfFamily_AutoML_20190416_1...  0.688624  0.430669   \n",
       "3           GBM_grid_1_AutoML_20190416_154445_model_5  0.687819  0.430207   \n",
       "4                        GBM_1_AutoML_20190416_154445  0.687817  0.430465   \n",
       "5           GBM_grid_1_AutoML_20190416_154445_model_1  0.687480  0.430199   \n",
       "6           GBM_grid_1_AutoML_20190416_154445_model_7  0.687317  0.431156   \n",
       "7                        GBM_2_AutoML_20190416_154445  0.686721  0.430653   \n",
       "8           GBM_grid_1_AutoML_20190416_154445_model_2  0.686113  0.430836   \n",
       "9          GBM_grid_1_AutoML_20190416_154445_model_10  0.685963  0.454797   \n",
       "10          GBM_grid_1_AutoML_20190416_154445_model_8  0.685680  0.440741   \n",
       "11                       GBM_3_AutoML_20190416_154445  0.684054  0.431850   \n",
       "12          GLM_grid_1_AutoML_20190416_154445_model_1  0.683782  0.433262   \n",
       "13  DeepLearning_grid_1_AutoML_20190416_154445_mod...  0.682529  0.434686   \n",
       "14                       GBM_5_AutoML_20190416_154445  0.681190  0.432299   \n",
       "15              DeepLearning_1_AutoML_20190416_154445  0.680383  0.433879   \n",
       "16                       GBM_4_AutoML_20190416_154445  0.679878  0.433906   \n",
       "17          GBM_grid_1_AutoML_20190416_154445_model_4  0.676398  0.435024   \n",
       "18  DeepLearning_grid_1_AutoML_20190416_154445_mod...  0.672525  0.438972   \n",
       "19          GBM_grid_1_AutoML_20190416_154445_model_6  0.664889  0.446752   \n",
       "20                       XRT_1_AutoML_20190416_154445  0.664663  0.445543   \n",
       "21                       DRF_1_AutoML_20190416_154445  0.655435  0.459982   \n",
       "22          GBM_grid_1_AutoML_20190416_154445_model_3  0.653517  0.461241   \n",
       "23         GBM_grid_1_AutoML_20190416_154445_model_11  0.618230  0.460530   \n",
       "24  DeepLearning_grid_1_AutoML_20190416_154445_mod...  0.609257  0.536580   \n",
       "\n",
       "    mean_per_class_error      rmse       mse  \n",
       "0               0.473879  0.365185  0.133360  \n",
       "1               0.469896  0.365186  0.133361  \n",
       "2               0.465692  0.365407  0.133522  \n",
       "3               0.471858  0.365249  0.133407  \n",
       "4               0.474701  0.365519  0.133604  \n",
       "5               0.469463  0.365236  0.133397  \n",
       "6               0.473674  0.365673  0.133717  \n",
       "7               0.471140  0.365536  0.133617  \n",
       "8               0.471662  0.365589  0.133655  \n",
       "9               0.470467  0.376829  0.142000  \n",
       "10              0.470595  0.370331  0.137145  \n",
       "11              0.472837  0.366113  0.134039  \n",
       "12              0.477770  0.366545  0.134355  \n",
       "13              0.472896  0.367027  0.134709  \n",
       "14              0.471673  0.366097  0.134027  \n",
       "15              0.473164  0.366797  0.134540  \n",
       "16              0.472319  0.367058  0.134732  \n",
       "17              0.485022  0.367568  0.135106  \n",
       "18              0.471589  0.367589  0.135122  \n",
       "19              0.485806  0.372524  0.138774  \n",
       "20              0.472508  0.370834  0.137518  \n",
       "21              0.484445  0.374794  0.140471  \n",
       "22              0.491965  0.377936  0.142836  \n",
       "23              0.495899  0.379266  0.143843  \n",
       "24              0.485818  0.387730  0.150334  "
      ]
     },
     "execution_count": 52,
     "metadata": {},
     "output_type": "execute_result"
    }
   ],
   "source": [
    "aml_leaderboard_df"
   ]
  },
  {
   "cell_type": "code",
   "execution_count": 53,
   "metadata": {},
   "outputs": [],
   "source": [
    "# save all models names of the leaderboard in a csv\n",
    "leaderboard_stats=run_id+'_leaderboard.csv'\n",
    "aml_leaderboard_df.to_csv(leaderboard_stats, index=False)"
   ]
  },
  {
   "cell_type": "code",
   "execution_count": 54,
   "metadata": {},
   "outputs": [],
   "source": [
    "#meta_data['mod_best']=mod_best._id"
   ]
  },
  {
   "cell_type": "code",
   "execution_count": 55,
   "metadata": {},
   "outputs": [],
   "source": [
    "#meta_data['mod_best_algo']=mod_best.algo"
   ]
  },
  {
   "cell_type": "code",
   "execution_count": 56,
   "metadata": {},
   "outputs": [
    {
     "data": {
      "text/plain": [
       "Index(['model_id', 'auc', 'logloss', 'mean_per_class_error', 'rmse', 'mse'], dtype='object')"
      ]
     },
     "execution_count": 56,
     "metadata": {},
     "output_type": "execute_result"
    }
   ],
   "source": [
    "aml_leaderboard_df.columns"
   ]
  },
  {
   "cell_type": "code",
   "execution_count": 57,
   "metadata": {},
   "outputs": [
    {
     "data": {
      "text/plain": [
       "0             GBM_grid_1_AutoML_20190416_154445_model_9\n",
       "1      StackedEnsemble_AllModels_AutoML_20190416_154445\n",
       "2     StackedEnsemble_BestOfFamily_AutoML_20190416_1...\n",
       "3             GBM_grid_1_AutoML_20190416_154445_model_5\n",
       "4                          GBM_1_AutoML_20190416_154445\n",
       "5             GBM_grid_1_AutoML_20190416_154445_model_1\n",
       "6             GBM_grid_1_AutoML_20190416_154445_model_7\n",
       "7                          GBM_2_AutoML_20190416_154445\n",
       "8             GBM_grid_1_AutoML_20190416_154445_model_2\n",
       "9            GBM_grid_1_AutoML_20190416_154445_model_10\n",
       "10            GBM_grid_1_AutoML_20190416_154445_model_8\n",
       "11                         GBM_3_AutoML_20190416_154445\n",
       "12            GLM_grid_1_AutoML_20190416_154445_model_1\n",
       "13    DeepLearning_grid_1_AutoML_20190416_154445_mod...\n",
       "14                         GBM_5_AutoML_20190416_154445\n",
       "15                DeepLearning_1_AutoML_20190416_154445\n",
       "16                         GBM_4_AutoML_20190416_154445\n",
       "17            GBM_grid_1_AutoML_20190416_154445_model_4\n",
       "18    DeepLearning_grid_1_AutoML_20190416_154445_mod...\n",
       "19            GBM_grid_1_AutoML_20190416_154445_model_6\n",
       "20                         XRT_1_AutoML_20190416_154445\n",
       "21                         DRF_1_AutoML_20190416_154445\n",
       "22            GBM_grid_1_AutoML_20190416_154445_model_3\n",
       "23           GBM_grid_1_AutoML_20190416_154445_model_11\n",
       "24    DeepLearning_grid_1_AutoML_20190416_154445_mod...\n",
       "Name: model_id, dtype: object"
      ]
     },
     "execution_count": 57,
     "metadata": {},
     "output_type": "execute_result"
    }
   ],
   "source": [
    "aml_leaderboard_df['model_id']"
   ]
  },
  {
   "cell_type": "code",
   "execution_count": 58,
   "metadata": {},
   "outputs": [],
   "source": [
    "# All models. We are no longer using the best model\n",
    "meta_data['models']=aml_leaderboard_df['model_id']"
   ]
  },
  {
   "cell_type": "code",
   "execution_count": 59,
   "metadata": {},
   "outputs": [],
   "source": [
    "meta_data['end_time'] = time.time()\n"
   ]
  },
  {
   "cell_type": "code",
   "execution_count": 60,
   "metadata": {},
   "outputs": [],
   "source": [
    "meta_data['execution_time'] = meta_data['end_time'] - meta_data['start_time']\n"
   ]
  },
  {
   "cell_type": "code",
   "execution_count": 61,
   "metadata": {},
   "outputs": [
    {
     "data": {
      "text/plain": [
       "{'start_time': 1555443883.7061415,\n",
       " 'target': 'readmitted',\n",
       " 'server_path': 'C:\\\\Users\\\\joiss\\\\Desktop\\\\NEU-MSIS\\\\2_Sem2\\\\INFO6105_Data_Science_Engineering_Methods\\\\DS01_Hyperparameter',\n",
       " 'data_path': None,\n",
       " 'test_path': None,\n",
       " 'max_models': 9,\n",
       " 'run_time': 500,\n",
       " 'run_id': 'DS01_HyperParameter',\n",
       " 'scale': False,\n",
       " 'classification': True,\n",
       " 'model_path': None,\n",
       " 'balance': False,\n",
       " 'balance_threshold': 0.2,\n",
       " 'project': None,\n",
       " 'end_time': 1555444386.335861,\n",
       " 'execution_time': 502.6297194957733,\n",
       " 'run_path': 'C:\\\\Users\\\\joiss\\\\Desktop\\\\NEU-MSIS\\\\2_Sem2\\\\INFO6105_Data_Science_Engineering_Methods\\\\DS01_Hyperparameter\\\\DS01_HyperParameter',\n",
       " 'nthreads': 1,\n",
       " 'min_mem_size': 6,\n",
       " 'analysis': 0,\n",
       " 'X': ['time_in_hospital',\n",
       "  'num_lab_procedures',\n",
       "  'num_procedures',\n",
       "  'num_medications',\n",
       "  'number_outpatient',\n",
       "  'number_emergency',\n",
       "  'number_inpatient',\n",
       "  'number_diagnoses'],\n",
       " 'variables': ['id',\n",
       "  'patient_nbr',\n",
       "  'race',\n",
       "  'gender',\n",
       "  'age',\n",
       "  'weight',\n",
       "  'admission_type_id',\n",
       "  'discharge_disposition_id',\n",
       "  'admission_source_id',\n",
       "  'time_in_hospital',\n",
       "  'payer_code',\n",
       "  'medical_specialty',\n",
       "  'num_lab_procedures',\n",
       "  'num_procedures',\n",
       "  'num_medications',\n",
       "  'number_outpatient',\n",
       "  'number_emergency',\n",
       "  'number_inpatient',\n",
       "  'diag_1',\n",
       "  'diag_2',\n",
       "  'diag_3',\n",
       "  'number_diagnoses',\n",
       "  'max_glu_serum',\n",
       "  'A1Cresult',\n",
       "  'metformin',\n",
       "  'repaglinide',\n",
       "  'nateglinide',\n",
       "  'chlorpropamide',\n",
       "  'glimepiride',\n",
       "  'acetohexamide',\n",
       "  'glipizide',\n",
       "  'glyburide',\n",
       "  'tolbutamide',\n",
       "  'pioglitazone',\n",
       "  'rosiglitazone',\n",
       "  'acarbose',\n",
       "  'miglitol',\n",
       "  'troglitazone',\n",
       "  'tolazamide',\n",
       "  'examide',\n",
       "  'citoglipton',\n",
       "  'insulin',\n",
       "  'glyburide-metformin',\n",
       "  'glipizide-metformin',\n",
       "  'glimepiride-pioglitazone',\n",
       "  'metformin-rosiglitazone',\n",
       "  'metformin-pioglitazone',\n",
       "  'change',\n",
       "  'diabetesMed',\n",
       "  'readmitted'],\n",
       " 'model_execution_time': 500.72323179244995,\n",
       " 'models': 0             GBM_grid_1_AutoML_20190416_154445_model_9\n",
       " 1      StackedEnsemble_AllModels_AutoML_20190416_154445\n",
       " 2     StackedEnsemble_BestOfFamily_AutoML_20190416_1...\n",
       " 3             GBM_grid_1_AutoML_20190416_154445_model_5\n",
       " 4                          GBM_1_AutoML_20190416_154445\n",
       " 5             GBM_grid_1_AutoML_20190416_154445_model_1\n",
       " 6             GBM_grid_1_AutoML_20190416_154445_model_7\n",
       " 7                          GBM_2_AutoML_20190416_154445\n",
       " 8             GBM_grid_1_AutoML_20190416_154445_model_2\n",
       " 9            GBM_grid_1_AutoML_20190416_154445_model_10\n",
       " 10            GBM_grid_1_AutoML_20190416_154445_model_8\n",
       " 11                         GBM_3_AutoML_20190416_154445\n",
       " 12            GLM_grid_1_AutoML_20190416_154445_model_1\n",
       " 13    DeepLearning_grid_1_AutoML_20190416_154445_mod...\n",
       " 14                         GBM_5_AutoML_20190416_154445\n",
       " 15                DeepLearning_1_AutoML_20190416_154445\n",
       " 16                         GBM_4_AutoML_20190416_154445\n",
       " 17            GBM_grid_1_AutoML_20190416_154445_model_4\n",
       " 18    DeepLearning_grid_1_AutoML_20190416_154445_mod...\n",
       " 19            GBM_grid_1_AutoML_20190416_154445_model_6\n",
       " 20                         XRT_1_AutoML_20190416_154445\n",
       " 21                         DRF_1_AutoML_20190416_154445\n",
       " 22            GBM_grid_1_AutoML_20190416_154445_model_3\n",
       " 23           GBM_grid_1_AutoML_20190416_154445_model_11\n",
       " 24    DeepLearning_grid_1_AutoML_20190416_154445_mod...\n",
       " Name: model_id, dtype: object}"
      ]
     },
     "execution_count": 61,
     "metadata": {},
     "output_type": "execute_result"
    }
   ],
   "source": [
    "meta_data"
   ]
  },
  {
   "cell_type": "code",
   "execution_count": 62,
   "metadata": {
    "scrolled": true
   },
   "outputs": [
    {
     "data": {
      "text/plain": [
       "dict"
      ]
     },
     "execution_count": 62,
     "metadata": {},
     "output_type": "execute_result"
    }
   ],
   "source": [
    "type(meta_data)"
   ]
  },
  {
   "cell_type": "code",
   "execution_count": 63,
   "metadata": {},
   "outputs": [],
   "source": [
    "md=meta_data"
   ]
  },
  {
   "cell_type": "code",
   "execution_count": 64,
   "metadata": {},
   "outputs": [],
   "source": [
    "def dict_to_json(dct,n):\n",
    "    json.dumps(dct)\n",
    "    f = open(n, 'w')\n",
    "    print(j, file=f)\n",
    "    f.close()"
   ]
  },
  {
   "cell_type": "code",
   "execution_count": 65,
   "metadata": {},
   "outputs": [],
   "source": [
    "# A list of the keys of dictionary\n",
    "list_keys = [ k for k in md ]\n",
    " \n",
    "# or a list of the values\n",
    "list_values = [ v for v in md.values() ]\n",
    " \n",
    "# or just a list of the list of key value pairs\n",
    "list_key_value = [ [k,v] for k, v in md.items() ]"
   ]
  },
  {
   "cell_type": "code",
   "execution_count": 66,
   "metadata": {},
   "outputs": [
    {
     "data": {
      "text/plain": [
       "list"
      ]
     },
     "execution_count": 66,
     "metadata": {},
     "output_type": "execute_result"
    }
   ],
   "source": [
    "type(list_key_value)"
   ]
  },
  {
   "cell_type": "code",
   "execution_count": 67,
   "metadata": {},
   "outputs": [],
   "source": [
    "metaData_stats=run_id+'_metadata.csv'\n",
    "df1 = pd.DataFrame(list_key_value)\n",
    "df1.to_csv(metaData_stats)"
   ]
  },
  {
   "cell_type": "code",
   "execution_count": 68,
   "metadata": {},
   "outputs": [],
   "source": [
    "#n=run_id+'_meta_data.json'\n",
    "#dict_to_json(list_key_value,n)"
   ]
  },
  {
   "cell_type": "code",
   "execution_count": 69,
   "metadata": {},
   "outputs": [],
   "source": [
    "json_string = str(list_key_value)"
   ]
  },
  {
   "cell_type": "code",
   "execution_count": 70,
   "metadata": {},
   "outputs": [
    {
     "data": {
      "text/plain": [
       "str"
      ]
     },
     "execution_count": 70,
     "metadata": {},
     "output_type": "execute_result"
    }
   ],
   "source": [
    "type(json_string)"
   ]
  },
  {
   "cell_type": "code",
   "execution_count": 71,
   "metadata": {},
   "outputs": [],
   "source": [
    "#dict_to_json(list_key_value,4)"
   ]
  },
  {
   "cell_type": "code",
   "execution_count": 72,
   "metadata": {},
   "outputs": [],
   "source": [
    "# All parameters. Run this in a for loop. travese through aml_leaderboard_df and for each model, run .params and convert it into JSON file.\n",
    "\n",
    "# h2o.get_model(mod_best)\n",
    "#mod_best.params"
   ]
  },
  {
   "cell_type": "code",
   "execution_count": 74,
   "metadata": {},
   "outputs": [],
   "source": [
    "# Predict with top model from AutoML Leaderboard on a H2OFrame called 'test'\n",
    "#a= aml.predict(test)"
   ]
  },
  {
   "cell_type": "code",
   "execution_count": 92,
   "metadata": {},
   "outputs": [
    {
     "data": {
      "text/plain": [
       "pandas.core.frame.DataFrame"
      ]
     },
     "execution_count": 92,
     "metadata": {},
     "output_type": "execute_result"
    }
   ],
   "source": [
    "type(aml_leaderboard_df)"
   ]
  },
  {
   "cell_type": "code",
   "execution_count": 93,
   "metadata": {},
   "outputs": [
    {
     "data": {
      "text/plain": [
       "['model_id', 'auc', 'logloss', 'mean_per_class_error', 'rmse', 'mse']"
      ]
     },
     "execution_count": 93,
     "metadata": {},
     "output_type": "execute_result"
    }
   ],
   "source": [
    "aml_leaderboard_df.columns.tolist()"
   ]
  },
  {
   "cell_type": "code",
   "execution_count": 96,
   "metadata": {},
   "outputs": [],
   "source": [
    "amlDrop=aml_leaderboard_df.drop([], axis=1)"
   ]
  },
  {
   "cell_type": "code",
   "execution_count": 98,
   "metadata": {},
   "outputs": [
    {
     "data": {
      "text/plain": [
       "pandas.core.frame.DataFrame"
      ]
     },
     "execution_count": 98,
     "metadata": {},
     "output_type": "execute_result"
    }
   ],
   "source": [
    "type(amlDrop)"
   ]
  },
  {
   "cell_type": "code",
   "execution_count": 84,
   "metadata": {},
   "outputs": [
    {
     "data": {
      "text/plain": [
       "(25, 6)"
      ]
     },
     "execution_count": 84,
     "metadata": {},
     "output_type": "execute_result"
    }
   ],
   "source": [
    "aml_leaderboard_df.shape"
   ]
  },
  {
   "cell_type": "code",
   "execution_count": 90,
   "metadata": {},
   "outputs": [
    {
     "data": {
      "text/html": [
       "<div>\n",
       "<style scoped>\n",
       "    .dataframe tbody tr th:only-of-type {\n",
       "        vertical-align: middle;\n",
       "    }\n",
       "\n",
       "    .dataframe tbody tr th {\n",
       "        vertical-align: top;\n",
       "    }\n",
       "\n",
       "    .dataframe thead th {\n",
       "        text-align: right;\n",
       "    }\n",
       "</style>\n",
       "<table border=\"1\" class=\"dataframe\">\n",
       "  <thead>\n",
       "    <tr style=\"text-align: right;\">\n",
       "      <th></th>\n",
       "      <th>model_id</th>\n",
       "      <th>auc</th>\n",
       "      <th>logloss</th>\n",
       "      <th>mean_per_class_error</th>\n",
       "      <th>rmse</th>\n",
       "      <th>mse</th>\n",
       "    </tr>\n",
       "  </thead>\n",
       "  <tbody>\n",
       "    <tr>\n",
       "      <th>0</th>\n",
       "      <td>GBM_grid_1_AutoML_20190416_154445_model_9</td>\n",
       "      <td>0.689646</td>\n",
       "      <td>0.429881</td>\n",
       "      <td>0.473879</td>\n",
       "      <td>0.365185</td>\n",
       "      <td>0.13336</td>\n",
       "    </tr>\n",
       "  </tbody>\n",
       "</table>\n",
       "</div>"
      ],
      "text/plain": [
       "                                    model_id       auc   logloss  \\\n",
       "0  GBM_grid_1_AutoML_20190416_154445_model_9  0.689646  0.429881   \n",
       "\n",
       "   mean_per_class_error      rmse      mse  \n",
       "0              0.473879  0.365185  0.13336  "
      ]
     },
     "execution_count": 90,
     "metadata": {},
     "output_type": "execute_result"
    }
   ],
   "source": [
    "aml_leaderboard_df[0:1]"
   ]
  },
  {
   "cell_type": "code",
   "execution_count": 80,
   "metadata": {},
   "outputs": [
    {
     "data": {
      "text/plain": [
       "25"
      ]
     },
     "execution_count": 80,
     "metadata": {},
     "output_type": "execute_result"
    }
   ],
   "source": [
    "len(aml_leaderboard_df)"
   ]
  },
  {
   "cell_type": "code",
   "execution_count": 83,
   "metadata": {},
   "outputs": [
    {
     "name": "stdout",
     "output_type": "stream",
     "text": [
      "Working: 0\n",
      "Working: 1\n",
      "Working: 2\n",
      "Working: 3\n",
      "Working: 4\n",
      "Working: 5\n",
      "Working: 6\n",
      "Working: 7\n",
      "Working: 8\n",
      "Working: 9\n",
      "Working: 10\n",
      "Working: 11\n",
      "Working: 12\n",
      "Working: 13\n",
      "Working: 14\n",
      "Working: 15\n",
      "Working: 16\n",
      "Working: 17\n",
      "Working: 18\n",
      "Working: 19\n",
      "Working: 20\n",
      "Working: 21\n",
      "Working: 22\n",
      "Working: 23\n",
      "Working: 24\n"
     ]
    }
   ],
   "source": [
    "for i in range(0, len(aml_leaderboard_df)):\n",
    "    print(\"Working:\",i)"
   ]
  },
  {
   "cell_type": "code",
   "execution_count": null,
   "metadata": {},
   "outputs": [],
   "source": []
  },
  {
   "cell_type": "code",
   "execution_count": null,
   "metadata": {},
   "outputs": [],
   "source": []
  },
  {
   "cell_type": "markdown",
   "metadata": {},
   "source": [
    "hy_parameter = mod_best.params\n",
    "n=run_id+'_hy_parameter.json'\n",
    "dict_to_json(hy_parameter,n)"
   ]
  },
  {
   "cell_type": "markdown",
   "metadata": {},
   "source": [
    "# Citations\n",
    "* https://www.hindawi.com/journals/bmri/2014/781670/\n",
    "* https://www.kaggle.com/sudalairajkumar/getting-started-with-h2o\n",
    "* https://www.pythonforbeginners.com/dictionary/how-to-use-dictionaries-in-python/\n"
   ]
  },
  {
   "cell_type": "markdown",
   "metadata": {},
   "source": [
    "# Team Members:\n",
    "Team Name: DS01\n",
    " * Michelle Pradeep\n",
    "     * NUID: 001422140\n",
    "     * E-mail ID: pradeep.m@husky.neu.edu\n",
    " * Seemanthini Jois\n",
    "      * NUID: 001439942\n",
    "      * E-mail ID: jois.s@husky.neu.edu\n",
    " * Suraksha Jadhav\n",
    "      * NUID: 001430368\n",
    "      * E-mail ID: jadhav.su@husky.neu.edu"
   ]
  },
  {
   "cell_type": "markdown",
   "metadata": {},
   "source": [
    "# The MIT License\n",
    "\n",
    "\n",
    "Copyright (c)  2019 DS01\n",
    "\n",
    "Permission is hereby granted, free of charge, to any person obtaining a copy of this software and associated documentation files (the \"Software\"), to deal in the Software without restriction, including without limitation the rights to use, copy, modify, merge, publish, distribute, sublicense, and/or sell copies of the Software, and to permit persons to whom the Software is furnished to do so, subject to the following conditions:\n",
    "\n",
    "The above copyright notice and this permission notice shall be included in all copies or substantial portions of the Software.\n",
    "\n",
    "THE SOFTWARE IS PROVIDED \"AS IS\", WITHOUT WARRANTY OF ANY KIND, EXPRESS OR IMPLIED, INCLUDING BUT NOT LIMITED TO THE WARRANTIES OF MERCHANTABILITY, FITNESS FOR A PARTICULAR PURPOSE AND NONINFRINGEMENT. IN NO EVENT SHALL THE AUTHORS OR COPYRIGHT HOLDERS BE LIABLE FOR ANY CLAIM, DAMAGES OR OTHER LIABILITY, WHETHER IN AN ACTION OF CONTRACT, TORT OR OTHERWISE, ARISING FROM, OUT OF OR IN CONNECTION WITH THE SOFTWARE OR THE USE OR OTHER DEALINGS IN THE SOFTWARE."
   ]
  }
 ],
 "metadata": {
  "kernelspec": {
   "display_name": "Python 3",
   "language": "python",
   "name": "python3"
  },
  "language_info": {
   "codemirror_mode": {
    "name": "ipython",
    "version": 3
   },
   "file_extension": ".py",
   "mimetype": "text/x-python",
   "name": "python",
   "nbconvert_exporter": "python",
   "pygments_lexer": "ipython3",
   "version": "3.7.1"
  }
 },
 "nbformat": 4,
 "nbformat_minor": 2
}
