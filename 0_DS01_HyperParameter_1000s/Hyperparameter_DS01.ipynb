{
 "cells": [
  {
   "cell_type": "markdown",
   "metadata": {},
   "source": [
    "# Abstract\n",
    "\n",
    "Kaggle dataset: https://www.kaggle.com/brandao/diabetes\n",
    "\n",
    "\n",
    "We picked a publicly available dataset from UCI repository containing de-identified diabetes patient encounter data for 130 US hospitals (1999–2008) containing 101,766 observations over 10 years. The dataset has over 50 features including patient characteristics, conditions, tests and 23 medications. Only diabetic encounters are included (i.e. at least one of three primary diagnosis was diabetes).\n",
    "\n",
    "Applied methods are:\n",
    "* Cleaning tasks such as dropping bad data, dealing with missing values.\n",
    "* Modification of existing features e.g. standardization, log transforms etc.\n",
    "* Creation or derivation of new features, usually from existing ones.\n",
    "* Graphs such as plots, heatmap have been used.\n",
    "\n"
   ]
  },
  {
   "cell_type": "markdown",
   "metadata": {},
   "source": [
    "## Overview of Dataset"
   ]
  },
  {
   "cell_type": "markdown",
   "metadata": {},
   "source": [
    "### Starting H2O server¶"
   ]
  },
  {
   "cell_type": "code",
   "execution_count": 1,
   "metadata": {},
   "outputs": [],
   "source": [
    "# import h2o package and specific estimator \n",
    "\n",
    "import h2o\n",
    "from h2o.automl import H2OAutoML\n",
    "import random, os, sys\n",
    "from datetime import datetime\n",
    "import pandas as pd\n",
    "import logging\n",
    "import csv\n",
    "import optparse\n",
    "import time\n",
    "import json\n",
    "from distutils.util import strtobool\n",
    "import psutil\n",
    "import numpy as np\n",
    "import seaborn\n",
    "import itertools\n",
    "import seaborn as sns\n",
    "import matplotlib.pyplot as plt\n",
    "from h2o.estimators.glm import H2OGeneralizedLinearEstimator\n",
    "from h2o.estimators.gbm import H2OGradientBoostingEstimator\n",
    "from h2o.estimators.random_forest import H2ORandomForestEstimator\n",
    "from sklearn.model_selection import train_test_split, cross_val_score, cross_val_predict"
   ]
  },
  {
   "cell_type": "markdown",
   "metadata": {},
   "source": [
    "### Required Data Parameters\n",
    "\n",
    "* y: This argument is the name (or index) of the response column.\n",
    "* training_frame: Specifies the training set.\n",
    "\n",
    "### Required Stopping Parameters\n",
    "\n",
    "* max_runtime_secs: This argument controls how long the AutoML run will execute for. This defaults to 3600 seconds (1 hour).\n",
    "* max_models: Specify the maximum number of models to build in an AutoML run, excluding the Stacked Ensemble models. Defaults to NULL/None.\n"
   ]
  },
  {
   "cell_type": "code",
   "execution_count": 2,
   "metadata": {},
   "outputs": [
    {
     "name": "stdout",
     "output_type": "stream",
     "text": [
      "0\n"
     ]
    }
   ],
   "source": [
    "pct_memory=0.5\n",
    "virtual_memory=psutil.virtual_memory()\n",
    "min_mem_size=int(round(int(pct_memory*virtual_memory.available)/1073741824,0))\n",
    "print(min_mem_size)"
   ]
  },
  {
   "cell_type": "code",
   "execution_count": 3,
   "metadata": {},
   "outputs": [
    {
     "name": "stdout",
     "output_type": "stream",
     "text": [
      "Checking whether there is an H2O instance running at http://localhost:12474..... not found.\n",
      "Attempting to start a local H2O server...\n",
      "; OpenJDK 64-Bit Server VM (build 25.152-b12, mixed mode)56-b12)\n",
      "  Starting server from C:\\Users\\surak\\Anaconda3\\lib\\site-packages\\h2o\\backend\\bin\\h2o.jar\n",
      "  Ice root: C:\\Users\\surak\\AppData\\Local\\Temp\\tmpr00jmjnh\n",
      "  JVM stdout: C:\\Users\\surak\\AppData\\Local\\Temp\\tmpr00jmjnh\\h2o_surak_started_from_python.out\n",
      "  JVM stderr: C:\\Users\\surak\\AppData\\Local\\Temp\\tmpr00jmjnh\\h2o_surak_started_from_python.err\n",
      "  Server is running at http://127.0.0.1:12474\n",
      "Connecting to H2O server at http://127.0.0.1:12474... successful.\n"
     ]
    },
    {
     "data": {
      "text/html": [
       "<div style=\"overflow:auto\"><table style=\"width:50%\"><tr><td>H2O cluster uptime:</td>\n",
       "<td>04 secs</td></tr>\n",
       "<tr><td>H2O cluster timezone:</td>\n",
       "<td>America/New_York</td></tr>\n",
       "<tr><td>H2O data parsing timezone:</td>\n",
       "<td>UTC</td></tr>\n",
       "<tr><td>H2O cluster version:</td>\n",
       "<td>3.22.1.3</td></tr>\n",
       "<tr><td>H2O cluster version age:</td>\n",
       "<td>2 months and 28 days </td></tr>\n",
       "<tr><td>H2O cluster name:</td>\n",
       "<td>H2O_from_python_surak_41obyf</td></tr>\n",
       "<tr><td>H2O cluster total nodes:</td>\n",
       "<td>1</td></tr>\n",
       "<tr><td>H2O cluster free memory:</td>\n",
       "<td>1.734 Gb</td></tr>\n",
       "<tr><td>H2O cluster total cores:</td>\n",
       "<td>12</td></tr>\n",
       "<tr><td>H2O cluster allowed cores:</td>\n",
       "<td>12</td></tr>\n",
       "<tr><td>H2O cluster status:</td>\n",
       "<td>accepting new members, healthy</td></tr>\n",
       "<tr><td>H2O connection url:</td>\n",
       "<td>http://127.0.0.1:12474</td></tr>\n",
       "<tr><td>H2O connection proxy:</td>\n",
       "<td>None</td></tr>\n",
       "<tr><td>H2O internal security:</td>\n",
       "<td>False</td></tr>\n",
       "<tr><td>H2O API Extensions:</td>\n",
       "<td>Algos, AutoML, Core V3, Core V4</td></tr>\n",
       "<tr><td>Python version:</td>\n",
       "<td>3.7.1 final</td></tr></table></div>"
      ],
      "text/plain": [
       "--------------------------  -------------------------------\n",
       "H2O cluster uptime:         04 secs\n",
       "H2O cluster timezone:       America/New_York\n",
       "H2O data parsing timezone:  UTC\n",
       "H2O cluster version:        3.22.1.3\n",
       "H2O cluster version age:    2 months and 28 days\n",
       "H2O cluster name:           H2O_from_python_surak_41obyf\n",
       "H2O cluster total nodes:    1\n",
       "H2O cluster free memory:    1.734 Gb\n",
       "H2O cluster total cores:    12\n",
       "H2O cluster allowed cores:  12\n",
       "H2O cluster status:         accepting new members, healthy\n",
       "H2O connection url:         http://127.0.0.1:12474\n",
       "H2O connection proxy:\n",
       "H2O internal security:      False\n",
       "H2O API Extensions:         Algos, AutoML, Core V3, Core V4\n",
       "Python version:             3.7.1 final\n",
       "--------------------------  -------------------------------"
      ]
     },
     "metadata": {},
     "output_type": "display_data"
    }
   ],
   "source": [
    "# 65535 Highest port no\n",
    "port_no=random.randint(5555,55555)\n",
    "\n",
    " # start h2o\n",
    "h2o.init(strict_version_check=False,min_mem_size_GB=min_mem_size,port=port_no) # start h2o\n"
   ]
  },
  {
   "cell_type": "markdown",
   "metadata": {},
   "source": [
    "## Data overview"
   ]
  },
  {
   "cell_type": "code",
   "execution_count": 4,
   "metadata": {},
   "outputs": [
    {
     "name": "stdout",
     "output_type": "stream",
     "text": [
      "Parse progress: |█████████████████████████████████████████████████████████| 100%\n"
     ]
    }
   ],
   "source": [
    "# Import data and manage data types\n",
    "train_path = \"Dataset/diabetes_train.csv\"\n",
    "df = h2o.import_file(train_path)"
   ]
  },
  {
   "cell_type": "code",
   "execution_count": 5,
   "metadata": {},
   "outputs": [
    {
     "data": {
      "text/html": [
       "<table>\n",
       "<thead>\n",
       "<tr><th style=\"text-align: right;\">              id</th><th style=\"text-align: right;\">  patient_nbr</th><th>race           </th><th>gender  </th><th>age    </th><th>weight  </th><th style=\"text-align: right;\">  admission_type_id</th><th style=\"text-align: right;\">  discharge_disposition_id</th><th style=\"text-align: right;\">  admission_source_id</th><th style=\"text-align: right;\">  time_in_hospital</th><th>payer_code  </th><th>medical_specialty       </th><th style=\"text-align: right;\">  num_lab_procedures</th><th style=\"text-align: right;\">  num_procedures</th><th style=\"text-align: right;\">  num_medications</th><th style=\"text-align: right;\">  number_outpatient</th><th style=\"text-align: right;\">  number_emergency</th><th style=\"text-align: right;\">  number_inpatient</th><th style=\"text-align: right;\">  diag_1</th><th style=\"text-align: right;\">  diag_2</th><th style=\"text-align: right;\">  diag_3</th><th style=\"text-align: right;\">  number_diagnoses</th><th>max_glu_serum  </th><th>A1Cresult  </th><th>metformin  </th><th>repaglinide  </th><th>nateglinide  </th><th>chlorpropamide  </th><th>glimepiride  </th><th>acetohexamide  </th><th>glipizide  </th><th>glyburide  </th><th>tolbutamide  </th><th>pioglitazone  </th><th>rosiglitazone  </th><th>acarbose  </th><th>miglitol  </th><th>troglitazone  </th><th>tolazamide  </th><th>examide  </th><th>citoglipton  </th><th>insulin  </th><th>glyburide-metformin  </th><th>glipizide-metformin  </th><th>glimepiride-pioglitazone  </th><th>metformin-rosiglitazone  </th><th>metformin-pioglitazone  </th><th>change  </th><th>diabetesMed  </th><th>readmitted  </th></tr>\n",
       "</thead>\n",
       "<tbody>\n",
       "<tr><td style=\"text-align: right;\">     2.27839e+06</td><td style=\"text-align: right;\">  8.22216e+06</td><td>Caucasian      </td><td>Female  </td><td>[0-10) </td><td>?       </td><td style=\"text-align: right;\">                  6</td><td style=\"text-align: right;\">                        25</td><td style=\"text-align: right;\">                    1</td><td style=\"text-align: right;\">                 1</td><td>?           </td><td>Pediatrics-Endocrinology</td><td style=\"text-align: right;\">                  41</td><td style=\"text-align: right;\">               0</td><td style=\"text-align: right;\">                1</td><td style=\"text-align: right;\">                  0</td><td style=\"text-align: right;\">                 0</td><td style=\"text-align: right;\">                 0</td><td style=\"text-align: right;\">  250.83</td><td style=\"text-align: right;\">  nan   </td><td style=\"text-align: right;\">     nan</td><td style=\"text-align: right;\">                 1</td><td>None           </td><td>None       </td><td>No         </td><td>No           </td><td>No           </td><td>No              </td><td>No           </td><td>No             </td><td>No         </td><td>No         </td><td>No           </td><td>No            </td><td>No             </td><td>No        </td><td>No        </td><td>No            </td><td>No          </td><td>No       </td><td>No           </td><td>No       </td><td>No                   </td><td>No                   </td><td>No                        </td><td>No                       </td><td>No                      </td><td>No      </td><td>No           </td><td>NO          </td></tr>\n",
       "<tr><td style=\"text-align: right;\"> 64410          </td><td style=\"text-align: right;\">  8.60479e+07</td><td>AfricanAmerican</td><td>Female  </td><td>[20-30)</td><td>?       </td><td style=\"text-align: right;\">                  1</td><td style=\"text-align: right;\">                         1</td><td style=\"text-align: right;\">                    7</td><td style=\"text-align: right;\">                 2</td><td>?           </td><td>?                       </td><td style=\"text-align: right;\">                  11</td><td style=\"text-align: right;\">               5</td><td style=\"text-align: right;\">               13</td><td style=\"text-align: right;\">                  2</td><td style=\"text-align: right;\">                 0</td><td style=\"text-align: right;\">                 1</td><td style=\"text-align: right;\">  648   </td><td style=\"text-align: right;\">  250   </td><td style=\"text-align: right;\">     nan</td><td style=\"text-align: right;\">                 6</td><td>None           </td><td>None       </td><td>No         </td><td>No           </td><td>No           </td><td>No              </td><td>No           </td><td>No             </td><td>Steady     </td><td>No         </td><td>No           </td><td>No            </td><td>No             </td><td>No        </td><td>No        </td><td>No            </td><td>No          </td><td>No       </td><td>No           </td><td>No       </td><td>No                   </td><td>No                   </td><td>No                        </td><td>No                       </td><td>No                      </td><td>No      </td><td>Yes          </td><td>NO          </td></tr>\n",
       "<tr><td style=\"text-align: right;\">500364          </td><td style=\"text-align: right;\">  8.24424e+07</td><td>Caucasian      </td><td>Male    </td><td>[30-40)</td><td>?       </td><td style=\"text-align: right;\">                  1</td><td style=\"text-align: right;\">                         1</td><td style=\"text-align: right;\">                    7</td><td style=\"text-align: right;\">                 2</td><td>?           </td><td>?                       </td><td style=\"text-align: right;\">                  44</td><td style=\"text-align: right;\">               1</td><td style=\"text-align: right;\">               16</td><td style=\"text-align: right;\">                  0</td><td style=\"text-align: right;\">                 0</td><td style=\"text-align: right;\">                 0</td><td style=\"text-align: right;\">    8   </td><td style=\"text-align: right;\">  250.43</td><td style=\"text-align: right;\">     403</td><td style=\"text-align: right;\">                 7</td><td>None           </td><td>None       </td><td>No         </td><td>No           </td><td>No           </td><td>No              </td><td>No           </td><td>No             </td><td>No         </td><td>No         </td><td>No           </td><td>No            </td><td>No             </td><td>No        </td><td>No        </td><td>No            </td><td>No          </td><td>No       </td><td>No           </td><td>Up       </td><td>No                   </td><td>No                   </td><td>No                        </td><td>No                       </td><td>No                      </td><td>Ch      </td><td>Yes          </td><td>NO          </td></tr>\n",
       "<tr><td style=\"text-align: right;\"> 16680          </td><td style=\"text-align: right;\">  4.25193e+07</td><td>Caucasian      </td><td>Male    </td><td>[40-50)</td><td>?       </td><td style=\"text-align: right;\">                  1</td><td style=\"text-align: right;\">                         1</td><td style=\"text-align: right;\">                    7</td><td style=\"text-align: right;\">                 1</td><td>?           </td><td>?                       </td><td style=\"text-align: right;\">                  51</td><td style=\"text-align: right;\">               0</td><td style=\"text-align: right;\">                8</td><td style=\"text-align: right;\">                  0</td><td style=\"text-align: right;\">                 0</td><td style=\"text-align: right;\">                 0</td><td style=\"text-align: right;\">  197   </td><td style=\"text-align: right;\">  157   </td><td style=\"text-align: right;\">     250</td><td style=\"text-align: right;\">                 5</td><td>None           </td><td>None       </td><td>No         </td><td>No           </td><td>No           </td><td>No              </td><td>No           </td><td>No             </td><td>Steady     </td><td>No         </td><td>No           </td><td>No            </td><td>No             </td><td>No        </td><td>No        </td><td>No            </td><td>No          </td><td>No       </td><td>No           </td><td>Steady   </td><td>No                   </td><td>No                   </td><td>No                        </td><td>No                       </td><td>No                      </td><td>Ch      </td><td>Yes          </td><td>NO          </td></tr>\n",
       "<tr><td style=\"text-align: right;\"> 55842          </td><td style=\"text-align: right;\">  8.42598e+07</td><td>Caucasian      </td><td>Male    </td><td>[60-70)</td><td>?       </td><td style=\"text-align: right;\">                  3</td><td style=\"text-align: right;\">                         1</td><td style=\"text-align: right;\">                    2</td><td style=\"text-align: right;\">                 4</td><td>?           </td><td>?                       </td><td style=\"text-align: right;\">                  70</td><td style=\"text-align: right;\">               1</td><td style=\"text-align: right;\">               21</td><td style=\"text-align: right;\">                  0</td><td style=\"text-align: right;\">                 0</td><td style=\"text-align: right;\">                 0</td><td style=\"text-align: right;\">  414   </td><td style=\"text-align: right;\">  411   </td><td style=\"text-align: right;\">     nan</td><td style=\"text-align: right;\">                 7</td><td>None           </td><td>None       </td><td>Steady     </td><td>No           </td><td>No           </td><td>No              </td><td>Steady       </td><td>No             </td><td>No         </td><td>No         </td><td>No           </td><td>No            </td><td>No             </td><td>No        </td><td>No        </td><td>No            </td><td>No          </td><td>No       </td><td>No           </td><td>Steady   </td><td>No                   </td><td>No                   </td><td>No                        </td><td>No                       </td><td>No                      </td><td>Ch      </td><td>Yes          </td><td>NO          </td></tr>\n",
       "</tbody>\n",
       "</table>"
      ]
     },
     "metadata": {},
     "output_type": "display_data"
    },
    {
     "data": {
      "text/plain": []
     },
     "execution_count": 5,
     "metadata": {},
     "output_type": "execute_result"
    }
   ],
   "source": [
    "df.head(5)"
   ]
  },
  {
   "cell_type": "code",
   "execution_count": 6,
   "metadata": {},
   "outputs": [
    {
     "data": {
      "text/html": [
       "<table>\n",
       "<thead>\n",
       "<tr><th style=\"text-align: right;\">         id</th><th style=\"text-align: right;\">  patient_nbr</th><th>race           </th><th>gender  </th><th>age    </th><th>weight  </th><th style=\"text-align: right;\">  admission_type_id</th><th style=\"text-align: right;\">  discharge_disposition_id</th><th style=\"text-align: right;\">  admission_source_id</th><th style=\"text-align: right;\">  time_in_hospital</th><th>payer_code  </th><th>medical_specialty  </th><th style=\"text-align: right;\">  num_lab_procedures</th><th style=\"text-align: right;\">  num_procedures</th><th style=\"text-align: right;\">  num_medications</th><th style=\"text-align: right;\">  number_outpatient</th><th style=\"text-align: right;\">  number_emergency</th><th style=\"text-align: right;\">  number_inpatient</th><th style=\"text-align: right;\">  diag_1</th><th style=\"text-align: right;\">  diag_2</th><th style=\"text-align: right;\">  diag_3</th><th style=\"text-align: right;\">  number_diagnoses</th><th>max_glu_serum  </th><th>A1Cresult  </th><th>metformin  </th><th>repaglinide  </th><th>nateglinide  </th><th>chlorpropamide  </th><th>glimepiride  </th><th>acetohexamide  </th><th>glipizide  </th><th>glyburide  </th><th>tolbutamide  </th><th>pioglitazone  </th><th>rosiglitazone  </th><th>acarbose  </th><th>miglitol  </th><th>troglitazone  </th><th>tolazamide  </th><th>examide  </th><th>citoglipton  </th><th>insulin  </th><th>glyburide-metformin  </th><th>glipizide-metformin  </th><th>glimepiride-pioglitazone  </th><th>metformin-rosiglitazone  </th><th>metformin-pioglitazone  </th><th>change  </th><th>diabetesMed  </th><th>readmitted  </th></tr>\n",
       "</thead>\n",
       "<tbody>\n",
       "<tr><td style=\"text-align: right;\">2.40242e+08</td><td style=\"text-align: right;\">  4.57489e+07</td><td>Caucasian      </td><td>Male    </td><td>[60-70)</td><td>?       </td><td style=\"text-align: right;\">                  3</td><td style=\"text-align: right;\">                         1</td><td style=\"text-align: right;\">                    1</td><td style=\"text-align: right;\">                 6</td><td>?           </td><td>?                  </td><td style=\"text-align: right;\">                  62</td><td style=\"text-align: right;\">               6</td><td style=\"text-align: right;\">               50</td><td style=\"text-align: right;\">                  0</td><td style=\"text-align: right;\">                 0</td><td style=\"text-align: right;\">                 0</td><td style=\"text-align: right;\">  414   </td><td style=\"text-align: right;\">     411</td><td style=\"text-align: right;\">     427</td><td style=\"text-align: right;\">                 8</td><td>None           </td><td>None       </td><td>No         </td><td>No           </td><td>No           </td><td>No              </td><td>No           </td><td>No             </td><td>No         </td><td>Steady     </td><td>No           </td><td>Steady        </td><td>No             </td><td>No        </td><td>No        </td><td>No            </td><td>No          </td><td>No       </td><td>No           </td><td>Down     </td><td>No                   </td><td>No                   </td><td>No                        </td><td>No                       </td><td>No                      </td><td>Ch      </td><td>Yes          </td><td>NO          </td></tr>\n",
       "<tr><td style=\"text-align: right;\">2.40251e+08</td><td style=\"text-align: right;\">  6.05036e+07</td><td>AfricanAmerican</td><td>Male    </td><td>[20-30)</td><td>?       </td><td style=\"text-align: right;\">                  1</td><td style=\"text-align: right;\">                         1</td><td style=\"text-align: right;\">                    7</td><td style=\"text-align: right;\">                 3</td><td>OG          </td><td>?                  </td><td style=\"text-align: right;\">                  60</td><td style=\"text-align: right;\">               0</td><td style=\"text-align: right;\">                9</td><td style=\"text-align: right;\">                  0</td><td style=\"text-align: right;\">                 0</td><td style=\"text-align: right;\">                 1</td><td style=\"text-align: right;\">  250.12</td><td style=\"text-align: right;\">     276</td><td style=\"text-align: right;\">     276</td><td style=\"text-align: right;\">                 7</td><td>None           </td><td>Norm       </td><td>No         </td><td>No           </td><td>No           </td><td>No              </td><td>No           </td><td>No             </td><td>No         </td><td>No         </td><td>No           </td><td>No            </td><td>No             </td><td>No        </td><td>No        </td><td>No            </td><td>No          </td><td>No       </td><td>No           </td><td>Up       </td><td>No                   </td><td>No                   </td><td>No                        </td><td>No                       </td><td>No                      </td><td>Ch      </td><td>Yes          </td><td><30         </td></tr>\n",
       "<tr><td style=\"text-align: right;\">2.40257e+08</td><td style=\"text-align: right;\">  2.18105e+06</td><td>Caucasian      </td><td>Female  </td><td>[70-80)</td><td>?       </td><td style=\"text-align: right;\">                  3</td><td style=\"text-align: right;\">                         6</td><td style=\"text-align: right;\">                    1</td><td style=\"text-align: right;\">                 3</td><td>?           </td><td>?                  </td><td style=\"text-align: right;\">                  26</td><td style=\"text-align: right;\">               2</td><td style=\"text-align: right;\">               32</td><td style=\"text-align: right;\">                  0</td><td style=\"text-align: right;\">                 0</td><td style=\"text-align: right;\">                 0</td><td style=\"text-align: right;\">  715   </td><td style=\"text-align: right;\">     285</td><td style=\"text-align: right;\">     278</td><td style=\"text-align: right;\">                 9</td><td>None           </td><td>None       </td><td>No         </td><td>No           </td><td>No           </td><td>No              </td><td>No           </td><td>No             </td><td>No         </td><td>No         </td><td>No           </td><td>Steady        </td><td>No             </td><td>No        </td><td>No        </td><td>No            </td><td>No          </td><td>No       </td><td>No           </td><td>Steady   </td><td>No                   </td><td>No                   </td><td>No                        </td><td>No                       </td><td>No                      </td><td>Ch      </td><td>Yes          </td><td>NO          </td></tr>\n",
       "<tr><td style=\"text-align: right;\">2.40257e+08</td><td style=\"text-align: right;\">  4.61461e+07</td><td>Caucasian      </td><td>Male    </td><td>[60-70)</td><td>?       </td><td style=\"text-align: right;\">                  3</td><td style=\"text-align: right;\">                         1</td><td style=\"text-align: right;\">                    1</td><td style=\"text-align: right;\">                 1</td><td>MC          </td><td>?                  </td><td style=\"text-align: right;\">                  34</td><td style=\"text-align: right;\">               1</td><td style=\"text-align: right;\">               21</td><td style=\"text-align: right;\">                  0</td><td style=\"text-align: right;\">                 0</td><td style=\"text-align: right;\">                 0</td><td style=\"text-align: right;\">  414   </td><td style=\"text-align: right;\">     428</td><td style=\"text-align: right;\">     276</td><td style=\"text-align: right;\">                 9</td><td>None           </td><td>None       </td><td>No         </td><td>No           </td><td>No           </td><td>No              </td><td>No           </td><td>No             </td><td>Steady     </td><td>No         </td><td>No           </td><td>No            </td><td>No             </td><td>No        </td><td>No        </td><td>No            </td><td>No          </td><td>No       </td><td>No           </td><td>Steady   </td><td>No                   </td><td>No                   </td><td>No                        </td><td>No                       </td><td>No                      </td><td>Ch      </td><td>Yes          </td><td>NO          </td></tr>\n",
       "<tr><td style=\"text-align: right;\">2.40277e+08</td><td style=\"text-align: right;\">  3.42898e+07</td><td>Caucasian      </td><td>Female  </td><td>[60-70)</td><td>?       </td><td style=\"text-align: right;\">                  1</td><td style=\"text-align: right;\">                         1</td><td style=\"text-align: right;\">                    7</td><td style=\"text-align: right;\">                 1</td><td>BC          </td><td>?                  </td><td style=\"text-align: right;\">                  50</td><td style=\"text-align: right;\">               6</td><td style=\"text-align: right;\">               25</td><td style=\"text-align: right;\">                  0</td><td style=\"text-align: right;\">                 0</td><td style=\"text-align: right;\">                 0</td><td style=\"text-align: right;\">  414   </td><td style=\"text-align: right;\">     428</td><td style=\"text-align: right;\">     411</td><td style=\"text-align: right;\">                 9</td><td>None           </td><td>None       </td><td>No         </td><td>No           </td><td>No           </td><td>No              </td><td>No           </td><td>No             </td><td>No         </td><td>No         </td><td>No           </td><td>No            </td><td>Steady         </td><td>No        </td><td>No        </td><td>No            </td><td>No          </td><td>No       </td><td>No           </td><td>Steady   </td><td>No                   </td><td>No                   </td><td>No                        </td><td>No                       </td><td>No                      </td><td>Ch      </td><td>Yes          </td><td>NO          </td></tr>\n",
       "</tbody>\n",
       "</table>"
      ]
     },
     "metadata": {},
     "output_type": "display_data"
    },
    {
     "data": {
      "text/plain": []
     },
     "execution_count": 6,
     "metadata": {},
     "output_type": "execute_result"
    }
   ],
   "source": [
    "df.tail(5)"
   ]
  },
  {
   "cell_type": "code",
   "execution_count": 7,
   "metadata": {},
   "outputs": [
    {
     "name": "stdout",
     "output_type": "stream",
     "text": [
      "Rows:50001\n",
      "Cols:50\n",
      "\n",
      "\n"
     ]
    },
    {
     "data": {
      "text/html": [
       "<table>\n",
       "<thead>\n",
       "<tr><th>       </th><th>id                </th><th>patient_nbr       </th><th>race           </th><th>gender  </th><th>age     </th><th>weight  </th><th>admission_type_id  </th><th>discharge_disposition_id  </th><th>admission_source_id  </th><th>time_in_hospital  </th><th>payer_code  </th><th>medical_specialty       </th><th>num_lab_procedures  </th><th>num_procedures   </th><th>num_medications   </th><th>number_outpatient  </th><th>number_emergency   </th><th>number_inpatient  </th><th>diag_1            </th><th>diag_2            </th><th>diag_3            </th><th>number_diagnoses  </th><th>max_glu_serum  </th><th>A1Cresult  </th><th>metformin  </th><th>repaglinide  </th><th>nateglinide  </th><th>chlorpropamide  </th><th>glimepiride  </th><th>acetohexamide  </th><th>glipizide  </th><th>glyburide  </th><th>tolbutamide  </th><th>pioglitazone  </th><th>rosiglitazone  </th><th>acarbose  </th><th>miglitol  </th><th>troglitazone  </th><th>tolazamide  </th><th>examide  </th><th>citoglipton  </th><th>insulin  </th><th>glyburide-metformin  </th><th>glipizide-metformin  </th><th>glimepiride-pioglitazone  </th><th>metformin-rosiglitazone  </th><th>metformin-pioglitazone  </th><th>change  </th><th>diabetesMed  </th><th>readmitted  </th></tr>\n",
       "</thead>\n",
       "<tbody>\n",
       "<tr><td>type   </td><td>int               </td><td>int               </td><td>enum           </td><td>enum    </td><td>enum    </td><td>enum    </td><td>int                </td><td>int                       </td><td>int                  </td><td>int               </td><td>enum        </td><td>enum                    </td><td>int                 </td><td>int              </td><td>int               </td><td>int                </td><td>int                </td><td>int               </td><td>real              </td><td>real              </td><td>real              </td><td>int               </td><td>enum           </td><td>enum       </td><td>enum       </td><td>enum         </td><td>enum         </td><td>enum            </td><td>enum         </td><td>enum           </td><td>enum       </td><td>enum       </td><td>enum         </td><td>enum          </td><td>enum           </td><td>enum      </td><td>enum      </td><td>enum          </td><td>enum        </td><td>enum     </td><td>enum         </td><td>enum     </td><td>enum                 </td><td>enum                 </td><td>enum                      </td><td>enum                     </td><td>enum                    </td><td>enum    </td><td>enum         </td><td>enum        </td></tr>\n",
       "<tr><td>mins   </td><td>12522.0           </td><td>135.0             </td><td>               </td><td>        </td><td>        </td><td>        </td><td>1.0                </td><td>1.0                       </td><td>1.0                  </td><td>1.0               </td><td>            </td><td>                        </td><td>1.0                 </td><td>0.0              </td><td>1.0               </td><td>0.0                </td><td>0.0                </td><td>0.0               </td><td>3.0               </td><td>8.0               </td><td>5.0               </td><td>1.0               </td><td>               </td><td>           </td><td>           </td><td>             </td><td>             </td><td>                </td><td>             </td><td>               </td><td>           </td><td>           </td><td>             </td><td>              </td><td>               </td><td>          </td><td>          </td><td>              </td><td>            </td><td>         </td><td>             </td><td>         </td><td>                     </td><td>                     </td><td>                          </td><td>                         </td><td>                        </td><td>        </td><td>             </td><td>            </td></tr>\n",
       "<tr><td>mean   </td><td>118350344.89446208</td><td>43491484.558948815</td><td>               </td><td>        </td><td>        </td><td>        </td><td>2.1021779564408716 </td><td>4.1673366532669345        </td><td>5.74982500349993     </td><td>4.436831263374732 </td><td>            </td><td>                        </td><td>42.90460190796184   </td><td>1.385032299354013</td><td>15.681846363072744</td><td>0.25887482250354993</td><td>0.13165736685266297</td><td>0.523189536209276 </td><td>493.62482470614594</td><td>432.2971752959341 </td><td>412.4333165829146 </td><td>7.069218615627686 </td><td>               </td><td>           </td><td>           </td><td>             </td><td>             </td><td>                </td><td>             </td><td>               </td><td>           </td><td>           </td><td>             </td><td>              </td><td>               </td><td>          </td><td>          </td><td>              </td><td>            </td><td>         </td><td>             </td><td>         </td><td>                     </td><td>                     </td><td>                          </td><td>                         </td><td>                        </td><td>        </td><td>             </td><td>            </td></tr>\n",
       "<tr><td>maxs   </td><td>240277404.0       </td><td>115218477.0       </td><td>               </td><td>        </td><td>        </td><td>        </td><td>8.0                </td><td>28.0                      </td><td>22.0                 </td><td>14.0              </td><td>            </td><td>                        </td><td>132.0               </td><td>6.0              </td><td>81.0              </td><td>36.0               </td><td>28.0               </td><td>21.0              </td><td>999.0             </td><td>999.0             </td><td>999.0             </td><td>9.0               </td><td>               </td><td>           </td><td>           </td><td>             </td><td>             </td><td>                </td><td>             </td><td>               </td><td>           </td><td>           </td><td>             </td><td>              </td><td>               </td><td>          </td><td>          </td><td>              </td><td>            </td><td>         </td><td>             </td><td>         </td><td>                     </td><td>                     </td><td>                          </td><td>                         </td><td>                        </td><td>        </td><td>             </td><td>            </td></tr>\n",
       "<tr><td>sigma  </td><td>60444491.42445575 </td><td>35065949.89381692 </td><td>               </td><td>        </td><td>        </td><td>        </td><td>1.4867613986147448 </td><td>5.808736341446589         </td><td>4.316877484869777    </td><td>3.0317477848441454</td><td>            </td><td>                        </td><td>19.06615060839549   </td><td>1.698784024959244</td><td>8.459927673383218 </td><td>0.9949384332461386 </td><td>0.6364636604553149 </td><td>1.156783140720553 </td><td>208.26118899894746</td><td>180.22596490135584</td><td>177.02506045996853</td><td>2.0226884800745397</td><td>               </td><td>           </td><td>           </td><td>             </td><td>             </td><td>                </td><td>             </td><td>               </td><td>           </td><td>           </td><td>             </td><td>              </td><td>               </td><td>          </td><td>          </td><td>              </td><td>            </td><td>         </td><td>             </td><td>         </td><td>                     </td><td>                     </td><td>                          </td><td>                         </td><td>                        </td><td>        </td><td>             </td><td>            </td></tr>\n",
       "<tr><td>zeros  </td><td>0                 </td><td>0                 </td><td>               </td><td>        </td><td>        </td><td>        </td><td>0                  </td><td>0                         </td><td>0                    </td><td>0                 </td><td>            </td><td>                        </td><td>0                   </td><td>21844            </td><td>0                 </td><td>43811              </td><td>45948              </td><td>35748             </td><td>0                 </td><td>0                 </td><td>0                 </td><td>0                 </td><td>               </td><td>           </td><td>           </td><td>             </td><td>             </td><td>                </td><td>             </td><td>               </td><td>           </td><td>           </td><td>             </td><td>              </td><td>               </td><td>          </td><td>          </td><td>              </td><td>            </td><td>         </td><td>             </td><td>         </td><td>                     </td><td>                     </td><td>                          </td><td>                         </td><td>                        </td><td>        </td><td>             </td><td>            </td></tr>\n",
       "<tr><td>missing</td><td>0                 </td><td>0                 </td><td>0              </td><td>0       </td><td>0       </td><td>0       </td><td>0                  </td><td>0                         </td><td>0                    </td><td>0                 </td><td>0           </td><td>0                       </td><td>0                   </td><td>0                </td><td>0                 </td><td>0                  </td><td>0                  </td><td>0                 </td><td>912               </td><td>1426              </td><td>3435              </td><td>0                 </td><td>0              </td><td>0          </td><td>0          </td><td>0            </td><td>0            </td><td>0               </td><td>0            </td><td>0              </td><td>0          </td><td>0          </td><td>0            </td><td>0             </td><td>0              </td><td>0         </td><td>0         </td><td>0             </td><td>0           </td><td>0        </td><td>0            </td><td>0        </td><td>0                    </td><td>0                    </td><td>0                         </td><td>0                        </td><td>0                       </td><td>0       </td><td>0            </td><td>0           </td></tr>\n",
       "<tr><td>0      </td><td>2278392.0         </td><td>8222157.0         </td><td>Caucasian      </td><td>Female  </td><td>[0-10)  </td><td>?       </td><td>6.0                </td><td>25.0                      </td><td>1.0                  </td><td>1.0               </td><td>?           </td><td>Pediatrics-Endocrinology</td><td>41.0                </td><td>0.0              </td><td>1.0               </td><td>0.0                </td><td>0.0                </td><td>0.0               </td><td>250.83            </td><td>nan               </td><td>nan               </td><td>1.0               </td><td>None           </td><td>None       </td><td>No         </td><td>No           </td><td>No           </td><td>No              </td><td>No           </td><td>No             </td><td>No         </td><td>No         </td><td>No           </td><td>No            </td><td>No             </td><td>No        </td><td>No        </td><td>No            </td><td>No          </td><td>No       </td><td>No           </td><td>No       </td><td>No                   </td><td>No                   </td><td>No                        </td><td>No                       </td><td>No                      </td><td>No      </td><td>No           </td><td>NO          </td></tr>\n",
       "<tr><td>1      </td><td>64410.0           </td><td>86047875.0        </td><td>AfricanAmerican</td><td>Female  </td><td>[20-30) </td><td>?       </td><td>1.0                </td><td>1.0                       </td><td>7.0                  </td><td>2.0               </td><td>?           </td><td>?                       </td><td>11.0                </td><td>5.0              </td><td>13.0              </td><td>2.0                </td><td>0.0                </td><td>1.0               </td><td>648.0             </td><td>250.0             </td><td>nan               </td><td>6.0               </td><td>None           </td><td>None       </td><td>No         </td><td>No           </td><td>No           </td><td>No              </td><td>No           </td><td>No             </td><td>Steady     </td><td>No         </td><td>No           </td><td>No            </td><td>No             </td><td>No        </td><td>No        </td><td>No            </td><td>No          </td><td>No       </td><td>No           </td><td>No       </td><td>No                   </td><td>No                   </td><td>No                        </td><td>No                       </td><td>No                      </td><td>No      </td><td>Yes          </td><td>NO          </td></tr>\n",
       "<tr><td>2      </td><td>500364.0          </td><td>82442376.0        </td><td>Caucasian      </td><td>Male    </td><td>[30-40) </td><td>?       </td><td>1.0                </td><td>1.0                       </td><td>7.0                  </td><td>2.0               </td><td>?           </td><td>?                       </td><td>44.0                </td><td>1.0              </td><td>16.0              </td><td>0.0                </td><td>0.0                </td><td>0.0               </td><td>8.0               </td><td>250.43            </td><td>403.0             </td><td>7.0               </td><td>None           </td><td>None       </td><td>No         </td><td>No           </td><td>No           </td><td>No              </td><td>No           </td><td>No             </td><td>No         </td><td>No         </td><td>No           </td><td>No            </td><td>No             </td><td>No        </td><td>No        </td><td>No            </td><td>No          </td><td>No       </td><td>No           </td><td>Up       </td><td>No                   </td><td>No                   </td><td>No                        </td><td>No                       </td><td>No                      </td><td>Ch      </td><td>Yes          </td><td>NO          </td></tr>\n",
       "<tr><td>3      </td><td>16680.0           </td><td>42519267.0        </td><td>Caucasian      </td><td>Male    </td><td>[40-50) </td><td>?       </td><td>1.0                </td><td>1.0                       </td><td>7.0                  </td><td>1.0               </td><td>?           </td><td>?                       </td><td>51.0                </td><td>0.0              </td><td>8.0               </td><td>0.0                </td><td>0.0                </td><td>0.0               </td><td>197.0             </td><td>157.0             </td><td>250.0             </td><td>5.0               </td><td>None           </td><td>None       </td><td>No         </td><td>No           </td><td>No           </td><td>No              </td><td>No           </td><td>No             </td><td>Steady     </td><td>No         </td><td>No           </td><td>No            </td><td>No             </td><td>No        </td><td>No        </td><td>No            </td><td>No          </td><td>No       </td><td>No           </td><td>Steady   </td><td>No                   </td><td>No                   </td><td>No                        </td><td>No                       </td><td>No                      </td><td>Ch      </td><td>Yes          </td><td>NO          </td></tr>\n",
       "<tr><td>4      </td><td>55842.0           </td><td>84259809.0        </td><td>Caucasian      </td><td>Male    </td><td>[60-70) </td><td>?       </td><td>3.0                </td><td>1.0                       </td><td>2.0                  </td><td>4.0               </td><td>?           </td><td>?                       </td><td>70.0                </td><td>1.0              </td><td>21.0              </td><td>0.0                </td><td>0.0                </td><td>0.0               </td><td>414.0             </td><td>411.0             </td><td>nan               </td><td>7.0               </td><td>None           </td><td>None       </td><td>Steady     </td><td>No           </td><td>No           </td><td>No              </td><td>Steady       </td><td>No             </td><td>No         </td><td>No         </td><td>No           </td><td>No            </td><td>No             </td><td>No        </td><td>No        </td><td>No            </td><td>No          </td><td>No       </td><td>No           </td><td>Steady   </td><td>No                   </td><td>No                   </td><td>No                        </td><td>No                       </td><td>No                      </td><td>Ch      </td><td>Yes          </td><td>NO          </td></tr>\n",
       "<tr><td>5      </td><td>12522.0           </td><td>48330783.0        </td><td>Caucasian      </td><td>Female  </td><td>[80-90) </td><td>?       </td><td>2.0                </td><td>1.0                       </td><td>4.0                  </td><td>13.0              </td><td>?           </td><td>?                       </td><td>68.0                </td><td>2.0              </td><td>28.0              </td><td>0.0                </td><td>0.0                </td><td>0.0               </td><td>398.0             </td><td>427.0             </td><td>38.0              </td><td>8.0               </td><td>None           </td><td>None       </td><td>No         </td><td>No           </td><td>No           </td><td>No              </td><td>No           </td><td>No             </td><td>Steady     </td><td>No         </td><td>No           </td><td>No            </td><td>No             </td><td>No        </td><td>No        </td><td>No            </td><td>No          </td><td>No       </td><td>No           </td><td>Steady   </td><td>No                   </td><td>No                   </td><td>No                        </td><td>No                       </td><td>No                      </td><td>Ch      </td><td>Yes          </td><td>NO          </td></tr>\n",
       "<tr><td>6      </td><td>15738.0           </td><td>63555939.0        </td><td>Caucasian      </td><td>Female  </td><td>[90-100)</td><td>?       </td><td>3.0                </td><td>3.0                       </td><td>4.0                  </td><td>12.0              </td><td>?           </td><td>InternalMedicine        </td><td>33.0                </td><td>3.0              </td><td>18.0              </td><td>0.0                </td><td>0.0                </td><td>0.0               </td><td>434.0             </td><td>198.0             </td><td>486.0             </td><td>8.0               </td><td>None           </td><td>None       </td><td>No         </td><td>No           </td><td>No           </td><td>No              </td><td>No           </td><td>No             </td><td>No         </td><td>No         </td><td>No           </td><td>No            </td><td>Steady         </td><td>No        </td><td>No        </td><td>No            </td><td>No          </td><td>No       </td><td>No           </td><td>Steady   </td><td>No                   </td><td>No                   </td><td>No                        </td><td>No                       </td><td>No                      </td><td>Ch      </td><td>Yes          </td><td>NO          </td></tr>\n",
       "<tr><td>7      </td><td>36900.0           </td><td>77391171.0        </td><td>AfricanAmerican</td><td>Male    </td><td>[60-70) </td><td>?       </td><td>2.0                </td><td>1.0                       </td><td>4.0                  </td><td>7.0               </td><td>?           </td><td>?                       </td><td>62.0                </td><td>0.0              </td><td>11.0              </td><td>0.0                </td><td>0.0                </td><td>0.0               </td><td>157.0             </td><td>288.0             </td><td>197.0             </td><td>7.0               </td><td>None           </td><td>None       </td><td>No         </td><td>No           </td><td>No           </td><td>No              </td><td>No           </td><td>No             </td><td>No         </td><td>Up         </td><td>No           </td><td>No            </td><td>No             </td><td>No        </td><td>No        </td><td>No            </td><td>No          </td><td>No       </td><td>No           </td><td>Steady   </td><td>No                   </td><td>No                   </td><td>No                        </td><td>No                       </td><td>No                      </td><td>Ch      </td><td>Yes          </td><td><30         </td></tr>\n",
       "<tr><td>8      </td><td>40926.0           </td><td>85504905.0        </td><td>Caucasian      </td><td>Female  </td><td>[40-50) </td><td>?       </td><td>1.0                </td><td>3.0                       </td><td>7.0                  </td><td>7.0               </td><td>?           </td><td>Family/GeneralPractice  </td><td>60.0                </td><td>0.0              </td><td>15.0              </td><td>0.0                </td><td>1.0                </td><td>0.0               </td><td>428.0             </td><td>250.43            </td><td>250.6             </td><td>8.0               </td><td>None           </td><td>None       </td><td>Steady     </td><td>Up           </td><td>No           </td><td>No              </td><td>No           </td><td>No             </td><td>No         </td><td>No         </td><td>No           </td><td>No            </td><td>No             </td><td>No        </td><td>No        </td><td>No            </td><td>No          </td><td>No       </td><td>No           </td><td>Down     </td><td>No                   </td><td>No                   </td><td>No                        </td><td>No                       </td><td>No                      </td><td>Ch      </td><td>Yes          </td><td><30         </td></tr>\n",
       "<tr><td>9      </td><td>42570.0           </td><td>77586282.0        </td><td>Caucasian      </td><td>Male    </td><td>[80-90) </td><td>?       </td><td>1.0                </td><td>6.0                       </td><td>7.0                  </td><td>10.0              </td><td>?           </td><td>Family/GeneralPractice  </td><td>55.0                </td><td>1.0              </td><td>31.0              </td><td>0.0                </td><td>0.0                </td><td>0.0               </td><td>428.0             </td><td>411.0             </td><td>427.0             </td><td>8.0               </td><td>None           </td><td>None       </td><td>No         </td><td>No           </td><td>No           </td><td>No              </td><td>No           </td><td>No             </td><td>No         </td><td>No         </td><td>No           </td><td>No            </td><td>No             </td><td>No        </td><td>No        </td><td>No            </td><td>No          </td><td>No       </td><td>No           </td><td>Steady   </td><td>No                   </td><td>No                   </td><td>No                        </td><td>No                       </td><td>No                      </td><td>No      </td><td>Yes          </td><td>NO          </td></tr>\n",
       "</tbody>\n",
       "</table>"
      ]
     },
     "metadata": {},
     "output_type": "display_data"
    }
   ],
   "source": [
    "df.describe()"
   ]
  },
  {
   "cell_type": "code",
   "execution_count": 8,
   "metadata": {},
   "outputs": [
    {
     "name": "stdout",
     "output_type": "stream",
     "text": [
      "y:  readmitted\n",
      "X:  ['id', 'patient_nbr', 'race', 'gender', 'age', 'weight', 'admission_type_id', 'discharge_disposition_id', 'admission_source_id', 'time_in_hospital', 'payer_code', 'medical_specialty', 'num_lab_procedures', 'num_procedures', 'num_medications', 'number_outpatient', 'number_emergency', 'number_inpatient', 'diag_1', 'diag_2', 'diag_3', 'number_diagnoses', 'max_glu_serum', 'A1Cresult', 'metformin', 'repaglinide', 'nateglinide', 'chlorpropamide', 'glimepiride', 'acetohexamide', 'glipizide', 'glyburide', 'tolbutamide', 'pioglitazone', 'rosiglitazone', 'acarbose', 'miglitol', 'troglitazone', 'tolazamide', 'examide', 'citoglipton', 'insulin', 'glyburide-metformin', 'glipizide-metformin', 'glimepiride-pioglitazone', 'metformin-rosiglitazone', 'metformin-pioglitazone', 'change', 'diabetesMed']\n"
     ]
    }
   ],
   "source": [
    "# Assign target and inputs\n",
    "y = \"readmitted\"\n",
    "X = [name for name in df.columns if name != y]\n",
    "print(\"y: \",y)\n",
    "print(\"X: \", X)"
   ]
  },
  {
   "cell_type": "code",
   "execution_count": 9,
   "metadata": {},
   "outputs": [
    {
     "name": "stdout",
     "output_type": "stream",
     "text": [
      "Integer columns: ['id', 'patient_nbr', 'admission_type_id', 'discharge_disposition_id', 'admission_source_id', 'time_in_hospital', 'num_lab_procedures', 'num_procedures', 'num_medications', 'number_outpatient', 'number_emergency', 'number_inpatient', 'number_diagnoses'] \n",
      "\n",
      "Enum columns: ['race', 'gender', 'age', 'weight', 'payer_code', 'medical_specialty', 'max_glu_serum', 'A1Cresult', 'metformin', 'repaglinide', 'nateglinide', 'chlorpropamide', 'glimepiride', 'acetohexamide', 'glipizide', 'glyburide', 'tolbutamide', 'pioglitazone', 'rosiglitazone', 'acarbose', 'miglitol', 'troglitazone', 'tolazamide', 'examide', 'citoglipton', 'insulin', 'glyburide-metformin', 'glipizide-metformin', 'glimepiride-pioglitazone', 'metformin-rosiglitazone', 'metformin-pioglitazone', 'change', 'diabetesMed'] \n",
      "\n",
      "Real numbers:  ['diag_1', 'diag_2', 'diag_3'] \n",
      "\n"
     ]
    }
   ],
   "source": [
    "# determine column types\n",
    "ints, reals, enums = [], [], []\n",
    "for key, val in df.types.items():\n",
    "    if key in X:\n",
    "        if val == 'enum':\n",
    "            enums.append(key)\n",
    "        elif val == 'int':\n",
    "            ints.append(key)            \n",
    "        else: \n",
    "            reals.append(key)\n",
    "\n",
    "print(\"Integer columns:\",ints,\"\\n\")\n",
    "print(\"Enum columns:\", enums, \"\\n\")\n",
    "print(\"Real numbers: \",reals, \"\\n\")"
   ]
  },
  {
   "cell_type": "markdown",
   "metadata": {},
   "source": [
    "# Feature Engineering\n"
   ]
  },
  {
   "cell_type": "code",
   "execution_count": 10,
   "metadata": {},
   "outputs": [
    {
     "name": "stdout",
     "output_type": "stream",
     "text": [
      "Number of samples: (50001, 50)\n"
     ]
    }
   ],
   "source": [
    "print('Number of samples:', df.shape)"
   ]
  },
  {
   "cell_type": "markdown",
   "metadata": {},
   "source": [
    "* Since, admission_type_id', 'discharge_disposition_id', 'admission_source_id' are multi-class columns and are more of Ids ie, enum than integres, we are converting them into \"enums\". \n",
    "\n",
    "* Also, diag_1, diag_2, diag_3 are enum and not suited to be real numbers "
   ]
  },
  {
   "cell_type": "code",
   "execution_count": 11,
   "metadata": {},
   "outputs": [],
   "source": [
    "#Convert to enums\n",
    "\n",
    "for j in [\"admission_type_id\", \"discharge_disposition_id\", \"admission_source_id\",\n",
    "          \"diag_1\", \"diag_2\", \"diag_3\"]:\n",
    "    df[j] = (df[j].ascharacter()).asfactor()\n",
    "df = h2o.assign(df, \"diabetes_train\")"
   ]
  },
  {
   "cell_type": "code",
   "execution_count": 12,
   "metadata": {},
   "outputs": [
    {
     "name": "stdout",
     "output_type": "stream",
     "text": [
      "Integer columns: ['id', 'patient_nbr', 'time_in_hospital', 'num_lab_procedures', 'num_procedures', 'num_medications', 'number_outpatient', 'number_emergency', 'number_inpatient', 'number_diagnoses'] \n",
      "\n",
      "Enum columns: ['race', 'gender', 'age', 'weight', 'admission_type_id', 'discharge_disposition_id', 'admission_source_id', 'payer_code', 'medical_specialty', 'diag_1', 'diag_2', 'diag_3', 'max_glu_serum', 'A1Cresult', 'metformin', 'repaglinide', 'nateglinide', 'chlorpropamide', 'glimepiride', 'acetohexamide', 'glipizide', 'glyburide', 'tolbutamide', 'pioglitazone', 'rosiglitazone', 'acarbose', 'miglitol', 'troglitazone', 'tolazamide', 'examide', 'citoglipton', 'insulin', 'glyburide-metformin', 'glipizide-metformin', 'glimepiride-pioglitazone', 'metformin-rosiglitazone', 'metformin-pioglitazone', 'change', 'diabetesMed'] \n",
      "\n",
      "Real numbers:  [] \n",
      "\n"
     ]
    }
   ],
   "source": [
    "# determine column types\n",
    "ints, reals, enums = [], [], []\n",
    "for key, val in df.types.items():\n",
    "    if key in X:\n",
    "        if val == 'enum':\n",
    "            enums.append(key)\n",
    "        elif val == 'int':\n",
    "            ints.append(key)            \n",
    "        else: \n",
    "            reals.append(key)\n",
    "\n",
    "print(\"Integer columns:\",ints,\"\\n\")\n",
    "print(\"Enum columns:\", enums, \"\\n\")\n",
    "print(\"Real numbers: \",reals, \"\\n\")"
   ]
  },
  {
   "cell_type": "code",
   "execution_count": 13,
   "metadata": {},
   "outputs": [
    {
     "data": {
      "text/html": [
       "<table>\n",
       "<thead>\n",
       "<tr><th>readmitted  </th></tr>\n",
       "</thead>\n",
       "<tbody>\n",
       "<tr><td>NO          </td></tr>\n",
       "<tr><td>NO          </td></tr>\n",
       "<tr><td>NO          </td></tr>\n",
       "</tbody>\n",
       "</table>"
      ]
     },
     "metadata": {},
     "output_type": "display_data"
    },
    {
     "data": {
      "text/plain": []
     },
     "execution_count": 13,
     "metadata": {},
     "output_type": "execute_result"
    }
   ],
   "source": [
    "df[\"readmitted\"].head(3)"
   ]
  },
  {
   "cell_type": "code",
   "execution_count": 14,
   "metadata": {},
   "outputs": [
    {
     "data": {
      "text/plain": [
       "[2]"
      ]
     },
     "execution_count": 14,
     "metadata": {},
     "output_type": "execute_result"
    }
   ],
   "source": [
    "df[\"readmitted\"].nlevels()"
   ]
  },
  {
   "cell_type": "code",
   "execution_count": 15,
   "metadata": {},
   "outputs": [
    {
     "data": {
      "text/plain": [
       "['<30', 'NO']"
      ]
     },
     "execution_count": 15,
     "metadata": {},
     "output_type": "execute_result"
    }
   ],
   "source": [
    "df[\"readmitted\"].categories()"
   ]
  },
  {
   "cell_type": "code",
   "execution_count": 16,
   "metadata": {},
   "outputs": [],
   "source": [
    "#one-hot encoding: 0 if No, 1 is <30 days \n",
    "df[\"readmitted\"]=df[\"readmitted\"].set_levels([\"1\",\"0\"])"
   ]
  },
  {
   "cell_type": "code",
   "execution_count": 17,
   "metadata": {},
   "outputs": [
    {
     "data": {
      "text/plain": [
       "['1', '0']"
      ]
     },
     "execution_count": 17,
     "metadata": {},
     "output_type": "execute_result"
    }
   ],
   "source": [
    "df[\"readmitted\"].categories()"
   ]
  },
  {
   "cell_type": "code",
   "execution_count": 18,
   "metadata": {},
   "outputs": [
    {
     "name": "stdout",
     "output_type": "stream",
     "text": [
      "Df colnames:  ['race', 'gender', 'age', 'weight', 'admission_type_id', 'time_in_hospital', 'medical_specialty', 'num_lab_procedures', 'num_procedures', 'num_medications', 'number_outpatient', 'number_emergency', 'number_inpatient', 'diag_1', 'diag_2', 'diag_3', 'number_diagnoses', 'max_glu_serum', 'A1Cresult', 'metformin', 'repaglinide', 'nateglinide', 'chlorpropamide', 'glimepiride', 'acetohexamide', 'glipizide', 'glyburide', 'tolbutamide', 'pioglitazone', 'rosiglitazone', 'acarbose', 'miglitol', 'troglitazone', 'tolazamide', 'examide', 'citoglipton', 'insulin', 'glyburide-metformin', 'glipizide-metformin', 'glimepiride-pioglitazone', 'metformin-rosiglitazone', 'metformin-pioglitazone', 'change', 'diabetesMed']\n"
     ]
    }
   ],
   "source": [
    "# Set target and predictor variables\n",
    "y = \"readmitted\"\n",
    "x = df.col_names\n",
    "x.remove(y)\n",
    "x.remove(\"id\")\n",
    "x.remove(\"patient_nbr\")\n",
    "x.remove(\"discharge_disposition_id\")\n",
    "x.remove(\"admission_source_id\")\n",
    "x.remove(\"payer_code\")\n",
    "print(\"Df colnames: \", x)"
   ]
  },
  {
   "cell_type": "code",
   "execution_count": 19,
   "metadata": {},
   "outputs": [
    {
     "data": {
      "text/html": [
       "<table>\n",
       "<thead>\n",
       "<tr><th style=\"text-align: right;\">  isNA(id)</th><th style=\"text-align: right;\">  isNA(patient_nbr)</th><th style=\"text-align: right;\">  isNA(race)</th><th style=\"text-align: right;\">  isNA(gender)</th><th style=\"text-align: right;\">  isNA(age)</th><th style=\"text-align: right;\">  isNA(weight)</th><th style=\"text-align: right;\">  isNA(admission_type_id)</th><th style=\"text-align: right;\">  isNA(discharge_disposition_id)</th><th style=\"text-align: right;\">  isNA(admission_source_id)</th><th style=\"text-align: right;\">  isNA(time_in_hospital)</th><th style=\"text-align: right;\">  isNA(payer_code)</th><th style=\"text-align: right;\">  isNA(medical_specialty)</th><th style=\"text-align: right;\">  isNA(num_lab_procedures)</th><th style=\"text-align: right;\">  isNA(num_procedures)</th><th style=\"text-align: right;\">  isNA(num_medications)</th><th style=\"text-align: right;\">  isNA(number_outpatient)</th><th style=\"text-align: right;\">  isNA(number_emergency)</th><th style=\"text-align: right;\">  isNA(number_inpatient)</th><th style=\"text-align: right;\">  isNA(diag_1)</th><th style=\"text-align: right;\">  isNA(diag_2)</th><th style=\"text-align: right;\">  isNA(diag_3)</th><th style=\"text-align: right;\">  isNA(number_diagnoses)</th><th style=\"text-align: right;\">  isNA(max_glu_serum)</th><th style=\"text-align: right;\">  isNA(A1Cresult)</th><th style=\"text-align: right;\">  isNA(metformin)</th><th style=\"text-align: right;\">  isNA(repaglinide)</th><th style=\"text-align: right;\">  isNA(nateglinide)</th><th style=\"text-align: right;\">  isNA(chlorpropamide)</th><th style=\"text-align: right;\">  isNA(glimepiride)</th><th style=\"text-align: right;\">  isNA(acetohexamide)</th><th style=\"text-align: right;\">  isNA(glipizide)</th><th style=\"text-align: right;\">  isNA(glyburide)</th><th style=\"text-align: right;\">  isNA(tolbutamide)</th><th style=\"text-align: right;\">  isNA(pioglitazone)</th><th style=\"text-align: right;\">  isNA(rosiglitazone)</th><th style=\"text-align: right;\">  isNA(acarbose)</th><th style=\"text-align: right;\">  isNA(miglitol)</th><th style=\"text-align: right;\">  isNA(troglitazone)</th><th style=\"text-align: right;\">  isNA(tolazamide)</th><th style=\"text-align: right;\">  isNA(examide)</th><th style=\"text-align: right;\">  isNA(citoglipton)</th><th style=\"text-align: right;\">  isNA(insulin)</th><th style=\"text-align: right;\">  isNA(glyburide-metformin)</th><th style=\"text-align: right;\">  isNA(glipizide-metformin)</th><th style=\"text-align: right;\">  isNA(glimepiride-pioglitazone)</th><th style=\"text-align: right;\">  isNA(metformin-rosiglitazone)</th><th style=\"text-align: right;\">  isNA(metformin-pioglitazone)</th><th style=\"text-align: right;\">  isNA(change)</th><th style=\"text-align: right;\">  isNA(diabetesMed)</th><th style=\"text-align: right;\">  isNA(readmitted)</th></tr>\n",
       "</thead>\n",
       "<tbody>\n",
       "<tr><td style=\"text-align: right;\">         0</td><td style=\"text-align: right;\">                  0</td><td style=\"text-align: right;\">           0</td><td style=\"text-align: right;\">             0</td><td style=\"text-align: right;\">          0</td><td style=\"text-align: right;\">             0</td><td style=\"text-align: right;\">                        0</td><td style=\"text-align: right;\">                               0</td><td style=\"text-align: right;\">                          0</td><td style=\"text-align: right;\">                       0</td><td style=\"text-align: right;\">                 0</td><td style=\"text-align: right;\">                        0</td><td style=\"text-align: right;\">                         0</td><td style=\"text-align: right;\">                     0</td><td style=\"text-align: right;\">                      0</td><td style=\"text-align: right;\">                        0</td><td style=\"text-align: right;\">                       0</td><td style=\"text-align: right;\">                       0</td><td style=\"text-align: right;\">             0</td><td style=\"text-align: right;\">             1</td><td style=\"text-align: right;\">             1</td><td style=\"text-align: right;\">                       0</td><td style=\"text-align: right;\">                    0</td><td style=\"text-align: right;\">                0</td><td style=\"text-align: right;\">                0</td><td style=\"text-align: right;\">                  0</td><td style=\"text-align: right;\">                  0</td><td style=\"text-align: right;\">                     0</td><td style=\"text-align: right;\">                  0</td><td style=\"text-align: right;\">                    0</td><td style=\"text-align: right;\">                0</td><td style=\"text-align: right;\">                0</td><td style=\"text-align: right;\">                  0</td><td style=\"text-align: right;\">                   0</td><td style=\"text-align: right;\">                    0</td><td style=\"text-align: right;\">               0</td><td style=\"text-align: right;\">               0</td><td style=\"text-align: right;\">                   0</td><td style=\"text-align: right;\">                 0</td><td style=\"text-align: right;\">              0</td><td style=\"text-align: right;\">                  0</td><td style=\"text-align: right;\">              0</td><td style=\"text-align: right;\">                          0</td><td style=\"text-align: right;\">                          0</td><td style=\"text-align: right;\">                               0</td><td style=\"text-align: right;\">                              0</td><td style=\"text-align: right;\">                             0</td><td style=\"text-align: right;\">             0</td><td style=\"text-align: right;\">                  0</td><td style=\"text-align: right;\">                 0</td></tr>\n",
       "<tr><td style=\"text-align: right;\">         0</td><td style=\"text-align: right;\">                  0</td><td style=\"text-align: right;\">           0</td><td style=\"text-align: right;\">             0</td><td style=\"text-align: right;\">          0</td><td style=\"text-align: right;\">             0</td><td style=\"text-align: right;\">                        0</td><td style=\"text-align: right;\">                               0</td><td style=\"text-align: right;\">                          0</td><td style=\"text-align: right;\">                       0</td><td style=\"text-align: right;\">                 0</td><td style=\"text-align: right;\">                        0</td><td style=\"text-align: right;\">                         0</td><td style=\"text-align: right;\">                     0</td><td style=\"text-align: right;\">                      0</td><td style=\"text-align: right;\">                        0</td><td style=\"text-align: right;\">                       0</td><td style=\"text-align: right;\">                       0</td><td style=\"text-align: right;\">             0</td><td style=\"text-align: right;\">             0</td><td style=\"text-align: right;\">             1</td><td style=\"text-align: right;\">                       0</td><td style=\"text-align: right;\">                    0</td><td style=\"text-align: right;\">                0</td><td style=\"text-align: right;\">                0</td><td style=\"text-align: right;\">                  0</td><td style=\"text-align: right;\">                  0</td><td style=\"text-align: right;\">                     0</td><td style=\"text-align: right;\">                  0</td><td style=\"text-align: right;\">                    0</td><td style=\"text-align: right;\">                0</td><td style=\"text-align: right;\">                0</td><td style=\"text-align: right;\">                  0</td><td style=\"text-align: right;\">                   0</td><td style=\"text-align: right;\">                    0</td><td style=\"text-align: right;\">               0</td><td style=\"text-align: right;\">               0</td><td style=\"text-align: right;\">                   0</td><td style=\"text-align: right;\">                 0</td><td style=\"text-align: right;\">              0</td><td style=\"text-align: right;\">                  0</td><td style=\"text-align: right;\">              0</td><td style=\"text-align: right;\">                          0</td><td style=\"text-align: right;\">                          0</td><td style=\"text-align: right;\">                               0</td><td style=\"text-align: right;\">                              0</td><td style=\"text-align: right;\">                             0</td><td style=\"text-align: right;\">             0</td><td style=\"text-align: right;\">                  0</td><td style=\"text-align: right;\">                 0</td></tr>\n",
       "<tr><td style=\"text-align: right;\">         0</td><td style=\"text-align: right;\">                  0</td><td style=\"text-align: right;\">           0</td><td style=\"text-align: right;\">             0</td><td style=\"text-align: right;\">          0</td><td style=\"text-align: right;\">             0</td><td style=\"text-align: right;\">                        0</td><td style=\"text-align: right;\">                               0</td><td style=\"text-align: right;\">                          0</td><td style=\"text-align: right;\">                       0</td><td style=\"text-align: right;\">                 0</td><td style=\"text-align: right;\">                        0</td><td style=\"text-align: right;\">                         0</td><td style=\"text-align: right;\">                     0</td><td style=\"text-align: right;\">                      0</td><td style=\"text-align: right;\">                        0</td><td style=\"text-align: right;\">                       0</td><td style=\"text-align: right;\">                       0</td><td style=\"text-align: right;\">             0</td><td style=\"text-align: right;\">             0</td><td style=\"text-align: right;\">             0</td><td style=\"text-align: right;\">                       0</td><td style=\"text-align: right;\">                    0</td><td style=\"text-align: right;\">                0</td><td style=\"text-align: right;\">                0</td><td style=\"text-align: right;\">                  0</td><td style=\"text-align: right;\">                  0</td><td style=\"text-align: right;\">                     0</td><td style=\"text-align: right;\">                  0</td><td style=\"text-align: right;\">                    0</td><td style=\"text-align: right;\">                0</td><td style=\"text-align: right;\">                0</td><td style=\"text-align: right;\">                  0</td><td style=\"text-align: right;\">                   0</td><td style=\"text-align: right;\">                    0</td><td style=\"text-align: right;\">               0</td><td style=\"text-align: right;\">               0</td><td style=\"text-align: right;\">                   0</td><td style=\"text-align: right;\">                 0</td><td style=\"text-align: right;\">              0</td><td style=\"text-align: right;\">                  0</td><td style=\"text-align: right;\">              0</td><td style=\"text-align: right;\">                          0</td><td style=\"text-align: right;\">                          0</td><td style=\"text-align: right;\">                               0</td><td style=\"text-align: right;\">                              0</td><td style=\"text-align: right;\">                             0</td><td style=\"text-align: right;\">             0</td><td style=\"text-align: right;\">                  0</td><td style=\"text-align: right;\">                 0</td></tr>\n",
       "<tr><td style=\"text-align: right;\">         0</td><td style=\"text-align: right;\">                  0</td><td style=\"text-align: right;\">           0</td><td style=\"text-align: right;\">             0</td><td style=\"text-align: right;\">          0</td><td style=\"text-align: right;\">             0</td><td style=\"text-align: right;\">                        0</td><td style=\"text-align: right;\">                               0</td><td style=\"text-align: right;\">                          0</td><td style=\"text-align: right;\">                       0</td><td style=\"text-align: right;\">                 0</td><td style=\"text-align: right;\">                        0</td><td style=\"text-align: right;\">                         0</td><td style=\"text-align: right;\">                     0</td><td style=\"text-align: right;\">                      0</td><td style=\"text-align: right;\">                        0</td><td style=\"text-align: right;\">                       0</td><td style=\"text-align: right;\">                       0</td><td style=\"text-align: right;\">             0</td><td style=\"text-align: right;\">             0</td><td style=\"text-align: right;\">             0</td><td style=\"text-align: right;\">                       0</td><td style=\"text-align: right;\">                    0</td><td style=\"text-align: right;\">                0</td><td style=\"text-align: right;\">                0</td><td style=\"text-align: right;\">                  0</td><td style=\"text-align: right;\">                  0</td><td style=\"text-align: right;\">                     0</td><td style=\"text-align: right;\">                  0</td><td style=\"text-align: right;\">                    0</td><td style=\"text-align: right;\">                0</td><td style=\"text-align: right;\">                0</td><td style=\"text-align: right;\">                  0</td><td style=\"text-align: right;\">                   0</td><td style=\"text-align: right;\">                    0</td><td style=\"text-align: right;\">               0</td><td style=\"text-align: right;\">               0</td><td style=\"text-align: right;\">                   0</td><td style=\"text-align: right;\">                 0</td><td style=\"text-align: right;\">              0</td><td style=\"text-align: right;\">                  0</td><td style=\"text-align: right;\">              0</td><td style=\"text-align: right;\">                          0</td><td style=\"text-align: right;\">                          0</td><td style=\"text-align: right;\">                               0</td><td style=\"text-align: right;\">                              0</td><td style=\"text-align: right;\">                             0</td><td style=\"text-align: right;\">             0</td><td style=\"text-align: right;\">                  0</td><td style=\"text-align: right;\">                 0</td></tr>\n",
       "<tr><td style=\"text-align: right;\">         0</td><td style=\"text-align: right;\">                  0</td><td style=\"text-align: right;\">           0</td><td style=\"text-align: right;\">             0</td><td style=\"text-align: right;\">          0</td><td style=\"text-align: right;\">             0</td><td style=\"text-align: right;\">                        0</td><td style=\"text-align: right;\">                               0</td><td style=\"text-align: right;\">                          0</td><td style=\"text-align: right;\">                       0</td><td style=\"text-align: right;\">                 0</td><td style=\"text-align: right;\">                        0</td><td style=\"text-align: right;\">                         0</td><td style=\"text-align: right;\">                     0</td><td style=\"text-align: right;\">                      0</td><td style=\"text-align: right;\">                        0</td><td style=\"text-align: right;\">                       0</td><td style=\"text-align: right;\">                       0</td><td style=\"text-align: right;\">             0</td><td style=\"text-align: right;\">             0</td><td style=\"text-align: right;\">             1</td><td style=\"text-align: right;\">                       0</td><td style=\"text-align: right;\">                    0</td><td style=\"text-align: right;\">                0</td><td style=\"text-align: right;\">                0</td><td style=\"text-align: right;\">                  0</td><td style=\"text-align: right;\">                  0</td><td style=\"text-align: right;\">                     0</td><td style=\"text-align: right;\">                  0</td><td style=\"text-align: right;\">                    0</td><td style=\"text-align: right;\">                0</td><td style=\"text-align: right;\">                0</td><td style=\"text-align: right;\">                  0</td><td style=\"text-align: right;\">                   0</td><td style=\"text-align: right;\">                    0</td><td style=\"text-align: right;\">               0</td><td style=\"text-align: right;\">               0</td><td style=\"text-align: right;\">                   0</td><td style=\"text-align: right;\">                 0</td><td style=\"text-align: right;\">              0</td><td style=\"text-align: right;\">                  0</td><td style=\"text-align: right;\">              0</td><td style=\"text-align: right;\">                          0</td><td style=\"text-align: right;\">                          0</td><td style=\"text-align: right;\">                               0</td><td style=\"text-align: right;\">                              0</td><td style=\"text-align: right;\">                             0</td><td style=\"text-align: right;\">             0</td><td style=\"text-align: right;\">                  0</td><td style=\"text-align: right;\">                 0</td></tr>\n",
       "<tr><td style=\"text-align: right;\">         0</td><td style=\"text-align: right;\">                  0</td><td style=\"text-align: right;\">           0</td><td style=\"text-align: right;\">             0</td><td style=\"text-align: right;\">          0</td><td style=\"text-align: right;\">             0</td><td style=\"text-align: right;\">                        0</td><td style=\"text-align: right;\">                               0</td><td style=\"text-align: right;\">                          0</td><td style=\"text-align: right;\">                       0</td><td style=\"text-align: right;\">                 0</td><td style=\"text-align: right;\">                        0</td><td style=\"text-align: right;\">                         0</td><td style=\"text-align: right;\">                     0</td><td style=\"text-align: right;\">                      0</td><td style=\"text-align: right;\">                        0</td><td style=\"text-align: right;\">                       0</td><td style=\"text-align: right;\">                       0</td><td style=\"text-align: right;\">             0</td><td style=\"text-align: right;\">             0</td><td style=\"text-align: right;\">             0</td><td style=\"text-align: right;\">                       0</td><td style=\"text-align: right;\">                    0</td><td style=\"text-align: right;\">                0</td><td style=\"text-align: right;\">                0</td><td style=\"text-align: right;\">                  0</td><td style=\"text-align: right;\">                  0</td><td style=\"text-align: right;\">                     0</td><td style=\"text-align: right;\">                  0</td><td style=\"text-align: right;\">                    0</td><td style=\"text-align: right;\">                0</td><td style=\"text-align: right;\">                0</td><td style=\"text-align: right;\">                  0</td><td style=\"text-align: right;\">                   0</td><td style=\"text-align: right;\">                    0</td><td style=\"text-align: right;\">               0</td><td style=\"text-align: right;\">               0</td><td style=\"text-align: right;\">                   0</td><td style=\"text-align: right;\">                 0</td><td style=\"text-align: right;\">              0</td><td style=\"text-align: right;\">                  0</td><td style=\"text-align: right;\">              0</td><td style=\"text-align: right;\">                          0</td><td style=\"text-align: right;\">                          0</td><td style=\"text-align: right;\">                               0</td><td style=\"text-align: right;\">                              0</td><td style=\"text-align: right;\">                             0</td><td style=\"text-align: right;\">             0</td><td style=\"text-align: right;\">                  0</td><td style=\"text-align: right;\">                 0</td></tr>\n",
       "<tr><td style=\"text-align: right;\">         0</td><td style=\"text-align: right;\">                  0</td><td style=\"text-align: right;\">           0</td><td style=\"text-align: right;\">             0</td><td style=\"text-align: right;\">          0</td><td style=\"text-align: right;\">             0</td><td style=\"text-align: right;\">                        0</td><td style=\"text-align: right;\">                               0</td><td style=\"text-align: right;\">                          0</td><td style=\"text-align: right;\">                       0</td><td style=\"text-align: right;\">                 0</td><td style=\"text-align: right;\">                        0</td><td style=\"text-align: right;\">                         0</td><td style=\"text-align: right;\">                     0</td><td style=\"text-align: right;\">                      0</td><td style=\"text-align: right;\">                        0</td><td style=\"text-align: right;\">                       0</td><td style=\"text-align: right;\">                       0</td><td style=\"text-align: right;\">             0</td><td style=\"text-align: right;\">             0</td><td style=\"text-align: right;\">             0</td><td style=\"text-align: right;\">                       0</td><td style=\"text-align: right;\">                    0</td><td style=\"text-align: right;\">                0</td><td style=\"text-align: right;\">                0</td><td style=\"text-align: right;\">                  0</td><td style=\"text-align: right;\">                  0</td><td style=\"text-align: right;\">                     0</td><td style=\"text-align: right;\">                  0</td><td style=\"text-align: right;\">                    0</td><td style=\"text-align: right;\">                0</td><td style=\"text-align: right;\">                0</td><td style=\"text-align: right;\">                  0</td><td style=\"text-align: right;\">                   0</td><td style=\"text-align: right;\">                    0</td><td style=\"text-align: right;\">               0</td><td style=\"text-align: right;\">               0</td><td style=\"text-align: right;\">                   0</td><td style=\"text-align: right;\">                 0</td><td style=\"text-align: right;\">              0</td><td style=\"text-align: right;\">                  0</td><td style=\"text-align: right;\">              0</td><td style=\"text-align: right;\">                          0</td><td style=\"text-align: right;\">                          0</td><td style=\"text-align: right;\">                               0</td><td style=\"text-align: right;\">                              0</td><td style=\"text-align: right;\">                             0</td><td style=\"text-align: right;\">             0</td><td style=\"text-align: right;\">                  0</td><td style=\"text-align: right;\">                 0</td></tr>\n",
       "<tr><td style=\"text-align: right;\">         0</td><td style=\"text-align: right;\">                  0</td><td style=\"text-align: right;\">           0</td><td style=\"text-align: right;\">             0</td><td style=\"text-align: right;\">          0</td><td style=\"text-align: right;\">             0</td><td style=\"text-align: right;\">                        0</td><td style=\"text-align: right;\">                               0</td><td style=\"text-align: right;\">                          0</td><td style=\"text-align: right;\">                       0</td><td style=\"text-align: right;\">                 0</td><td style=\"text-align: right;\">                        0</td><td style=\"text-align: right;\">                         0</td><td style=\"text-align: right;\">                     0</td><td style=\"text-align: right;\">                      0</td><td style=\"text-align: right;\">                        0</td><td style=\"text-align: right;\">                       0</td><td style=\"text-align: right;\">                       0</td><td style=\"text-align: right;\">             0</td><td style=\"text-align: right;\">             0</td><td style=\"text-align: right;\">             0</td><td style=\"text-align: right;\">                       0</td><td style=\"text-align: right;\">                    0</td><td style=\"text-align: right;\">                0</td><td style=\"text-align: right;\">                0</td><td style=\"text-align: right;\">                  0</td><td style=\"text-align: right;\">                  0</td><td style=\"text-align: right;\">                     0</td><td style=\"text-align: right;\">                  0</td><td style=\"text-align: right;\">                    0</td><td style=\"text-align: right;\">                0</td><td style=\"text-align: right;\">                0</td><td style=\"text-align: right;\">                  0</td><td style=\"text-align: right;\">                   0</td><td style=\"text-align: right;\">                    0</td><td style=\"text-align: right;\">               0</td><td style=\"text-align: right;\">               0</td><td style=\"text-align: right;\">                   0</td><td style=\"text-align: right;\">                 0</td><td style=\"text-align: right;\">              0</td><td style=\"text-align: right;\">                  0</td><td style=\"text-align: right;\">              0</td><td style=\"text-align: right;\">                          0</td><td style=\"text-align: right;\">                          0</td><td style=\"text-align: right;\">                               0</td><td style=\"text-align: right;\">                              0</td><td style=\"text-align: right;\">                             0</td><td style=\"text-align: right;\">             0</td><td style=\"text-align: right;\">                  0</td><td style=\"text-align: right;\">                 0</td></tr>\n",
       "<tr><td style=\"text-align: right;\">         0</td><td style=\"text-align: right;\">                  0</td><td style=\"text-align: right;\">           0</td><td style=\"text-align: right;\">             0</td><td style=\"text-align: right;\">          0</td><td style=\"text-align: right;\">             0</td><td style=\"text-align: right;\">                        0</td><td style=\"text-align: right;\">                               0</td><td style=\"text-align: right;\">                          0</td><td style=\"text-align: right;\">                       0</td><td style=\"text-align: right;\">                 0</td><td style=\"text-align: right;\">                        0</td><td style=\"text-align: right;\">                         0</td><td style=\"text-align: right;\">                     0</td><td style=\"text-align: right;\">                      0</td><td style=\"text-align: right;\">                        0</td><td style=\"text-align: right;\">                       0</td><td style=\"text-align: right;\">                       0</td><td style=\"text-align: right;\">             0</td><td style=\"text-align: right;\">             0</td><td style=\"text-align: right;\">             0</td><td style=\"text-align: right;\">                       0</td><td style=\"text-align: right;\">                    0</td><td style=\"text-align: right;\">                0</td><td style=\"text-align: right;\">                0</td><td style=\"text-align: right;\">                  0</td><td style=\"text-align: right;\">                  0</td><td style=\"text-align: right;\">                     0</td><td style=\"text-align: right;\">                  0</td><td style=\"text-align: right;\">                    0</td><td style=\"text-align: right;\">                0</td><td style=\"text-align: right;\">                0</td><td style=\"text-align: right;\">                  0</td><td style=\"text-align: right;\">                   0</td><td style=\"text-align: right;\">                    0</td><td style=\"text-align: right;\">               0</td><td style=\"text-align: right;\">               0</td><td style=\"text-align: right;\">                   0</td><td style=\"text-align: right;\">                 0</td><td style=\"text-align: right;\">              0</td><td style=\"text-align: right;\">                  0</td><td style=\"text-align: right;\">              0</td><td style=\"text-align: right;\">                          0</td><td style=\"text-align: right;\">                          0</td><td style=\"text-align: right;\">                               0</td><td style=\"text-align: right;\">                              0</td><td style=\"text-align: right;\">                             0</td><td style=\"text-align: right;\">             0</td><td style=\"text-align: right;\">                  0</td><td style=\"text-align: right;\">                 0</td></tr>\n",
       "<tr><td style=\"text-align: right;\">         0</td><td style=\"text-align: right;\">                  0</td><td style=\"text-align: right;\">           0</td><td style=\"text-align: right;\">             0</td><td style=\"text-align: right;\">          0</td><td style=\"text-align: right;\">             0</td><td style=\"text-align: right;\">                        0</td><td style=\"text-align: right;\">                               0</td><td style=\"text-align: right;\">                          0</td><td style=\"text-align: right;\">                       0</td><td style=\"text-align: right;\">                 0</td><td style=\"text-align: right;\">                        0</td><td style=\"text-align: right;\">                         0</td><td style=\"text-align: right;\">                     0</td><td style=\"text-align: right;\">                      0</td><td style=\"text-align: right;\">                        0</td><td style=\"text-align: right;\">                       0</td><td style=\"text-align: right;\">                       0</td><td style=\"text-align: right;\">             0</td><td style=\"text-align: right;\">             0</td><td style=\"text-align: right;\">             0</td><td style=\"text-align: right;\">                       0</td><td style=\"text-align: right;\">                    0</td><td style=\"text-align: right;\">                0</td><td style=\"text-align: right;\">                0</td><td style=\"text-align: right;\">                  0</td><td style=\"text-align: right;\">                  0</td><td style=\"text-align: right;\">                     0</td><td style=\"text-align: right;\">                  0</td><td style=\"text-align: right;\">                    0</td><td style=\"text-align: right;\">                0</td><td style=\"text-align: right;\">                0</td><td style=\"text-align: right;\">                  0</td><td style=\"text-align: right;\">                   0</td><td style=\"text-align: right;\">                    0</td><td style=\"text-align: right;\">               0</td><td style=\"text-align: right;\">               0</td><td style=\"text-align: right;\">                   0</td><td style=\"text-align: right;\">                 0</td><td style=\"text-align: right;\">              0</td><td style=\"text-align: right;\">                  0</td><td style=\"text-align: right;\">              0</td><td style=\"text-align: right;\">                          0</td><td style=\"text-align: right;\">                          0</td><td style=\"text-align: right;\">                               0</td><td style=\"text-align: right;\">                              0</td><td style=\"text-align: right;\">                             0</td><td style=\"text-align: right;\">             0</td><td style=\"text-align: right;\">                  0</td><td style=\"text-align: right;\">                 0</td></tr>\n",
       "</tbody>\n",
       "</table>"
      ]
     },
     "metadata": {},
     "output_type": "display_data"
    },
    {
     "data": {
      "text/plain": []
     },
     "execution_count": 19,
     "metadata": {},
     "output_type": "execute_result"
    }
   ],
   "source": [
    "df.isna()"
   ]
  },
  {
   "cell_type": "code",
   "execution_count": 20,
   "metadata": {},
   "outputs": [
    {
     "data": {
      "text/plain": [
       "h2o.frame.H2OFrame"
      ]
     },
     "execution_count": 20,
     "metadata": {},
     "output_type": "execute_result"
    }
   ],
   "source": [
    "predictors=df[x]\n",
    "type(predictors)"
   ]
  },
  {
   "cell_type": "code",
   "execution_count": 21,
   "metadata": {},
   "outputs": [
    {
     "data": {
      "text/plain": [
       "(50001, 44)"
      ]
     },
     "execution_count": 21,
     "metadata": {},
     "output_type": "execute_result"
    }
   ],
   "source": [
    "predictors.shape"
   ]
  },
  {
   "cell_type": "code",
   "execution_count": 22,
   "metadata": {},
   "outputs": [],
   "source": [
    "response=y"
   ]
  },
  {
   "cell_type": "code",
   "execution_count": null,
   "metadata": {},
   "outputs": [],
   "source": []
  },
  {
   "cell_type": "markdown",
   "metadata": {},
   "source": [
    "### Finding Co-realtion among columns"
   ]
  },
  {
   "cell_type": "code",
   "execution_count": 23,
   "metadata": {},
   "outputs": [],
   "source": [
    "df_cor_cols=df[ints]"
   ]
  },
  {
   "cell_type": "code",
   "execution_count": 24,
   "metadata": {},
   "outputs": [
    {
     "data": {
      "text/plain": [
       "['id',\n",
       " 'patient_nbr',\n",
       " 'time_in_hospital',\n",
       " 'num_lab_procedures',\n",
       " 'num_procedures',\n",
       " 'num_medications',\n",
       " 'number_outpatient',\n",
       " 'number_emergency',\n",
       " 'number_inpatient',\n",
       " 'number_diagnoses']"
      ]
     },
     "execution_count": 24,
     "metadata": {},
     "output_type": "execute_result"
    }
   ],
   "source": [
    "df_cor_cols.columns"
   ]
  },
  {
   "cell_type": "code",
   "execution_count": 25,
   "metadata": {},
   "outputs": [],
   "source": [
    "df_cor_cols=df_cor_cols.drop(\"id\")\n",
    "df_cor_cols=df_cor_cols.drop(\"patient_nbr\")"
   ]
  },
  {
   "cell_type": "code",
   "execution_count": 26,
   "metadata": {},
   "outputs": [
    {
     "data": {
      "text/plain": [
       "['time_in_hospital',\n",
       " 'num_lab_procedures',\n",
       " 'num_procedures',\n",
       " 'num_medications',\n",
       " 'number_outpatient',\n",
       " 'number_emergency',\n",
       " 'number_inpatient',\n",
       " 'number_diagnoses']"
      ]
     },
     "execution_count": 26,
     "metadata": {},
     "output_type": "execute_result"
    }
   ],
   "source": [
    "df_cor_cols.columns"
   ]
  },
  {
   "cell_type": "code",
   "execution_count": 27,
   "metadata": {},
   "outputs": [
    {
     "data": {
      "image/png": "[encoded data removed]",
      "text/plain": [
       "<Figure size 720x720 with 2 Axes>"
      ]
     },
     "metadata": {
      "needs_background": "light"
     },
     "output_type": "display_data"
    }
   ],
   "source": [
    "plt.figure(figsize=(10,10))\n",
    "corr = df_cor_cols.cor().as_data_frame()\n",
    "corr.index = df_cor_cols.columns\n",
    "sns.heatmap(corr, annot = True, cmap='RdYlGn', vmin=-1, vmax=1)\n",
    "plt.title(\"Correlation Heatmap\", fontsize=16)\n",
    "plt.show()"
   ]
  },
  {
   "cell_type": "markdown",
   "metadata": {},
   "source": [
    "## Meta data"
   ]
  },
  {
   "cell_type": "code",
   "execution_count": 28,
   "metadata": {},
   "outputs": [],
   "source": [
    "data_path=None\n",
    "all_variables=None\n",
    "test_path=None\n",
    "# target='search_term'\n",
    "target=y\n",
    "nthreads=1 \n",
    "min_mem_size=6 \n",
    "run_time=1000\n",
    "classification=True\n",
    "scale=False\n",
    "max_models=9    \n",
    "model_path=None\n",
    "balance_y=False \n",
    "balance_threshold=0.2\n",
    "name=None \n",
    "server_path=None  \n",
    "analysis=0"
   ]
  },
  {
   "cell_type": "code",
   "execution_count": 29,
   "metadata": {},
   "outputs": [],
   "source": [
    "def set_meta_data(analysis,run_id,server,data,test,model_path,target,run_time,classification,scale,model,balance,balance_threshold,name,path,nthreads,min_mem_size):\n",
    "    m_data={}\n",
    "    m_data['start_time'] = time.time()\n",
    "    m_data['target']=target\n",
    "    m_data['server_path']=server\n",
    "    m_data['data_path']=data \n",
    "    m_data['test_path']=test\n",
    "    m_data['max_models']=model\n",
    "    m_data['run_time']=run_time\n",
    "    m_data['run_id'] =run_id\n",
    "    m_data['scale']=scale\n",
    "    m_data['classification']=classification\n",
    "    m_data['scale']=False\n",
    "    m_data['model_path']=model_path\n",
    "    m_data['balance']=balance\n",
    "    m_data['balance_threshold']=balance_threshold\n",
    "    m_data['project'] =name\n",
    "    m_data['end_time'] = time.time()\n",
    "    m_data['execution_time'] = 0.0\n",
    "    m_data['run_path'] =path\n",
    "    m_data['nthreads'] = nthreads\n",
    "    m_data['min_mem_size'] = min_mem_size\n",
    "    m_data['analysis'] = analysis\n",
    "    return m_data\n"
   ]
  },
  {
   "cell_type": "code",
   "execution_count": 30,
   "metadata": {},
   "outputs": [],
   "source": [
    "def dict_to_json(dct,n):\n",
    "    j = json.dumps(dct, indent=4)\n",
    "    f = open(n, 'w')\n",
    "    print(j, file=f)\n",
    "    f.close()"
   ]
  },
  {
   "cell_type": "code",
   "execution_count": 31,
   "metadata": {},
   "outputs": [],
   "source": [
    "# Functions\n",
    "\n",
    "def alphabet(n):\n",
    "  alpha='0123456789abcdefghijklmnopqrstuvwxyzABCDEFGHIJKLMNOPQRSTUVWXYZ'    \n",
    "  str=''\n",
    "  r=len(alpha)-1   \n",
    "  while len(str)<n:\n",
    "    i=random.randint(0,r)\n",
    "    str+=alpha[i]   \n",
    "  return str"
   ]
  },
  {
   "cell_type": "code",
   "execution_count": 32,
   "metadata": {},
   "outputs": [
    {
     "name": "stdout",
     "output_type": "stream",
     "text": [
      "cTNDDsq8U\n"
     ]
    }
   ],
   "source": [
    "run_id=alphabet(9)\n",
    "if server_path==None:\n",
    "  server_path=os.path.abspath(os.curdir)\n",
    "os.chdir(server_path) \n",
    "run_dir = os.path.join(server_path,run_id)\n",
    "os.mkdir(run_dir)\n",
    "os.chdir(run_dir)    \n",
    "\n",
    "# run_id to std out\n",
    "print (run_id)\n",
    "\n",
    "\n",
    "\n"
   ]
  },
  {
   "cell_type": "code",
   "execution_count": 33,
   "metadata": {},
   "outputs": [
    {
     "name": "stdout",
     "output_type": "stream",
     "text": [
      "{'start_time': 1555990225.629006, 'target': 'readmitted', 'server_path': 'C:\\\\Users\\\\surak\\\\Downloads\\\\0_DS01_HyperParameter\\\\0_DS01_HyperParameter', 'data_path': None, 'test_path': None, 'max_models': 9, 'run_time': 1000, 'run_id': 'cTNDDsq8U', 'scale': False, 'classification': True, 'model_path': None, 'balance': False, 'balance_threshold': 0.2, 'project': None, 'end_time': 1555990225.629006, 'execution_time': 0.0, 'run_path': 'C:\\\\Users\\\\surak\\\\Downloads\\\\0_DS01_HyperParameter\\\\0_DS01_HyperParameter\\\\cTNDDsq8U', 'nthreads': 1, 'min_mem_size': 6, 'analysis': 0}\n"
     ]
    }
   ],
   "source": [
    "# meta data\n",
    "meta_data = set_meta_data(analysis, run_id,server_path,data_path,test_path,model_path,target,run_time,classification,scale,max_models,balance_y,balance_threshold,name,run_dir,nthreads,min_mem_size)\n",
    "print(meta_data)"
   ]
  },
  {
   "cell_type": "code",
   "execution_count": 34,
   "metadata": {},
   "outputs": [
    {
     "name": "stdout",
     "output_type": "stream",
     "text": [
      "meta_data_startTime_beforeModelEval:  Mon Apr 22 23:30:25 2019\n"
     ]
    }
   ],
   "source": [
    "meta_data_startTime_beforeModelEval= time.asctime(time.localtime(meta_data[\"start_time\"])) \n",
    "print(\"meta_data_startTime_beforeModelEval: \",meta_data_startTime_beforeModelEval)"
   ]
  },
  {
   "cell_type": "code",
   "execution_count": 35,
   "metadata": {},
   "outputs": [
    {
     "name": "stdout",
     "output_type": "stream",
     "text": [
      "meta_data_endTime_beforeModelEval=  Mon Apr 22 23:30:25 2019\n"
     ]
    }
   ],
   "source": [
    "meta_data_endTime_beforeModelEval= time.asctime( time.localtime(meta_data[\"end_time\"]) )\n",
    "print( \"meta_data_endTime_beforeModelEval= \", meta_data_endTime_beforeModelEval)"
   ]
  },
  {
   "cell_type": "code",
   "execution_count": 36,
   "metadata": {},
   "outputs": [],
   "source": [
    "# Add independent variables\n",
    "\n",
    "meta_data['X']=predictors.columns "
   ]
  },
  {
   "cell_type": "code",
   "execution_count": 37,
   "metadata": {},
   "outputs": [],
   "source": [
    "meta_data['variables']=df.columns"
   ]
  },
  {
   "cell_type": "code",
   "execution_count": 38,
   "metadata": {},
   "outputs": [],
   "source": [
    "type(predictors)\n",
    "independentVars_df=predictors.as_data_frame()"
   ]
  },
  {
   "cell_type": "code",
   "execution_count": 39,
   "metadata": {},
   "outputs": [],
   "source": [
    "# save the changed dataset\n",
    "dataset_stats=run_id+'_independentVariables.csv'\n",
    "independentVars_df.to_csv(dataset_stats, index=False)"
   ]
  },
  {
   "cell_type": "markdown",
   "metadata": {},
   "source": [
    "## Train model using h2o"
   ]
  },
  {
   "cell_type": "code",
   "execution_count": 40,
   "metadata": {},
   "outputs": [],
   "source": [
    "# Split the data into Train/Test/Validation with Train having 70% and test and validation 15% each\n",
    "#train, valid, test = df.split_frame(ratios=[0.7, 0.15], seed=42)"
   ]
  },
  {
   "cell_type": "code",
   "execution_count": 41,
   "metadata": {},
   "outputs": [],
   "source": [
    "# Use Auto ML to train models\n",
    "from h2o.automl import H2OAutoML\n",
    "aml = H2OAutoML(max_runtime_secs = run_time,project_name = name)"
   ]
  },
  {
   "cell_type": "code",
   "execution_count": 42,
   "metadata": {},
   "outputs": [],
   "source": [
    "model_start_time = time.time()"
   ]
  },
  {
   "cell_type": "code",
   "execution_count": 43,
   "metadata": {},
   "outputs": [
    {
     "name": "stdout",
     "output_type": "stream",
     "text": [
      "AutoML progress: |████████████████████████████████████████████████████████| 100%\n"
     ]
    }
   ],
   "source": [
    "aml.train(x = predictors.columns, y = y, training_frame = df)"
   ]
  },
  {
   "cell_type": "code",
   "execution_count": 44,
   "metadata": {},
   "outputs": [],
   "source": [
    "meta_data['model_execution_time'] = time.time() - model_start_time"
   ]
  },
  {
   "cell_type": "markdown",
   "metadata": {},
   "source": [
    "## Print Leaderboard"
   ]
  },
  {
   "cell_type": "code",
   "execution_count": 45,
   "metadata": {},
   "outputs": [
    {
     "data": {
      "text/html": [
       "<table>\n",
       "<thead>\n",
       "<tr><th>model_id                                           </th><th style=\"text-align: right;\">     auc</th><th style=\"text-align: right;\">  logloss</th><th style=\"text-align: right;\">  mean_per_class_error</th><th style=\"text-align: right;\">    rmse</th><th style=\"text-align: right;\">     mse</th></tr>\n",
       "</thead>\n",
       "<tbody>\n",
       "<tr><td>StackedEnsemble_BestOfFamily_AutoML_20190422_233034</td><td style=\"text-align: right;\">0.709151</td><td style=\"text-align: right;\"> 0.424068</td><td style=\"text-align: right;\">              0.46535 </td><td style=\"text-align: right;\">0.362624</td><td style=\"text-align: right;\">0.131496</td></tr>\n",
       "<tr><td>StackedEnsemble_AllModels_AutoML_20190422_233034   </td><td style=\"text-align: right;\">0.709041</td><td style=\"text-align: right;\"> 0.424106</td><td style=\"text-align: right;\">              0.467897</td><td style=\"text-align: right;\">0.36264 </td><td style=\"text-align: right;\">0.131508</td></tr>\n",
       "<tr><td>GLM_grid_1_AutoML_20190422_233034_model_1          </td><td style=\"text-align: right;\">0.704824</td><td style=\"text-align: right;\"> 0.425356</td><td style=\"text-align: right;\">              0.465952</td><td style=\"text-align: right;\">0.363453</td><td style=\"text-align: right;\">0.132098</td></tr>\n",
       "<tr><td>DeepLearning_1_AutoML_20190422_233034              </td><td style=\"text-align: right;\">0.702619</td><td style=\"text-align: right;\"> 0.426607</td><td style=\"text-align: right;\">              0.466912</td><td style=\"text-align: right;\">0.364242</td><td style=\"text-align: right;\">0.132672</td></tr>\n",
       "<tr><td>DeepLearning_grid_1_AutoML_20190422_233034_model_1 </td><td style=\"text-align: right;\">0.690986</td><td style=\"text-align: right;\"> 0.431791</td><td style=\"text-align: right;\">              0.463685</td><td style=\"text-align: right;\">0.365212</td><td style=\"text-align: right;\">0.13338 </td></tr>\n",
       "<tr><td>DRF_1_AutoML_20190422_233034                       </td><td style=\"text-align: right;\">0.681851</td><td style=\"text-align: right;\"> 0.445721</td><td style=\"text-align: right;\">              0.476027</td><td style=\"text-align: right;\">0.367211</td><td style=\"text-align: right;\">0.134844</td></tr>\n",
       "<tr><td>GBM_grid_1_AutoML_20190422_233034_model_2          </td><td style=\"text-align: right;\">0.679642</td><td style=\"text-align: right;\"> 0.454812</td><td style=\"text-align: right;\">              0.47765 </td><td style=\"text-align: right;\">0.376918</td><td style=\"text-align: right;\">0.142067</td></tr>\n",
       "<tr><td>XRT_1_AutoML_20190422_233034                       </td><td style=\"text-align: right;\">0.67629 </td><td style=\"text-align: right;\"> 0.437007</td><td style=\"text-align: right;\">              0.473692</td><td style=\"text-align: right;\">0.368297</td><td style=\"text-align: right;\">0.135643</td></tr>\n",
       "<tr><td>GBM_1_AutoML_20190422_233034                       </td><td style=\"text-align: right;\">0.66521 </td><td style=\"text-align: right;\"> 0.444669</td><td style=\"text-align: right;\">              0.486064</td><td style=\"text-align: right;\">0.371063</td><td style=\"text-align: right;\">0.137688</td></tr>\n",
       "<tr><td>GBM_2_AutoML_20190422_233034                       </td><td style=\"text-align: right;\">0.66426 </td><td style=\"text-align: right;\"> 0.447236</td><td style=\"text-align: right;\">              0.486894</td><td style=\"text-align: right;\">0.372043</td><td style=\"text-align: right;\">0.138416</td></tr>\n",
       "</tbody>\n",
       "</table>"
      ]
     },
     "metadata": {},
     "output_type": "display_data"
    },
    {
     "data": {
      "text/plain": []
     },
     "execution_count": 45,
     "metadata": {},
     "output_type": "execute_result"
    }
   ],
   "source": [
    "aml.leaderboard"
   ]
  },
  {
   "cell_type": "code",
   "execution_count": 46,
   "metadata": {},
   "outputs": [
    {
     "name": "stdout",
     "output_type": "stream",
     "text": [
      "Model Details\n",
      "=============\n",
      "H2OStackedEnsembleEstimator :  Stacked Ensemble\n",
      "Model Key:  StackedEnsemble_BestOfFamily_AutoML_20190422_233034\n",
      "No model summary for this model\n",
      "\n",
      "\n",
      "ModelMetricsBinomialGLM: stackedensemble\n",
      "** Reported on train data. **\n",
      "\n",
      "MSE: 0.09082417606412611\n",
      "RMSE: 0.30137049633984764\n",
      "LogLoss: 0.3064456102681373\n",
      "Null degrees of freedom: 50000\n",
      "Residual degrees of freedom: 49995\n",
      "Null deviance: 46755.460760764116\n",
      "Residual deviance: 30645.173918034267\n",
      "AIC: 30657.173918034267\n",
      "AUC: 0.9537879017417635\n",
      "pr_auc: 0.9866932647325911\n",
      "Gini: 0.9075758034835271\n",
      "Confusion Matrix (Act/Pred) for max f1 @ threshold = 0.7535648884879143: \n"
     ]
    },
    {
     "data": {
      "text/html": [
       "<div style=\"overflow:auto\"><table style=\"width:50%\"><tr><td><b></b></td>\n",
       "<td><b>1</b></td>\n",
       "<td><b>0</b></td>\n",
       "<td><b>Error</b></td>\n",
       "<td><b>Rate</b></td></tr>\n",
       "<tr><td>1</td>\n",
       "<td>6536.0</td>\n",
       "<td>2338.0</td>\n",
       "<td>0.2635</td>\n",
       "<td> (2338.0/8874.0)</td></tr>\n",
       "<tr><td>0</td>\n",
       "<td>2216.0</td>\n",
       "<td>38911.0</td>\n",
       "<td>0.0539</td>\n",
       "<td> (2216.0/41127.0)</td></tr>\n",
       "<tr><td>Total</td>\n",
       "<td>8752.0</td>\n",
       "<td>41249.0</td>\n",
       "<td>0.0911</td>\n",
       "<td> (4554.0/50001.0)</td></tr></table></div>"
      ],
      "text/plain": [
       "       1     0      Error    Rate\n",
       "-----  ----  -----  -------  ----------------\n",
       "1      6536  2338   0.2635   (2338.0/8874.0)\n",
       "0      2216  38911  0.0539   (2216.0/41127.0)\n",
       "Total  8752  41249  0.0911   (4554.0/50001.0)"
      ]
     },
     "metadata": {},
     "output_type": "display_data"
    },
    {
     "name": "stdout",
     "output_type": "stream",
     "text": [
      "Maximum Metrics: Maximum metrics at their respective thresholds\n",
      "\n"
     ]
    },
    {
     "data": {
      "text/html": [
       "<div style=\"overflow:auto\"><table style=\"width:50%\"><tr><td><b>metric</b></td>\n",
       "<td><b>threshold</b></td>\n",
       "<td><b>value</b></td>\n",
       "<td><b>idx</b></td></tr>\n",
       "<tr><td>max f1</td>\n",
       "<td>0.7535649</td>\n",
       "<td>0.9447169</td>\n",
       "<td>172.0</td></tr>\n",
       "<tr><td>max f2</td>\n",
       "<td>0.5409913</td>\n",
       "<td>0.9643549</td>\n",
       "<td>272.0</td></tr>\n",
       "<tr><td>max f0point5</td>\n",
       "<td>0.8124236</td>\n",
       "<td>0.9572804</td>\n",
       "<td>135.0</td></tr>\n",
       "<tr><td>max accuracy</td>\n",
       "<td>0.7593833</td>\n",
       "<td>0.9091818</td>\n",
       "<td>169.0</td></tr>\n",
       "<tr><td>max precision</td>\n",
       "<td>0.9318616</td>\n",
       "<td>1.0</td>\n",
       "<td>0.0</td></tr>\n",
       "<tr><td>max recall</td>\n",
       "<td>0.2122059</td>\n",
       "<td>1.0</td>\n",
       "<td>364.0</td></tr>\n",
       "<tr><td>max specificity</td>\n",
       "<td>0.9318616</td>\n",
       "<td>1.0</td>\n",
       "<td>0.0</td></tr>\n",
       "<tr><td>max absolute_mcc</td>\n",
       "<td>0.7942707</td>\n",
       "<td>0.7055422</td>\n",
       "<td>146.0</td></tr>\n",
       "<tr><td>max min_per_class_accuracy</td>\n",
       "<td>0.8089134</td>\n",
       "<td>0.8924064</td>\n",
       "<td>137.0</td></tr>\n",
       "<tr><td>max mean_per_class_accuracy</td>\n",
       "<td>0.8207207</td>\n",
       "<td>0.8957092</td>\n",
       "<td>129.0</td></tr></table></div>"
      ],
      "text/plain": [
       "metric                       threshold    value     idx\n",
       "---------------------------  -----------  --------  -----\n",
       "max f1                       0.753565     0.944717  172\n",
       "max f2                       0.540991     0.964355  272\n",
       "max f0point5                 0.812424     0.95728   135\n",
       "max accuracy                 0.759383     0.909182  169\n",
       "max precision                0.931862     1         0\n",
       "max recall                   0.212206     1         364\n",
       "max specificity              0.931862     1         0\n",
       "max absolute_mcc             0.794271     0.705542  146\n",
       "max min_per_class_accuracy   0.808913     0.892406  137\n",
       "max mean_per_class_accuracy  0.820721     0.895709  129"
      ]
     },
     "metadata": {},
     "output_type": "display_data"
    },
    {
     "name": "stdout",
     "output_type": "stream",
     "text": [
      "Gains/Lift Table: Avg response rate: 82.25 %, avg score: 82.47 %\n",
      "\n"
     ]
    },
    {
     "data": {
      "text/html": [
       "<div style=\"overflow:auto\"><table style=\"width:50%\"><tr><td><b></b></td>\n",
       "<td><b>group</b></td>\n",
       "<td><b>cumulative_data_fraction</b></td>\n",
       "<td><b>lower_threshold</b></td>\n",
       "<td><b>lift</b></td>\n",
       "<td><b>cumulative_lift</b></td>\n",
       "<td><b>response_rate</b></td>\n",
       "<td><b>score</b></td>\n",
       "<td><b>cumulative_response_rate</b></td>\n",
       "<td><b>cumulative_score</b></td>\n",
       "<td><b>capture_rate</b></td>\n",
       "<td><b>cumulative_capture_rate</b></td>\n",
       "<td><b>gain</b></td>\n",
       "<td><b>cumulative_gain</b></td></tr>\n",
       "<tr><td></td>\n",
       "<td>1</td>\n",
       "<td>0.0100198</td>\n",
       "<td>0.9283377</td>\n",
       "<td>1.2157707</td>\n",
       "<td>1.2157707</td>\n",
       "<td>1.0</td>\n",
       "<td>0.9301344</td>\n",
       "<td>1.0</td>\n",
       "<td>0.9301344</td>\n",
       "<td>0.0121818</td>\n",
       "<td>0.0121818</td>\n",
       "<td>21.5770662</td>\n",
       "<td>21.5770662</td></tr>\n",
       "<tr><td></td>\n",
       "<td>2</td>\n",
       "<td>0.0200196</td>\n",
       "<td>0.9265079</td>\n",
       "<td>1.2157707</td>\n",
       "<td>1.2157707</td>\n",
       "<td>1.0</td>\n",
       "<td>0.9273672</td>\n",
       "<td>1.0</td>\n",
       "<td>0.9287522</td>\n",
       "<td>0.0121575</td>\n",
       "<td>0.0243392</td>\n",
       "<td>21.5770662</td>\n",
       "<td>21.5770662</td></tr>\n",
       "<tr><td></td>\n",
       "<td>3</td>\n",
       "<td>0.0300194</td>\n",
       "<td>0.9250568</td>\n",
       "<td>1.2157707</td>\n",
       "<td>1.2157707</td>\n",
       "<td>1.0</td>\n",
       "<td>0.9257249</td>\n",
       "<td>1.0</td>\n",
       "<td>0.9277438</td>\n",
       "<td>0.0121575</td>\n",
       "<td>0.0364967</td>\n",
       "<td>21.5770662</td>\n",
       "<td>21.5770662</td></tr>\n",
       "<tr><td></td>\n",
       "<td>4</td>\n",
       "<td>0.0400192</td>\n",
       "<td>0.9239456</td>\n",
       "<td>1.2157707</td>\n",
       "<td>1.2157707</td>\n",
       "<td>1.0</td>\n",
       "<td>0.9245011</td>\n",
       "<td>1.0</td>\n",
       "<td>0.9269335</td>\n",
       "<td>0.0121575</td>\n",
       "<td>0.0486542</td>\n",
       "<td>21.5770662</td>\n",
       "<td>21.5770662</td></tr>\n",
       "<tr><td></td>\n",
       "<td>5</td>\n",
       "<td>0.0500190</td>\n",
       "<td>0.9230029</td>\n",
       "<td>1.2157707</td>\n",
       "<td>1.2157707</td>\n",
       "<td>1.0</td>\n",
       "<td>0.9234744</td>\n",
       "<td>1.0</td>\n",
       "<td>0.9262420</td>\n",
       "<td>0.0121575</td>\n",
       "<td>0.0608116</td>\n",
       "<td>21.5770662</td>\n",
       "<td>21.5770662</td></tr>\n",
       "<tr><td></td>\n",
       "<td>6</td>\n",
       "<td>0.1000180</td>\n",
       "<td>0.9186551</td>\n",
       "<td>1.2157707</td>\n",
       "<td>1.2157707</td>\n",
       "<td>1.0</td>\n",
       "<td>0.9207412</td>\n",
       "<td>1.0</td>\n",
       "<td>0.9234921</td>\n",
       "<td>0.0607873</td>\n",
       "<td>0.1215989</td>\n",
       "<td>21.5770662</td>\n",
       "<td>21.5770662</td></tr>\n",
       "<tr><td></td>\n",
       "<td>7</td>\n",
       "<td>0.1500170</td>\n",
       "<td>0.9147617</td>\n",
       "<td>1.2157707</td>\n",
       "<td>1.2157707</td>\n",
       "<td>1.0</td>\n",
       "<td>0.9167242</td>\n",
       "<td>1.0</td>\n",
       "<td>0.9212364</td>\n",
       "<td>0.0607873</td>\n",
       "<td>0.1823863</td>\n",
       "<td>21.5770662</td>\n",
       "<td>21.5770662</td></tr>\n",
       "<tr><td></td>\n",
       "<td>8</td>\n",
       "<td>0.2000160</td>\n",
       "<td>0.9107410</td>\n",
       "<td>1.2147980</td>\n",
       "<td>1.2155275</td>\n",
       "<td>0.9992</td>\n",
       "<td>0.9127750</td>\n",
       "<td>0.9998000</td>\n",
       "<td>0.9191213</td>\n",
       "<td>0.0607387</td>\n",
       "<td>0.2431250</td>\n",
       "<td>21.4798045</td>\n",
       "<td>21.5527532</td></tr>\n",
       "<tr><td></td>\n",
       "<td>9</td>\n",
       "<td>0.3000140</td>\n",
       "<td>0.9019313</td>\n",
       "<td>1.2145549</td>\n",
       "<td>1.2152033</td>\n",
       "<td>0.999</td>\n",
       "<td>0.9063990</td>\n",
       "<td>0.9995334</td>\n",
       "<td>0.9148808</td>\n",
       "<td>0.1214531</td>\n",
       "<td>0.3645780</td>\n",
       "<td>21.4554891</td>\n",
       "<td>21.5203340</td></tr>\n",
       "<tr><td></td>\n",
       "<td>10</td>\n",
       "<td>0.4000120</td>\n",
       "<td>0.8917319</td>\n",
       "<td>1.2116370</td>\n",
       "<td>1.2143118</td>\n",
       "<td>0.9966</td>\n",
       "<td>0.8970061</td>\n",
       "<td>0.9988001</td>\n",
       "<td>0.9104124</td>\n",
       "<td>0.1211613</td>\n",
       "<td>0.4857393</td>\n",
       "<td>21.1637041</td>\n",
       "<td>21.4311810</td></tr>\n",
       "<tr><td></td>\n",
       "<td>11</td>\n",
       "<td>0.5000100</td>\n",
       "<td>0.8788333</td>\n",
       "<td>1.2043424</td>\n",
       "<td>1.2123180</td>\n",
       "<td>0.9906</td>\n",
       "<td>0.8855916</td>\n",
       "<td>0.9971601</td>\n",
       "<td>0.9054484</td>\n",
       "<td>0.1204318</td>\n",
       "<td>0.6061711</td>\n",
       "<td>20.4342417</td>\n",
       "<td>21.2318011</td></tr>\n",
       "<tr><td></td>\n",
       "<td>12</td>\n",
       "<td>0.6000080</td>\n",
       "<td>0.8616134</td>\n",
       "<td>1.1858627</td>\n",
       "<td>1.2079089</td>\n",
       "<td>0.9754</td>\n",
       "<td>0.8707669</td>\n",
       "<td>0.9935335</td>\n",
       "<td>0.8996684</td>\n",
       "<td>0.1185839</td>\n",
       "<td>0.7247550</td>\n",
       "<td>18.5862703</td>\n",
       "<td>20.7908940</td></tr>\n",
       "<tr><td></td>\n",
       "<td>13</td>\n",
       "<td>0.7000060</td>\n",
       "<td>0.8331562</td>\n",
       "<td>1.1355298</td>\n",
       "<td>1.1975694</td>\n",
       "<td>0.934</td>\n",
       "<td>0.8485444</td>\n",
       "<td>0.9850290</td>\n",
       "<td>0.8923651</td>\n",
       "<td>0.1135507</td>\n",
       "<td>0.8383057</td>\n",
       "<td>13.5529798</td>\n",
       "<td>19.7569358</td></tr>\n",
       "<tr><td></td>\n",
       "<td>14</td>\n",
       "<td>0.8000040</td>\n",
       "<td>0.7748956</td>\n",
       "<td>0.9232562</td>\n",
       "<td>1.1632811</td>\n",
       "<td>0.7594</td>\n",
       "<td>0.8078383</td>\n",
       "<td>0.9568261</td>\n",
       "<td>0.8817996</td>\n",
       "<td>0.0923238</td>\n",
       "<td>0.9306295</td>\n",
       "<td>-7.6743760</td>\n",
       "<td>16.3281076</td></tr>\n",
       "<tr><td></td>\n",
       "<td>15</td>\n",
       "<td>0.9000020</td>\n",
       "<td>0.6583450</td>\n",
       "<td>0.5006544</td>\n",
       "<td>1.0896575</td>\n",
       "<td>0.4118</td>\n",
       "<td>0.7246331</td>\n",
       "<td>0.8962690</td>\n",
       "<td>0.8643370</td>\n",
       "<td>0.0500644</td>\n",
       "<td>0.9806939</td>\n",
       "<td>-49.9345642</td>\n",
       "<td>8.9657521</td></tr>\n",
       "<tr><td></td>\n",
       "<td>16</td>\n",
       "<td>1.0</td>\n",
       "<td>0.0605771</td>\n",
       "<td>0.1930644</td>\n",
       "<td>1.0</td>\n",
       "<td>0.1588</td>\n",
       "<td>0.4680424</td>\n",
       "<td>0.8225235</td>\n",
       "<td>0.8247083</td>\n",
       "<td>0.0193061</td>\n",
       "<td>1.0</td>\n",
       "<td>-80.6935619</td>\n",
       "<td>0.0</td></tr></table></div>"
      ],
      "text/plain": [
       "    group    cumulative_data_fraction    lower_threshold    lift      cumulative_lift    response_rate    score     cumulative_response_rate    cumulative_score    capture_rate    cumulative_capture_rate    gain      cumulative_gain\n",
       "--  -------  --------------------------  -----------------  --------  -----------------  ---------------  --------  --------------------------  ------------------  --------------  -------------------------  --------  -----------------\n",
       "    1        0.0100198                   0.928338           1.21577   1.21577            1                0.930134  1                           0.930134            0.0121818       0.0121818                  21.5771   21.5771\n",
       "    2        0.0200196                   0.926508           1.21577   1.21577            1                0.927367  1                           0.928752            0.0121575       0.0243392                  21.5771   21.5771\n",
       "    3        0.0300194                   0.925057           1.21577   1.21577            1                0.925725  1                           0.927744            0.0121575       0.0364967                  21.5771   21.5771\n",
       "    4        0.0400192                   0.923946           1.21577   1.21577            1                0.924501  1                           0.926934            0.0121575       0.0486542                  21.5771   21.5771\n",
       "    5        0.050019                    0.923003           1.21577   1.21577            1                0.923474  1                           0.926242            0.0121575       0.0608116                  21.5771   21.5771\n",
       "    6        0.100018                    0.918655           1.21577   1.21577            1                0.920741  1                           0.923492            0.0607873       0.121599                   21.5771   21.5771\n",
       "    7        0.150017                    0.914762           1.21577   1.21577            1                0.916724  1                           0.921236            0.0607873       0.182386                   21.5771   21.5771\n",
       "    8        0.200016                    0.910741           1.2148    1.21553            0.9992           0.912775  0.9998                      0.919121            0.0607387       0.243125                   21.4798   21.5528\n",
       "    9        0.300014                    0.901931           1.21455   1.2152             0.999            0.906399  0.999533                    0.914881            0.121453        0.364578                   21.4555   21.5203\n",
       "    10       0.400012                    0.891732           1.21164   1.21431            0.9966           0.897006  0.9988                      0.910412            0.121161        0.485739                   21.1637   21.4312\n",
       "    11       0.50001                     0.878833           1.20434   1.21232            0.9906           0.885592  0.99716                     0.905448            0.120432        0.606171                   20.4342   21.2318\n",
       "    12       0.600008                    0.861613           1.18586   1.20791            0.9754           0.870767  0.993534                    0.899668            0.118584        0.724755                   18.5863   20.7909\n",
       "    13       0.700006                    0.833156           1.13553   1.19757            0.934            0.848544  0.985029                    0.892365            0.113551        0.838306                   13.553    19.7569\n",
       "    14       0.800004                    0.774896           0.923256  1.16328            0.7594           0.807838  0.956826                    0.8818              0.0923238       0.93063                    -7.67438  16.3281\n",
       "    15       0.900002                    0.658345           0.500654  1.08966            0.4118           0.724633  0.896269                    0.864337            0.0500644       0.980694                   -49.9346  8.96575\n",
       "    16       1                           0.0605771          0.193064  1                  0.1588           0.468042  0.822524                    0.824708            0.0193061       1                          -80.6936  0"
      ]
     },
     "metadata": {},
     "output_type": "display_data"
    },
    {
     "name": "stdout",
     "output_type": "stream",
     "text": [
      "\n",
      "\n",
      "ModelMetricsBinomialGLM: stackedensemble\n",
      "** Reported on cross-validation data. **\n",
      "\n",
      "MSE: 0.13149640420099876\n",
      "RMSE: 0.36262432930099814\n",
      "LogLoss: 0.42406780014768425\n",
      "Null degrees of freedom: 50000\n",
      "Residual degrees of freedom: 49995\n",
      "Null deviance: 46759.38790236519\n",
      "Residual deviance: 42407.628150368735\n",
      "AIC: 42419.628150368735\n",
      "AUC: 0.7091512460736968\n",
      "pr_auc: 0.908926993025093\n",
      "Gini: 0.4183024921473937\n",
      "Confusion Matrix (Act/Pred) for max f1 @ threshold = 0.3759769213019527: \n"
     ]
    },
    {
     "data": {
      "text/html": [
       "<div style=\"overflow:auto\"><table style=\"width:50%\"><tr><td><b></b></td>\n",
       "<td><b>1</b></td>\n",
       "<td><b>0</b></td>\n",
       "<td><b>Error</b></td>\n",
       "<td><b>Rate</b></td></tr>\n",
       "<tr><td>1</td>\n",
       "<td>681.0</td>\n",
       "<td>8193.0</td>\n",
       "<td>0.9233</td>\n",
       "<td> (8193.0/8874.0)</td></tr>\n",
       "<tr><td>0</td>\n",
       "<td>306.0</td>\n",
       "<td>40821.0</td>\n",
       "<td>0.0074</td>\n",
       "<td> (306.0/41127.0)</td></tr>\n",
       "<tr><td>Total</td>\n",
       "<td>987.0</td>\n",
       "<td>49014.0</td>\n",
       "<td>0.17</td>\n",
       "<td> (8499.0/50001.0)</td></tr></table></div>"
      ],
      "text/plain": [
       "       1    0      Error    Rate\n",
       "-----  ---  -----  -------  ----------------\n",
       "1      681  8193   0.9233   (8193.0/8874.0)\n",
       "0      306  40821  0.0074   (306.0/41127.0)\n",
       "Total  987  49014  0.17     (8499.0/50001.0)"
      ]
     },
     "metadata": {},
     "output_type": "display_data"
    },
    {
     "name": "stdout",
     "output_type": "stream",
     "text": [
      "Maximum Metrics: Maximum metrics at their respective thresholds\n",
      "\n"
     ]
    },
    {
     "data": {
      "text/html": [
       "<div style=\"overflow:auto\"><table style=\"width:50%\"><tr><td><b>metric</b></td>\n",
       "<td><b>threshold</b></td>\n",
       "<td><b>value</b></td>\n",
       "<td><b>idx</b></td></tr>\n",
       "<tr><td>max f1</td>\n",
       "<td>0.3759769</td>\n",
       "<td>0.9057144</td>\n",
       "<td>333.0</td></tr>\n",
       "<tr><td>max f2</td>\n",
       "<td>0.1078157</td>\n",
       "<td>0.9587524</td>\n",
       "<td>393.0</td></tr>\n",
       "<tr><td>max f0point5</td>\n",
       "<td>0.7392460</td>\n",
       "<td>0.8693686</td>\n",
       "<td>191.0</td></tr>\n",
       "<tr><td>max accuracy</td>\n",
       "<td>0.4251594</td>\n",
       "<td>0.8304034</td>\n",
       "<td>320.0</td></tr>\n",
       "<tr><td>max precision</td>\n",
       "<td>0.9317826</td>\n",
       "<td>1.0</td>\n",
       "<td>0.0</td></tr>\n",
       "<tr><td>max recall</td>\n",
       "<td>0.0506500</td>\n",
       "<td>1.0</td>\n",
       "<td>399.0</td></tr>\n",
       "<tr><td>max specificity</td>\n",
       "<td>0.9317826</td>\n",
       "<td>1.0</td>\n",
       "<td>0.0</td></tr>\n",
       "<tr><td>max absolute_mcc</td>\n",
       "<td>0.7535984</td>\n",
       "<td>0.2559083</td>\n",
       "<td>182.0</td></tr>\n",
       "<tr><td>max min_per_class_accuracy</td>\n",
       "<td>0.8463992</td>\n",
       "<td>0.6451431</td>\n",
       "<td>105.0</td></tr>\n",
       "<tr><td>max mean_per_class_accuracy</td>\n",
       "<td>0.8350676</td>\n",
       "<td>0.6500049</td>\n",
       "<td>116.0</td></tr></table></div>"
      ],
      "text/plain": [
       "metric                       threshold    value     idx\n",
       "---------------------------  -----------  --------  -----\n",
       "max f1                       0.375977     0.905714  333\n",
       "max f2                       0.107816     0.958752  393\n",
       "max f0point5                 0.739246     0.869369  191\n",
       "max accuracy                 0.425159     0.830403  320\n",
       "max precision                0.931783     1         0\n",
       "max recall                   0.05065      1         399\n",
       "max specificity              0.931783     1         0\n",
       "max absolute_mcc             0.753598     0.255908  182\n",
       "max min_per_class_accuracy   0.846399     0.645143  105\n",
       "max mean_per_class_accuracy  0.835068     0.650005  116"
      ]
     },
     "metadata": {},
     "output_type": "display_data"
    },
    {
     "name": "stdout",
     "output_type": "stream",
     "text": [
      "Gains/Lift Table: Avg response rate: 82.25 %, avg score: 82.25 %\n",
      "\n"
     ]
    },
    {
     "data": {
      "text/html": [
       "<div style=\"overflow:auto\"><table style=\"width:50%\"><tr><td><b></b></td>\n",
       "<td><b>group</b></td>\n",
       "<td><b>cumulative_data_fraction</b></td>\n",
       "<td><b>lower_threshold</b></td>\n",
       "<td><b>lift</b></td>\n",
       "<td><b>cumulative_lift</b></td>\n",
       "<td><b>response_rate</b></td>\n",
       "<td><b>score</b></td>\n",
       "<td><b>cumulative_response_rate</b></td>\n",
       "<td><b>cumulative_score</b></td>\n",
       "<td><b>capture_rate</b></td>\n",
       "<td><b>cumulative_capture_rate</b></td>\n",
       "<td><b>gain</b></td>\n",
       "<td><b>cumulative_gain</b></td></tr>\n",
       "<tr><td></td>\n",
       "<td>1</td>\n",
       "<td>0.0100198</td>\n",
       "<td>0.9257800</td>\n",
       "<td>1.1866504</td>\n",
       "<td>1.1866504</td>\n",
       "<td>0.9760479</td>\n",
       "<td>0.9281537</td>\n",
       "<td>0.9760479</td>\n",
       "<td>0.9281537</td>\n",
       "<td>0.0118900</td>\n",
       "<td>0.0118900</td>\n",
       "<td>18.6650406</td>\n",
       "<td>18.6650406</td></tr>\n",
       "<tr><td></td>\n",
       "<td>2</td>\n",
       "<td>0.0200196</td>\n",
       "<td>0.9230670</td>\n",
       "<td>1.1890237</td>\n",
       "<td>1.1878359</td>\n",
       "<td>0.978</td>\n",
       "<td>0.9243025</td>\n",
       "<td>0.9770230</td>\n",
       "<td>0.9262300</td>\n",
       "<td>0.0118900</td>\n",
       "<td>0.0237800</td>\n",
       "<td>18.9023707</td>\n",
       "<td>18.7835871</td></tr>\n",
       "<tr><td></td>\n",
       "<td>3</td>\n",
       "<td>0.0300194</td>\n",
       "<td>0.9210896</td>\n",
       "<td>1.1695714</td>\n",
       "<td>1.1817518</td>\n",
       "<td>0.962</td>\n",
       "<td>0.9220395</td>\n",
       "<td>0.9720187</td>\n",
       "<td>0.9248341</td>\n",
       "<td>0.0116955</td>\n",
       "<td>0.0354755</td>\n",
       "<td>16.9571376</td>\n",
       "<td>18.1751762</td></tr>\n",
       "<tr><td></td>\n",
       "<td>4</td>\n",
       "<td>0.0400192</td>\n",
       "<td>0.9193133</td>\n",
       "<td>1.1622768</td>\n",
       "<td>1.1768854</td>\n",
       "<td>0.956</td>\n",
       "<td>0.9201965</td>\n",
       "<td>0.9680160</td>\n",
       "<td>0.9236753</td>\n",
       "<td>0.0116225</td>\n",
       "<td>0.0470980</td>\n",
       "<td>16.2276752</td>\n",
       "<td>17.6885443</td></tr>\n",
       "<tr><td></td>\n",
       "<td>5</td>\n",
       "<td>0.0500190</td>\n",
       "<td>0.9177941</td>\n",
       "<td>1.1574137</td>\n",
       "<td>1.1729926</td>\n",
       "<td>0.952</td>\n",
       "<td>0.9185184</td>\n",
       "<td>0.9648141</td>\n",
       "<td>0.9226443</td>\n",
       "<td>0.0115739</td>\n",
       "<td>0.0586719</td>\n",
       "<td>15.7413670</td>\n",
       "<td>17.2992646</td></tr>\n",
       "<tr><td></td>\n",
       "<td>6</td>\n",
       "<td>0.1000180</td>\n",
       "<td>0.9113990</td>\n",
       "<td>1.1481738</td>\n",
       "<td>1.1605857</td>\n",
       "<td>0.9444</td>\n",
       "<td>0.9145162</td>\n",
       "<td>0.9546091</td>\n",
       "<td>0.9185811</td>\n",
       "<td>0.0574075</td>\n",
       "<td>0.1160795</td>\n",
       "<td>14.8173813</td>\n",
       "<td>16.0585711</td></tr>\n",
       "<tr><td></td>\n",
       "<td>7</td>\n",
       "<td>0.1500170</td>\n",
       "<td>0.9056719</td>\n",
       "<td>1.1316393</td>\n",
       "<td>1.1509382</td>\n",
       "<td>0.9308</td>\n",
       "<td>0.9085028</td>\n",
       "<td>0.9466738</td>\n",
       "<td>0.9152221</td>\n",
       "<td>0.0565808</td>\n",
       "<td>0.1726603</td>\n",
       "<td>13.1639332</td>\n",
       "<td>15.0938204</td></tr>\n",
       "<tr><td></td>\n",
       "<td>8</td>\n",
       "<td>0.2000160</td>\n",
       "<td>0.9002013</td>\n",
       "<td>1.1248310</td>\n",
       "<td>1.1444121</td>\n",
       "<td>0.9252</td>\n",
       "<td>0.9028909</td>\n",
       "<td>0.9413059</td>\n",
       "<td>0.9121396</td>\n",
       "<td>0.0562404</td>\n",
       "<td>0.2289007</td>\n",
       "<td>12.4831016</td>\n",
       "<td>14.4412060</td></tr>\n",
       "<tr><td></td>\n",
       "<td>9</td>\n",
       "<td>0.3000140</td>\n",
       "<td>0.8891545</td>\n",
       "<td>1.0944367</td>\n",
       "<td>1.1277547</td>\n",
       "<td>0.9002</td>\n",
       "<td>0.8947223</td>\n",
       "<td>0.9276048</td>\n",
       "<td>0.9063342</td>\n",
       "<td>0.1094415</td>\n",
       "<td>0.3383422</td>\n",
       "<td>9.4436750</td>\n",
       "<td>12.7754733</td></tr>\n",
       "<tr><td></td>\n",
       "<td>10</td>\n",
       "<td>0.4000120</td>\n",
       "<td>0.8769096</td>\n",
       "<td>1.0669603</td>\n",
       "<td>1.1125569</td>\n",
       "<td>0.8776</td>\n",
       "<td>0.8831184</td>\n",
       "<td>0.9151042</td>\n",
       "<td>0.9005306</td>\n",
       "<td>0.1066939</td>\n",
       "<td>0.4450361</td>\n",
       "<td>6.6960333</td>\n",
       "<td>11.2556893</td></tr>\n",
       "<tr><td></td>\n",
       "<td>11</td>\n",
       "<td>0.5000100</td>\n",
       "<td>0.8628853</td>\n",
       "<td>1.0479943</td>\n",
       "<td>1.0996449</td>\n",
       "<td>0.862</td>\n",
       "<td>0.8700688</td>\n",
       "<td>0.9044838</td>\n",
       "<td>0.8944385</td>\n",
       "<td>0.1047973</td>\n",
       "<td>0.5498334</td>\n",
       "<td>4.7994310</td>\n",
       "<td>9.9644893</td></tr>\n",
       "<tr><td></td>\n",
       "<td>12</td>\n",
       "<td>0.6000080</td>\n",
       "<td>0.8454644</td>\n",
       "<td>1.0256241</td>\n",
       "<td>1.0873085</td>\n",
       "<td>0.8436</td>\n",
       "<td>0.8546174</td>\n",
       "<td>0.8943369</td>\n",
       "<td>0.8878018</td>\n",
       "<td>0.1025604</td>\n",
       "<td>0.6523938</td>\n",
       "<td>2.5624130</td>\n",
       "<td>8.7308510</td></tr>\n",
       "<tr><td></td>\n",
       "<td>13</td>\n",
       "<td>0.7000060</td>\n",
       "<td>0.8218443</td>\n",
       "<td>0.9971751</td>\n",
       "<td>1.0744327</td>\n",
       "<td>0.8202</td>\n",
       "<td>0.8343857</td>\n",
       "<td>0.8837462</td>\n",
       "<td>0.8801712</td>\n",
       "<td>0.0997155</td>\n",
       "<td>0.7521093</td>\n",
       "<td>-0.2824903</td>\n",
       "<td>7.4432676</td></tr>\n",
       "<tr><td></td>\n",
       "<td>14</td>\n",
       "<td>0.8000040</td>\n",
       "<td>0.7832168</td>\n",
       "<td>0.9478148</td>\n",
       "<td>1.0586058</td>\n",
       "<td>0.7796</td>\n",
       "<td>0.8047061</td>\n",
       "<td>0.8707282</td>\n",
       "<td>0.8707383</td>\n",
       "<td>0.0947796</td>\n",
       "<td>0.8468889</td>\n",
       "<td>-5.2185192</td>\n",
       "<td>5.8605838</td></tr>\n",
       "<tr><td></td>\n",
       "<td>15</td>\n",
       "<td>0.9000020</td>\n",
       "<td>0.6900197</td>\n",
       "<td>0.8768138</td>\n",
       "<td>1.0384072</td>\n",
       "<td>0.7212</td>\n",
       "<td>0.7447305</td>\n",
       "<td>0.8541144</td>\n",
       "<td>0.8567377</td>\n",
       "<td>0.0876796</td>\n",
       "<td>0.9345685</td>\n",
       "<td>-12.3186199</td>\n",
       "<td>3.8407172</td></tr>\n",
       "<tr><td></td>\n",
       "<td>16</td>\n",
       "<td>1.0</td>\n",
       "<td>0.0506500</td>\n",
       "<td>0.6543278</td>\n",
       "<td>1.0</td>\n",
       "<td>0.5382</td>\n",
       "<td>0.5147398</td>\n",
       "<td>0.8225235</td>\n",
       "<td>0.8225386</td>\n",
       "<td>0.0654315</td>\n",
       "<td>1.0</td>\n",
       "<td>-34.5672230</td>\n",
       "<td>0.0</td></tr></table></div>"
      ],
      "text/plain": [
       "    group    cumulative_data_fraction    lower_threshold    lift      cumulative_lift    response_rate    score     cumulative_response_rate    cumulative_score    capture_rate    cumulative_capture_rate    gain      cumulative_gain\n",
       "--  -------  --------------------------  -----------------  --------  -----------------  ---------------  --------  --------------------------  ------------------  --------------  -------------------------  --------  -----------------\n",
       "    1        0.0100198                   0.92578            1.18665   1.18665            0.976048         0.928154  0.976048                    0.928154            0.01189         0.01189                    18.665    18.665\n",
       "    2        0.0200196                   0.923067           1.18902   1.18784            0.978            0.924302  0.977023                    0.92623             0.01189         0.02378                    18.9024   18.7836\n",
       "    3        0.0300194                   0.92109            1.16957   1.18175            0.962            0.92204   0.972019                    0.924834            0.0116955       0.0354755                  16.9571   18.1752\n",
       "    4        0.0400192                   0.919313           1.16228   1.17689            0.956            0.920196  0.968016                    0.923675            0.0116225       0.047098                   16.2277   17.6885\n",
       "    5        0.050019                    0.917794           1.15741   1.17299            0.952            0.918518  0.964814                    0.922644            0.0115739       0.0586719                  15.7414   17.2993\n",
       "    6        0.100018                    0.911399           1.14817   1.16059            0.9444           0.914516  0.954609                    0.918581            0.0574075       0.116079                   14.8174   16.0586\n",
       "    7        0.150017                    0.905672           1.13164   1.15094            0.9308           0.908503  0.946674                    0.915222            0.0565808       0.17266                    13.1639   15.0938\n",
       "    8        0.200016                    0.900201           1.12483   1.14441            0.9252           0.902891  0.941306                    0.91214             0.0562404       0.228901                   12.4831   14.4412\n",
       "    9        0.300014                    0.889154           1.09444   1.12775            0.9002           0.894722  0.927605                    0.906334            0.109441        0.338342                   9.44367   12.7755\n",
       "    10       0.400012                    0.87691            1.06696   1.11256            0.8776           0.883118  0.915104                    0.900531            0.106694        0.445036                   6.69603   11.2557\n",
       "    11       0.50001                     0.862885           1.04799   1.09964            0.862            0.870069  0.904484                    0.894438            0.104797        0.549833                   4.79943   9.96449\n",
       "    12       0.600008                    0.845464           1.02562   1.08731            0.8436           0.854617  0.894337                    0.887802            0.10256         0.652394                   2.56241   8.73085\n",
       "    13       0.700006                    0.821844           0.997175  1.07443            0.8202           0.834386  0.883746                    0.880171            0.0997155       0.752109                   -0.28249  7.44327\n",
       "    14       0.800004                    0.783217           0.947815  1.05861            0.7796           0.804706  0.870728                    0.870738            0.0947796       0.846889                   -5.21852  5.86058\n",
       "    15       0.900002                    0.69002            0.876814  1.03841            0.7212           0.74473   0.854114                    0.856738            0.0876796       0.934569                   -12.3186  3.84072\n",
       "    16       1                           0.05065            0.654328  1                  0.5382           0.51474   0.822524                    0.822539            0.0654315       1                          -34.5672  0"
      ]
     },
     "metadata": {},
     "output_type": "display_data"
    },
    {
     "name": "stdout",
     "output_type": "stream",
     "text": [
      "\n"
     ]
    },
    {
     "data": {
      "text/plain": []
     },
     "execution_count": 46,
     "metadata": {},
     "output_type": "execute_result"
    }
   ],
   "source": [
    "aml.leader"
   ]
  },
  {
   "cell_type": "code",
   "execution_count": 47,
   "metadata": {},
   "outputs": [],
   "source": [
    "\n",
    "# get leaderboard in data frame\n",
    "aml_leaderboard_df=aml.leaderboard.as_data_frame()"
   ]
  },
  {
   "cell_type": "code",
   "execution_count": 48,
   "metadata": {},
   "outputs": [
    {
     "data": {
      "text/html": [
       "<div>\n",
       "<style scoped>\n",
       "    .dataframe tbody tr th:only-of-type {\n",
       "        vertical-align: middle;\n",
       "    }\n",
       "\n",
       "    .dataframe tbody tr th {\n",
       "        vertical-align: top;\n",
       "    }\n",
       "\n",
       "    .dataframe thead th {\n",
       "        text-align: right;\n",
       "    }\n",
       "</style>\n",
       "<table border=\"1\" class=\"dataframe\">\n",
       "  <thead>\n",
       "    <tr style=\"text-align: right;\">\n",
       "      <th></th>\n",
       "      <th>model_id</th>\n",
       "      <th>auc</th>\n",
       "      <th>logloss</th>\n",
       "      <th>mean_per_class_error</th>\n",
       "      <th>rmse</th>\n",
       "      <th>mse</th>\n",
       "    </tr>\n",
       "  </thead>\n",
       "  <tbody>\n",
       "    <tr>\n",
       "      <th>0</th>\n",
       "      <td>StackedEnsemble_BestOfFamily_AutoML_20190422_2...</td>\n",
       "      <td>0.709151</td>\n",
       "      <td>0.424068</td>\n",
       "      <td>0.465350</td>\n",
       "      <td>0.362624</td>\n",
       "      <td>0.131496</td>\n",
       "    </tr>\n",
       "    <tr>\n",
       "      <th>1</th>\n",
       "      <td>StackedEnsemble_AllModels_AutoML_20190422_233034</td>\n",
       "      <td>0.709041</td>\n",
       "      <td>0.424106</td>\n",
       "      <td>0.467897</td>\n",
       "      <td>0.362640</td>\n",
       "      <td>0.131508</td>\n",
       "    </tr>\n",
       "    <tr>\n",
       "      <th>2</th>\n",
       "      <td>GLM_grid_1_AutoML_20190422_233034_model_1</td>\n",
       "      <td>0.704824</td>\n",
       "      <td>0.425356</td>\n",
       "      <td>0.465952</td>\n",
       "      <td>0.363453</td>\n",
       "      <td>0.132098</td>\n",
       "    </tr>\n",
       "    <tr>\n",
       "      <th>3</th>\n",
       "      <td>DeepLearning_1_AutoML_20190422_233034</td>\n",
       "      <td>0.702619</td>\n",
       "      <td>0.426607</td>\n",
       "      <td>0.466912</td>\n",
       "      <td>0.364242</td>\n",
       "      <td>0.132672</td>\n",
       "    </tr>\n",
       "    <tr>\n",
       "      <th>4</th>\n",
       "      <td>DeepLearning_grid_1_AutoML_20190422_233034_mod...</td>\n",
       "      <td>0.690986</td>\n",
       "      <td>0.431791</td>\n",
       "      <td>0.463685</td>\n",
       "      <td>0.365212</td>\n",
       "      <td>0.133380</td>\n",
       "    </tr>\n",
       "    <tr>\n",
       "      <th>5</th>\n",
       "      <td>DRF_1_AutoML_20190422_233034</td>\n",
       "      <td>0.681851</td>\n",
       "      <td>0.445721</td>\n",
       "      <td>0.476027</td>\n",
       "      <td>0.367211</td>\n",
       "      <td>0.134844</td>\n",
       "    </tr>\n",
       "    <tr>\n",
       "      <th>6</th>\n",
       "      <td>GBM_grid_1_AutoML_20190422_233034_model_2</td>\n",
       "      <td>0.679642</td>\n",
       "      <td>0.454812</td>\n",
       "      <td>0.477650</td>\n",
       "      <td>0.376918</td>\n",
       "      <td>0.142067</td>\n",
       "    </tr>\n",
       "    <tr>\n",
       "      <th>7</th>\n",
       "      <td>XRT_1_AutoML_20190422_233034</td>\n",
       "      <td>0.676290</td>\n",
       "      <td>0.437007</td>\n",
       "      <td>0.473692</td>\n",
       "      <td>0.368297</td>\n",
       "      <td>0.135643</td>\n",
       "    </tr>\n",
       "    <tr>\n",
       "      <th>8</th>\n",
       "      <td>GBM_1_AutoML_20190422_233034</td>\n",
       "      <td>0.665210</td>\n",
       "      <td>0.444669</td>\n",
       "      <td>0.486064</td>\n",
       "      <td>0.371063</td>\n",
       "      <td>0.137688</td>\n",
       "    </tr>\n",
       "    <tr>\n",
       "      <th>9</th>\n",
       "      <td>GBM_2_AutoML_20190422_233034</td>\n",
       "      <td>0.664260</td>\n",
       "      <td>0.447236</td>\n",
       "      <td>0.486894</td>\n",
       "      <td>0.372043</td>\n",
       "      <td>0.138416</td>\n",
       "    </tr>\n",
       "    <tr>\n",
       "      <th>10</th>\n",
       "      <td>GBM_5_AutoML_20190422_233034</td>\n",
       "      <td>0.662989</td>\n",
       "      <td>0.451188</td>\n",
       "      <td>0.490669</td>\n",
       "      <td>0.372639</td>\n",
       "      <td>0.138860</td>\n",
       "    </tr>\n",
       "    <tr>\n",
       "      <th>11</th>\n",
       "      <td>DeepLearning_grid_1_AutoML_20190422_233034_mod...</td>\n",
       "      <td>0.662317</td>\n",
       "      <td>0.473155</td>\n",
       "      <td>0.473159</td>\n",
       "      <td>0.376579</td>\n",
       "      <td>0.141812</td>\n",
       "    </tr>\n",
       "    <tr>\n",
       "      <th>12</th>\n",
       "      <td>GBM_3_AutoML_20190422_233034</td>\n",
       "      <td>0.658271</td>\n",
       "      <td>0.451202</td>\n",
       "      <td>0.494253</td>\n",
       "      <td>0.372946</td>\n",
       "      <td>0.139089</td>\n",
       "    </tr>\n",
       "    <tr>\n",
       "      <th>13</th>\n",
       "      <td>GBM_4_AutoML_20190422_233034</td>\n",
       "      <td>0.657078</td>\n",
       "      <td>0.457177</td>\n",
       "      <td>0.477417</td>\n",
       "      <td>0.374403</td>\n",
       "      <td>0.140177</td>\n",
       "    </tr>\n",
       "    <tr>\n",
       "      <th>14</th>\n",
       "      <td>DeepLearning_grid_1_AutoML_20190422_233034_mod...</td>\n",
       "      <td>0.645594</td>\n",
       "      <td>0.468198</td>\n",
       "      <td>0.478430</td>\n",
       "      <td>0.376058</td>\n",
       "      <td>0.141420</td>\n",
       "    </tr>\n",
       "    <tr>\n",
       "      <th>15</th>\n",
       "      <td>GBM_grid_1_AutoML_20190422_233034_model_1</td>\n",
       "      <td>0.629860</td>\n",
       "      <td>0.775365</td>\n",
       "      <td>0.496036</td>\n",
       "      <td>0.408075</td>\n",
       "      <td>0.166526</td>\n",
       "    </tr>\n",
       "  </tbody>\n",
       "</table>\n",
       "</div>"
      ],
      "text/plain": [
       "                                             model_id       auc   logloss  \\\n",
       "0   StackedEnsemble_BestOfFamily_AutoML_20190422_2...  0.709151  0.424068   \n",
       "1    StackedEnsemble_AllModels_AutoML_20190422_233034  0.709041  0.424106   \n",
       "2           GLM_grid_1_AutoML_20190422_233034_model_1  0.704824  0.425356   \n",
       "3               DeepLearning_1_AutoML_20190422_233034  0.702619  0.426607   \n",
       "4   DeepLearning_grid_1_AutoML_20190422_233034_mod...  0.690986  0.431791   \n",
       "5                        DRF_1_AutoML_20190422_233034  0.681851  0.445721   \n",
       "6           GBM_grid_1_AutoML_20190422_233034_model_2  0.679642  0.454812   \n",
       "7                        XRT_1_AutoML_20190422_233034  0.676290  0.437007   \n",
       "8                        GBM_1_AutoML_20190422_233034  0.665210  0.444669   \n",
       "9                        GBM_2_AutoML_20190422_233034  0.664260  0.447236   \n",
       "10                       GBM_5_AutoML_20190422_233034  0.662989  0.451188   \n",
       "11  DeepLearning_grid_1_AutoML_20190422_233034_mod...  0.662317  0.473155   \n",
       "12                       GBM_3_AutoML_20190422_233034  0.658271  0.451202   \n",
       "13                       GBM_4_AutoML_20190422_233034  0.657078  0.457177   \n",
       "14  DeepLearning_grid_1_AutoML_20190422_233034_mod...  0.645594  0.468198   \n",
       "15          GBM_grid_1_AutoML_20190422_233034_model_1  0.629860  0.775365   \n",
       "\n",
       "    mean_per_class_error      rmse       mse  \n",
       "0               0.465350  0.362624  0.131496  \n",
       "1               0.467897  0.362640  0.131508  \n",
       "2               0.465952  0.363453  0.132098  \n",
       "3               0.466912  0.364242  0.132672  \n",
       "4               0.463685  0.365212  0.133380  \n",
       "5               0.476027  0.367211  0.134844  \n",
       "6               0.477650  0.376918  0.142067  \n",
       "7               0.473692  0.368297  0.135643  \n",
       "8               0.486064  0.371063  0.137688  \n",
       "9               0.486894  0.372043  0.138416  \n",
       "10              0.490669  0.372639  0.138860  \n",
       "11              0.473159  0.376579  0.141812  \n",
       "12              0.494253  0.372946  0.139089  \n",
       "13              0.477417  0.374403  0.140177  \n",
       "14              0.478430  0.376058  0.141420  \n",
       "15              0.496036  0.408075  0.166526  "
      ]
     },
     "execution_count": 48,
     "metadata": {},
     "output_type": "execute_result"
    }
   ],
   "source": [
    "aml_leaderboard_df"
   ]
  },
  {
   "cell_type": "code",
   "execution_count": 49,
   "metadata": {},
   "outputs": [],
   "source": [
    "# save all models names of the leaderboard in a csv\n",
    "leaderboard_stats=run_id+'_leaderboard.csv'\n",
    "aml_leaderboard_df.to_csv(leaderboard_stats, index=False)"
   ]
  },
  {
   "cell_type": "code",
   "execution_count": 50,
   "metadata": {},
   "outputs": [],
   "source": [
    "# All models. We are no longer using the best model\n",
    "meta_data['models']=aml_leaderboard_df['model_id']"
   ]
  },
  {
   "cell_type": "code",
   "execution_count": 51,
   "metadata": {},
   "outputs": [],
   "source": [
    "meta_data['end_time'] = time.time()"
   ]
  },
  {
   "cell_type": "code",
   "execution_count": 52,
   "metadata": {},
   "outputs": [],
   "source": [
    "meta_data['execution_time'] = meta_data['end_time'] - meta_data['start_time']"
   ]
  },
  {
   "cell_type": "code",
   "execution_count": null,
   "metadata": {},
   "outputs": [],
   "source": []
  },
  {
   "cell_type": "code",
   "execution_count": 53,
   "metadata": {},
   "outputs": [
    {
     "data": {
      "image/png": "[encoded data removed]",
      "text/plain": [
       "<Figure size 1008x720 with 1 Axes>"
      ]
     },
     "metadata": {
      "needs_background": "light"
     },
     "output_type": "display_data"
    }
   ],
   "source": [
    "### Variable importance based on models\n",
    "\n",
    "import matplotlib.pyplot as plt\n",
    "%matplotlib inline\n",
    "\n",
    "import warnings\n",
    "import matplotlib.cbook\n",
    "warnings.filterwarnings(\"ignore\", category = matplotlib.cbook.mplDeprecation)\n",
    "\n",
    "sample_model1=h2o.get_model(aml_leaderboard_df['model_id'][4]) \n",
    "sample_model1.varimp_plot()"
   ]
  },
  {
   "cell_type": "code",
   "execution_count": null,
   "metadata": {},
   "outputs": [],
   "source": []
  },
  {
   "cell_type": "markdown",
   "metadata": {},
   "source": [
    "### Convert Meta-data into JSON/ Csv Files"
   ]
  },
  {
   "cell_type": "code",
   "execution_count": 54,
   "metadata": {},
   "outputs": [
    {
     "data": {
      "text/plain": [
       "{'start_time': 1555990225.629006,\n",
       " 'target': 'readmitted',\n",
       " 'server_path': 'C:\\\\Users\\\\surak\\\\Downloads\\\\0_DS01_HyperParameter\\\\0_DS01_HyperParameter',\n",
       " 'data_path': None,\n",
       " 'test_path': None,\n",
       " 'max_models': 9,\n",
       " 'run_time': 1000,\n",
       " 'run_id': 'cTNDDsq8U',\n",
       " 'scale': False,\n",
       " 'classification': True,\n",
       " 'model_path': None,\n",
       " 'balance': False,\n",
       " 'balance_threshold': 0.2,\n",
       " 'project': None,\n",
       " 'end_time': 1555991240.4959095,\n",
       " 'execution_time': 1014.8669035434723,\n",
       " 'run_path': 'C:\\\\Users\\\\surak\\\\Downloads\\\\0_DS01_HyperParameter\\\\0_DS01_HyperParameter\\\\cTNDDsq8U',\n",
       " 'nthreads': 1,\n",
       " 'min_mem_size': 6,\n",
       " 'analysis': 0,\n",
       " 'X': ['race',\n",
       "  'gender',\n",
       "  'age',\n",
       "  'weight',\n",
       "  'admission_type_id',\n",
       "  'time_in_hospital',\n",
       "  'medical_specialty',\n",
       "  'num_lab_procedures',\n",
       "  'num_procedures',\n",
       "  'num_medications',\n",
       "  'number_outpatient',\n",
       "  'number_emergency',\n",
       "  'number_inpatient',\n",
       "  'diag_1',\n",
       "  'diag_2',\n",
       "  'diag_3',\n",
       "  'number_diagnoses',\n",
       "  'max_glu_serum',\n",
       "  'A1Cresult',\n",
       "  'metformin',\n",
       "  'repaglinide',\n",
       "  'nateglinide',\n",
       "  'chlorpropamide',\n",
       "  'glimepiride',\n",
       "  'acetohexamide',\n",
       "  'glipizide',\n",
       "  'glyburide',\n",
       "  'tolbutamide',\n",
       "  'pioglitazone',\n",
       "  'rosiglitazone',\n",
       "  'acarbose',\n",
       "  'miglitol',\n",
       "  'troglitazone',\n",
       "  'tolazamide',\n",
       "  'examide',\n",
       "  'citoglipton',\n",
       "  'insulin',\n",
       "  'glyburide-metformin',\n",
       "  'glipizide-metformin',\n",
       "  'glimepiride-pioglitazone',\n",
       "  'metformin-rosiglitazone',\n",
       "  'metformin-pioglitazone',\n",
       "  'change',\n",
       "  'diabetesMed'],\n",
       " 'variables': ['id',\n",
       "  'patient_nbr',\n",
       "  'race',\n",
       "  'gender',\n",
       "  'age',\n",
       "  'weight',\n",
       "  'admission_type_id',\n",
       "  'discharge_disposition_id',\n",
       "  'admission_source_id',\n",
       "  'time_in_hospital',\n",
       "  'payer_code',\n",
       "  'medical_specialty',\n",
       "  'num_lab_procedures',\n",
       "  'num_procedures',\n",
       "  'num_medications',\n",
       "  'number_outpatient',\n",
       "  'number_emergency',\n",
       "  'number_inpatient',\n",
       "  'diag_1',\n",
       "  'diag_2',\n",
       "  'diag_3',\n",
       "  'number_diagnoses',\n",
       "  'max_glu_serum',\n",
       "  'A1Cresult',\n",
       "  'metformin',\n",
       "  'repaglinide',\n",
       "  'nateglinide',\n",
       "  'chlorpropamide',\n",
       "  'glimepiride',\n",
       "  'acetohexamide',\n",
       "  'glipizide',\n",
       "  'glyburide',\n",
       "  'tolbutamide',\n",
       "  'pioglitazone',\n",
       "  'rosiglitazone',\n",
       "  'acarbose',\n",
       "  'miglitol',\n",
       "  'troglitazone',\n",
       "  'tolazamide',\n",
       "  'examide',\n",
       "  'citoglipton',\n",
       "  'insulin',\n",
       "  'glyburide-metformin',\n",
       "  'glipizide-metformin',\n",
       "  'glimepiride-pioglitazone',\n",
       "  'metformin-rosiglitazone',\n",
       "  'metformin-pioglitazone',\n",
       "  'change',\n",
       "  'diabetesMed',\n",
       "  'readmitted'],\n",
       " 'model_execution_time': 1005.3128006458282,\n",
       " 'models': 0     StackedEnsemble_BestOfFamily_AutoML_20190422_2...\n",
       " 1      StackedEnsemble_AllModels_AutoML_20190422_233034\n",
       " 2             GLM_grid_1_AutoML_20190422_233034_model_1\n",
       " 3                 DeepLearning_1_AutoML_20190422_233034\n",
       " 4     DeepLearning_grid_1_AutoML_20190422_233034_mod...\n",
       " 5                          DRF_1_AutoML_20190422_233034\n",
       " 6             GBM_grid_1_AutoML_20190422_233034_model_2\n",
       " 7                          XRT_1_AutoML_20190422_233034\n",
       " 8                          GBM_1_AutoML_20190422_233034\n",
       " 9                          GBM_2_AutoML_20190422_233034\n",
       " 10                         GBM_5_AutoML_20190422_233034\n",
       " 11    DeepLearning_grid_1_AutoML_20190422_233034_mod...\n",
       " 12                         GBM_3_AutoML_20190422_233034\n",
       " 13                         GBM_4_AutoML_20190422_233034\n",
       " 14    DeepLearning_grid_1_AutoML_20190422_233034_mod...\n",
       " 15            GBM_grid_1_AutoML_20190422_233034_model_1\n",
       " Name: model_id, dtype: object}"
      ]
     },
     "execution_count": 54,
     "metadata": {},
     "output_type": "execute_result"
    }
   ],
   "source": [
    "meta_data"
   ]
  },
  {
   "cell_type": "code",
   "execution_count": 55,
   "metadata": {
    "scrolled": true
   },
   "outputs": [
    {
     "data": {
      "text/plain": [
       "dict"
      ]
     },
     "execution_count": 55,
     "metadata": {},
     "output_type": "execute_result"
    }
   ],
   "source": [
    "type(meta_data)"
   ]
  },
  {
   "cell_type": "code",
   "execution_count": 56,
   "metadata": {},
   "outputs": [],
   "source": [
    "##converting meta data into csv files\n",
    "\n",
    "## A list of the keys of dictionary. Convert dictionary to list and then into panda Dataframe. Save the dataframe in a csv file.\n",
    "\n",
    "#list_keys = [ k for k in meta_data ]\n",
    " \n",
    "## or a list of the values\n",
    "#list_values = [ v for v in meta_data.values() ]\n",
    " \n",
    "## or just a list of the list of key value pairs\n",
    "#list_key_value = [ [k,v] for k, v in meta_data.items() ]\n",
    "\n",
    "#metaData_stats=run_id+'_metadata.csv'\n",
    "#df1 = pd.DataFrame(list_key_value)\n",
    "#df1.to_csv(metaData_stats)"
   ]
  },
  {
   "cell_type": "markdown",
   "metadata": {},
   "source": [
    "## Find all parameters for all the models in the aml leaderboard"
   ]
  },
  {
   "cell_type": "code",
   "execution_count": 57,
   "metadata": {},
   "outputs": [
    {
     "data": {
      "text/html": [
       "<div>\n",
       "<style scoped>\n",
       "    .dataframe tbody tr th:only-of-type {\n",
       "        vertical-align: middle;\n",
       "    }\n",
       "\n",
       "    .dataframe tbody tr th {\n",
       "        vertical-align: top;\n",
       "    }\n",
       "\n",
       "    .dataframe thead th {\n",
       "        text-align: right;\n",
       "    }\n",
       "</style>\n",
       "<table border=\"1\" class=\"dataframe\">\n",
       "  <thead>\n",
       "    <tr style=\"text-align: right;\">\n",
       "      <th></th>\n",
       "      <th>model_id</th>\n",
       "      <th>auc</th>\n",
       "      <th>logloss</th>\n",
       "      <th>mean_per_class_error</th>\n",
       "      <th>rmse</th>\n",
       "      <th>mse</th>\n",
       "    </tr>\n",
       "  </thead>\n",
       "  <tbody>\n",
       "    <tr>\n",
       "      <th>0</th>\n",
       "      <td>StackedEnsemble_BestOfFamily_AutoML_20190422_2...</td>\n",
       "      <td>0.709151</td>\n",
       "      <td>0.424068</td>\n",
       "      <td>0.465350</td>\n",
       "      <td>0.362624</td>\n",
       "      <td>0.131496</td>\n",
       "    </tr>\n",
       "    <tr>\n",
       "      <th>1</th>\n",
       "      <td>StackedEnsemble_AllModels_AutoML_20190422_233034</td>\n",
       "      <td>0.709041</td>\n",
       "      <td>0.424106</td>\n",
       "      <td>0.467897</td>\n",
       "      <td>0.362640</td>\n",
       "      <td>0.131508</td>\n",
       "    </tr>\n",
       "    <tr>\n",
       "      <th>2</th>\n",
       "      <td>GLM_grid_1_AutoML_20190422_233034_model_1</td>\n",
       "      <td>0.704824</td>\n",
       "      <td>0.425356</td>\n",
       "      <td>0.465952</td>\n",
       "      <td>0.363453</td>\n",
       "      <td>0.132098</td>\n",
       "    </tr>\n",
       "    <tr>\n",
       "      <th>3</th>\n",
       "      <td>DeepLearning_1_AutoML_20190422_233034</td>\n",
       "      <td>0.702619</td>\n",
       "      <td>0.426607</td>\n",
       "      <td>0.466912</td>\n",
       "      <td>0.364242</td>\n",
       "      <td>0.132672</td>\n",
       "    </tr>\n",
       "    <tr>\n",
       "      <th>4</th>\n",
       "      <td>DeepLearning_grid_1_AutoML_20190422_233034_mod...</td>\n",
       "      <td>0.690986</td>\n",
       "      <td>0.431791</td>\n",
       "      <td>0.463685</td>\n",
       "      <td>0.365212</td>\n",
       "      <td>0.133380</td>\n",
       "    </tr>\n",
       "    <tr>\n",
       "      <th>5</th>\n",
       "      <td>DRF_1_AutoML_20190422_233034</td>\n",
       "      <td>0.681851</td>\n",
       "      <td>0.445721</td>\n",
       "      <td>0.476027</td>\n",
       "      <td>0.367211</td>\n",
       "      <td>0.134844</td>\n",
       "    </tr>\n",
       "    <tr>\n",
       "      <th>6</th>\n",
       "      <td>GBM_grid_1_AutoML_20190422_233034_model_2</td>\n",
       "      <td>0.679642</td>\n",
       "      <td>0.454812</td>\n",
       "      <td>0.477650</td>\n",
       "      <td>0.376918</td>\n",
       "      <td>0.142067</td>\n",
       "    </tr>\n",
       "    <tr>\n",
       "      <th>7</th>\n",
       "      <td>XRT_1_AutoML_20190422_233034</td>\n",
       "      <td>0.676290</td>\n",
       "      <td>0.437007</td>\n",
       "      <td>0.473692</td>\n",
       "      <td>0.368297</td>\n",
       "      <td>0.135643</td>\n",
       "    </tr>\n",
       "    <tr>\n",
       "      <th>8</th>\n",
       "      <td>GBM_1_AutoML_20190422_233034</td>\n",
       "      <td>0.665210</td>\n",
       "      <td>0.444669</td>\n",
       "      <td>0.486064</td>\n",
       "      <td>0.371063</td>\n",
       "      <td>0.137688</td>\n",
       "    </tr>\n",
       "    <tr>\n",
       "      <th>9</th>\n",
       "      <td>GBM_2_AutoML_20190422_233034</td>\n",
       "      <td>0.664260</td>\n",
       "      <td>0.447236</td>\n",
       "      <td>0.486894</td>\n",
       "      <td>0.372043</td>\n",
       "      <td>0.138416</td>\n",
       "    </tr>\n",
       "    <tr>\n",
       "      <th>10</th>\n",
       "      <td>GBM_5_AutoML_20190422_233034</td>\n",
       "      <td>0.662989</td>\n",
       "      <td>0.451188</td>\n",
       "      <td>0.490669</td>\n",
       "      <td>0.372639</td>\n",
       "      <td>0.138860</td>\n",
       "    </tr>\n",
       "    <tr>\n",
       "      <th>11</th>\n",
       "      <td>DeepLearning_grid_1_AutoML_20190422_233034_mod...</td>\n",
       "      <td>0.662317</td>\n",
       "      <td>0.473155</td>\n",
       "      <td>0.473159</td>\n",
       "      <td>0.376579</td>\n",
       "      <td>0.141812</td>\n",
       "    </tr>\n",
       "    <tr>\n",
       "      <th>12</th>\n",
       "      <td>GBM_3_AutoML_20190422_233034</td>\n",
       "      <td>0.658271</td>\n",
       "      <td>0.451202</td>\n",
       "      <td>0.494253</td>\n",
       "      <td>0.372946</td>\n",
       "      <td>0.139089</td>\n",
       "    </tr>\n",
       "    <tr>\n",
       "      <th>13</th>\n",
       "      <td>GBM_4_AutoML_20190422_233034</td>\n",
       "      <td>0.657078</td>\n",
       "      <td>0.457177</td>\n",
       "      <td>0.477417</td>\n",
       "      <td>0.374403</td>\n",
       "      <td>0.140177</td>\n",
       "    </tr>\n",
       "    <tr>\n",
       "      <th>14</th>\n",
       "      <td>DeepLearning_grid_1_AutoML_20190422_233034_mod...</td>\n",
       "      <td>0.645594</td>\n",
       "      <td>0.468198</td>\n",
       "      <td>0.478430</td>\n",
       "      <td>0.376058</td>\n",
       "      <td>0.141420</td>\n",
       "    </tr>\n",
       "    <tr>\n",
       "      <th>15</th>\n",
       "      <td>GBM_grid_1_AutoML_20190422_233034_model_1</td>\n",
       "      <td>0.629860</td>\n",
       "      <td>0.775365</td>\n",
       "      <td>0.496036</td>\n",
       "      <td>0.408075</td>\n",
       "      <td>0.166526</td>\n",
       "    </tr>\n",
       "  </tbody>\n",
       "</table>\n",
       "</div>"
      ],
      "text/plain": [
       "                                             model_id       auc   logloss  \\\n",
       "0   StackedEnsemble_BestOfFamily_AutoML_20190422_2...  0.709151  0.424068   \n",
       "1    StackedEnsemble_AllModels_AutoML_20190422_233034  0.709041  0.424106   \n",
       "2           GLM_grid_1_AutoML_20190422_233034_model_1  0.704824  0.425356   \n",
       "3               DeepLearning_1_AutoML_20190422_233034  0.702619  0.426607   \n",
       "4   DeepLearning_grid_1_AutoML_20190422_233034_mod...  0.690986  0.431791   \n",
       "5                        DRF_1_AutoML_20190422_233034  0.681851  0.445721   \n",
       "6           GBM_grid_1_AutoML_20190422_233034_model_2  0.679642  0.454812   \n",
       "7                        XRT_1_AutoML_20190422_233034  0.676290  0.437007   \n",
       "8                        GBM_1_AutoML_20190422_233034  0.665210  0.444669   \n",
       "9                        GBM_2_AutoML_20190422_233034  0.664260  0.447236   \n",
       "10                       GBM_5_AutoML_20190422_233034  0.662989  0.451188   \n",
       "11  DeepLearning_grid_1_AutoML_20190422_233034_mod...  0.662317  0.473155   \n",
       "12                       GBM_3_AutoML_20190422_233034  0.658271  0.451202   \n",
       "13                       GBM_4_AutoML_20190422_233034  0.657078  0.457177   \n",
       "14  DeepLearning_grid_1_AutoML_20190422_233034_mod...  0.645594  0.468198   \n",
       "15          GBM_grid_1_AutoML_20190422_233034_model_1  0.629860  0.775365   \n",
       "\n",
       "    mean_per_class_error      rmse       mse  \n",
       "0               0.465350  0.362624  0.131496  \n",
       "1               0.467897  0.362640  0.131508  \n",
       "2               0.465952  0.363453  0.132098  \n",
       "3               0.466912  0.364242  0.132672  \n",
       "4               0.463685  0.365212  0.133380  \n",
       "5               0.476027  0.367211  0.134844  \n",
       "6               0.477650  0.376918  0.142067  \n",
       "7               0.473692  0.368297  0.135643  \n",
       "8               0.486064  0.371063  0.137688  \n",
       "9               0.486894  0.372043  0.138416  \n",
       "10              0.490669  0.372639  0.138860  \n",
       "11              0.473159  0.376579  0.141812  \n",
       "12              0.494253  0.372946  0.139089  \n",
       "13              0.477417  0.374403  0.140177  \n",
       "14              0.478430  0.376058  0.141420  \n",
       "15              0.496036  0.408075  0.166526  "
      ]
     },
     "execution_count": 57,
     "metadata": {},
     "output_type": "execute_result"
    }
   ],
   "source": [
    "aml_leaderboard_df"
   ]
  },
  {
   "cell_type": "code",
   "execution_count": 58,
   "metadata": {},
   "outputs": [
    {
     "name": "stdout",
     "output_type": "stream",
     "text": [
      "First Model:  StackedEnsemble_BestOfFamily_AutoML_20190422_233034\n"
     ]
    }
   ],
   "source": [
    "# How to access the first model name in the data frame w/o index\n",
    "\n",
    "print(\"First Model: \", aml_leaderboard_df['model_id'][0])  "
   ]
  },
  {
   "cell_type": "code",
   "execution_count": 59,
   "metadata": {},
   "outputs": [
    {
     "data": {
      "text/plain": [
       "dict"
      ]
     },
     "execution_count": 59,
     "metadata": {},
     "output_type": "execute_result"
    }
   ],
   "source": [
    "#declaring a dictionary to hold all the parameters for all the models predicted by the aml leaderboard\n",
    "leaderboard_params={}\n",
    "type(leaderboard_params)"
   ]
  },
  {
   "cell_type": "code",
   "execution_count": 60,
   "metadata": {},
   "outputs": [],
   "source": [
    "## for loop is used to store the model_id and it's corresponding parameters in a dictionary.\n",
    "    ## Stores on the parameters. Not the hyper parameters. For all models in the leaderboard. \n",
    "\n",
    "\n",
    "for i in range(0, len(aml_leaderboard_df)):\n",
    "    modelName= aml_leaderboard_df['model_id'][i]\n",
    "    testModel=h2o.get_model(modelName)\n",
    "    v_file=testModel.params\n",
    "    n=run_id+'_'+testModel.model_id+'_nonhy_parameter.json'\n",
    "    dict_to_json(v_file,n)"
   ]
  },
  {
   "cell_type": "code",
   "execution_count": 61,
   "metadata": {},
   "outputs": [],
   "source": [
    "## Plot Learning curve for parameters\n",
    "gbm1= h2o.get_model(aml_leaderboard_df['model_id'][4])"
   ]
  },
  {
   "cell_type": "code",
   "execution_count": 62,
   "metadata": {},
   "outputs": [
    {
     "data": {
      "text/plain": [
       "h2o.estimators.deeplearning.H2ODeepLearningEstimator"
      ]
     },
     "execution_count": 62,
     "metadata": {},
     "output_type": "execute_result"
    }
   ],
   "source": [
    "type(gbm1)"
   ]
  },
  {
   "cell_type": "code",
   "execution_count": 63,
   "metadata": {},
   "outputs": [
    {
     "data": {
      "text/plain": [
       "0.4352338334719792"
      ]
     },
     "execution_count": 63,
     "metadata": {},
     "output_type": "execute_result"
    }
   ],
   "source": [
    "gbmLogloss=gbm1.logloss()\n",
    "gbmLogloss"
   ]
  },
  {
   "cell_type": "code",
   "execution_count": 64,
   "metadata": {},
   "outputs": [
    {
     "data": {
      "image/png": "[encoded data removed]",
      "text/plain": [
       "<Figure size 432x288 with 1 Axes>"
      ]
     },
     "metadata": {
      "needs_background": "light"
     },
     "output_type": "display_data"
    }
   ],
   "source": [
    "gbm1.plot()"
   ]
  },
  {
   "cell_type": "code",
   "execution_count": 65,
   "metadata": {},
   "outputs": [
    {
     "data": {
      "image/png": "[encoded data removed]",
      "text/plain": [
       "<Figure size 432x288 with 1 Axes>"
      ]
     },
     "metadata": {
      "needs_background": "light"
     },
     "output_type": "display_data"
    }
   ],
   "source": [
    "gbm1.plot(metric='auc')"
   ]
  },
  {
   "cell_type": "code",
   "execution_count": null,
   "metadata": {},
   "outputs": [],
   "source": []
  },
  {
   "cell_type": "code",
   "execution_count": null,
   "metadata": {},
   "outputs": [],
   "source": []
  },
  {
   "cell_type": "code",
   "execution_count": null,
   "metadata": {},
   "outputs": [],
   "source": []
  },
  {
   "cell_type": "markdown",
   "metadata": {},
   "source": [
    "## Find the best Hyperparameters"
   ]
  },
  {
   "cell_type": "markdown",
   "metadata": {},
   "source": [
    "Hyperparameters for GBM are as follows:\n",
    "\n",
    "* n-trees : Build more trees so as to increase the validation set error\n",
    "* learn_rate: Ideally, should be less. Make learn_rate= 0.02. \n",
    "* learn_rate_annealing: Reduce learning rate with addition of each tree. Make learn_rate_annealing=0.995.\n",
    "    * To make it faster, make learn rate=0.05 and learn_rate_annealing=0.99\n",
    "* max_depth: Deeper  trees takes longer to train. Keep this less than 10.\n",
    "* sample_rate: Row sampling. Ideally, sample (70-80 percent of the data), ie, 0.7-0.8\n",
    "* col_sample_rate: Column sampling."
   ]
  },
  {
   "cell_type": "markdown",
   "metadata": {},
   "source": [
    "Hyperparameters for Random Forest is as follows:\n",
    "* n_estimators = number of trees in the foreset\n",
    "* max_features = max number of features considered for splitting a node\n",
    "* max_depth = max number of levels in each decision tree\n",
    "* min_samples_split = min number of data points placed in a node before the node is split\n",
    "* min_samples_leaf = min number of data points allowed in a leaf node\n",
    "* bootstrap = method for sampling data points (with or without replacement)"
   ]
  },
  {
   "attachments": {
    "image.png": {
     "image/png": "[encoded data removed]"
    }
   },
   "cell_type": "markdown",
   "metadata": {},
   "source": [
    "Hyperparameters for GLM is as follows:\n",
    "* tweedie_variance_power = When family=tweedie, this option can be used to specify the power for the tweedie variance. This option defaults to 0.\n",
    "The Tweedie distribution is parametrized by variance power p. It is defined for all p values except in the (0,1) interval and has the following distributions as special cases:\n",
    "<br/>\n",
    "p=0: Normal<br/>\n",
    "p=1: Poisson<br/>\n",
    "p∈(1,2): Compound Poisson, non-negative with mass at zero<br/>\n",
    "p=2: Gamma<br/>\n",
    "p=3: Gaussian<br/>\n",
    "p>2: Stable, with support on the positive reals\n",
    "<br/>\n",
    "* tweedie_link_power = Tweedie distributions are a family of distributions that include gamma, normal, Poisson and their combinations. This distribution is especially useful for modeling positive continuous variables with exact zeros. When family=tweedie, the tweedie_link_power option can be used to specify the power for the tweedie link function.\n",
    "![image.png](attachment:image.png)\n",
    "* alpha and lambda = To get the best possible model, GLM needs to find the optimal values of the regularization parameters α and λ. When performing regularization, penalties are introduced to the model buidling process to avoid overfitting, to reduce variance of the prediction error, and to handle correlated predictors. \n",
    "![image.png](attachment:image.png)\n",
    "* standarize: This option specifies whether to standardizes numeric columns to have zero mean and unit variance. Enabling this option produces standardized coefficient magnitudes in the model output.\n",
    "* missing_values_handling: This option is used to specify the way that the algorithm will treat missing values. <br/>\n",
    "If you have few columns with many NAs, you might accidentally be losing all your rows, so its better to exclude (skip) them.\n",
    "<br/>\n",
    "If you have many columns with a small fraction of uniformly distributed missing values, every row will likely have at least one missing value. In this case, impute the NAs (e.g., substitute the NAs with mean values) before modeling.\n",
    "* max_iterations= This option specifies the maximum allowed number of iterations (passes over data) during model training. the default is 50 if no lambda search; 10* number of lambdas otherwise\n",
    "* balance_classes= The balance_classes option can be used to balance the class distribution. When enabled, H2O will either undersample the majority classes or oversample the minority classes. Note that the resulting model will also correct the final probabilities (“undo the sampling”) using a monotonic transform, so the predicted probabilities of the first model will differ from a second model. However, because AUC only cares about ordering, it won’t be affected.\n",
    "* class_sampling_factors= By default, sampling factors will be automatically computed to obtain class balance during training. You can change this behavior using the class_sampling_factors option. This option sets an over/under-sampling ratio for each class (in lexicographic order). Note that this requires balance_classes=true.\n",
    "* max_after_balance_size= To reduce the data frame size, you can use the max_after_balance_size option. \n",
    "* max_runtime_secs= When building a model, this option specifes the maximum runtime in seconds that you want to allot in order to complete the model. If this maximum runtime is exceeded before the model build is completed, then the model will fail.\n",
    "<br/>\n",
    "Specifying max_runtime_secs=0 disables this option, thus allowing for an unlimited amount of runtime."
   ]
  },
  {
   "cell_type": "code",
   "execution_count": null,
   "metadata": {},
   "outputs": [],
   "source": []
  },
  {
   "cell_type": "markdown",
   "metadata": {},
   "source": [
    "### Use grid search to find the best hyperparameters"
   ]
  },
  {
   "cell_type": "code",
   "execution_count": null,
   "metadata": {},
   "outputs": [],
   "source": []
  },
  {
   "cell_type": "code",
   "execution_count": null,
   "metadata": {},
   "outputs": [],
   "source": []
  },
  {
   "cell_type": "code",
   "execution_count": null,
   "metadata": {},
   "outputs": [],
   "source": []
  },
  {
   "cell_type": "markdown",
   "metadata": {},
   "source": [
    "## Create JSON files for Hyperparameter"
   ]
  },
  {
   "cell_type": "code",
   "execution_count": 66,
   "metadata": {},
   "outputs": [],
   "source": [
    "## for loop is used to store the model_id and it's corresponding parameters in a dictionary\n",
    "\n",
    "### Use this while finding hyperparameter cause \"n\" will have hy_parameter.json extension.\n",
    "\n",
    "#for i in range(0, len(aml_leaderboard_df)):\n",
    "  #  modelName= aml_leaderboard_df['model_id'][i]\n",
    "   # testModel=h2o.get_model(modelName)\n",
    "   # v_file=testModel.params\n",
    "    #n=run_id+'_'+testModel.model_id+'_hy_parameter.json'\n",
    "    #dict_to_json(v_file,n)"
   ]
  },
  {
   "cell_type": "code",
   "execution_count": null,
   "metadata": {},
   "outputs": [],
   "source": []
  },
  {
   "cell_type": "markdown",
   "metadata": {},
   "source": [
    "## We try to check the plot between hyperparameter against its values to know the best value range."
   ]
  },
  {
   "cell_type": "code",
   "execution_count": null,
   "metadata": {},
   "outputs": [],
   "source": []
  },
  {
   "cell_type": "code",
   "execution_count": null,
   "metadata": {},
   "outputs": [],
   "source": []
  },
  {
   "cell_type": "markdown",
   "metadata": {},
   "source": [
    "## Hyperparameters importance plot"
   ]
  },
  {
   "cell_type": "markdown",
   "metadata": {},
   "source": [
    "#### Plot Learning Curve"
   ]
  },
  {
   "cell_type": "code",
   "execution_count": null,
   "metadata": {},
   "outputs": [],
   "source": []
  },
  {
   "cell_type": "code",
   "execution_count": null,
   "metadata": {},
   "outputs": [],
   "source": []
  },
  {
   "cell_type": "code",
   "execution_count": null,
   "metadata": {},
   "outputs": [],
   "source": []
  },
  {
   "cell_type": "code",
   "execution_count": null,
   "metadata": {},
   "outputs": [],
   "source": []
  },
  {
   "cell_type": "code",
   "execution_count": null,
   "metadata": {},
   "outputs": [],
   "source": []
  },
  {
   "cell_type": "markdown",
   "metadata": {},
   "source": [
    "## Last step"
   ]
  },
  {
   "cell_type": "code",
   "execution_count": 67,
   "metadata": {},
   "outputs": [
    {
     "name": "stdout",
     "output_type": "stream",
     "text": [
      "H2O session _sid_a18e closed.\n"
     ]
    }
   ],
   "source": [
    "# in case of server error, run this.\n",
    "h2o.cluster().shutdown()"
   ]
  },
  {
   "cell_type": "markdown",
   "metadata": {},
   "source": [
    "# Citations\n",
    "* https://www.hindawi.com/journals/bmri/2014/781670/\n",
    "* https://www.kaggle.com/sudalairajkumar/getting-started-with-h2o\n",
    "* https://www.pythonforbeginners.com/dictionary/how-to-use-dictionaries-in-python/\n",
    "* https://github.com/h2oai/h2o-3/blob/master/h2o-docs/src/product/tutorials/gbm/gbmTuning.ipynb\n",
    "* http://h2o-release.s3.amazonaws.com/h2o/master/3233/docs-website/h2o-py/docs/h2o.model.html"
   ]
  },
  {
   "cell_type": "markdown",
   "metadata": {},
   "source": [
    "# Team Members:\n",
    "Team Name: DS01\n",
    " * Michelle Pradeep\n",
    "     * NUID: 001422140\n",
    "     * E-mail ID: pradeep.m@husky.neu.edu\n",
    " * Seemanthini Jois\n",
    "      * NUID: 001439942\n",
    "      * E-mail ID: jois.s@husky.neu.edu\n",
    " * Suraksha Jadhav\n",
    "      * NUID: 001430368\n",
    "      * E-mail ID: jadhav.su@husky.neu.edu"
   ]
  },
  {
   "cell_type": "markdown",
   "metadata": {},
   "source": [
    "# The MIT License\n",
    "\n",
    "\n",
    "Copyright (c)  2019 DS01\n",
    "\n",
    "Permission is hereby granted, free of charge, to any person obtaining a copy of this software and associated documentation files (the \"Software\"), to deal in the Software without restriction, including without limitation the rights to use, copy, modify, merge, publish, distribute, sublicense, and/or sell copies of the Software, and to permit persons to whom the Software is furnished to do so, subject to the following conditions:\n",
    "\n",
    "The above copyright notice and this permission notice shall be included in all copies or substantial portions of the Software.\n",
    "\n",
    "THE SOFTWARE IS PROVIDED \"AS IS\", WITHOUT WARRANTY OF ANY KIND, EXPRESS OR IMPLIED, INCLUDING BUT NOT LIMITED TO THE WARRANTIES OF MERCHANTABILITY, FITNESS FOR A PARTICULAR PURPOSE AND NONINFRINGEMENT. IN NO EVENT SHALL THE AUTHORS OR COPYRIGHT HOLDERS BE LIABLE FOR ANY CLAIM, DAMAGES OR OTHER LIABILITY, WHETHER IN AN ACTION OF CONTRACT, TORT OR OTHERWISE, ARISING FROM, OUT OF OR IN CONNECTION WITH THE SOFTWARE OR THE USE OR OTHER DEALINGS IN THE SOFTWARE."
   ]
  }
 ],
 "metadata": {
  "kernelspec": {
   "display_name": "Python 3",
   "language": "python",
   "name": "python3"
  },
  "language_info": {
   "codemirror_mode": {
    "name": "ipython",
    "version": 3
   },
   "file_extension": ".py",
   "mimetype": "text/x-python",
   "name": "python",
   "nbconvert_exporter": "python",
   "pygments_lexer": "ipython3",
   "version": "3.7.1"
  }
 },
 "nbformat": 4,
 "nbformat_minor": 2
}
